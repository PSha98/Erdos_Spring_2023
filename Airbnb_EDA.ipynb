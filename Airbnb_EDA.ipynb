{
 "cells": [
  {
   "cell_type": "code",
   "execution_count": null,
   "id": "75819c35",
   "metadata": {},
   "outputs": [],
   "source": []
  },
  {
   "cell_type": "markdown",
   "id": "514bf611",
   "metadata": {},
   "source": [
    "Exploratory Data Analysis Zheyu Ni\n",
    "\n",
    "This file cleans the Airbnb data. \n",
    "1. deleted $ sign and comma in price.\n",
    "2. visualize price distribution base on different features\n",
    "3. Price range (0, 800) covers 95\\% of the listings\n",
    "4. 26\\% of the listings doesn't have reviews\n",
    "5. Create a subset of the dataset which doesn't contain missing value in no. of beds and no. of reviews_per_month\n",
    "6. A quick multivariable regression shows that no. beds, whether the listing has license, whether it's entire room/apt are the 3 most important features contributing to the price without controling for neighborhood. \n",
    "7. Among the review ratings (accuracy, clean), the locations rating is strongly correlated to price. \n",
    "\n",
    "Next steps will be extracting more features beased on amenity, locations and descriptions.\n",
    "\n",
    "Also need to check the features contributing to sales (no. reviews)"
   ]
  },
  {
   "cell_type": "code",
   "execution_count": 61,
   "id": "4674846e",
   "metadata": {},
   "outputs": [],
   "source": [
    "import pandas as pd\n",
    "import numpy as np\n",
    "import re\n",
    "import matplotlib.pyplot as plt\n",
    "from sklearn.linear_model import LinearRegression\n",
    "import statsmodels.api as sm\n",
    "import seaborn as sns\n",
    "import matplotlib.dates as mdates\n",
    "from datetime import date\n",
    "from sklearn.model_selection import train_test_split\n",
    "import math"
   ]
  },
  {
   "cell_type": "code",
   "execution_count": 2,
   "id": "4289dd53",
   "metadata": {},
   "outputs": [],
   "source": [
    "df = pd.read_csv('LA\\March\\listings.csv')\n"
   ]
  },
  {
   "cell_type": "code",
   "execution_count": 18,
   "id": "6f1c974f",
   "metadata": {},
   "outputs": [
    {
     "data": {
      "text/html": [
       "<div>\n",
       "<style scoped>\n",
       "    .dataframe tbody tr th:only-of-type {\n",
       "        vertical-align: middle;\n",
       "    }\n",
       "\n",
       "    .dataframe tbody tr th {\n",
       "        vertical-align: top;\n",
       "    }\n",
       "\n",
       "    .dataframe thead th {\n",
       "        text-align: right;\n",
       "    }\n",
       "</style>\n",
       "<table border=\"1\" class=\"dataframe\">\n",
       "  <thead>\n",
       "    <tr style=\"text-align: right;\">\n",
       "      <th></th>\n",
       "      <th>id</th>\n",
       "      <th>listing_url</th>\n",
       "      <th>scrape_id</th>\n",
       "      <th>last_scraped</th>\n",
       "      <th>source</th>\n",
       "      <th>name</th>\n",
       "      <th>description</th>\n",
       "      <th>neighborhood_overview</th>\n",
       "      <th>picture_url</th>\n",
       "      <th>host_id</th>\n",
       "      <th>...</th>\n",
       "      <th>review_scores_communication</th>\n",
       "      <th>review_scores_location</th>\n",
       "      <th>review_scores_value</th>\n",
       "      <th>license</th>\n",
       "      <th>instant_bookable</th>\n",
       "      <th>calculated_host_listings_count</th>\n",
       "      <th>calculated_host_listings_count_entire_homes</th>\n",
       "      <th>calculated_host_listings_count_private_rooms</th>\n",
       "      <th>calculated_host_listings_count_shared_rooms</th>\n",
       "      <th>reviews_per_month</th>\n",
       "    </tr>\n",
       "  </thead>\n",
       "  <tbody>\n",
       "    <tr>\n",
       "      <th>0</th>\n",
       "      <td>777451666060243581</td>\n",
       "      <td>https://www.airbnb.com/rooms/777451666060243581</td>\n",
       "      <td>20230307175359</td>\n",
       "      <td>2023-03-07</td>\n",
       "      <td>city scrape</td>\n",
       "      <td>Family oriented home</td>\n",
       "      <td>Relax with the whole family at this peaceful p...</td>\n",
       "      <td>NaN</td>\n",
       "      <td>https://a0.muscache.com/pictures/miso/Hosting-...</td>\n",
       "      <td>490709958</td>\n",
       "      <td>...</td>\n",
       "      <td>NaN</td>\n",
       "      <td>NaN</td>\n",
       "      <td>NaN</td>\n",
       "      <td>NaN</td>\n",
       "      <td>f</td>\n",
       "      <td>1</td>\n",
       "      <td>0</td>\n",
       "      <td>1</td>\n",
       "      <td>0</td>\n",
       "      <td>NaN</td>\n",
       "    </tr>\n",
       "    <tr>\n",
       "      <th>1</th>\n",
       "      <td>698097753730921190</td>\n",
       "      <td>https://www.airbnb.com/rooms/698097753730921190</td>\n",
       "      <td>20230307175359</td>\n",
       "      <td>2023-03-07</td>\n",
       "      <td>city scrape</td>\n",
       "      <td>方便易居驿站</td>\n",
       "      <td>NaN</td>\n",
       "      <td>NaN</td>\n",
       "      <td>https://a0.muscache.com/pictures/d5afff58-d576...</td>\n",
       "      <td>444692513</td>\n",
       "      <td>...</td>\n",
       "      <td>5.00</td>\n",
       "      <td>5.00</td>\n",
       "      <td>4.40</td>\n",
       "      <td>NaN</td>\n",
       "      <td>f</td>\n",
       "      <td>4</td>\n",
       "      <td>0</td>\n",
       "      <td>4</td>\n",
       "      <td>0</td>\n",
       "      <td>0.86</td>\n",
       "    </tr>\n",
       "    <tr>\n",
       "      <th>2</th>\n",
       "      <td>13063118</td>\n",
       "      <td>https://www.airbnb.com/rooms/13063118</td>\n",
       "      <td>20230307175359</td>\n",
       "      <td>2023-03-07</td>\n",
       "      <td>city scrape</td>\n",
       "      <td>TERRANEA OCEANFRNT 1BR CASITA -203 RSRT AMENIT...</td>\n",
       "      <td>LOCATION! Luxury upstairs Oceanside Casita gue...</td>\n",
       "      <td>No need to fly away from Los Angeles for a get...</td>\n",
       "      <td>https://a0.muscache.com/pictures/6227287c-7073...</td>\n",
       "      <td>41736985</td>\n",
       "      <td>...</td>\n",
       "      <td>4.96</td>\n",
       "      <td>4.92</td>\n",
       "      <td>4.83</td>\n",
       "      <td>NaN</td>\n",
       "      <td>f</td>\n",
       "      <td>10</td>\n",
       "      <td>5</td>\n",
       "      <td>5</td>\n",
       "      <td>0</td>\n",
       "      <td>0.64</td>\n",
       "    </tr>\n",
       "    <tr>\n",
       "      <th>3</th>\n",
       "      <td>39337076</td>\n",
       "      <td>https://www.airbnb.com/rooms/39337076</td>\n",
       "      <td>20230307175359</td>\n",
       "      <td>2023-03-07</td>\n",
       "      <td>city scrape</td>\n",
       "      <td>Brand New Duplex Near World Cruise Center</td>\n",
       "      <td>Welcome to our new cozy duplex!&lt;br /&gt;&lt;br /&gt;Loc...</td>\n",
       "      <td>Our property is close to downtown San Pedro, t...</td>\n",
       "      <td>https://a0.muscache.com/pictures/miso/Hosting-...</td>\n",
       "      <td>208375458</td>\n",
       "      <td>...</td>\n",
       "      <td>4.86</td>\n",
       "      <td>4.66</td>\n",
       "      <td>4.82</td>\n",
       "      <td>NaN</td>\n",
       "      <td>t</td>\n",
       "      <td>4</td>\n",
       "      <td>0</td>\n",
       "      <td>4</td>\n",
       "      <td>0</td>\n",
       "      <td>1.09</td>\n",
       "    </tr>\n",
       "    <tr>\n",
       "      <th>4</th>\n",
       "      <td>13077628</td>\n",
       "      <td>https://www.airbnb.com/rooms/13077628</td>\n",
       "      <td>20230307175359</td>\n",
       "      <td>2023-03-07</td>\n",
       "      <td>city scrape</td>\n",
       "      <td>Zuma Malibu Retreat</td>\n",
       "      <td>Our Private 16 Acre Malibu Retreat is located ...</td>\n",
       "      <td>NaN</td>\n",
       "      <td>https://a0.muscache.com/pictures/miso/Hosting-...</td>\n",
       "      <td>4182067</td>\n",
       "      <td>...</td>\n",
       "      <td>4.79</td>\n",
       "      <td>4.64</td>\n",
       "      <td>4.36</td>\n",
       "      <td>STR21-0228</td>\n",
       "      <td>f</td>\n",
       "      <td>1</td>\n",
       "      <td>1</td>\n",
       "      <td>0</td>\n",
       "      <td>0</td>\n",
       "      <td>0.18</td>\n",
       "    </tr>\n",
       "  </tbody>\n",
       "</table>\n",
       "<p>5 rows × 75 columns</p>\n",
       "</div>"
      ],
      "text/plain": [
       "                   id                                      listing_url  \\\n",
       "0  777451666060243581  https://www.airbnb.com/rooms/777451666060243581   \n",
       "1  698097753730921190  https://www.airbnb.com/rooms/698097753730921190   \n",
       "2            13063118            https://www.airbnb.com/rooms/13063118   \n",
       "3            39337076            https://www.airbnb.com/rooms/39337076   \n",
       "4            13077628            https://www.airbnb.com/rooms/13077628   \n",
       "\n",
       "        scrape_id last_scraped       source  \\\n",
       "0  20230307175359   2023-03-07  city scrape   \n",
       "1  20230307175359   2023-03-07  city scrape   \n",
       "2  20230307175359   2023-03-07  city scrape   \n",
       "3  20230307175359   2023-03-07  city scrape   \n",
       "4  20230307175359   2023-03-07  city scrape   \n",
       "\n",
       "                                                name  \\\n",
       "0                               Family oriented home   \n",
       "1                                             方便易居驿站   \n",
       "2  TERRANEA OCEANFRNT 1BR CASITA -203 RSRT AMENIT...   \n",
       "3          Brand New Duplex Near World Cruise Center   \n",
       "4                                Zuma Malibu Retreat   \n",
       "\n",
       "                                         description  \\\n",
       "0  Relax with the whole family at this peaceful p...   \n",
       "1                                                NaN   \n",
       "2  LOCATION! Luxury upstairs Oceanside Casita gue...   \n",
       "3  Welcome to our new cozy duplex!<br /><br />Loc...   \n",
       "4  Our Private 16 Acre Malibu Retreat is located ...   \n",
       "\n",
       "                               neighborhood_overview  \\\n",
       "0                                                NaN   \n",
       "1                                                NaN   \n",
       "2  No need to fly away from Los Angeles for a get...   \n",
       "3  Our property is close to downtown San Pedro, t...   \n",
       "4                                                NaN   \n",
       "\n",
       "                                         picture_url    host_id  ...  \\\n",
       "0  https://a0.muscache.com/pictures/miso/Hosting-...  490709958  ...   \n",
       "1  https://a0.muscache.com/pictures/d5afff58-d576...  444692513  ...   \n",
       "2  https://a0.muscache.com/pictures/6227287c-7073...   41736985  ...   \n",
       "3  https://a0.muscache.com/pictures/miso/Hosting-...  208375458  ...   \n",
       "4  https://a0.muscache.com/pictures/miso/Hosting-...    4182067  ...   \n",
       "\n",
       "  review_scores_communication review_scores_location review_scores_value  \\\n",
       "0                         NaN                    NaN                 NaN   \n",
       "1                        5.00                   5.00                4.40   \n",
       "2                        4.96                   4.92                4.83   \n",
       "3                        4.86                   4.66                4.82   \n",
       "4                        4.79                   4.64                4.36   \n",
       "\n",
       "      license instant_bookable calculated_host_listings_count  \\\n",
       "0         NaN                f                              1   \n",
       "1         NaN                f                              4   \n",
       "2         NaN                f                             10   \n",
       "3         NaN                t                              4   \n",
       "4  STR21-0228                f                              1   \n",
       "\n",
       "  calculated_host_listings_count_entire_homes  \\\n",
       "0                                           0   \n",
       "1                                           0   \n",
       "2                                           5   \n",
       "3                                           0   \n",
       "4                                           1   \n",
       "\n",
       "  calculated_host_listings_count_private_rooms  \\\n",
       "0                                            1   \n",
       "1                                            4   \n",
       "2                                            5   \n",
       "3                                            4   \n",
       "4                                            0   \n",
       "\n",
       "  calculated_host_listings_count_shared_rooms reviews_per_month  \n",
       "0                                           0               NaN  \n",
       "1                                           0              0.86  \n",
       "2                                           0              0.64  \n",
       "3                                           0              1.09  \n",
       "4                                           0              0.18  \n",
       "\n",
       "[5 rows x 75 columns]"
      ]
     },
     "execution_count": 18,
     "metadata": {},
     "output_type": "execute_result"
    }
   ],
   "source": [
    "df.head(5)\n"
   ]
  },
  {
   "cell_type": "code",
   "execution_count": 5,
   "id": "8391d852",
   "metadata": {},
   "outputs": [
    {
     "data": {
      "text/plain": [
       "0      $399.00\n",
       "1       $46.00\n",
       "2      $408.00\n",
       "3       $80.00\n",
       "4    $2,138.00\n",
       "5       $55.00\n",
       "6       $60.00\n",
       "7       $55.00\n",
       "8      $129.00\n",
       "9      $107.00\n",
       "Name: price, dtype: object"
      ]
     },
     "execution_count": 5,
     "metadata": {},
     "output_type": "execute_result"
    }
   ],
   "source": [
    "#column_names =[df.columns,df.dtypes]\n",
    "#list(column_names)\n",
    "\n",
    "df.price[0:10]"
   ]
  },
  {
   "cell_type": "code",
   "execution_count": 11,
   "id": "7b086f64",
   "metadata": {},
   "outputs": [
    {
     "data": {
      "text/plain": [
       "0         399.0\n",
       "1          46.0\n",
       "2         408.0\n",
       "3          80.0\n",
       "4        2138.0\n",
       "          ...  \n",
       "42446      40.0\n",
       "42447      48.0\n",
       "42448      46.0\n",
       "42449      68.0\n",
       "42450      48.0\n",
       "Name: price, Length: 42451, dtype: float64"
      ]
     },
     "execution_count": 11,
     "metadata": {},
     "output_type": "execute_result"
    }
   ],
   "source": [
    "#data cleaning. Price data has $ sign. The following code extracts the number\n",
    "df['price'] = df['price'].replace({r'\\$':''},regex = True).replace({r',':''},regex = True).astype('float')\n",
    "df.price"
   ]
  },
  {
   "cell_type": "code",
   "execution_count": 47,
   "id": "0347e9a5",
   "metadata": {},
   "outputs": [
    {
     "name": "stdout",
     "output_type": "stream",
     "text": [
      "Entire home/apt    29491\n",
      "Private room       12180\n",
      "Shared room          697\n",
      "Hotel room            83\n",
      "Name: room_type, dtype: int64\n",
      " \n",
      "within an hour        26037\n",
      "within a few hours     4341\n",
      "within a day           2114\n",
      "a few days or more      584\n",
      "Name: host_response_time, dtype: int64\n"
     ]
    }
   ],
   "source": [
    "#frequency of different room type\n",
    "print(df['room_type'].value_counts())\n",
    "print(' ')\n",
    "print(df['host_response_time'].value_counts())"
   ]
  },
  {
   "cell_type": "code",
   "execution_count": 104,
   "id": "228e6976",
   "metadata": {},
   "outputs": [
    {
     "data": {
      "image/png": "[encoded data removed]",
      "text/plain": [
       "<Figure size 432x288 with 3 Axes>"
      ]
     },
     "metadata": {
      "needs_background": "light"
     },
     "output_type": "display_data"
    }
   ],
   "source": [
    "\n",
    "fig =plt.figure()\n",
    "st=fig.suptitle(\"prices\", fontsize=\"x-large\")\n",
    "# price distribution\n",
    "ax1=fig.add_subplot(311)\n",
    "ax1.boxplot(df.price,vert =0)\n",
    "ax1.set_title(\"price distribution\")\n",
    "\n",
    "ax2=fig.add_subplot(312)\n",
    "#  'room_type' price distribution\n",
    "ax2.boxplot(df[df['room_type']!='Private room'].price,vert =0)\n",
    "\n",
    "ax2.set_title(\"price distribution (Private room)\")\n",
    "fig.tight_layout()\n",
    "\n",
    "ax3=fig.add_subplot(313)\n",
    "#  'room_type' price distribution\n",
    "ax3.boxplot(df[df['room_type']!='Entire home/apt'].price,vert =0)\n",
    "\n",
    "ax3.set_title(\"price distribution (Entire home/apt)\")\n",
    "fig.tight_layout()\n",
    "plt.show()\n"
   ]
  },
  {
   "cell_type": "code",
   "execution_count": 122,
   "id": "3fecfb4d",
   "metadata": {
    "scrolled": true
   },
   "outputs": [
    {
     "data": {
      "text/plain": [
       "Text(0, 0.5, 'Frequency')"
      ]
     },
     "execution_count": 122,
     "metadata": {},
     "output_type": "execute_result"
    },
    {
     "data": {
      "image/png": "[encoded data removed]",
      "text/plain": [
       "<Figure size 1008x504 with 1 Axes>"
      ]
     },
     "metadata": {
      "needs_background": "light"
     },
     "output_type": "display_data"
    }
   ],
   "source": [
    "df[df['room_type']=='Private room'].price.plot(kind='hist',color='black',range=[0,2000],alpha=0.3,figsize=(14,7),bins=400)\n",
    "df[df['room_type']=='Entire home/apt'].price.plot(kind='hist',color='magenta',range=[0,2000],alpha=0.3,figsize=(14,7),bins=400)\n",
    "df[df['room_type']=='Shared room'].price.plot(kind='hist',color='blue',range=[0,2000],alpha=0.3,figsize=(14,7),bins=400)\n",
    "df[df['room_type']=='Hotel room'].price.plot(kind='hist',color='red',range=[0,2000],alpha=0.3,figsize=(14,7),bins=400)\n",
    "\n",
    "\n",
    "plt.legend(labels=['Private room', 'Entire home/apt','Shared room','Hotel room'])\n",
    "plt.title('Distribution of Listing Price', size=24)\n",
    "plt.xlabel('Price ($)', size=18)\n",
    "plt.ylabel('Frequency', size=18)"
   ]
  },
  {
   "cell_type": "markdown",
   "id": "a2f79d2a",
   "metadata": {},
   "source": [
    "For hotel rooms: "
   ]
  },
  {
   "cell_type": "code",
   "execution_count": 121,
   "id": "c90cb203",
   "metadata": {},
   "outputs": [
    {
     "data": {
      "text/plain": [
       "Text(0, 0.5, 'Frequency')"
      ]
     },
     "execution_count": 121,
     "metadata": {},
     "output_type": "execute_result"
    },
    {
     "data": {
      "image/png": "[encoded data removed]",
      "text/plain": [
       "<Figure size 1008x504 with 1 Axes>"
      ]
     },
     "metadata": {
      "needs_background": "light"
     },
     "output_type": "display_data"
    }
   ],
   "source": [
    "df[df['room_type']=='Hotel room'].price.plot(kind='hist',color='red',range=[0,2000],alpha=0.3,figsize=(14,7),bins=400)\n",
    "plt.title('Distribution of Listing Price (Hotel Room)', size=24)\n",
    "plt.xlabel('Price ($)', size=18)\n",
    "plt.ylabel('Frequency', size=18)"
   ]
  },
  {
   "cell_type": "code",
   "execution_count": 129,
   "id": "48c58dd5",
   "metadata": {},
   "outputs": [
    {
     "data": {
      "text/plain": [
       "0.9500836258274246"
      ]
     },
     "execution_count": 129,
     "metadata": {},
     "output_type": "execute_result"
    }
   ],
   "source": [
    "len(df[df.price<800])\n",
    "len(df.price)\n",
    "len(df[df.price<800])/len(df.price)"
   ]
  },
  {
   "cell_type": "markdown",
   "id": "14093a04",
   "metadata": {},
   "source": [
    "Price range (0,800) covers 95% of the listing data. \n",
    "\n",
    "Plot distribution for range (0,800)"
   ]
  },
  {
   "cell_type": "code",
   "execution_count": 131,
   "id": "206a659c",
   "metadata": {},
   "outputs": [
    {
     "data": {
      "text/plain": [
       "Text(0, 0.5, 'Frequency')"
      ]
     },
     "execution_count": 131,
     "metadata": {},
     "output_type": "execute_result"
    },
    {
     "data": {
      "image/png": "[encoded data removed]",
      "text/plain": [
       "<Figure size 1008x504 with 1 Axes>"
      ]
     },
     "metadata": {
      "needs_background": "light"
     },
     "output_type": "display_data"
    }
   ],
   "source": [
    "df[df['room_type']=='Private room'].price.plot(kind='hist',color='black',range=[0,800],alpha=0.3,figsize=(14,7),bins=400)\n",
    "df[df['room_type']=='Entire home/apt'].price.plot(kind='hist',color='magenta',range=[0,800],alpha=0.3,figsize=(14,7),bins=400)\n",
    "df[df['room_type']=='Shared room'].price.plot(kind='hist',color='blue',range=[0,800],alpha=0.3,figsize=(14,7),bins=400)\n",
    "df[df['room_type']=='Hotel room'].price.plot(kind='hist',color='red',range=[0,800],alpha=0.3,figsize=(14,7),bins=400)\n",
    "\n",
    "\n",
    "plt.legend(labels=['Private room', 'Entire home/apt','Shared room','Hotel room'])\n",
    "plt.title('Distribution of Listing Price', size=24)\n",
    "plt.xlabel('Price ($)', size=18)\n",
    "plt.ylabel('Frequency', size=18)\n"
   ]
  },
  {
   "cell_type": "code",
   "execution_count": 105,
   "id": "ccdeeb93",
   "metadata": {},
   "outputs": [
    {
     "data": {
      "text/plain": [
       "0.2648765248437965"
      ]
     },
     "execution_count": 105,
     "metadata": {},
     "output_type": "execute_result"
    }
   ],
   "source": [
    "df1=df[df.price<800]\n",
    "df1.reviews_per_month.isna().sum()/len(df1)\n"
   ]
  },
  {
   "cell_type": "markdown",
   "id": "be2b29f2",
   "metadata": {},
   "source": [
    "26% of the listings doesn't have reviews"
   ]
  },
  {
   "cell_type": "code",
   "execution_count": 190,
   "id": "c34f7411",
   "metadata": {},
   "outputs": [
    {
     "name": "stderr",
     "output_type": "stream",
     "text": [
      "C:\\Users\\nzy12\\AppData\\Local\\Temp\\ipykernel_43728\\2257748850.py:9: SettingWithCopyWarning: \n",
      "A value is trying to be set on a copy of a slice from a DataFrame.\n",
      "Try using .loc[row_indexer,col_indexer] = value instead\n",
      "\n",
      "See the caveats in the documentation: https://pandas.pydata.org/pandas-docs/stable/user_guide/indexing.html#returning-a-view-versus-a-copy\n",
      "  df1[['host_response_time']] = df1[['host_response_time']].fillna('Missing_response')\n",
      "C:\\Users\\nzy12\\AppData\\Local\\Temp\\ipykernel_43728\\2257748850.py:15: SettingWithCopyWarning: \n",
      "A value is trying to be set on a copy of a slice from a DataFrame.\n",
      "Try using .loc[row_indexer,col_indexer] = value instead\n",
      "\n",
      "See the caveats in the documentation: https://pandas.pydata.org/pandas-docs/stable/user_guide/indexing.html#returning-a-view-versus-a-copy\n",
      "  df1[['room_type']] = df1[['room_type']].fillna('Missing_room_type')\n"
     ]
    }
   ],
   "source": [
    "#license dummy. 1: has license. 0: no license\n",
    "\n",
    "\n",
    "license_dummy=1*(~df1.license.isna()) \n",
    "#review dummy. 1: has review. 0: no reviews\n",
    "review_dummy=1*(~df1.reviews_per_month.isna()) \n",
    "#host response time dummies\n",
    "# Fill NAN by \"missing\" string\n",
    "df1[['host_response_time']] = df1[['host_response_time']].fillna('Missing_response')\n",
    "host_response=pd.get_dummies(df1.host_response_time)\n",
    "super_host_dummy =1*(df1.host_is_superhost==\"t\")\n",
    "\n",
    "\n",
    "#room_type dummy\n",
    "room_type_dummy=pd.get_dummies(df1.room_type)\n",
    "\n",
    "#bedrooms \n",
    "#df1.bedrooms, df1.beds\n"
   ]
  },
  {
   "cell_type": "code",
   "execution_count": 120,
   "id": "5935907e",
   "metadata": {},
   "outputs": [
    {
     "name": "stdout",
     "output_type": "stream",
     "text": [
      "27.3 percentage has license\n",
      "73.5 percentage has reviews\n",
      "8.9 percentage has missing bedrooms data\n",
      "1.4 percentage has missing beds data\n"
     ]
    }
   ],
   "source": [
    "print(str(100*round(sum(license_dummy)/len(df1),3))+\" percentage has license\")\n",
    "\n",
    "print(str(100*round(sum(review_dummy)/len(df1),3))+\" percentage has reviews\")\n",
    "print(str(100*round(df1.bedrooms.isna().sum()/len(df1),3))+\" percentage has missing bedrooms data\")\n",
    "print(str(100*round(df1.beds.isna().sum()/len(df1),3))[0:3]+\" percentage has missing beds data\")"
   ]
  },
  {
   "cell_type": "code",
   "execution_count": 90,
   "id": "8b6fd4ff",
   "metadata": {},
   "outputs": [
    {
     "data": {
      "text/plain": [
       "40332"
      ]
     },
     "execution_count": 90,
     "metadata": {},
     "output_type": "execute_result"
    }
   ],
   "source": [
    "len(df1)"
   ]
  },
  {
   "cell_type": "markdown",
   "id": "590ca173",
   "metadata": {},
   "source": [
    "Multivariable regression with with reviews dummy, license dummy, host_response_dummy, host_response_rate, host_acceptance_rate, host_is_superhost\n",
    "\n"
   ]
  },
  {
   "cell_type": "code",
   "execution_count": 192,
   "id": "6e9adfd3",
   "metadata": {},
   "outputs": [
    {
     "data": {
      "text/plain": [
       "license               0\n",
       "reviews_per_month     0\n",
       "Missing               0\n",
       "a few days or more    0\n",
       "within a day          0\n",
       "within a few hours    0\n",
       "host_is_superhost     0\n",
       "Entire home/apt       0\n",
       "Hotel room            0\n",
       "Private room          0\n",
       "dtype: int64"
      ]
     },
     "execution_count": 192,
     "metadata": {},
     "output_type": "execute_result"
    }
   ],
   "source": [
    "# prepare characteristics\n",
    "X=pd.concat([license_dummy,review_dummy,host_response.iloc[:,0:-1],df1.host_response_rate,df1.host_acceptance_rate,df1.host_is_superhost,room_type_response],axis=1)\n",
    "X=pd.concat([license_dummy,review_dummy,host_response.iloc[:,0:-1],super_host_dummy,room_type_dummy.iloc[:,0:-1]],axis=1)\n",
    "\n",
    "X.head()\n",
    "\n",
    "# check nan value\n",
    "X.isna().sum()"
   ]
  },
  {
   "cell_type": "code",
   "execution_count": 193,
   "id": "f2ed516e",
   "metadata": {},
   "outputs": [
    {
     "name": "stdout",
     "output_type": "stream",
     "text": [
      "                            OLS Regression Results                            \n",
      "==============================================================================\n",
      "Dep. Variable:                  price   R-squared:                       0.210\n",
      "Model:                            OLS   Adj. R-squared:                  0.210\n",
      "Method:                 Least Squares   F-statistic:                     1073.\n",
      "Date:                Thu, 18 May 2023   Prob (F-statistic):               0.00\n",
      "Time:                        19:06:16   Log-Likelihood:            -2.5075e+05\n",
      "No. Observations:               40332   AIC:                         5.015e+05\n",
      "Df Residuals:                   40321   BIC:                         5.016e+05\n",
      "Df Model:                          10                                         \n",
      "Covariance Type:            nonrobust                                         \n",
      "======================================================================================\n",
      "                         coef    std err          t      P>|t|      [0.025      0.975]\n",
      "--------------------------------------------------------------------------------------\n",
      "const                 57.1846      4.795     11.925      0.000      47.786      66.583\n",
      "license               53.8938      1.404     38.391      0.000      51.142      56.645\n",
      "reviews_per_month    -18.5959      1.401    -13.273      0.000     -21.342     -15.850\n",
      "Missing               -2.6034      1.631     -1.597      0.110      -5.800       0.593\n",
      "a few days or more    -2.4489      5.307     -0.461      0.644     -12.851       7.953\n",
      "within a day           8.9514      2.880      3.108      0.002       3.306      14.596\n",
      "within a few hours    -6.8773      2.068     -3.326      0.001     -10.930      -2.825\n",
      "host_is_superhost      0.8129      1.423      0.571      0.568      -1.976       3.602\n",
      "Entire home/apt      159.5821      4.727     33.759      0.000     150.317     168.847\n",
      "Hotel room            71.6287     14.534      4.928      0.000      43.142     100.115\n",
      "Private room          33.9696      4.789      7.093      0.000      24.583      43.357\n",
      "==============================================================================\n",
      "Omnibus:                    15605.741   Durbin-Watson:                   1.945\n",
      "Prob(Omnibus):                  0.000   Jarque-Bera (JB):            62436.938\n",
      "Skew:                           1.924   Prob(JB):                         0.00\n",
      "Kurtosis:                       7.727   Cond. No.                         38.4\n",
      "==============================================================================\n",
      "\n",
      "Notes:\n",
      "[1] Standard Errors assume that the covariance matrix of the errors is correctly specified.\n"
     ]
    }
   ],
   "source": [
    "Y=df1.price\n",
    "X=sm.add_constant(X)\n",
    "mod = sm.OLS(Y,X)\n",
    "est = mod.fit()\n",
    "\n",
    "print(est.summary())"
   ]
  },
  {
   "cell_type": "code",
   "execution_count": 242,
   "id": "b38095d0",
   "metadata": {},
   "outputs": [
    {
     "data": {
      "text/plain": [
       "0.720346127144699"
      ]
     },
     "execution_count": 242,
     "metadata": {},
     "output_type": "execute_result"
    }
   ],
   "source": [
    "# get the subset of the data without missing \n",
    "\n",
    "df2= df1[~df1.beds.isna()&~df1.reviews_per_month.isna()&~df1.review_scores_accuracy.isna()&~df2.review_scores_checkin.isna()\n",
    "         &~df2.review_scores_communication.isna()&~df2.review_scores_location.isna()&~df2.review_scores_value.isna()]\n",
    "len(df2)/len(df1)"
   ]
  },
  {
   "cell_type": "code",
   "execution_count": 243,
   "id": "5297c3c1",
   "metadata": {},
   "outputs": [
    {
     "name": "stdout",
     "output_type": "stream",
     "text": [
      "                            OLS Regression Results                            \n",
      "==============================================================================\n",
      "Dep. Variable:                  price   R-squared:                       0.406\n",
      "Model:                            OLS   Adj. R-squared:                  0.405\n",
      "Method:                 Least Squares   F-statistic:                     1167.\n",
      "Date:                Thu, 18 May 2023   Prob (F-statistic):               0.00\n",
      "Time:                        19:34:07   Log-Likelihood:            -1.7631e+05\n",
      "No. Observations:               29053   AIC:                         3.527e+05\n",
      "Df Residuals:                   29035   BIC:                         3.528e+05\n",
      "Df Model:                          17                                         \n",
      "Covariance Type:            nonrobust                                         \n",
      "===============================================================================================\n",
      "                                  coef    std err          t      P>|t|      [0.025      0.975]\n",
      "-----------------------------------------------------------------------------------------------\n",
      "const                         -21.0572      6.252     -3.368      0.001     -33.311      -8.803\n",
      "reviews_per_month              -2.9759      0.372     -8.008      0.000      -3.704      -2.248\n",
      "beds                           40.9153      0.448     91.329      0.000      40.037      41.793\n",
      "license                        52.5808      1.404     37.444      0.000      49.828      55.333\n",
      "Missing                        -3.9498      2.144     -1.842      0.065      -8.152       0.252\n",
      "a few days or more            -14.5630      5.362     -2.716      0.007     -25.074      -4.052\n",
      "within a day                    1.8986      2.847      0.667      0.505      -3.682       7.479\n",
      "within a few hours             -4.0168      2.334     -1.721      0.085      -8.591       0.557\n",
      "within an hour                 -0.4262      1.898     -0.225      0.822      -4.146       3.294\n",
      "Entire home/apt                60.0940      3.484     17.251      0.000      53.266      66.922\n",
      "Hotel room                     26.6365     10.818      2.462      0.014       5.432      47.841\n",
      "Private room                  -15.9413      3.518     -4.531      0.000     -22.837      -9.046\n",
      "Shared room                   -91.8465      5.438    -16.889      0.000    -102.506     -81.187\n",
      "host_is_superhost               4.2642      1.415      3.014      0.003       1.491       7.037\n",
      "review_scores_rating           39.5222      3.131     12.625      0.000      33.386      45.658\n",
      "review_scores_accuracy        -10.8076      3.022     -3.576      0.000     -16.732      -4.884\n",
      "review_scores_checkin         -18.2735      2.593     -7.047      0.000     -23.356     -13.191\n",
      "review_scores_communication   -11.7838      2.739     -4.302      0.000     -17.152      -6.415\n",
      "review_scores_location         45.1522      2.241     20.153      0.000      40.761      49.544\n",
      "review_scores_value           -30.0097      2.652    -11.318      0.000     -35.207     -24.812\n",
      "==============================================================================\n",
      "Omnibus:                    10024.988   Durbin-Watson:                   1.963\n",
      "Prob(Omnibus):                  0.000   Jarque-Bera (JB):            49438.347\n",
      "Skew:                           1.605   Prob(JB):                         0.00\n",
      "Kurtosis:                       8.526   Cond. No.                     1.29e+17\n",
      "==============================================================================\n",
      "\n",
      "Notes:\n",
      "[1] Standard Errors assume that the covariance matrix of the errors is correctly specified.\n",
      "[2] The smallest eigenvalue is 2.57e-28. This might indicate that there are\n",
      "strong multicollinearity problems or that the design matrix is singular.\n"
     ]
    },
    {
     "name": "stderr",
     "output_type": "stream",
     "text": [
      "C:\\Users\\nzy12\\AppData\\Local\\Temp\\ipykernel_43728\\4223623792.py:5: SettingWithCopyWarning: \n",
      "A value is trying to be set on a copy of a slice from a DataFrame.\n",
      "Try using .loc[row_indexer,col_indexer] = value instead\n",
      "\n",
      "See the caveats in the documentation: https://pandas.pydata.org/pandas-docs/stable/user_guide/indexing.html#returning-a-view-versus-a-copy\n",
      "  df2[['host_response_time']] = df2[['host_response_time']].fillna('Missing_response')\n"
     ]
    }
   ],
   "source": [
    "Y=df2.price\n",
    "\n",
    "license_dummy=1*(~df2.license.isna()) \n",
    "# Fill NAN by \"missing\" string\n",
    "df2[['host_response_time']] = df2[['host_response_time']].fillna('Missing_response')\n",
    "host_response_dummy=pd.get_dummies(df2.host_response_time)\n",
    "#room_type dummy\n",
    "room_type_dummy=pd.get_dummies(df2.room_type)\n",
    "super_host_dummy =1*(df2.host_is_superhost==\"t\")\n",
    "neighbourhood_dummy =pd.get_dummies(df2.neighbourhood_cleansed)\n",
    "X=pd.concat([df2.reviews_per_month,df2.beds,license_dummy,host_response_dummy,room_type_dummy,super_host_dummy,\n",
    "             df2.review_scores_rating,df2.review_scores_accuracy,df2.review_scores_checkin,df2.review_scores_communication,\n",
    "           df2.review_scores_location,df2.review_scores_value],axis=1)\n",
    "             \n",
    "             #df2.host_response_rate,df2.host_acceptance_rate,df2.host_is_superhost,df2.room_type],axis=1)\n",
    "X=sm.add_constant(X)\n",
    "mod = sm.OLS(Y,X)\n",
    "est = mod.fit()\n",
    "\n",
    "print(est.summary())"
   ]
  },
  {
   "cell_type": "code",
   "execution_count": 227,
   "id": "caac6515",
   "metadata": {},
   "outputs": [
    {
     "name": "stdout",
     "output_type": "stream",
     "text": [
      "                            OLS Regression Results                            \n",
      "==============================================================================\n",
      "Dep. Variable:                  price   R-squared:                       0.499\n",
      "Model:                            OLS   Adj. R-squared:                  0.494\n",
      "Method:                 Least Squares   F-statistic:                     105.1\n",
      "Date:                Thu, 18 May 2023   Prob (F-statistic):               0.00\n",
      "Time:                        19:25:45   Log-Likelihood:            -1.7515e+05\n",
      "No. Observations:               29274   AIC:                         3.508e+05\n",
      "Df Residuals:                   28998   BIC:                         3.531e+05\n",
      "Df Model:                         275                                         \n",
      "Covariance Type:            nonrobust                                         \n",
      "=========================================================================================================\n",
      "                                            coef    std err          t      P>|t|      [0.025      0.975]\n",
      "---------------------------------------------------------------------------------------------------------\n",
      "const                                    17.1743      2.781      6.175      0.000      11.723      22.626\n",
      "reviews_per_month                        -4.7248      0.361    -13.092      0.000      -5.432      -4.017\n",
      "beds                                     42.4104      0.427     99.328      0.000      41.574      43.247\n",
      "license                                  66.5312      1.628     40.862      0.000      63.340      69.723\n",
      "Missing                                   3.9643      1.667      2.378      0.017       0.697       7.231\n",
      "a few days or more                       -1.8311      4.851     -0.377      0.706     -11.339       7.677\n",
      "within a day                              6.5073      2.424      2.685      0.007       1.757      11.258\n",
      "within a few hours                        0.8496      1.902      0.447      0.655      -2.878       4.578\n",
      "within an hour                            7.6843      1.493      5.147      0.000       4.758      10.611\n",
      "Entire home/apt                          54.4745      2.969     18.345      0.000      48.654      60.295\n",
      "Hotel room                               42.9199     10.036      4.276      0.000      23.248      62.592\n",
      "Private room                             -5.8860      3.015     -1.952      0.051     -11.796       0.024\n",
      "Shared room                             -74.3341      5.159    -14.408      0.000     -84.446     -64.222\n",
      "host_is_superhost                         6.8203      1.311      5.202      0.000       4.251       9.390\n",
      "Acton                                    52.0549     36.387      1.431      0.153     -19.265     123.375\n",
      "Adams-Normandie                         -68.2147     20.108     -3.392      0.001    -107.628     -28.802\n",
      "Agoura Hills                             66.7464     14.745      4.527      0.000      37.845      95.648\n",
      "Agua Dulce                               48.0666     24.077      1.996      0.046       0.874      95.259\n",
      "Alhambra                                 -0.1931      5.041     -0.038      0.969     -10.074       9.688\n",
      "Alondra Park                              1.7359     24.084      0.072      0.943     -45.470      48.941\n",
      "Altadena                                 31.9410      6.795      4.701      0.000      18.623      45.259\n",
      "Angeles Crest                            69.9779     43.006      1.627      0.104     -14.316     154.272\n",
      "Arcadia                                   5.8195      7.637      0.762      0.446      -9.150      20.789\n",
      "Arleta                                  -53.8245     39.271     -1.371      0.171    -130.798      23.149\n",
      "Arlington Heights                       -31.3430     11.268     -2.782      0.005     -53.429      -9.257\n",
      "Artesia                                   4.1483     18.916      0.219      0.826     -32.928      41.225\n",
      "Athens                                    9.6375     32.072      0.300      0.764     -53.225      72.500\n",
      "Atwater Village                         -10.2834     10.325     -0.996      0.319     -30.521       9.955\n",
      "Avalon                                  173.2997      7.473     23.191      0.000     158.653     187.946\n",
      "Avocado Heights                         -36.7463     25.737     -1.428      0.153     -87.193      13.700\n",
      "Azusa                                    -9.1751     11.217     -0.818      0.413     -31.162      12.811\n",
      "Baldwin Hills/Crenshaw                  -15.9256     12.427     -1.282      0.200     -40.283       8.432\n",
      "Baldwin Park                            -15.0340     10.436     -1.441      0.150     -35.489       5.421\n",
      "Bel-Air                                  89.0516     22.732      3.918      0.000      44.496     133.607\n",
      "Bell                                    -25.1787     24.869     -1.012      0.311     -73.922      23.565\n",
      "Bell Gardens                             -4.9165     55.503     -0.089      0.929    -113.706     103.873\n",
      "Bellflower                               -6.7450     15.883     -0.425      0.671     -37.876      24.387\n",
      "Beverly Crest                           128.2887     12.852      9.982      0.000     103.098     153.479\n",
      "Beverly Grove                            45.8751      6.284      7.301      0.000      33.559      58.191\n",
      "Beverly Hills                            68.3501      4.472     15.283      0.000      59.584      77.116\n",
      "Beverlywood                             -39.0293     24.882     -1.569      0.117     -87.800       9.741\n",
      "Boyle Heights                           -61.4317     11.159     -5.505      0.000     -83.304     -39.560\n",
      "Brentwood                                39.7123      8.825      4.500      0.000      22.416      57.009\n",
      "Broadway-Manchester                     -67.0018     19.288     -3.474      0.001    -104.807     -29.196\n",
      "Burbank                                  31.8541      5.070      6.282      0.000      21.916      41.792\n",
      "Calabasas                                71.9673     10.671      6.744      0.000      51.052      92.883\n",
      "Canoga Park                             -46.2978     12.856     -3.601      0.000     -71.497     -21.099\n",
      "Carson                                   -1.3949      9.609     -0.145      0.885     -20.230      17.440\n",
      "Carthay                                   7.5766     11.514      0.658      0.511     -14.991      30.144\n",
      "Castaic                                  42.8782     24.079      1.781      0.075      -4.319      90.075\n",
      "Castaic Canyons                          17.1064     24.873      0.688      0.492     -31.645      65.858\n",
      "Central-Alameda                         -14.7309     25.732     -0.572      0.567     -65.167      35.705\n",
      "Century City                             43.3229     20.105      2.155      0.031       3.917      82.729\n",
      "Cerritos                                -28.0009     17.927     -1.562      0.118     -63.139       7.137\n",
      "Charter Oak                             -47.9615     43.005     -1.115      0.265    -132.253      36.330\n",
      "Chatsworth                                1.1471     14.585      0.079      0.937     -27.440      29.734\n",
      "Chatsworth Reservoir                     85.3820     67.958      1.256      0.209     -47.820     218.584\n",
      "Chesterfield Square                     -64.4699     26.712     -2.413      0.016    -116.827     -12.112\n",
      "Cheviot Hills                            27.4137     20.553      1.334      0.182     -12.871      67.698\n",
      "Chinatown                               -15.8354     16.808     -0.942      0.346     -48.781      17.110\n",
      "Citrus                                  -24.8681     55.497     -0.448      0.654    -133.645      83.909\n",
      "Claremont                                 8.2540     11.943      0.691      0.489     -15.155      31.663\n",
      "Commerce                                 96.7971     22.112      4.378      0.000      53.457     140.137\n",
      "Compton                                  16.5115     17.332      0.953      0.341     -17.461      50.484\n",
      "Covina                                  -16.0102     14.270     -1.122      0.262     -43.979      11.959\n",
      "Cudahy                                   17.7584     96.090      0.185      0.853    -170.583     206.100\n",
      "Culver City                              59.3445      5.173     11.471      0.000      49.204      69.485\n",
      "Cypress Park                            -41.6383     26.704     -1.559      0.119     -93.980      10.704\n",
      "Del Aire                                 19.8916     12.845      1.549      0.122      -5.286      45.069\n",
      "Del Rey                                  10.5304      7.261      1.450      0.147      -3.702      24.763\n",
      "Desert View Highlands                   -24.9826     55.508     -0.450      0.653    -133.780      83.815\n",
      "Diamond Bar                              23.9049      8.485      2.817      0.005       7.274      40.535\n",
      "Downey                                   -3.4620     10.617     -0.326      0.744     -24.271      17.347\n",
      "Downtown                                 15.0742      3.976      3.791      0.000       7.281      22.868\n",
      "Duarte                                    7.3860     15.684      0.471      0.638     -23.356      38.128\n",
      "Eagle Rock                               -9.2924      8.981     -1.035      0.301     -26.896       8.312\n",
      "East Compton                            -48.9744     67.965     -0.721      0.471    -182.190      84.241\n",
      "East Hollywood                          -33.9934      6.432     -5.285      0.000     -46.600     -21.387\n",
      "East Los Angeles                          3.3716      6.691      0.504      0.614      -9.742      16.485\n",
      "East Pasadena                             3.9084     12.314      0.317      0.751     -20.227      28.044\n",
      "East San Gabriel                          1.1375      9.902      0.115      0.909     -18.271      20.546\n",
      "East Whittier                             9.8576     36.355      0.271      0.786     -61.399      81.114\n",
      "Echo Park                                 3.4300      5.757      0.596      0.551      -7.853      14.714\n",
      "El Monte                                -19.6150      7.441     -2.636      0.008     -34.200      -5.031\n",
      "El Segundo                               10.7092      9.387      1.141      0.254      -7.690      29.108\n",
      "El Sereno                               -39.0331     12.053     -3.239      0.001     -62.657     -15.409\n",
      "Elizabeth Lake                          -20.2831     96.093     -0.211      0.833    -208.630     168.063\n",
      "Elysian Park                            -12.3478     30.427     -0.406      0.685     -71.987      47.291\n",
      "Elysian Valley                          -49.7569     24.079     -2.066      0.039     -96.954      -2.560\n",
      "Encino                                   11.6610      9.161      1.273      0.203      -6.295      29.617\n",
      "Exposition Park                         -75.9949     10.881     -6.984      0.000     -97.323     -54.667\n",
      "Fairfax                                  18.7044      7.751      2.413      0.016       3.511      33.897\n",
      "Florence                                 13.6846     48.070      0.285      0.776     -80.534     107.904\n",
      "Florence-Firestone                       -0.3957     15.681     -0.025      0.980     -31.130      30.339\n",
      "Gardena                                  -6.9936      7.558     -0.925      0.355     -21.807       7.819\n",
      "Glassell Park                           -13.9641     11.868     -1.177      0.239     -37.227       9.298\n",
      "Glendale                                 34.9913      4.068      8.602      0.000      27.018      42.964\n",
      "Glendora                                -14.3945     12.835     -1.121      0.262     -39.552      10.763\n",
      "Gramercy Park                           -69.9328     16.576     -4.219      0.000    -102.423     -37.443\n",
      "Granada Hills                           -53.2702     14.777     -3.605      0.000     -82.234     -24.306\n",
      "Green Meadows                           -74.6345     43.003     -1.736      0.083    -158.921       9.652\n",
      "Green Valley                            -47.6968     48.070     -0.992      0.321    -141.916      46.522\n",
      "Griffith Park                           -11.9303     34.014     -0.351      0.726     -78.600      54.739\n",
      "Hacienda Heights                        -11.7639      6.488     -1.813      0.070     -24.480       0.952\n",
      "Hancock Park                             30.0830     13.433      2.239      0.025       3.753      56.413\n",
      "Harbor City                             -66.9319     25.743     -2.600      0.009    -117.389     -16.474\n",
      "Harbor Gateway                          -68.1765     14.929     -4.567      0.000     -97.438     -38.915\n",
      "Harvard Heights                         -66.4165     12.987     -5.114      0.000     -91.872     -40.961\n",
      "Harvard Park                            -47.0222     32.076     -1.466      0.143    -109.894      15.849\n",
      "Hasley Canyon                            78.4741     67.974      1.154      0.248     -54.757     211.705\n",
      "Hawaiian Gardens                        -49.9608     39.258     -1.273      0.203    -126.908      26.986\n",
      "Hawthorne                                10.9693      6.092      1.801      0.072      -0.971      22.910\n",
      "Hermosa Beach                           104.2847      7.311     14.263      0.000      89.954     118.615\n",
      "Hidden Hills                            124.7000     43.000      2.900      0.004      40.417     208.983\n",
      "Highland Park                           -33.0049      7.645     -4.317      0.000     -47.990     -18.020\n",
      "Historic South-Central                  -46.5955     22.710     -2.052      0.040     -91.107      -2.084\n",
      "Hollywood                                -0.3518      3.332     -0.106      0.916      -6.884       6.180\n",
      "Hollywood Hills                          56.8052      4.655     12.202      0.000      47.681      65.930\n",
      "Hollywood Hills West                    123.5740      6.352     19.454      0.000     111.123     136.025\n",
      "Huntington Park                          11.3573     25.732      0.441      0.659     -39.079      61.793\n",
      "Hyde Park                               -37.9700      9.307     -4.080      0.000     -56.213     -19.727\n",
      "Industry                                -33.8229     17.621     -1.920      0.055     -68.360       0.714\n",
      "Inglewood                               -14.3246      5.144     -2.785      0.005     -24.407      -4.243\n",
      "Irwindale                               -18.1428     36.357     -0.499      0.618     -89.404      53.118\n",
      "Jefferson Park                          -30.7386     11.606     -2.649      0.008     -53.486      -7.991\n",
      "Koreatown                               -19.0846      6.134     -3.112      0.002     -31.107      -7.063\n",
      "La Canada Flintridge                     75.0446     18.914      3.968      0.000      37.973     112.117\n",
      "La Crescenta-Montrose                    43.5457     16.808      2.591      0.010      10.600      76.491\n",
      "La Habra Heights                        -15.5997     32.067     -0.486      0.627     -78.453      47.254\n",
      "La Mirada                               -15.4029     22.711     -0.678      0.498     -59.918      29.112\n",
      "La Puente                               -12.5595     17.073     -0.736      0.462     -46.023      20.904\n",
      "La Verne                                 -7.2766     15.472     -0.470      0.638     -37.603      23.050\n",
      "Ladera Heights                           43.3755     12.034      3.604      0.000      19.789      66.962\n",
      "Lake Balboa                             -40.2084     11.864     -3.389      0.001     -63.463     -16.954\n",
      "Lake Hughes                              29.1921     36.358      0.803      0.422     -42.072     100.456\n",
      "Lake Los Angeles                        -51.8806     32.071     -1.618      0.106    -114.742      10.981\n",
      "Lake View Terrace                        36.1391     67.967      0.532      0.595     -97.079     169.357\n",
      "Lakewood                                  3.8364     11.602      0.331      0.741     -18.905      26.577\n",
      "Lancaster                               -28.8928      6.883     -4.198      0.000     -42.383     -15.403\n",
      "Larchmont                                16.2488     13.835      1.174      0.240     -10.868      43.366\n",
      "Lawndale                                -12.3549     10.490     -1.178      0.239     -32.915       8.205\n",
      "Leimert Park                            -46.4928     16.329     -2.847      0.004     -78.499     -14.487\n",
      "Lennox                                   -3.0108     15.685     -0.192      0.848     -33.754      27.732\n",
      "Leona Valley                            -46.1232     43.000     -1.073      0.283    -130.406      38.159\n",
      "Lincoln Heights                         -53.0636     14.914     -3.558      0.000     -82.295     -23.832\n",
      "Lomita                                    1.3085     19.679      0.066      0.947     -37.264      39.881\n",
      "Long Beach                              -17.6899      3.211     -5.509      0.000     -23.984     -11.396\n",
      "Lopez/Kagel Canyons                     -17.2110     96.095     -0.179      0.858    -205.562     171.140\n",
      "Los Feliz                                20.5040      6.835      3.000      0.003       7.107      33.901\n",
      "Lynwood                                  -0.1428     18.263     -0.008      0.994     -35.940      35.654\n",
      "Malibu                                  232.6779      7.883     29.515      0.000     217.226     248.130\n",
      "Manchester Square                       -42.3039     19.285     -2.194      0.028     -80.103      -4.505\n",
      "Manhattan Beach                         125.4459      7.661     16.375      0.000     110.430     140.462\n",
      "Mar Vista                                15.1193      6.548      2.309      0.021       2.285      27.954\n",
      "Marina del Rey                           88.9566      5.697     15.614      0.000      77.790     100.124\n",
      "Mayflower Village                         0.2250     12.626      0.018      0.986     -24.523      24.973\n",
      "Maywood                                 -12.3711     24.866     -0.498      0.619     -61.109      36.367\n",
      "Mid-City                                -34.5078      5.600     -6.162      0.000     -45.484     -23.531\n",
      "Mid-Wilshire                              6.6993      5.435      1.233      0.218      -3.954      17.352\n",
      "Mission Hills                           -88.0800     39.290     -2.242      0.025    -165.091     -11.069\n",
      "Monrovia                                 -6.6262      8.888     -0.745      0.456     -24.048      10.795\n",
      "Montebello                              -26.3375     14.923     -1.765      0.078     -55.587       2.912\n",
      "Montecito Heights                       -36.7615     13.185     -2.788      0.005     -62.604     -10.919\n",
      "Monterey Park                            28.0639      6.053      4.636      0.000      16.200      39.928\n",
      "Mount Washington                         -6.9767      9.822     -0.710      0.477     -26.227      12.274\n",
      "North El Monte                          -17.7843     24.077     -0.739      0.460     -64.976      29.407\n",
      "North Hills                             -56.7318     14.602     -3.885      0.000     -85.352     -28.112\n",
      "North Hollywood                         -19.6453      5.489     -3.579      0.000     -30.403      -8.888\n",
      "North Whittier                           10.1685     48.069      0.212      0.832     -84.049     104.386\n",
      "Northeast Antelope Valley                16.2638     26.705      0.609      0.543     -36.079      68.607\n",
      "Northridge                              -47.5486     10.515     -4.522      0.000     -68.158     -26.940\n",
      "Northwest Antelope Valley               -15.7487     34.011     -0.463      0.643     -82.412      50.914\n",
      "Northwest Palmdale                      -11.7058     24.868     -0.471      0.638     -60.448      37.036\n",
      "Norwalk                                   1.8985     12.134      0.156      0.876     -21.885      25.682\n",
      "Pacific Palisades                        93.0417      9.681      9.611      0.000      74.067     112.016\n",
      "Pacoima                                 -87.7178     25.741     -3.408      0.001    -138.172     -37.263\n",
      "Palmdale                                -27.6932      9.045     -3.062      0.002     -45.422      -9.964\n",
      "Palms                                   -19.7861      6.973     -2.838      0.005     -33.453      -6.119\n",
      "Palos Verdes Estates                     43.5273     36.351      1.197      0.231     -27.723     114.778\n",
      "Panorama City                           -53.5828     23.366     -2.293      0.022     -99.382      -7.784\n",
      "Paramount                                31.5707     30.427      1.038      0.299     -28.068      91.209\n",
      "Pasadena                                  9.1604      4.607      1.988      0.047       0.130      18.191\n",
      "Pico Rivera                             -19.1698     15.883     -1.207      0.227     -50.302      11.962\n",
      "Pico-Robertson                           -1.8538      8.997     -0.206      0.837     -19.488      15.780\n",
      "Pico-Union                              -38.7204     11.072     -3.497      0.000     -60.422     -17.019\n",
      "Playa Vista                              29.3134     12.725      2.304      0.021       4.371      54.256\n",
      "Playa del Rey                            33.7018     11.451      2.943      0.003      11.257      56.147\n",
      "Pomona                                  -12.6489      8.590     -1.472      0.141     -29.487       4.189\n",
      "Porter Ranch                            -33.2580     19.686     -1.689      0.091     -71.844       5.328\n",
      "Quartz Hill                             -70.2036     19.683     -3.567      0.000    -108.784     -31.623\n",
      "Rancho Dominguez                        -25.2343     67.967     -0.371      0.710    -158.452     107.984\n",
      "Rancho Palos Verdes                     115.9824     12.315      9.418      0.000      91.844     140.121\n",
      "Rancho Park                              -6.6278     17.073     -0.388      0.698     -40.091      26.836\n",
      "Redondo Beach                            65.3712      5.628     11.616      0.000      54.341      76.401\n",
      "Reseda                                  -72.3133      9.277     -7.795      0.000     -90.497     -54.130\n",
      "Ridge Route                             -43.1038     55.505     -0.777      0.437    -151.896      65.689\n",
      "Rolling Hills                          -106.0590     48.072     -2.206      0.027    -200.283     -11.835\n",
      "Rolling Hills Estates                    64.3534     36.350      1.770      0.077      -6.894     135.601\n",
      "Rosemead                                 -0.7158      7.102     -0.101      0.920     -14.636      13.204\n",
      "Rowland Heights                         -18.8306      4.656     -4.044      0.000     -27.957      -9.704\n",
      "San Dimas                                 4.2858     14.578      0.294      0.769     -24.288      32.860\n",
      "San Fernando                            -13.8907     25.738     -0.540      0.589     -64.337      36.556\n",
      "San Gabriel                              -8.9393      7.946     -1.125      0.261     -24.514       6.636\n",
      "San Marino                               49.0130     36.364      1.348      0.178     -22.262     120.288\n",
      "San Pasqual                              24.1270     24.864      0.970      0.332     -24.607      72.861\n",
      "San Pedro                               -27.4515      8.958     -3.064      0.002     -45.011      -9.893\n",
      "Santa Clarita                            34.6200      7.636      4.534      0.000      19.653      49.587\n",
      "Santa Fe Springs                        -14.3630     27.792     -0.517      0.605     -68.836      40.110\n",
      "Santa Monica                             28.7507      3.488      8.242      0.000      21.913      35.588\n",
      "Sawtelle                                 -2.7408      5.816     -0.471      0.637     -14.141       8.660\n",
      "Sepulveda Basin                          63.9492     55.500      1.152      0.249     -44.833     172.731\n",
      "Shadow Hills                            -34.2701     17.917     -1.913      0.056     -69.389       0.848\n",
      "Sherman Oaks                            -10.1730      4.952     -2.054      0.040     -19.879      -0.467\n",
      "Sierra Madre                             44.0335     18.915      2.328      0.020       6.959      81.108\n",
      "Signal Hill                              25.9998     14.746      1.763      0.078      -2.904      54.903\n",
      "Silver Lake                              21.6557      5.149      4.206      0.000      11.563      31.748\n",
      "South El Monte                          -28.9681     25.734     -1.126      0.260     -79.408      21.472\n",
      "South Gate                              -11.5086     16.327     -0.705      0.481     -43.510      20.492\n",
      "South Park                              -44.7365     29.021     -1.542      0.123    -101.619      12.146\n",
      "South Pasadena                           37.1644     11.141      3.336      0.001      15.327      59.002\n",
      "South San Gabriel                       -18.5103     13.312     -1.391      0.164     -44.602       7.581\n",
      "South San Jose Hills                    -18.6072     24.862     -0.748      0.454     -67.338      30.124\n",
      "South Whittier                           12.5822     15.479      0.813      0.416     -17.757      42.922\n",
      "Southeast Antelope Valley               -25.9714     24.084     -1.078      0.281     -73.178      21.235\n",
      "Stevenson Ranch                          97.0596     29.018      3.345      0.001      40.182     153.937\n",
      "Studio City                              37.5427      6.256      6.001      0.000      25.282      49.804\n",
      "Sun Valley                              -28.3961     12.426     -2.285      0.022     -52.751      -4.041\n",
      "Sun Village                            -106.0074     67.957     -1.560      0.119    -239.206      27.191\n",
      "Sunland                                 -40.4972     39.266     -1.031      0.302    -117.461      36.466\n",
      "Sylmar                                  -45.7998     18.247     -2.510      0.012     -81.565     -10.035\n",
      "Tarzana                                  18.5886      9.206      2.019      0.043       0.545      36.633\n",
      "Temple City                              -7.3119      8.890     -0.822      0.411     -24.736      10.113\n",
      "Toluca Lake                              26.2752     14.579      1.802      0.072      -2.300      54.850\n",
      "Topanga                                 101.5391      5.730     17.721      0.000      90.308     112.770\n",
      "Torrance                                 24.8257      6.842      3.628      0.000      11.414      38.237\n",
      "Tujunga                                 -23.0217     23.370     -0.985      0.325     -68.828      22.785\n",
      "Tujunga Canyons                          14.6171     30.451      0.480      0.631     -45.069      74.303\n",
      "Unincorporated Catalina Island         -190.3663     20.717     -9.189      0.000    -230.973    -149.759\n",
      "Unincorporated Santa Monica Mountains   181.5322      9.005     20.159      0.000     163.882     199.182\n",
      "Unincorporated Santa Susana Mountains    69.3987     24.864      2.791      0.005      20.664     118.134\n",
      "Universal City                           25.3588     24.079      1.053      0.292     -21.836      72.554\n",
      "University Park                         -27.7298     19.706     -1.407      0.159     -66.354      10.895\n",
      "Val Verde                               -40.5870     34.007     -1.193      0.233    -107.243      26.069\n",
      "Valinda                                 -34.6059     19.687     -1.758      0.079     -73.193       3.981\n",
      "Valley Glen                              -5.2378      8.166     -0.641      0.521     -21.244      10.768\n",
      "Valley Village                            9.8088      8.783      1.117      0.264      -7.407      27.025\n",
      "Van Nuys                                -39.4238      8.187     -4.815      0.000     -55.471     -23.376\n",
      "Venice                                   66.5455      3.222     20.651      0.000      60.230      72.861\n",
      "Vermont Knolls                          -15.5209     19.732     -0.787      0.432     -54.197      23.155\n",
      "Vermont Square                          -57.3143      9.435     -6.075      0.000     -75.807     -38.821\n",
      "Vermont Vista                           -44.2575     32.071     -1.380      0.168    -107.119      18.604\n",
      "Vermont-Slauson                         -71.9837     20.557     -3.502      0.000    -112.276     -31.691\n",
      "Vernon                                   55.3406     10.165      5.444      0.000      35.416      75.265\n",
      "Veterans Administration                  57.7661     24.078      2.399      0.016      10.571     104.961\n",
      "View Park-Windsor Hills                  36.3122      8.593      4.226      0.000      19.469      53.155\n",
      "Vincent                                 -42.6088     32.067     -1.329      0.184    -105.462      20.244\n",
      "Walnut                                   22.7421     10.812      2.103      0.035       1.551      43.933\n",
      "Walnut Park                             -21.7990     67.979     -0.321      0.748    -155.042     111.444\n",
      "Watts                                   -67.7057     20.465     -3.308      0.001    -107.818     -27.593\n",
      "West Adams                              -30.9649     10.682     -2.899      0.004     -51.903     -10.027\n",
      "West Carson                             -16.0851     14.915     -1.078      0.281     -45.320      13.150\n",
      "West Compton                             -0.4707     36.359     -0.013      0.990     -71.736      70.795\n",
      "West Covina                              -8.5203      6.936     -1.228      0.219     -22.116       5.075\n",
      "West Hills                              -14.7783     10.332     -1.430      0.153     -35.029       5.473\n",
      "West Hollywood                           66.8303      3.660     18.262      0.000      59.657      74.003\n",
      "West Los Angeles                        -21.9557      8.889     -2.470      0.014     -39.379      -4.533\n",
      "West Puente Valley                      -44.4976     22.713     -1.959      0.050     -89.017       0.022\n",
      "West Whittier-Los Nietos                 -3.3418     26.696     -0.125      0.900     -55.667      48.984\n",
      "Westchester                              -5.3508      6.628     -0.807      0.419     -18.341       7.640\n",
      "Westlake                                -18.6415      6.168     -3.023      0.003     -30.730      -6.553\n",
      "Westlake Village                        141.1113     36.353      3.882      0.000      69.857     212.365\n",
      "Westmont                                  7.0476     12.515      0.563      0.573     -17.482      31.577\n",
      "Westwood                                 24.9834      6.582      3.796      0.000      12.083      37.884\n",
      "Whittier                                 11.7788      9.896      1.190      0.234      -7.619      31.176\n",
      "Willowbrook                             -13.7337     18.927     -0.726      0.468     -50.832      23.365\n",
      "Wilmington                             -106.8882     34.050     -3.139      0.002    -173.629     -40.148\n",
      "Windsor Square                           20.8279     19.687      1.058      0.290     -17.759      59.415\n",
      "Winnetka                                -19.5432     11.462     -1.705      0.088     -42.009       2.922\n",
      "Woodland Hills                            7.0571      5.995      1.177      0.239      -4.694      18.808\n",
      "==============================================================================\n",
      "Omnibus:                     9484.305   Durbin-Watson:                   1.982\n",
      "Prob(Omnibus):                  0.000   Jarque-Bera (JB):            50569.525\n",
      "Skew:                           1.468   Prob(JB):                         0.00\n",
      "Kurtosis:                       8.731   Cond. No.                     1.34e+17\n",
      "==============================================================================\n",
      "\n",
      "Notes:\n",
      "[1] Standard Errors assume that the covariance matrix of the errors is correctly specified.\n",
      "[2] The smallest eigenvalue is 1.79e-29. This might indicate that there are\n",
      "strong multicollinearity problems or that the design matrix is singular.\n"
     ]
    }
   ],
   "source": [
    "#with neighborhood characteristics\n",
    "X=pd.concat([df2.reviews_per_month,df2.beds,license_dummy,host_response_dummy,...\n",
    "             room_type_dummy,super_host_dummy,,df2.review_scores_rating,neighbourhood_dummy],axis=1)\n",
    "             \n",
    "             #df2.host_response_rate,df2.host_acceptance_rate,df2.host_is_superhost,df2.room_type],axis=1)\n",
    "X=sm.add_constant(X)\n",
    "mod = sm.OLS(Y,X)\n",
    "est = mod.fit()\n",
    "\n",
    "print(est.summary())"
   ]
  },
  {
   "cell_type": "code",
   "execution_count": null,
   "id": "06f57397",
   "metadata": {},
   "outputs": [],
   "source": []
  }
 ],
 "metadata": {
  "kernelspec": {
   "display_name": "Python 3 (ipykernel)",
   "language": "python",
   "name": "python3"
  },
  "language_info": {
   "codemirror_mode": {
    "name": "ipython",
    "version": 3
   },
   "file_extension": ".py",
   "mimetype": "text/x-python",
   "name": "python",
   "nbconvert_exporter": "python",
   "pygments_lexer": "ipython3",
   "version": "3.9.12"
  }
 },
 "nbformat": 4,
 "nbformat_minor": 5
}
