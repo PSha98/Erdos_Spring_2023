{
 "cells": [
  {
   "cell_type": "markdown",
   "id": "514bf611",
   "metadata": {},
   "source": [
    "Work in Progress. Will be updated by Friday. Zheyu Ni\n",
    "\n",
    "This file cleans the Airbnb data. \n",
    "1. deleted $ sign and comma in price.\n",
    "2. visualize price distribution base on different features\n",
    "3. Price range (0, 800) covers 95\\% of the listings\n",
    "4. create a dummy for the listing without review data\n",
    "The remaing detafile contains \\% of the raw data"
   ]
  },
  {
   "cell_type": "code",
   "execution_count": 39,
   "id": "4674846e",
   "metadata": {},
   "outputs": [],
   "source": [
    "import pandas as pd\n",
    "import numpy as np\n",
    "import re\n",
    "import matplotlib.pyplot as plt\n",
    "from sklearn.linear_model import LinearRegression\n",
    "import statsmodels.api as sm\n",
    "import seaborn as sns\n",
    "import matplotlib.dates as mdates\n",
    "from datetime import date\n",
    "from sklearn.model_selection import train_test_split"
   ]
  },
  {
   "cell_type": "code",
   "execution_count": 40,
   "id": "4289dd53",
   "metadata": {},
   "outputs": [],
   "source": [
    "df = pd.read_csv('LA\\March\\listings.csv')\n"
   ]
  },
  {
   "cell_type": "code",
   "execution_count": 41,
   "id": "6f1c974f",
   "metadata": {},
   "outputs": [
    {
     "data": {
      "text/html": [
       "<div>\n",
       "<style scoped>\n",
       "    .dataframe tbody tr th:only-of-type {\n",
       "        vertical-align: middle;\n",
       "    }\n",
       "\n",
       "    .dataframe tbody tr th {\n",
       "        vertical-align: top;\n",
       "    }\n",
       "\n",
       "    .dataframe thead th {\n",
       "        text-align: right;\n",
       "    }\n",
       "</style>\n",
       "<table border=\"1\" class=\"dataframe\">\n",
       "  <thead>\n",
       "    <tr style=\"text-align: right;\">\n",
       "      <th></th>\n",
       "      <th>id</th>\n",
       "      <th>listing_url</th>\n",
       "      <th>scrape_id</th>\n",
       "      <th>last_scraped</th>\n",
       "      <th>source</th>\n",
       "      <th>name</th>\n",
       "      <th>description</th>\n",
       "      <th>neighborhood_overview</th>\n",
       "      <th>picture_url</th>\n",
       "      <th>host_id</th>\n",
       "      <th>...</th>\n",
       "      <th>review_scores_communication</th>\n",
       "      <th>review_scores_location</th>\n",
       "      <th>review_scores_value</th>\n",
       "      <th>license</th>\n",
       "      <th>instant_bookable</th>\n",
       "      <th>calculated_host_listings_count</th>\n",
       "      <th>calculated_host_listings_count_entire_homes</th>\n",
       "      <th>calculated_host_listings_count_private_rooms</th>\n",
       "      <th>calculated_host_listings_count_shared_rooms</th>\n",
       "      <th>reviews_per_month</th>\n",
       "    </tr>\n",
       "  </thead>\n",
       "  <tbody>\n",
       "    <tr>\n",
       "      <th>0</th>\n",
       "      <td>777451666060243581</td>\n",
       "      <td>https://www.airbnb.com/rooms/777451666060243581</td>\n",
       "      <td>20230307175359</td>\n",
       "      <td>2023-03-07</td>\n",
       "      <td>city scrape</td>\n",
       "      <td>Family oriented home</td>\n",
       "      <td>Relax with the whole family at this peaceful p...</td>\n",
       "      <td>NaN</td>\n",
       "      <td>https://a0.muscache.com/pictures/miso/Hosting-...</td>\n",
       "      <td>490709958</td>\n",
       "      <td>...</td>\n",
       "      <td>NaN</td>\n",
       "      <td>NaN</td>\n",
       "      <td>NaN</td>\n",
       "      <td>NaN</td>\n",
       "      <td>f</td>\n",
       "      <td>1</td>\n",
       "      <td>0</td>\n",
       "      <td>1</td>\n",
       "      <td>0</td>\n",
       "      <td>NaN</td>\n",
       "    </tr>\n",
       "    <tr>\n",
       "      <th>1</th>\n",
       "      <td>698097753730921190</td>\n",
       "      <td>https://www.airbnb.com/rooms/698097753730921190</td>\n",
       "      <td>20230307175359</td>\n",
       "      <td>2023-03-07</td>\n",
       "      <td>city scrape</td>\n",
       "      <td>方便易居驿站</td>\n",
       "      <td>NaN</td>\n",
       "      <td>NaN</td>\n",
       "      <td>https://a0.muscache.com/pictures/d5afff58-d576...</td>\n",
       "      <td>444692513</td>\n",
       "      <td>...</td>\n",
       "      <td>5.00</td>\n",
       "      <td>5.00</td>\n",
       "      <td>4.40</td>\n",
       "      <td>NaN</td>\n",
       "      <td>f</td>\n",
       "      <td>4</td>\n",
       "      <td>0</td>\n",
       "      <td>4</td>\n",
       "      <td>0</td>\n",
       "      <td>0.86</td>\n",
       "    </tr>\n",
       "    <tr>\n",
       "      <th>2</th>\n",
       "      <td>13063118</td>\n",
       "      <td>https://www.airbnb.com/rooms/13063118</td>\n",
       "      <td>20230307175359</td>\n",
       "      <td>2023-03-07</td>\n",
       "      <td>city scrape</td>\n",
       "      <td>TERRANEA OCEANFRNT 1BR CASITA -203 RSRT AMENIT...</td>\n",
       "      <td>LOCATION! Luxury upstairs Oceanside Casita gue...</td>\n",
       "      <td>No need to fly away from Los Angeles for a get...</td>\n",
       "      <td>https://a0.muscache.com/pictures/6227287c-7073...</td>\n",
       "      <td>41736985</td>\n",
       "      <td>...</td>\n",
       "      <td>4.96</td>\n",
       "      <td>4.92</td>\n",
       "      <td>4.83</td>\n",
       "      <td>NaN</td>\n",
       "      <td>f</td>\n",
       "      <td>10</td>\n",
       "      <td>5</td>\n",
       "      <td>5</td>\n",
       "      <td>0</td>\n",
       "      <td>0.64</td>\n",
       "    </tr>\n",
       "    <tr>\n",
       "      <th>3</th>\n",
       "      <td>39337076</td>\n",
       "      <td>https://www.airbnb.com/rooms/39337076</td>\n",
       "      <td>20230307175359</td>\n",
       "      <td>2023-03-07</td>\n",
       "      <td>city scrape</td>\n",
       "      <td>Brand New Duplex Near World Cruise Center</td>\n",
       "      <td>Welcome to our new cozy duplex!&lt;br /&gt;&lt;br /&gt;Loc...</td>\n",
       "      <td>Our property is close to downtown San Pedro, t...</td>\n",
       "      <td>https://a0.muscache.com/pictures/miso/Hosting-...</td>\n",
       "      <td>208375458</td>\n",
       "      <td>...</td>\n",
       "      <td>4.86</td>\n",
       "      <td>4.66</td>\n",
       "      <td>4.82</td>\n",
       "      <td>NaN</td>\n",
       "      <td>t</td>\n",
       "      <td>4</td>\n",
       "      <td>0</td>\n",
       "      <td>4</td>\n",
       "      <td>0</td>\n",
       "      <td>1.09</td>\n",
       "    </tr>\n",
       "    <tr>\n",
       "      <th>4</th>\n",
       "      <td>13077628</td>\n",
       "      <td>https://www.airbnb.com/rooms/13077628</td>\n",
       "      <td>20230307175359</td>\n",
       "      <td>2023-03-07</td>\n",
       "      <td>city scrape</td>\n",
       "      <td>Zuma Malibu Retreat</td>\n",
       "      <td>Our Private 16 Acre Malibu Retreat is located ...</td>\n",
       "      <td>NaN</td>\n",
       "      <td>https://a0.muscache.com/pictures/miso/Hosting-...</td>\n",
       "      <td>4182067</td>\n",
       "      <td>...</td>\n",
       "      <td>4.79</td>\n",
       "      <td>4.64</td>\n",
       "      <td>4.36</td>\n",
       "      <td>STR21-0228</td>\n",
       "      <td>f</td>\n",
       "      <td>1</td>\n",
       "      <td>1</td>\n",
       "      <td>0</td>\n",
       "      <td>0</td>\n",
       "      <td>0.18</td>\n",
       "    </tr>\n",
       "  </tbody>\n",
       "</table>\n",
       "<p>5 rows × 75 columns</p>\n",
       "</div>"
      ],
      "text/plain": [
       "                   id                                      listing_url  \\\n",
       "0  777451666060243581  https://www.airbnb.com/rooms/777451666060243581   \n",
       "1  698097753730921190  https://www.airbnb.com/rooms/698097753730921190   \n",
       "2            13063118            https://www.airbnb.com/rooms/13063118   \n",
       "3            39337076            https://www.airbnb.com/rooms/39337076   \n",
       "4            13077628            https://www.airbnb.com/rooms/13077628   \n",
       "\n",
       "        scrape_id last_scraped       source  \\\n",
       "0  20230307175359   2023-03-07  city scrape   \n",
       "1  20230307175359   2023-03-07  city scrape   \n",
       "2  20230307175359   2023-03-07  city scrape   \n",
       "3  20230307175359   2023-03-07  city scrape   \n",
       "4  20230307175359   2023-03-07  city scrape   \n",
       "\n",
       "                                                name  \\\n",
       "0                               Family oriented home   \n",
       "1                                             方便易居驿站   \n",
       "2  TERRANEA OCEANFRNT 1BR CASITA -203 RSRT AMENIT...   \n",
       "3          Brand New Duplex Near World Cruise Center   \n",
       "4                                Zuma Malibu Retreat   \n",
       "\n",
       "                                         description  \\\n",
       "0  Relax with the whole family at this peaceful p...   \n",
       "1                                                NaN   \n",
       "2  LOCATION! Luxury upstairs Oceanside Casita gue...   \n",
       "3  Welcome to our new cozy duplex!<br /><br />Loc...   \n",
       "4  Our Private 16 Acre Malibu Retreat is located ...   \n",
       "\n",
       "                               neighborhood_overview  \\\n",
       "0                                                NaN   \n",
       "1                                                NaN   \n",
       "2  No need to fly away from Los Angeles for a get...   \n",
       "3  Our property is close to downtown San Pedro, t...   \n",
       "4                                                NaN   \n",
       "\n",
       "                                         picture_url    host_id  ...  \\\n",
       "0  https://a0.muscache.com/pictures/miso/Hosting-...  490709958  ...   \n",
       "1  https://a0.muscache.com/pictures/d5afff58-d576...  444692513  ...   \n",
       "2  https://a0.muscache.com/pictures/6227287c-7073...   41736985  ...   \n",
       "3  https://a0.muscache.com/pictures/miso/Hosting-...  208375458  ...   \n",
       "4  https://a0.muscache.com/pictures/miso/Hosting-...    4182067  ...   \n",
       "\n",
       "  review_scores_communication review_scores_location review_scores_value  \\\n",
       "0                         NaN                    NaN                 NaN   \n",
       "1                        5.00                   5.00                4.40   \n",
       "2                        4.96                   4.92                4.83   \n",
       "3                        4.86                   4.66                4.82   \n",
       "4                        4.79                   4.64                4.36   \n",
       "\n",
       "      license instant_bookable calculated_host_listings_count  \\\n",
       "0         NaN                f                              1   \n",
       "1         NaN                f                              4   \n",
       "2         NaN                f                             10   \n",
       "3         NaN                t                              4   \n",
       "4  STR21-0228                f                              1   \n",
       "\n",
       "  calculated_host_listings_count_entire_homes  \\\n",
       "0                                           0   \n",
       "1                                           0   \n",
       "2                                           5   \n",
       "3                                           0   \n",
       "4                                           1   \n",
       "\n",
       "  calculated_host_listings_count_private_rooms  \\\n",
       "0                                            1   \n",
       "1                                            4   \n",
       "2                                            5   \n",
       "3                                            4   \n",
       "4                                            0   \n",
       "\n",
       "  calculated_host_listings_count_shared_rooms reviews_per_month  \n",
       "0                                           0               NaN  \n",
       "1                                           0              0.86  \n",
       "2                                           0              0.64  \n",
       "3                                           0              1.09  \n",
       "4                                           0              0.18  \n",
       "\n",
       "[5 rows x 75 columns]"
      ]
     },
     "execution_count": 41,
     "metadata": {},
     "output_type": "execute_result"
    }
   ],
   "source": [
    "df.head(5)\n"
   ]
  },
  {
   "cell_type": "code",
   "execution_count": 73,
   "id": "8391d852",
   "metadata": {},
   "outputs": [
    {
     "data": {
      "text/plain": [
       "0      $399.00\n",
       "1       $46.00\n",
       "2      $408.00\n",
       "3       $80.00\n",
       "4    $2,138.00\n",
       "5       $55.00\n",
       "6       $60.00\n",
       "7       $55.00\n",
       "8      $129.00\n",
       "9      $107.00\n",
       "Name: price, dtype: object"
      ]
     },
     "execution_count": 73,
     "metadata": {},
     "output_type": "execute_result"
    }
   ],
   "source": [
    "#column_names =[df.columns,df.dtypes]\n",
    "#list(column_names)\n",
    "\n",
    "df.price[0:10]"
   ]
  },
  {
   "cell_type": "code",
   "execution_count": 89,
   "id": "7b086f64",
   "metadata": {},
   "outputs": [
    {
     "data": {
      "text/plain": [
       "0         399.0\n",
       "1          46.0\n",
       "2         408.0\n",
       "3          80.0\n",
       "4        2138.0\n",
       "          ...  \n",
       "42446      40.0\n",
       "42447      48.0\n",
       "42448      46.0\n",
       "42449      68.0\n",
       "42450      48.0\n",
       "Name: price, Length: 42451, dtype: float64"
      ]
     },
     "execution_count": 89,
     "metadata": {},
     "output_type": "execute_result"
    }
   ],
   "source": [
    "#data cleaning. Price data has $ sign. The following code extracts the number\n",
    "df['price'] = df['price'].replace({r'\\$':''},regex = True).replace({r',':''},regex = True).astype('float')\n",
    "df.price"
   ]
  },
  {
   "cell_type": "code",
   "execution_count": 101,
   "id": "0347e9a5",
   "metadata": {},
   "outputs": [
    {
     "name": "stdout",
     "output_type": "stream",
     "text": [
      "Entire home/apt    29491\n",
      "Private room       12180\n",
      "Shared room          697\n",
      "Hotel room            83\n",
      "Name: room_type, dtype: int64\n"
     ]
    }
   ],
   "source": [
    "#frequency of different room type\n",
    "print(df['room_type'].value_counts())\n"
   ]
  },
  {
   "cell_type": "code",
   "execution_count": 104,
   "id": "228e6976",
   "metadata": {},
   "outputs": [
    {
     "data": {
      "image/png": "[encoded data removed]",
      "text/plain": [
       "<Figure size 432x288 with 3 Axes>"
      ]
     },
     "metadata": {
      "needs_background": "light"
     },
     "output_type": "display_data"
    }
   ],
   "source": [
    "\n",
    "fig =plt.figure()\n",
    "st=fig.suptitle(\"prices\", fontsize=\"x-large\")\n",
    "# price distribution\n",
    "ax1=fig.add_subplot(311)\n",
    "ax1.boxplot(df.price,vert =0)\n",
    "ax1.set_title(\"price distribution\")\n",
    "\n",
    "ax2=fig.add_subplot(312)\n",
    "#  'room_type' price distribution\n",
    "ax2.boxplot(df[df['room_type']!='Private room'].price,vert =0)\n",
    "\n",
    "ax2.set_title(\"price distribution (Private room)\")\n",
    "fig.tight_layout()\n",
    "\n",
    "ax3=fig.add_subplot(313)\n",
    "#  'room_type' price distribution\n",
    "ax3.boxplot(df[df['room_type']!='Entire home/apt'].price,vert =0)\n",
    "\n",
    "ax3.set_title(\"price distribution (Entire home/apt)\")\n",
    "fig.tight_layout()\n",
    "plt.show()\n"
   ]
  },
  {
   "cell_type": "code",
   "execution_count": 122,
   "id": "3fecfb4d",
   "metadata": {
    "scrolled": true
   },
   "outputs": [
    {
     "data": {
      "text/plain": [
       "Text(0, 0.5, 'Frequency')"
      ]
     },
     "execution_count": 122,
     "metadata": {},
     "output_type": "execute_result"
    },
    {
     "data": {
      "image/png": "[encoded data removed]",
      "text/plain": [
       "<Figure size 1008x504 with 1 Axes>"
      ]
     },
     "metadata": {
      "needs_background": "light"
     },
     "output_type": "display_data"
    }
   ],
   "source": [
    "df[df['room_type']=='Private room'].price.plot(kind='hist',color='black',range=[0,2000],alpha=0.3,figsize=(14,7),bins=400)\n",
    "df[df['room_type']=='Entire home/apt'].price.plot(kind='hist',color='magenta',range=[0,2000],alpha=0.3,figsize=(14,7),bins=400)\n",
    "df[df['room_type']=='Shared room'].price.plot(kind='hist',color='blue',range=[0,2000],alpha=0.3,figsize=(14,7),bins=400)\n",
    "df[df['room_type']=='Hotel room'].price.plot(kind='hist',color='red',range=[0,2000],alpha=0.3,figsize=(14,7),bins=400)\n",
    "\n",
    "\n",
    "plt.legend(labels=['Private room', 'Entire home/apt','Shared room','Hotel room'])\n",
    "plt.title('Distribution of Listing Price', size=24)\n",
    "plt.xlabel('Price ($)', size=18)\n",
    "plt.ylabel('Frequency', size=18)"
   ]
  },
  {
   "cell_type": "markdown",
   "id": "a2f79d2a",
   "metadata": {},
   "source": [
    "For hotel rooms: "
   ]
  },
  {
   "cell_type": "code",
   "execution_count": 121,
   "id": "c90cb203",
   "metadata": {},
   "outputs": [
    {
     "data": {
      "text/plain": [
       "Text(0, 0.5, 'Frequency')"
      ]
     },
     "execution_count": 121,
     "metadata": {},
     "output_type": "execute_result"
    },
    {
     "data": {
      "image/png": "[encoded data removed]",
      "text/plain": [
       "<Figure size 1008x504 with 1 Axes>"
      ]
     },
     "metadata": {
      "needs_background": "light"
     },
     "output_type": "display_data"
    }
   ],
   "source": [
    "df[df['room_type']=='Hotel room'].price.plot(kind='hist',color='red',range=[0,2000],alpha=0.3,figsize=(14,7),bins=400)\n",
    "plt.title('Distribution of Listing Price (Hotel Room)', size=24)\n",
    "plt.xlabel('Price ($)', size=18)\n",
    "plt.ylabel('Frequency', size=18)"
   ]
  },
  {
   "cell_type": "code",
   "execution_count": 129,
   "id": "48c58dd5",
   "metadata": {},
   "outputs": [
    {
     "data": {
      "text/plain": [
       "0.9500836258274246"
      ]
     },
     "execution_count": 129,
     "metadata": {},
     "output_type": "execute_result"
    }
   ],
   "source": [
    "len(df[df.price<800])\n",
    "len(df.price)\n",
    "len(df[df.price<800])/len(df.price)"
   ]
  },
  {
   "cell_type": "markdown",
   "id": "14093a04",
   "metadata": {},
   "source": [
    "Price range (0,800) covers 95% of the listing data. \n",
    "\n",
    "Plot distribution for range (0,800)"
   ]
  },
  {
   "cell_type": "code",
   "execution_count": 131,
   "id": "206a659c",
   "metadata": {},
   "outputs": [
    {
     "data": {
      "text/plain": [
       "Text(0, 0.5, 'Frequency')"
      ]
     },
     "execution_count": 131,
     "metadata": {},
     "output_type": "execute_result"
    },
    {
     "data": {
      "image/png": "[encoded data removed]",
      "text/plain": [
       "<Figure size 1008x504 with 1 Axes>"
      ]
     },
     "metadata": {
      "needs_background": "light"
     },
     "output_type": "display_data"
    }
   ],
   "source": [
    "df[df['room_type']=='Private room'].price.plot(kind='hist',color='black',range=[0,800],alpha=0.3,figsize=(14,7),bins=400)\n",
    "df[df['room_type']=='Entire home/apt'].price.plot(kind='hist',color='magenta',range=[0,800],alpha=0.3,figsize=(14,7),bins=400)\n",
    "df[df['room_type']=='Shared room'].price.plot(kind='hist',color='blue',range=[0,800],alpha=0.3,figsize=(14,7),bins=400)\n",
    "df[df['room_type']=='Hotel room'].price.plot(kind='hist',color='red',range=[0,800],alpha=0.3,figsize=(14,7),bins=400)\n",
    "\n",
    "\n",
    "plt.legend(labels=['Private room', 'Entire home/apt','Shared room','Hotel room'])\n",
    "plt.title('Distribution of Listing Price', size=24)\n",
    "plt.xlabel('Price ($)', size=18)\n",
    "plt.ylabel('Frequency', size=18)\n"
   ]
  },
  {
   "cell_type": "code",
   "execution_count": 132,
   "id": "ccdeeb93",
   "metadata": {},
   "outputs": [],
   "source": [
    "df1=df[df.price<800]"
   ]
  },
  {
   "cell_type": "code",
   "execution_count": null,
   "id": "77ff5897",
   "metadata": {},
   "outputs": [],
   "source": []
  },
  {
   "cell_type": "code",
   "execution_count": null,
   "id": "c34f7411",
   "metadata": {},
   "outputs": [],
   "source": []
  }
 ],
 "metadata": {
  "kernelspec": {
   "display_name": "Python 3 (ipykernel)",
   "language": "python",
   "name": "python3"
  },
  "language_info": {
   "codemirror_mode": {
    "name": "ipython",
    "version": 3
   },
   "file_extension": ".py",
   "mimetype": "text/x-python",
   "name": "python",
   "nbconvert_exporter": "python",
   "pygments_lexer": "ipython3",
   "version": "3.9.12"
  }
 },
 "nbformat": 4,
 "nbformat_minor": 5
}
