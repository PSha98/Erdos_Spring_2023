{
 "cells": [
  {
   "cell_type": "code",
   "execution_count": 118,
   "id": "c5426abd",
   "metadata": {},
   "outputs": [],
   "source": [
    "import numpy as np\n",
    "import pandas as pd\n",
    "import matplotlib.pyplot as plt\n",
    "import seaborn as sns\n",
    "%matplotlib inline\n",
    "import re"
   ]
  },
  {
   "cell_type": "code",
   "execution_count": 119,
   "id": "f8904767",
   "metadata": {},
   "outputs": [],
   "source": [
    "file_path= 'C:/Users/DELL/Desktop/Erdos fresh/'"
   ]
  },
  {
   "cell_type": "code",
   "execution_count": 120,
   "id": "1cc5857f",
   "metadata": {},
   "outputs": [],
   "source": [
    "listings= pd.read_csv(file_path+\"listings_mar7_2023.csv\",parse_dates=['last_scraped', 'host_since', 'calendar_last_scraped', 'first_review', \n",
    "                                                    'last_review'])"
   ]
  },
  {
   "cell_type": "code",
   "execution_count": 121,
   "id": "0daa145b",
   "metadata": {},
   "outputs": [
    {
     "name": "stdout",
     "output_type": "stream",
     "text": [
      "<class 'pandas.core.frame.DataFrame'>\n",
      "RangeIndex: 42451 entries, 0 to 42450\n",
      "Data columns (total 75 columns):\n",
      " #   Column                                        Non-Null Count  Dtype         \n",
      "---  ------                                        --------------  -----         \n",
      " 0   id                                            42451 non-null  int64         \n",
      " 1   listing_url                                   42451 non-null  object        \n",
      " 2   scrape_id                                     42451 non-null  int64         \n",
      " 3   last_scraped                                  42451 non-null  datetime64[ns]\n",
      " 4   source                                        42451 non-null  object        \n",
      " 5   name                                          42449 non-null  object        \n",
      " 6   description                                   41701 non-null  object        \n",
      " 7   neighborhood_overview                         24957 non-null  object        \n",
      " 8   picture_url                                   42451 non-null  object        \n",
      " 9   host_id                                       42451 non-null  int64         \n",
      " 10  host_url                                      42451 non-null  object        \n",
      " 11  host_name                                     42449 non-null  object        \n",
      " 12  host_since                                    42449 non-null  datetime64[ns]\n",
      " 13  host_location                                 33989 non-null  object        \n",
      " 14  host_about                                    24627 non-null  object        \n",
      " 15  host_response_time                            33076 non-null  object        \n",
      " 16  host_response_rate                            33076 non-null  object        \n",
      " 17  host_acceptance_rate                          34108 non-null  object        \n",
      " 18  host_is_superhost                             42292 non-null  object        \n",
      " 19  host_thumbnail_url                            42449 non-null  object        \n",
      " 20  host_picture_url                              42449 non-null  object        \n",
      " 21  host_neighbourhood                            33704 non-null  object        \n",
      " 22  host_listings_count                           42449 non-null  float64       \n",
      " 23  host_total_listings_count                     42449 non-null  float64       \n",
      " 24  host_verifications                            42451 non-null  object        \n",
      " 25  host_has_profile_pic                          42449 non-null  object        \n",
      " 26  host_identity_verified                        42449 non-null  object        \n",
      " 27  neighbourhood                                 24958 non-null  object        \n",
      " 28  neighbourhood_cleansed                        42451 non-null  object        \n",
      " 29  neighbourhood_group_cleansed                  42451 non-null  object        \n",
      " 30  latitude                                      42451 non-null  float64       \n",
      " 31  longitude                                     42451 non-null  float64       \n",
      " 32  property_type                                 42451 non-null  object        \n",
      " 33  room_type                                     42451 non-null  object        \n",
      " 34  accommodates                                  42451 non-null  int64         \n",
      " 35  bathrooms                                     0 non-null      float64       \n",
      " 36  bathrooms_text                                42410 non-null  object        \n",
      " 37  bedrooms                                      38832 non-null  float64       \n",
      " 38  beds                                          41854 non-null  float64       \n",
      " 39  amenities                                     42451 non-null  object        \n",
      " 40  price                                         42451 non-null  object        \n",
      " 41  minimum_nights                                42451 non-null  int64         \n",
      " 42  maximum_nights                                42451 non-null  int64         \n",
      " 43  minimum_minimum_nights                        42446 non-null  float64       \n",
      " 44  maximum_minimum_nights                        42446 non-null  float64       \n",
      " 45  minimum_maximum_nights                        42446 non-null  float64       \n",
      " 46  maximum_maximum_nights                        42446 non-null  float64       \n",
      " 47  minimum_nights_avg_ntm                        42446 non-null  float64       \n",
      " 48  maximum_nights_avg_ntm                        42446 non-null  float64       \n",
      " 49  calendar_updated                              0 non-null      float64       \n",
      " 50  has_availability                              42451 non-null  object        \n",
      " 51  availability_30                               42451 non-null  int64         \n",
      " 52  availability_60                               42451 non-null  int64         \n",
      " 53  availability_90                               42451 non-null  int64         \n",
      " 54  availability_365                              42451 non-null  int64         \n",
      " 55  calendar_last_scraped                         42451 non-null  datetime64[ns]\n",
      " 56  number_of_reviews                             42451 non-null  int64         \n",
      " 57  number_of_reviews_ltm                         42451 non-null  int64         \n",
      " 58  number_of_reviews_l30d                        42451 non-null  int64         \n",
      " 59  first_review                                  30780 non-null  datetime64[ns]\n",
      " 60  last_review                                   30780 non-null  datetime64[ns]\n",
      " 61  review_scores_rating                          30780 non-null  float64       \n",
      " 62  review_scores_accuracy                        30531 non-null  float64       \n",
      " 63  review_scores_cleanliness                     30533 non-null  float64       \n",
      " 64  review_scores_checkin                         30526 non-null  float64       \n",
      " 65  review_scores_communication                   30532 non-null  float64       \n",
      " 66  review_scores_location                        30524 non-null  float64       \n",
      " 67  review_scores_value                           30522 non-null  float64       \n",
      " 68  license                                       11942 non-null  object        \n",
      " 69  instant_bookable                              42451 non-null  object        \n",
      " 70  calculated_host_listings_count                42451 non-null  int64         \n",
      " 71  calculated_host_listings_count_entire_homes   42451 non-null  int64         \n",
      " 72  calculated_host_listings_count_private_rooms  42451 non-null  int64         \n",
      " 73  calculated_host_listings_count_shared_rooms   42451 non-null  int64         \n",
      " 74  reviews_per_month                             30780 non-null  float64       \n",
      "dtypes: datetime64[ns](5), float64(22), int64(17), object(31)\n",
      "memory usage: 24.3+ MB\n"
     ]
    }
   ],
   "source": [
    "listings.info()"
   ]
  },
  {
   "cell_type": "code",
   "execution_count": 122,
   "id": "4564fdf7",
   "metadata": {},
   "outputs": [
    {
     "data": {
      "text/plain": [
       "Entire rental unit             10390\n",
       "Entire home                     9388\n",
       "Private room in home            6953\n",
       "Entire guesthouse               2330\n",
       "Private room in rental unit     2153\n",
       "                               ...  \n",
       "Shepherd’s hut                     1\n",
       "Riad                               1\n",
       "Entire resort                      1\n",
       "Shared room in dome                1\n",
       "Private room in dome               1\n",
       "Name: property_type, Length: 104, dtype: int64"
      ]
     },
     "execution_count": 122,
     "metadata": {},
     "output_type": "execute_result"
    }
   ],
   "source": [
    "# Property type has a number of values so we will not split by Property type \n",
    "\n",
    "listings.property_type.value_counts()                         "
   ]
  },
  {
   "cell_type": "code",
   "execution_count": 123,
   "id": "60083c7f",
   "metadata": {},
   "outputs": [
    {
     "data": {
      "text/plain": [
       "Entire home/apt    29491\n",
       "Private room       12180\n",
       "Shared room          697\n",
       "Hotel room            83\n",
       "Name: room_type, dtype: int64"
      ]
     },
     "execution_count": 123,
     "metadata": {},
     "output_type": "execute_result"
    }
   ],
   "source": [
    "#Room type has a less cardinality so we will split data by room type \n",
    "\n",
    "listings.room_type.value_counts()"
   ]
  },
  {
   "cell_type": "code",
   "execution_count": 124,
   "id": "2be09aeb",
   "metadata": {},
   "outputs": [],
   "source": [
    "# removing some columns which are either completely blank or not useful to the analysis\n",
    "\n",
    "listings.drop(columns=['id', 'scrape_id', 'last_scraped', 'source', 'bathrooms', 'calendar_updated'], inplace=True)"
   ]
  },
  {
   "cell_type": "code",
   "execution_count": 125,
   "id": "89166494",
   "metadata": {},
   "outputs": [],
   "source": [
    "# Used Zheyu's code to remove dollar sign and , from prices to turn it from object dtype to float.  \n",
    "\n",
    "listings['price'] = listings['price'].replace({r'\\$':''},regex = True).replace({r',':''},regex = True).astype('float')"
   ]
  },
  {
   "cell_type": "code",
   "execution_count": 126,
   "id": "cd5d7dd2",
   "metadata": {},
   "outputs": [
    {
     "name": "stdout",
     "output_type": "stream",
     "text": [
      "<class 'pandas.core.frame.DataFrame'>\n",
      "RangeIndex: 42451 entries, 0 to 42450\n",
      "Data columns (total 69 columns):\n",
      " #   Column                                        Non-Null Count  Dtype         \n",
      "---  ------                                        --------------  -----         \n",
      " 0   listing_url                                   42451 non-null  object        \n",
      " 1   name                                          42449 non-null  object        \n",
      " 2   description                                   41701 non-null  object        \n",
      " 3   neighborhood_overview                         24957 non-null  object        \n",
      " 4   picture_url                                   42451 non-null  object        \n",
      " 5   host_id                                       42451 non-null  int64         \n",
      " 6   host_url                                      42451 non-null  object        \n",
      " 7   host_name                                     42449 non-null  object        \n",
      " 8   host_since                                    42449 non-null  datetime64[ns]\n",
      " 9   host_location                                 33989 non-null  object        \n",
      " 10  host_about                                    24627 non-null  object        \n",
      " 11  host_response_time                            33076 non-null  object        \n",
      " 12  host_response_rate                            33076 non-null  object        \n",
      " 13  host_acceptance_rate                          34108 non-null  object        \n",
      " 14  host_is_superhost                             42292 non-null  object        \n",
      " 15  host_thumbnail_url                            42449 non-null  object        \n",
      " 16  host_picture_url                              42449 non-null  object        \n",
      " 17  host_neighbourhood                            33704 non-null  object        \n",
      " 18  host_listings_count                           42449 non-null  float64       \n",
      " 19  host_total_listings_count                     42449 non-null  float64       \n",
      " 20  host_verifications                            42451 non-null  object        \n",
      " 21  host_has_profile_pic                          42449 non-null  object        \n",
      " 22  host_identity_verified                        42449 non-null  object        \n",
      " 23  neighbourhood                                 24958 non-null  object        \n",
      " 24  neighbourhood_cleansed                        42451 non-null  object        \n",
      " 25  neighbourhood_group_cleansed                  42451 non-null  object        \n",
      " 26  latitude                                      42451 non-null  float64       \n",
      " 27  longitude                                     42451 non-null  float64       \n",
      " 28  property_type                                 42451 non-null  object        \n",
      " 29  room_type                                     42451 non-null  object        \n",
      " 30  accommodates                                  42451 non-null  int64         \n",
      " 31  bathrooms_text                                42410 non-null  object        \n",
      " 32  bedrooms                                      38832 non-null  float64       \n",
      " 33  beds                                          41854 non-null  float64       \n",
      " 34  amenities                                     42451 non-null  object        \n",
      " 35  price                                         42451 non-null  float64       \n",
      " 36  minimum_nights                                42451 non-null  int64         \n",
      " 37  maximum_nights                                42451 non-null  int64         \n",
      " 38  minimum_minimum_nights                        42446 non-null  float64       \n",
      " 39  maximum_minimum_nights                        42446 non-null  float64       \n",
      " 40  minimum_maximum_nights                        42446 non-null  float64       \n",
      " 41  maximum_maximum_nights                        42446 non-null  float64       \n",
      " 42  minimum_nights_avg_ntm                        42446 non-null  float64       \n",
      " 43  maximum_nights_avg_ntm                        42446 non-null  float64       \n",
      " 44  has_availability                              42451 non-null  object        \n",
      " 45  availability_30                               42451 non-null  int64         \n",
      " 46  availability_60                               42451 non-null  int64         \n",
      " 47  availability_90                               42451 non-null  int64         \n",
      " 48  availability_365                              42451 non-null  int64         \n",
      " 49  calendar_last_scraped                         42451 non-null  datetime64[ns]\n",
      " 50  number_of_reviews                             42451 non-null  int64         \n",
      " 51  number_of_reviews_ltm                         42451 non-null  int64         \n",
      " 52  number_of_reviews_l30d                        42451 non-null  int64         \n",
      " 53  first_review                                  30780 non-null  datetime64[ns]\n",
      " 54  last_review                                   30780 non-null  datetime64[ns]\n",
      " 55  review_scores_rating                          30780 non-null  float64       \n",
      " 56  review_scores_accuracy                        30531 non-null  float64       \n",
      " 57  review_scores_cleanliness                     30533 non-null  float64       \n",
      " 58  review_scores_checkin                         30526 non-null  float64       \n",
      " 59  review_scores_communication                   30532 non-null  float64       \n",
      " 60  review_scores_location                        30524 non-null  float64       \n",
      " 61  review_scores_value                           30522 non-null  float64       \n",
      " 62  license                                       11942 non-null  object        \n",
      " 63  instant_bookable                              42451 non-null  object        \n",
      " 64  calculated_host_listings_count                42451 non-null  int64         \n",
      " 65  calculated_host_listings_count_entire_homes   42451 non-null  int64         \n",
      " 66  calculated_host_listings_count_private_rooms  42451 non-null  int64         \n",
      " 67  calculated_host_listings_count_shared_rooms   42451 non-null  int64         \n",
      " 68  reviews_per_month                             30780 non-null  float64       \n",
      "dtypes: datetime64[ns](4), float64(21), int64(15), object(29)\n",
      "memory usage: 22.3+ MB\n"
     ]
    }
   ],
   "source": [
    "listings.info()"
   ]
  },
  {
   "cell_type": "code",
   "execution_count": 127,
   "id": "7b71fc4e",
   "metadata": {},
   "outputs": [],
   "source": [
    "df_null = pd.DataFrame(listings.isna().sum()).reset_index()"
   ]
  },
  {
   "cell_type": "code",
   "execution_count": 128,
   "id": "ac9d6e0c",
   "metadata": {},
   "outputs": [],
   "source": [
    "df_null.columns = ['Column name', 'Number of missings']"
   ]
  },
  {
   "cell_type": "code",
   "execution_count": 130,
   "id": "2fb2ea3a",
   "metadata": {},
   "outputs": [],
   "source": [
    "# 22 coulms out of 69 have missing values so we need to work on that \n",
    "\n",
    "df_null.to_csv(file_path+'null values in colums.csv')"
   ]
  },
  {
   "cell_type": "code",
   "execution_count": 131,
   "id": "ba000417",
   "metadata": {},
   "outputs": [
    {
     "data": {
      "text/plain": [
       "0                                                      NaN\n",
       "1                                                      NaN\n",
       "2        No need to fly away from Los Angeles for a get...\n",
       "3        Our property is close to downtown San Pedro, t...\n",
       "4                                                      NaN\n",
       "                               ...                        \n",
       "42446    The neighborhood is in a residential area and ...\n",
       "42447    The house is in a desirable residential family...\n",
       "42448                                                  NaN\n",
       "42449    We are 16 Miles to downtown LA, 24 miles to Di...\n",
       "42450                                                  NaN\n",
       "Name: neighborhood_overview, Length: 42451, dtype: object"
      ]
     },
     "execution_count": 131,
     "metadata": {},
     "output_type": "execute_result"
    }
   ],
   "source": [
    "listings.neighborhood_overview"
   ]
  },
  {
   "cell_type": "code",
   "execution_count": 132,
   "id": "606c6e47",
   "metadata": {},
   "outputs": [
    {
     "data": {
      "text/html": [
       "<div>\n",
       "<style scoped>\n",
       "    .dataframe tbody tr th:only-of-type {\n",
       "        vertical-align: middle;\n",
       "    }\n",
       "\n",
       "    .dataframe tbody tr th {\n",
       "        vertical-align: top;\n",
       "    }\n",
       "\n",
       "    .dataframe thead th {\n",
       "        text-align: right;\n",
       "    }\n",
       "</style>\n",
       "<table border=\"1\" class=\"dataframe\">\n",
       "  <thead>\n",
       "    <tr style=\"text-align: right;\">\n",
       "      <th></th>\n",
       "      <th>listing_url</th>\n",
       "      <th>name</th>\n",
       "      <th>description</th>\n",
       "      <th>neighborhood_overview</th>\n",
       "      <th>picture_url</th>\n",
       "      <th>host_id</th>\n",
       "      <th>host_url</th>\n",
       "      <th>host_name</th>\n",
       "      <th>host_since</th>\n",
       "      <th>host_location</th>\n",
       "      <th>...</th>\n",
       "      <th>review_scores_communication</th>\n",
       "      <th>review_scores_location</th>\n",
       "      <th>review_scores_value</th>\n",
       "      <th>license</th>\n",
       "      <th>instant_bookable</th>\n",
       "      <th>calculated_host_listings_count</th>\n",
       "      <th>calculated_host_listings_count_entire_homes</th>\n",
       "      <th>calculated_host_listings_count_private_rooms</th>\n",
       "      <th>calculated_host_listings_count_shared_rooms</th>\n",
       "      <th>reviews_per_month</th>\n",
       "    </tr>\n",
       "  </thead>\n",
       "  <tbody>\n",
       "    <tr>\n",
       "      <th>11232</th>\n",
       "      <td>https://www.airbnb.com/rooms/10034835</td>\n",
       "      <td>Large private bedroom in Palms</td>\n",
       "      <td>Cozy private bedroom in a 2 Bedroom/2Bathroom ...</td>\n",
       "      <td>NaN</td>\n",
       "      <td>https://a0.muscache.com/pictures/03b70113-c47f...</td>\n",
       "      <td>23571738</td>\n",
       "      <td>https://www.airbnb.com/users/show/23571738</td>\n",
       "      <td>NaN</td>\n",
       "      <td>NaT</td>\n",
       "      <td>NaN</td>\n",
       "      <td>...</td>\n",
       "      <td>NaN</td>\n",
       "      <td>NaN</td>\n",
       "      <td>NaN</td>\n",
       "      <td>NaN</td>\n",
       "      <td>f</td>\n",
       "      <td>1</td>\n",
       "      <td>0</td>\n",
       "      <td>1</td>\n",
       "      <td>0</td>\n",
       "      <td>0.02</td>\n",
       "    </tr>\n",
       "    <tr>\n",
       "      <th>35307</th>\n",
       "      <td>https://www.airbnb.com/rooms/6900415</td>\n",
       "      <td>Quiet, Cozy West LA House</td>\n",
       "      <td>A beautiful, quiet little house with a great b...</td>\n",
       "      <td>Walking distance to coffee shops and restauran...</td>\n",
       "      <td>https://a0.muscache.com/pictures/87362346/ebd8...</td>\n",
       "      <td>36159573</td>\n",
       "      <td>https://www.airbnb.com/users/show/36159573</td>\n",
       "      <td>NaN</td>\n",
       "      <td>NaT</td>\n",
       "      <td>NaN</td>\n",
       "      <td>...</td>\n",
       "      <td>NaN</td>\n",
       "      <td>NaN</td>\n",
       "      <td>NaN</td>\n",
       "      <td>NaN</td>\n",
       "      <td>f</td>\n",
       "      <td>1</td>\n",
       "      <td>1</td>\n",
       "      <td>0</td>\n",
       "      <td>0</td>\n",
       "      <td>NaN</td>\n",
       "    </tr>\n",
       "  </tbody>\n",
       "</table>\n",
       "<p>2 rows × 69 columns</p>\n",
       "</div>"
      ],
      "text/plain": [
       "                                 listing_url                            name  \\\n",
       "11232  https://www.airbnb.com/rooms/10034835  Large private bedroom in Palms   \n",
       "35307   https://www.airbnb.com/rooms/6900415       Quiet, Cozy West LA House   \n",
       "\n",
       "                                             description  \\\n",
       "11232  Cozy private bedroom in a 2 Bedroom/2Bathroom ...   \n",
       "35307  A beautiful, quiet little house with a great b...   \n",
       "\n",
       "                                   neighborhood_overview  \\\n",
       "11232                                                NaN   \n",
       "35307  Walking distance to coffee shops and restauran...   \n",
       "\n",
       "                                             picture_url   host_id  \\\n",
       "11232  https://a0.muscache.com/pictures/03b70113-c47f...  23571738   \n",
       "35307  https://a0.muscache.com/pictures/87362346/ebd8...  36159573   \n",
       "\n",
       "                                         host_url host_name host_since  \\\n",
       "11232  https://www.airbnb.com/users/show/23571738       NaN        NaT   \n",
       "35307  https://www.airbnb.com/users/show/36159573       NaN        NaT   \n",
       "\n",
       "      host_location  ... review_scores_communication review_scores_location  \\\n",
       "11232           NaN  ...                         NaN                    NaN   \n",
       "35307           NaN  ...                         NaN                    NaN   \n",
       "\n",
       "      review_scores_value license instant_bookable  \\\n",
       "11232                 NaN     NaN                f   \n",
       "35307                 NaN     NaN                f   \n",
       "\n",
       "      calculated_host_listings_count  \\\n",
       "11232                              1   \n",
       "35307                              1   \n",
       "\n",
       "      calculated_host_listings_count_entire_homes  \\\n",
       "11232                                           0   \n",
       "35307                                           1   \n",
       "\n",
       "      calculated_host_listings_count_private_rooms  \\\n",
       "11232                                            1   \n",
       "35307                                            0   \n",
       "\n",
       "       calculated_host_listings_count_shared_rooms  reviews_per_month  \n",
       "11232                                            0               0.02  \n",
       "35307                                            0                NaN  \n",
       "\n",
       "[2 rows x 69 columns]"
      ]
     },
     "execution_count": 132,
     "metadata": {},
     "output_type": "execute_result"
    }
   ],
   "source": [
    "listings[listings.host_name.isna()]\n",
    "\n",
    "# Webpages of thes two hosts donot exist. "
   ]
  },
  {
   "cell_type": "code",
   "execution_count": 133,
   "id": "a275bc2a",
   "metadata": {},
   "outputs": [
    {
     "data": {
      "text/plain": [
       "Exempt - This listing is a transient occupancy residential structure    2419\n",
       "Exempt - This listing is a bed and breakfast                             470\n",
       "Exempt                                                                   439\n",
       "Exempt - This listing is a hotel or motel                                246\n",
       "HSR19-004485                                                              26\n",
       "                                                                        ... \n",
       "HSR21-003258                                                               1\n",
       "NRP21-00283                                                                1\n",
       "HSR21-003343                                                               1\n",
       "HSR19-005452                                                               1\n",
       "HSR23-000454                                                               1\n",
       "Name: license, Length: 6766, dtype: int64"
      ]
     },
     "execution_count": 133,
     "metadata": {},
     "output_type": "execute_result"
    }
   ],
   "source": [
    "listings.license.value_counts()"
   ]
  },
  {
   "cell_type": "code",
   "execution_count": 134,
   "id": "1bdd7f0f",
   "metadata": {},
   "outputs": [
    {
     "data": {
      "text/plain": [
       "<AxesSubplot: xlabel='room_type', ylabel='price'>"
      ]
     },
     "execution_count": 134,
     "metadata": {},
     "output_type": "execute_result"
    },
    {
     "data": {
      "image/png": "[encoded data removed]",
      "text/plain": [
       "<Figure size 640x480 with 1 Axes>"
      ]
     },
     "metadata": {},
     "output_type": "display_data"
    }
   ],
   "source": [
    "# create grouped boxplot \n",
    "sns.boxplot(x = listings.room_type,\n",
    "            y = listings.price,\n",
    "            )\n",
    "# Clearly Entire home apt have higher price than any other room type."
   ]
  },
  {
   "cell_type": "code",
   "execution_count": 139,
   "id": "e2c4a840",
   "metadata": {},
   "outputs": [],
   "source": [
    "# Creating a license colum to check effect on price \n",
    "# Have to also include extemped in 0 category \n",
    "\n",
    "\n",
    "listings['license_yn']= pd.Series(np.where(((listings.license.isna()) | (listings.license.str.lower().str.contains('exempt', regex=True))),0,1))"
   ]
  },
  {
   "cell_type": "code",
   "execution_count": 141,
   "id": "c1bc77be",
   "metadata": {},
   "outputs": [
    {
     "data": {
      "text/plain": [
       "0    34085\n",
       "1     8366\n",
       "Name: license_yn, dtype: int64"
      ]
     },
     "execution_count": 141,
     "metadata": {},
     "output_type": "execute_result"
    }
   ],
   "source": [
    "listings.license_yn.value_counts()"
   ]
  },
  {
   "cell_type": "code",
   "execution_count": 142,
   "id": "f98ab32a",
   "metadata": {},
   "outputs": [],
   "source": [
    "# Creating datasets based on different room types: \n",
    "\n",
    "df_private= listings[listings.room_type=='Private room']\n",
    "df_entire= listings[listings.room_type=='Entire home/apt']\n",
    "df_shared= listings[listings.room_type=='Shared room']\n",
    "df_hotel= listings[listings.room_type=='Hotel room']"
   ]
  },
  {
   "cell_type": "code",
   "execution_count": 137,
   "id": "a6db6a49",
   "metadata": {},
   "outputs": [
    {
     "data": {
      "text/plain": [
       "<AxesSubplot: xlabel='license_yn', ylabel='price'>"
      ]
     },
     "execution_count": 137,
     "metadata": {},
     "output_type": "execute_result"
    },
    {
     "data": {
      "image/png": "[encoded data removed]",
      "text/plain": [
       "<Figure size 640x480 with 1 Axes>"
      ]
     },
     "metadata": {},
     "output_type": "display_data"
    }
   ],
   "source": [
    "sns.boxplot(x=df_private.license_yn, y=df_private.price)"
   ]
  },
  {
   "cell_type": "code",
   "execution_count": 144,
   "id": "2d7e6dfa",
   "metadata": {},
   "outputs": [
    {
     "data": {
      "text/plain": [
       "<AxesSubplot: xlabel='license_yn', ylabel='price'>"
      ]
     },
     "execution_count": 144,
     "metadata": {},
     "output_type": "execute_result"
    },
    {
     "data": {
      "image/png": "[encoded data removed]",
      "text/plain": [
       "<Figure size 640x480 with 1 Axes>"
      ]
     },
     "metadata": {},
     "output_type": "display_data"
    }
   ],
   "source": [
    "sns.boxplot(x=df_hotel.license_yn, y=df_hotel.price)"
   ]
  },
  {
   "cell_type": "code",
   "execution_count": 145,
   "id": "4425ced6",
   "metadata": {},
   "outputs": [
    {
     "data": {
      "text/plain": [
       "<AxesSubplot: xlabel='license_yn', ylabel='price'>"
      ]
     },
     "execution_count": 145,
     "metadata": {},
     "output_type": "execute_result"
    },
    {
     "data": {
      "image/png": "[encoded data removed]",
      "text/plain": [
       "<Figure size 640x480 with 1 Axes>"
      ]
     },
     "metadata": {},
     "output_type": "display_data"
    }
   ],
   "source": [
    "sns.boxplot(x=df_shared.license_yn, y=df_shared.price)"
   ]
  },
  {
   "cell_type": "code",
   "execution_count": 147,
   "id": "6b5f786f",
   "metadata": {},
   "outputs": [
    {
     "data": {
      "text/plain": [
       "<AxesSubplot: xlabel='license_yn', ylabel='price'>"
      ]
     },
     "execution_count": 147,
     "metadata": {},
     "output_type": "execute_result"
    },
    {
     "data": {
      "image/png": "[encoded data removed]",
      "text/plain": [
       "<Figure size 640x480 with 1 Axes>"
      ]
     },
     "metadata": {},
     "output_type": "display_data"
    }
   ],
   "source": [
    "sns.boxplot(x=df_entire.license_yn, y=df_entire.price)"
   ]
  },
  {
   "cell_type": "code",
   "execution_count": 148,
   "id": "2480ed38",
   "metadata": {},
   "outputs": [
    {
     "data": {
      "text/plain": [
       "0.05261421244202871"
      ]
     },
     "execution_count": 148,
     "metadata": {},
     "output_type": "execute_result"
    }
   ],
   "source": [
    "# Correlation between two licenes and prices\n",
    "\n",
    "listings.license_yn.corr(listings.price)"
   ]
  },
  {
   "cell_type": "code",
   "execution_count": 146,
   "id": "eb89c29b",
   "metadata": {},
   "outputs": [],
   "source": [
    "# Important columns for pricing based on seller perspective: \n"
   ]
  },
  {
   "cell_type": "code",
   "execution_count": null,
   "id": "b83b7912",
   "metadata": {},
   "outputs": [],
   "source": []
  },
  {
   "cell_type": "code",
   "execution_count": null,
   "id": "261c18e3",
   "metadata": {},
   "outputs": [],
   "source": []
  }
 ],
 "metadata": {
  "kernelspec": {
   "display_name": "Python 3 (ipykernel)",
   "language": "python",
   "name": "python3"
  },
  "language_info": {
   "codemirror_mode": {
    "name": "ipython",
    "version": 3
   },
   "file_extension": ".py",
   "mimetype": "text/x-python",
   "name": "python",
   "nbconvert_exporter": "python",
   "pygments_lexer": "ipython3",
   "version": "3.10.9"
  }
 },
 "nbformat": 4,
 "nbformat_minor": 5
}
