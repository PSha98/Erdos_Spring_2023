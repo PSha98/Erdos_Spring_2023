{
 "cells": [
  {
   "attachments": {},
   "cell_type": "markdown",
   "id": "514bf611",
   "metadata": {},
   "source": [
    "Work in Progress. Will be updated by Friday. Zheyu Ni\n",
    "\n",
    "This file cleans the Airbnb data. \n",
    "1. deleted $ sign and comma in price.\n",
    "2. visualize price distribution base on different features\n",
    "3. Price range (0, 800) covers 95\\% of the listings\n",
    "4. create a dummy for the listing without review data\n",
    "5. check how many listings have hotel/motel in name and agree with their room_type\n",
    "\n",
    "The remaing data file contains \\% of the raw data"
   ]
  },
  {
   "cell_type": "code",
   "execution_count": 287,
   "id": "4674846e",
   "metadata": {},
   "outputs": [],
   "source": [
    "import pandas as pd\n",
    "import numpy as np\n",
    "import re\n",
    "import matplotlib.pyplot as plt\n",
    "from sklearn.linear_model import LinearRegression\n",
    "import statsmodels.api as sm\n",
    "import seaborn as sns\n",
    "import matplotlib.dates as mdates\n",
    "from datetime import date\n",
    "from sklearn.model_selection import train_test_split\n",
    "import plotly.graph_objects as go"
   ]
  },
  {
   "cell_type": "code",
   "execution_count": 288,
   "id": "4289dd53",
   "metadata": {},
   "outputs": [],
   "source": [
    "df = pd.read_csv('../listings_mar7_2023.csv')\n"
   ]
  },
  {
   "cell_type": "code",
   "execution_count": 289,
   "id": "b99231a4",
   "metadata": {},
   "outputs": [
    {
     "data": {
      "text/plain": [
       "0         399.0\n",
       "1          46.0\n",
       "2         408.0\n",
       "3          80.0\n",
       "4        2138.0\n",
       "          ...  \n",
       "42446      40.0\n",
       "42447      48.0\n",
       "42448      46.0\n",
       "42449      68.0\n",
       "42450      48.0\n",
       "Name: price, Length: 42451, dtype: float64"
      ]
     },
     "execution_count": 289,
     "metadata": {},
     "output_type": "execute_result"
    }
   ],
   "source": [
    "#data cleaning. Price data has $ sign. The following code extracts the number\n",
    "df['price'] = df['price'].replace({r'\\$':''},regex = True).replace({r',':''},regex = True).astype('float')\n",
    "df.price"
   ]
  },
  {
   "cell_type": "code",
   "execution_count": 290,
   "id": "41081024",
   "metadata": {},
   "outputs": [
    {
     "name": "stdout",
     "output_type": "stream",
     "text": [
      "Entire home/apt    29491\n",
      "Private room       12180\n",
      "Shared room          697\n",
      "Hotel room            83\n",
      "Name: room_type, dtype: int64\n"
     ]
    }
   ],
   "source": [
    "print(df['room_type'].value_counts())"
   ]
  },
  {
   "cell_type": "code",
   "execution_count": 291,
   "id": "77ff5897",
   "metadata": {},
   "outputs": [],
   "source": [
    "df_practice = df.copy()\n",
    "df_practice['name'] = df_practice['name'].str.lower()\n",
    "df_practice.loc[df_practice['name'].str.contains('motel',regex=False) == True, 'room_type'] = 'Hotel room'\n",
    "df_practice.loc[df_practice['name'].str.contains('hotel',regex=False) == True, 'room_type'] = 'Hotel room'\n",
    "df['room_type'] = df_practice['room_type']\n",
    "#df_practice.dropna()"
   ]
  },
  {
   "cell_type": "code",
   "execution_count": 292,
   "id": "18cca2aa",
   "metadata": {},
   "outputs": [
    {
     "name": "stdout",
     "output_type": "stream",
     "text": [
      "Entire home/apt    29293\n",
      "Private room       12051\n",
      "Shared room          696\n",
      "Hotel room           411\n",
      "Name: room_type, dtype: int64\n"
     ]
    }
   ],
   "source": [
    "print(df['room_type'].value_counts())"
   ]
  },
  {
   "cell_type": "code",
   "execution_count": 293,
   "id": "4f833453",
   "metadata": {},
   "outputs": [
    {
     "data": {
      "text/html": [
       "<div>\n",
       "<style scoped>\n",
       "    .dataframe tbody tr th:only-of-type {\n",
       "        vertical-align: middle;\n",
       "    }\n",
       "\n",
       "    .dataframe tbody tr th {\n",
       "        vertical-align: top;\n",
       "    }\n",
       "\n",
       "    .dataframe thead th {\n",
       "        text-align: right;\n",
       "    }\n",
       "</style>\n",
       "<table border=\"1\" class=\"dataframe\">\n",
       "  <thead>\n",
       "    <tr style=\"text-align: right;\">\n",
       "      <th></th>\n",
       "      <th>id</th>\n",
       "      <th>listing_url</th>\n",
       "      <th>scrape_id</th>\n",
       "      <th>last_scraped</th>\n",
       "      <th>source</th>\n",
       "      <th>name</th>\n",
       "      <th>description</th>\n",
       "      <th>neighborhood_overview</th>\n",
       "      <th>picture_url</th>\n",
       "      <th>host_id</th>\n",
       "      <th>...</th>\n",
       "      <th>review_scores_communication</th>\n",
       "      <th>review_scores_location</th>\n",
       "      <th>review_scores_value</th>\n",
       "      <th>license</th>\n",
       "      <th>instant_bookable</th>\n",
       "      <th>calculated_host_listings_count</th>\n",
       "      <th>calculated_host_listings_count_entire_homes</th>\n",
       "      <th>calculated_host_listings_count_private_rooms</th>\n",
       "      <th>calculated_host_listings_count_shared_rooms</th>\n",
       "      <th>reviews_per_month</th>\n",
       "    </tr>\n",
       "  </thead>\n",
       "  <tbody>\n",
       "    <tr>\n",
       "      <th>28236</th>\n",
       "      <td>40561079</td>\n",
       "      <td>https://www.airbnb.com/rooms/40561079</td>\n",
       "      <td>20230307175359</td>\n",
       "      <td>2023-03-08</td>\n",
       "      <td>previous scrape</td>\n",
       "      <td>the line hotel</td>\n",
       "      <td>NaN</td>\n",
       "      <td>NaN</td>\n",
       "      <td>https://a0.muscache.com/pictures/3a526f1b-5421...</td>\n",
       "      <td>272064927</td>\n",
       "      <td>...</td>\n",
       "      <td>4.63</td>\n",
       "      <td>4.5</td>\n",
       "      <td>4.0</td>\n",
       "      <td>NaN</td>\n",
       "      <td>f</td>\n",
       "      <td>1</td>\n",
       "      <td>0</td>\n",
       "      <td>0</td>\n",
       "      <td>0</td>\n",
       "      <td>0.19</td>\n",
       "    </tr>\n",
       "    <tr>\n",
       "      <th>2295</th>\n",
       "      <td>750713851217165476</td>\n",
       "      <td>https://www.airbnb.com/rooms/750713851217165476</td>\n",
       "      <td>20230307175359</td>\n",
       "      <td>2023-03-08</td>\n",
       "      <td>city scrape</td>\n",
       "      <td>la spacious hotel style unit</td>\n",
       "      <td>LA Suites is nestled in the heart of Beverly H...</td>\n",
       "      <td>NaN</td>\n",
       "      <td>https://a0.muscache.com/pictures/miso/Hosting-...</td>\n",
       "      <td>484477694</td>\n",
       "      <td>...</td>\n",
       "      <td>NaN</td>\n",
       "      <td>NaN</td>\n",
       "      <td>NaN</td>\n",
       "      <td>NaN</td>\n",
       "      <td>t</td>\n",
       "      <td>54</td>\n",
       "      <td>54</td>\n",
       "      <td>0</td>\n",
       "      <td>0</td>\n",
       "      <td>NaN</td>\n",
       "    </tr>\n",
       "  </tbody>\n",
       "</table>\n",
       "<p>2 rows × 75 columns</p>\n",
       "</div>"
      ],
      "text/plain": [
       "                       id                                      listing_url  \\\n",
       "28236            40561079            https://www.airbnb.com/rooms/40561079   \n",
       "2295   750713851217165476  https://www.airbnb.com/rooms/750713851217165476   \n",
       "\n",
       "            scrape_id last_scraped           source  \\\n",
       "28236  20230307175359   2023-03-08  previous scrape   \n",
       "2295   20230307175359   2023-03-08      city scrape   \n",
       "\n",
       "                               name  \\\n",
       "28236                the line hotel   \n",
       "2295   la spacious hotel style unit   \n",
       "\n",
       "                                             description  \\\n",
       "28236                                                NaN   \n",
       "2295   LA Suites is nestled in the heart of Beverly H...   \n",
       "\n",
       "      neighborhood_overview  \\\n",
       "28236                   NaN   \n",
       "2295                    NaN   \n",
       "\n",
       "                                             picture_url    host_id  ...  \\\n",
       "28236  https://a0.muscache.com/pictures/3a526f1b-5421...  272064927  ...   \n",
       "2295   https://a0.muscache.com/pictures/miso/Hosting-...  484477694  ...   \n",
       "\n",
       "      review_scores_communication review_scores_location review_scores_value  \\\n",
       "28236                        4.63                    4.5                 4.0   \n",
       "2295                          NaN                    NaN                 NaN   \n",
       "\n",
       "      license instant_bookable calculated_host_listings_count  \\\n",
       "28236     NaN                f                              1   \n",
       "2295      NaN                t                             54   \n",
       "\n",
       "      calculated_host_listings_count_entire_homes  \\\n",
       "28236                                           0   \n",
       "2295                                           54   \n",
       "\n",
       "      calculated_host_listings_count_private_rooms  \\\n",
       "28236                                            0   \n",
       "2295                                             0   \n",
       "\n",
       "      calculated_host_listings_count_shared_rooms reviews_per_month  \n",
       "28236                                           0              0.19  \n",
       "2295                                            0               NaN  \n",
       "\n",
       "[2 rows x 75 columns]"
      ]
     },
     "execution_count": 293,
     "metadata": {},
     "output_type": "execute_result"
    }
   ],
   "source": [
    "df_practice.loc[df_practice['name'].str.contains('hotel',regex=False) == True].sample(2)"
   ]
  },
  {
   "cell_type": "code",
   "execution_count": 294,
   "id": "6f1c974f",
   "metadata": {},
   "outputs": [
    {
     "data": {
      "text/html": [
       "<div>\n",
       "<style scoped>\n",
       "    .dataframe tbody tr th:only-of-type {\n",
       "        vertical-align: middle;\n",
       "    }\n",
       "\n",
       "    .dataframe tbody tr th {\n",
       "        vertical-align: top;\n",
       "    }\n",
       "\n",
       "    .dataframe thead th {\n",
       "        text-align: right;\n",
       "    }\n",
       "</style>\n",
       "<table border=\"1\" class=\"dataframe\">\n",
       "  <thead>\n",
       "    <tr style=\"text-align: right;\">\n",
       "      <th></th>\n",
       "      <th>id</th>\n",
       "      <th>listing_url</th>\n",
       "      <th>scrape_id</th>\n",
       "      <th>last_scraped</th>\n",
       "      <th>source</th>\n",
       "      <th>name</th>\n",
       "      <th>description</th>\n",
       "      <th>neighborhood_overview</th>\n",
       "      <th>picture_url</th>\n",
       "      <th>host_id</th>\n",
       "      <th>...</th>\n",
       "      <th>review_scores_communication</th>\n",
       "      <th>review_scores_location</th>\n",
       "      <th>review_scores_value</th>\n",
       "      <th>license</th>\n",
       "      <th>instant_bookable</th>\n",
       "      <th>calculated_host_listings_count</th>\n",
       "      <th>calculated_host_listings_count_entire_homes</th>\n",
       "      <th>calculated_host_listings_count_private_rooms</th>\n",
       "      <th>calculated_host_listings_count_shared_rooms</th>\n",
       "      <th>reviews_per_month</th>\n",
       "    </tr>\n",
       "  </thead>\n",
       "  <tbody>\n",
       "    <tr>\n",
       "      <th>0</th>\n",
       "      <td>777451666060243581</td>\n",
       "      <td>https://www.airbnb.com/rooms/777451666060243581</td>\n",
       "      <td>20230307175359</td>\n",
       "      <td>2023-03-07</td>\n",
       "      <td>city scrape</td>\n",
       "      <td>Family oriented home</td>\n",
       "      <td>Relax with the whole family at this peaceful p...</td>\n",
       "      <td>NaN</td>\n",
       "      <td>https://a0.muscache.com/pictures/miso/Hosting-...</td>\n",
       "      <td>490709958</td>\n",
       "      <td>...</td>\n",
       "      <td>NaN</td>\n",
       "      <td>NaN</td>\n",
       "      <td>NaN</td>\n",
       "      <td>NaN</td>\n",
       "      <td>f</td>\n",
       "      <td>1</td>\n",
       "      <td>0</td>\n",
       "      <td>1</td>\n",
       "      <td>0</td>\n",
       "      <td>NaN</td>\n",
       "    </tr>\n",
       "    <tr>\n",
       "      <th>1</th>\n",
       "      <td>698097753730921190</td>\n",
       "      <td>https://www.airbnb.com/rooms/698097753730921190</td>\n",
       "      <td>20230307175359</td>\n",
       "      <td>2023-03-07</td>\n",
       "      <td>city scrape</td>\n",
       "      <td>方便易居驿站</td>\n",
       "      <td>NaN</td>\n",
       "      <td>NaN</td>\n",
       "      <td>https://a0.muscache.com/pictures/d5afff58-d576...</td>\n",
       "      <td>444692513</td>\n",
       "      <td>...</td>\n",
       "      <td>5.0</td>\n",
       "      <td>5.0</td>\n",
       "      <td>4.4</td>\n",
       "      <td>NaN</td>\n",
       "      <td>f</td>\n",
       "      <td>4</td>\n",
       "      <td>0</td>\n",
       "      <td>4</td>\n",
       "      <td>0</td>\n",
       "      <td>0.86</td>\n",
       "    </tr>\n",
       "  </tbody>\n",
       "</table>\n",
       "<p>2 rows × 75 columns</p>\n",
       "</div>"
      ],
      "text/plain": [
       "                   id                                      listing_url  \\\n",
       "0  777451666060243581  https://www.airbnb.com/rooms/777451666060243581   \n",
       "1  698097753730921190  https://www.airbnb.com/rooms/698097753730921190   \n",
       "\n",
       "        scrape_id last_scraped       source                  name  \\\n",
       "0  20230307175359   2023-03-07  city scrape  Family oriented home   \n",
       "1  20230307175359   2023-03-07  city scrape                方便易居驿站   \n",
       "\n",
       "                                         description neighborhood_overview  \\\n",
       "0  Relax with the whole family at this peaceful p...                   NaN   \n",
       "1                                                NaN                   NaN   \n",
       "\n",
       "                                         picture_url    host_id  ...  \\\n",
       "0  https://a0.muscache.com/pictures/miso/Hosting-...  490709958  ...   \n",
       "1  https://a0.muscache.com/pictures/d5afff58-d576...  444692513  ...   \n",
       "\n",
       "  review_scores_communication review_scores_location review_scores_value  \\\n",
       "0                         NaN                    NaN                 NaN   \n",
       "1                         5.0                    5.0                 4.4   \n",
       "\n",
       "  license instant_bookable calculated_host_listings_count  \\\n",
       "0     NaN                f                              1   \n",
       "1     NaN                f                              4   \n",
       "\n",
       "  calculated_host_listings_count_entire_homes  \\\n",
       "0                                           0   \n",
       "1                                           0   \n",
       "\n",
       "  calculated_host_listings_count_private_rooms  \\\n",
       "0                                            1   \n",
       "1                                            4   \n",
       "\n",
       "  calculated_host_listings_count_shared_rooms reviews_per_month  \n",
       "0                                           0               NaN  \n",
       "1                                           0              0.86  \n",
       "\n",
       "[2 rows x 75 columns]"
      ]
     },
     "execution_count": 294,
     "metadata": {},
     "output_type": "execute_result"
    }
   ],
   "source": [
    "df.head(2)\n",
    "\n",
    "#columns that are interesting:\n",
    "# latitude\n",
    "# longitude\n",
    "# room_type\n",
    "# property_type\n",
    "# accommodates\n",
    "# bathrooms_text\n",
    "# number_of_reviews\n",
    "# first_review\n",
    "# last_reviews\n",
    "# reviews_per_month\n"
   ]
  },
  {
   "cell_type": "code",
   "execution_count": 295,
   "id": "8391d852",
   "metadata": {},
   "outputs": [
    {
     "data": {
      "text/plain": [
       "0     399.0\n",
       "1      46.0\n",
       "2     408.0\n",
       "3      80.0\n",
       "4    2138.0\n",
       "5      55.0\n",
       "6      60.0\n",
       "7      55.0\n",
       "8     129.0\n",
       "9     107.0\n",
       "Name: price, dtype: float64"
      ]
     },
     "execution_count": 295,
     "metadata": {},
     "output_type": "execute_result"
    }
   ],
   "source": [
    "#column_names =[df.columns,df.dtypes]\n",
    "#list(column_names)\n",
    "\n",
    "df.price[0:10]"
   ]
  },
  {
   "cell_type": "code",
   "execution_count": 296,
   "id": "bff6dbc2",
   "metadata": {},
   "outputs": [],
   "source": [
    "df_priv = df[df['room_type']=='Private room'].copy()\n",
    "df_homeapt = df[df['room_type']=='Entire home/apt'].copy()\n",
    "df_share = df[df['room_type']=='Shared room'].copy()\n",
    "df_hotel = df[df['room_type']=='Hotel room'].copy()"
   ]
  },
  {
   "cell_type": "code",
   "execution_count": 297,
   "id": "a087cfd8",
   "metadata": {},
   "outputs": [
    {
     "data": {
      "text/plain": [
       "33.33956"
      ]
     },
     "execution_count": 297,
     "metadata": {},
     "output_type": "execute_result"
    }
   ],
   "source": [
    "df_priv['latitude'].min()"
   ]
  },
  {
   "cell_type": "code",
   "execution_count": 298,
   "id": "4c6d7549",
   "metadata": {},
   "outputs": [
    {
     "name": "stdout",
     "output_type": "stream",
     "text": [
      "Range of latitude: 33.33956 to 34.81113\n",
      "Range of longitude: -118.89972464431123 to -117.6534\n",
      "Num of bins for latitude: 102\n",
      "Num of bins for longitude: 68\n"
     ]
    }
   ],
   "source": [
    "print(f\"Range of latitude: {df_priv['latitude'].min()} to {df_priv['latitude'].max()}\")\n",
    "print(f\"Range of longitude: {df_priv['longitude'].min()} to {df_priv['longitude'].max()}\")\n",
    "\n",
    "#https://www.usgs.gov/faqs/how-much-distance-does-a-degree-minute-and-second-cover-your-maps\n",
    "#One degree of latitude equals approximately 364,000 feet (69 miles), one minute equals 6,068 feet (1.15 miles), and one-second equals 101 feet. \n",
    "ratio_miles_to_onelat = 69\n",
    "desired_lat_mile_per_bin = 1 #i want each bin to represent x miles\n",
    "diff_in_lats = df_priv['latitude'].max() - df_priv['latitude'].min()\n",
    "diff_in_lats_in_miles = diff_in_lats*ratio_miles_to_onelat\n",
    "bins_lats = int(np.round(diff_in_lats_in_miles/desired_lat_mile_per_bin))\n",
    "print(f\"Num of bins for latitude: {bins_lats}\")\n",
    "\n",
    "\n",
    "#One-degree of longitude equals 288,200 feet (54.6 miles), one minute equals 4,800 feet (0.91 mile), and one second equals 80 feet.\n",
    "ratio_miles_to_onelong = 54.6\n",
    "desired_long_mile_per_bin = 1 #i want each bin to represent x miles\n",
    "diff_in_long = np.abs(df_priv['longitude'].max() - df_priv['longitude'].min())\n",
    "diff_in_long_in_miles = diff_in_long*ratio_miles_to_onelong\n",
    "bins_long = int(np.round(diff_in_long_in_miles/desired_long_mile_per_bin))\n",
    "print(f\"Num of bins for longitude: {bins_long}\")\n",
    "\n"
   ]
  },
  {
   "cell_type": "code",
   "execution_count": 299,
   "id": "55b08821",
   "metadata": {},
   "outputs": [],
   "source": [
    "#you have to add 1 to the bins because the very 1st element in the list is exclusive \n",
    "lats_bins_represent = np.linspace(df_priv['latitude'].min(),df_priv['latitude'].max(),bins_lats+1)\n",
    "longs_bins_represent = np.linspace(df_priv['longitude'].min(),df_priv['longitude'].max(),bins_long+1)\n",
    "\n",
    "# print(lats_bins_represent)\n",
    "# print(longs_bins_represent)"
   ]
  },
  {
   "cell_type": "code",
   "execution_count": 300,
   "id": "aad6dacb",
   "metadata": {},
   "outputs": [
    {
     "name": "stdout",
     "output_type": "stream",
     "text": [
      "1781.0\n"
     ]
    }
   ],
   "source": [
    "H, xedges, yedges = np.histogram2d(df_priv['latitude'],df_priv['longitude'], bins=(bins_lats,bins_long) )\n",
    "\n",
    "H = H.T\n",
    "\n",
    "\n",
    "#if i do 0.1 mile per bin for both lats and longs, there is a bright yellow spot. It may so dense that it could be an outlier and over shadow it\n",
    "#if you want to see, run the lines below multiple times to remove the outliers and run the histogram plotting cell\n",
    "\n",
    "#I did a further analysis on exploring why their was an outlier\n",
    "#there is one airbnb host that has multiple accounts and they have over 1500 listings\n",
    "#they rent rooms in mansions I think. Seems absurd to have 1500 bedrooms available to rent all at one time\n",
    "#https://www.airbnb.com/users/401130632/listings\n",
    "#https://www.airbnb.com/users/144214204/listings\n",
    "#I think I will definitely ignore them for this as this is a huge outlier\n",
    "#http://insideairbnb.com/los-angeles\n",
    "#      If you go here and scroll, you will see jino & scott own the most listings for private rooms\n",
    "#\n",
    "max_long_bin_num_priv = np.where(H == np.max(H))[0][0]\n",
    "max_lat_bin_num_priv = np.where(H == np.max(H))[1][0]\n",
    "print(H[max_long_bin_num_priv,max_lat_bin_num_priv])\n",
    "H[max_long_bin_num_priv,max_lat_bin_num_priv] = 0 #when bins are represent 1 mile, do this to remove the outlier "
   ]
  },
  {
   "cell_type": "code",
   "execution_count": 301,
   "id": "ab118cc3",
   "metadata": {},
   "outputs": [
    {
     "data": {
      "image/png": "[encoded data removed]",
      "text/plain": [
       "<Figure size 500x500 with 2 Axes>"
      ]
     },
     "metadata": {},
     "output_type": "display_data"
    }
   ],
   "source": [
    "fig = plt.figure(figsize=(5, 5))\n",
    "ax = fig.add_subplot(title='Heatmap of latitude and longitude of LA listings',\n",
    "        aspect='equal')\n",
    "\n",
    "X, Y = np.meshgrid(xedges, yedges)\n",
    "\n",
    "hist2d = ax.pcolormesh(X, Y, H, cmap='plasma')\n",
    "ax.set_xlabel('latitude')\n",
    "ax.set_ylabel('longitude')\n",
    "plt.colorbar(hist2d,ax=ax)\n",
    "plt.show()"
   ]
  },
  {
   "cell_type": "code",
   "execution_count": 302,
   "id": "6a8aeeb6",
   "metadata": {},
   "outputs": [
    {
     "data": {
      "text/plain": [
       "(34.161907941176466, -118.45984535808374)"
      ]
     },
     "execution_count": 302,
     "metadata": {},
     "output_type": "execute_result"
    }
   ],
   "source": [
    "lats_bins_represent[max_lat_bin_num_priv],longs_bins_represent[max_long_bin_num_priv]"
   ]
  },
  {
   "cell_type": "code",
   "execution_count": 303,
   "id": "f7308dfd",
   "metadata": {},
   "outputs": [],
   "source": [
    "def get_listings_in_bin(df, lat_bin_num, long_bin_num):\n",
    "    cond_gt_lats = df['latitude'] > lats_bins_represent[lat_bin_num]\n",
    "    cond_lt_lats = df['latitude'] <= lats_bins_represent[lat_bin_num+1]\n",
    "    cond_gt_long = df['longitude'] > longs_bins_represent[long_bin_num]\n",
    "    cond_lt_long = df['longitude'] <= longs_bins_represent[long_bin_num+1]\n",
    "    cut_df = df[cond_lt_lats & cond_gt_lats & cond_lt_long & cond_gt_long].copy()\n",
    "    return cut_df"
   ]
  },
  {
   "cell_type": "code",
   "execution_count": 304,
   "id": "aa2f3f72",
   "metadata": {},
   "outputs": [
    {
     "data": {
      "text/plain": [
       "(1781, 75)"
      ]
     },
     "execution_count": 304,
     "metadata": {},
     "output_type": "execute_result"
    }
   ],
   "source": [
    "outlier_df_priv = get_listings_in_bin(df_priv,max_lat_bin_num_priv,max_long_bin_num_priv)\n",
    "outlier_df_priv.shape"
   ]
  },
  {
   "cell_type": "code",
   "execution_count": 305,
   "id": "d4dda2ba",
   "metadata": {},
   "outputs": [],
   "source": [
    "# plt.hist(df_priv['latitude'],bins=bins_lats)\n",
    "# plt.show()"
   ]
  },
  {
   "cell_type": "code",
   "execution_count": 306,
   "id": "53d0e5b1",
   "metadata": {},
   "outputs": [],
   "source": [
    "# plt.hist(df_priv['longitude'],bins=bins_long)\n",
    "# plt.show()"
   ]
  },
  {
   "cell_type": "code",
   "execution_count": 307,
   "id": "3c7cc39e",
   "metadata": {},
   "outputs": [],
   "source": [
    "#creates a map that has the shape of the united states\n",
    "\n",
    "# fig = go.Figure(data=go.Scattergeo(\n",
    "#         lon = df_priv['longitude'],\n",
    "#         lat = df_priv['latitude'],\n",
    "#         #text = 'Median house value: ' + housing['median_house_value'].astype(str),\n",
    "#         #marker_size = (housing['bedrooms_per_household'])\n",
    "#         ))\n",
    "# fig.update_geos(fitbounds=\"locations\")\n",
    "# # fig.update_layout(\n",
    "# #         title = 'Median house values of houses in California with marker size based on bedrooms per household',\n",
    "# # )\n",
    "# fig.show()\n",
    "\n"
   ]
  }
 ],
 "metadata": {
  "kernelspec": {
   "display_name": "base",
   "language": "python",
   "name": "python3"
  },
  "language_info": {
   "codemirror_mode": {
    "name": "ipython",
    "version": 3
   },
   "file_extension": ".py",
   "mimetype": "text/x-python",
   "name": "python",
   "nbconvert_exporter": "python",
   "pygments_lexer": "ipython3",
   "version": "3.9.16"
  },
  "vscode": {
   "interpreter": {
    "hash": "df5a47594a4c7fa77718041c239adbe925734d95d528854ea959dd8eef4ca91e"
   }
  }
 },
 "nbformat": 4,
 "nbformat_minor": 5
}
