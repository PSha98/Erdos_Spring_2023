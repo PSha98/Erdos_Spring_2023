{
 "cells": [
  {
   "attachments": {},
   "cell_type": "markdown",
   "id": "514bf611",
   "metadata": {},
   "source": [
    "Work in Progress. Will be updated by Friday. Zheyu Ni\n",
    "\n",
    "This file cleans the Airbnb data. \n",
    "1. deleted $ sign and comma in price.\n",
    "2. visualize price distribution base on different features\n",
    "3. Price range (0, 800) covers 95\\% of the listings\n",
    "4. create a dummy for the listing without review data\n",
    "5. check how many listings have hotel/motel in name and agree with their room_type\n",
    "\n",
    "The remaing data file contains \\% of the raw data"
   ]
  },
  {
   "cell_type": "code",
   "execution_count": 1,
   "id": "4674846e",
   "metadata": {},
   "outputs": [],
   "source": [
    "import pandas as pd\n",
    "import numpy as np\n",
    "import re\n",
    "import matplotlib.pyplot as plt\n",
    "from sklearn.linear_model import LinearRegression\n",
    "import statsmodels.api as sm\n",
    "import seaborn as sns\n",
    "import matplotlib.dates as mdates\n",
    "from datetime import date\n",
    "from sklearn.model_selection import train_test_split\n",
    "import plotly.graph_objects as go"
   ]
  },
  {
   "cell_type": "code",
   "execution_count": 2,
   "id": "4289dd53",
   "metadata": {},
   "outputs": [],
   "source": [
    "df = pd.read_csv('../listings_mar7_2023.csv')\n"
   ]
  },
  {
   "cell_type": "code",
   "execution_count": 3,
   "id": "b99231a4",
   "metadata": {},
   "outputs": [
    {
     "data": {
      "text/plain": [
       "0         399.0\n",
       "1          46.0\n",
       "2         408.0\n",
       "3          80.0\n",
       "4        2138.0\n",
       "          ...  \n",
       "42446      40.0\n",
       "42447      48.0\n",
       "42448      46.0\n",
       "42449      68.0\n",
       "42450      48.0\n",
       "Name: price, Length: 42451, dtype: float64"
      ]
     },
     "execution_count": 3,
     "metadata": {},
     "output_type": "execute_result"
    }
   ],
   "source": [
    "#data cleaning. Price data has $ sign. The following code extracts the number\n",
    "df['price'] = df['price'].replace({r'\\$':''},regex = True).replace({r',':''},regex = True).astype('float')\n",
    "df.price"
   ]
  },
  {
   "cell_type": "code",
   "execution_count": 4,
   "id": "41081024",
   "metadata": {},
   "outputs": [
    {
     "name": "stdout",
     "output_type": "stream",
     "text": [
      "Entire home/apt    29491\n",
      "Private room       12180\n",
      "Shared room          697\n",
      "Hotel room            83\n",
      "Name: room_type, dtype: int64\n"
     ]
    }
   ],
   "source": [
    "print(df['room_type'].value_counts())"
   ]
  },
  {
   "cell_type": "code",
   "execution_count": 5,
   "id": "77ff5897",
   "metadata": {},
   "outputs": [],
   "source": [
    "df_practice = df.copy()\n",
    "df_practice['name'] = df_practice['name'].str.lower()\n",
    "df_practice.loc[df_practice['name'].str.contains('motel',regex=False) == True, 'room_type'] = 'Hotel room'\n",
    "df_practice.loc[df_practice['name'].str.contains('hotel',regex=False) == True, 'room_type'] = 'Hotel room'\n",
    "df['room_type'] = df_practice['room_type']\n",
    "#df_practice.dropna()"
   ]
  },
  {
   "cell_type": "code",
   "execution_count": 6,
   "id": "18cca2aa",
   "metadata": {},
   "outputs": [
    {
     "name": "stdout",
     "output_type": "stream",
     "text": [
      "Entire home/apt    29293\n",
      "Private room       12051\n",
      "Shared room          696\n",
      "Hotel room           411\n",
      "Name: room_type, dtype: int64\n"
     ]
    }
   ],
   "source": [
    "print(df['room_type'].value_counts())"
   ]
  },
  {
   "cell_type": "code",
   "execution_count": 7,
   "id": "4f833453",
   "metadata": {},
   "outputs": [
    {
     "data": {
      "text/html": [
       "<div>\n",
       "<style scoped>\n",
       "    .dataframe tbody tr th:only-of-type {\n",
       "        vertical-align: middle;\n",
       "    }\n",
       "\n",
       "    .dataframe tbody tr th {\n",
       "        vertical-align: top;\n",
       "    }\n",
       "\n",
       "    .dataframe thead th {\n",
       "        text-align: right;\n",
       "    }\n",
       "</style>\n",
       "<table border=\"1\" class=\"dataframe\">\n",
       "  <thead>\n",
       "    <tr style=\"text-align: right;\">\n",
       "      <th></th>\n",
       "      <th>id</th>\n",
       "      <th>listing_url</th>\n",
       "      <th>scrape_id</th>\n",
       "      <th>last_scraped</th>\n",
       "      <th>source</th>\n",
       "      <th>name</th>\n",
       "      <th>description</th>\n",
       "      <th>neighborhood_overview</th>\n",
       "      <th>picture_url</th>\n",
       "      <th>host_id</th>\n",
       "      <th>...</th>\n",
       "      <th>review_scores_communication</th>\n",
       "      <th>review_scores_location</th>\n",
       "      <th>review_scores_value</th>\n",
       "      <th>license</th>\n",
       "      <th>instant_bookable</th>\n",
       "      <th>calculated_host_listings_count</th>\n",
       "      <th>calculated_host_listings_count_entire_homes</th>\n",
       "      <th>calculated_host_listings_count_private_rooms</th>\n",
       "      <th>calculated_host_listings_count_shared_rooms</th>\n",
       "      <th>reviews_per_month</th>\n",
       "    </tr>\n",
       "  </thead>\n",
       "  <tbody>\n",
       "    <tr>\n",
       "      <th>2144</th>\n",
       "      <td>744929138353579650</td>\n",
       "      <td>https://www.airbnb.com/rooms/744929138353579650</td>\n",
       "      <td>20230307175359</td>\n",
       "      <td>2023-03-08</td>\n",
       "      <td>city scrape</td>\n",
       "      <td>la/beverly hills hotel style unit</td>\n",
       "      <td>LA Suites is nestled in the heart of Beverly H...</td>\n",
       "      <td>NaN</td>\n",
       "      <td>https://a0.muscache.com/pictures/miso/Hosting-...</td>\n",
       "      <td>484275960</td>\n",
       "      <td>...</td>\n",
       "      <td>NaN</td>\n",
       "      <td>NaN</td>\n",
       "      <td>NaN</td>\n",
       "      <td>NaN</td>\n",
       "      <td>t</td>\n",
       "      <td>55</td>\n",
       "      <td>55</td>\n",
       "      <td>0</td>\n",
       "      <td>0</td>\n",
       "      <td>NaN</td>\n",
       "    </tr>\n",
       "    <tr>\n",
       "      <th>31859</th>\n",
       "      <td>741343235157735784</td>\n",
       "      <td>https://www.airbnb.com/rooms/741343235157735784</td>\n",
       "      <td>20230307175359</td>\n",
       "      <td>2023-03-08</td>\n",
       "      <td>city scrape</td>\n",
       "      <td>charming double bed hotel style</td>\n",
       "      <td>LA Suites is nestled in the heart of Beverly H...</td>\n",
       "      <td>NaN</td>\n",
       "      <td>https://a0.muscache.com/pictures/miso/Hosting-...</td>\n",
       "      <td>484269516</td>\n",
       "      <td>...</td>\n",
       "      <td>NaN</td>\n",
       "      <td>NaN</td>\n",
       "      <td>NaN</td>\n",
       "      <td>NaN</td>\n",
       "      <td>t</td>\n",
       "      <td>60</td>\n",
       "      <td>60</td>\n",
       "      <td>0</td>\n",
       "      <td>0</td>\n",
       "      <td>NaN</td>\n",
       "    </tr>\n",
       "  </tbody>\n",
       "</table>\n",
       "<p>2 rows × 75 columns</p>\n",
       "</div>"
      ],
      "text/plain": [
       "                       id                                      listing_url  \\\n",
       "2144   744929138353579650  https://www.airbnb.com/rooms/744929138353579650   \n",
       "31859  741343235157735784  https://www.airbnb.com/rooms/741343235157735784   \n",
       "\n",
       "            scrape_id last_scraped       source  \\\n",
       "2144   20230307175359   2023-03-08  city scrape   \n",
       "31859  20230307175359   2023-03-08  city scrape   \n",
       "\n",
       "                                    name  \\\n",
       "2144   la/beverly hills hotel style unit   \n",
       "31859    charming double bed hotel style   \n",
       "\n",
       "                                             description  \\\n",
       "2144   LA Suites is nestled in the heart of Beverly H...   \n",
       "31859  LA Suites is nestled in the heart of Beverly H...   \n",
       "\n",
       "      neighborhood_overview  \\\n",
       "2144                    NaN   \n",
       "31859                   NaN   \n",
       "\n",
       "                                             picture_url    host_id  ...  \\\n",
       "2144   https://a0.muscache.com/pictures/miso/Hosting-...  484275960  ...   \n",
       "31859  https://a0.muscache.com/pictures/miso/Hosting-...  484269516  ...   \n",
       "\n",
       "      review_scores_communication review_scores_location review_scores_value  \\\n",
       "2144                          NaN                    NaN                 NaN   \n",
       "31859                         NaN                    NaN                 NaN   \n",
       "\n",
       "      license instant_bookable calculated_host_listings_count  \\\n",
       "2144      NaN                t                             55   \n",
       "31859     NaN                t                             60   \n",
       "\n",
       "      calculated_host_listings_count_entire_homes  \\\n",
       "2144                                           55   \n",
       "31859                                          60   \n",
       "\n",
       "      calculated_host_listings_count_private_rooms  \\\n",
       "2144                                             0   \n",
       "31859                                            0   \n",
       "\n",
       "      calculated_host_listings_count_shared_rooms reviews_per_month  \n",
       "2144                                            0               NaN  \n",
       "31859                                           0               NaN  \n",
       "\n",
       "[2 rows x 75 columns]"
      ]
     },
     "execution_count": 7,
     "metadata": {},
     "output_type": "execute_result"
    }
   ],
   "source": [
    "df_practice.loc[df_practice['name'].str.contains('hotel',regex=False) == True].sample(2)"
   ]
  },
  {
   "cell_type": "code",
   "execution_count": 8,
   "id": "6f1c974f",
   "metadata": {},
   "outputs": [
    {
     "data": {
      "text/html": [
       "<div>\n",
       "<style scoped>\n",
       "    .dataframe tbody tr th:only-of-type {\n",
       "        vertical-align: middle;\n",
       "    }\n",
       "\n",
       "    .dataframe tbody tr th {\n",
       "        vertical-align: top;\n",
       "    }\n",
       "\n",
       "    .dataframe thead th {\n",
       "        text-align: right;\n",
       "    }\n",
       "</style>\n",
       "<table border=\"1\" class=\"dataframe\">\n",
       "  <thead>\n",
       "    <tr style=\"text-align: right;\">\n",
       "      <th></th>\n",
       "      <th>id</th>\n",
       "      <th>listing_url</th>\n",
       "      <th>scrape_id</th>\n",
       "      <th>last_scraped</th>\n",
       "      <th>source</th>\n",
       "      <th>name</th>\n",
       "      <th>description</th>\n",
       "      <th>neighborhood_overview</th>\n",
       "      <th>picture_url</th>\n",
       "      <th>host_id</th>\n",
       "      <th>...</th>\n",
       "      <th>review_scores_communication</th>\n",
       "      <th>review_scores_location</th>\n",
       "      <th>review_scores_value</th>\n",
       "      <th>license</th>\n",
       "      <th>instant_bookable</th>\n",
       "      <th>calculated_host_listings_count</th>\n",
       "      <th>calculated_host_listings_count_entire_homes</th>\n",
       "      <th>calculated_host_listings_count_private_rooms</th>\n",
       "      <th>calculated_host_listings_count_shared_rooms</th>\n",
       "      <th>reviews_per_month</th>\n",
       "    </tr>\n",
       "  </thead>\n",
       "  <tbody>\n",
       "    <tr>\n",
       "      <th>0</th>\n",
       "      <td>777451666060243581</td>\n",
       "      <td>https://www.airbnb.com/rooms/777451666060243581</td>\n",
       "      <td>20230307175359</td>\n",
       "      <td>2023-03-07</td>\n",
       "      <td>city scrape</td>\n",
       "      <td>Family oriented home</td>\n",
       "      <td>Relax with the whole family at this peaceful p...</td>\n",
       "      <td>NaN</td>\n",
       "      <td>https://a0.muscache.com/pictures/miso/Hosting-...</td>\n",
       "      <td>490709958</td>\n",
       "      <td>...</td>\n",
       "      <td>NaN</td>\n",
       "      <td>NaN</td>\n",
       "      <td>NaN</td>\n",
       "      <td>NaN</td>\n",
       "      <td>f</td>\n",
       "      <td>1</td>\n",
       "      <td>0</td>\n",
       "      <td>1</td>\n",
       "      <td>0</td>\n",
       "      <td>NaN</td>\n",
       "    </tr>\n",
       "    <tr>\n",
       "      <th>1</th>\n",
       "      <td>698097753730921190</td>\n",
       "      <td>https://www.airbnb.com/rooms/698097753730921190</td>\n",
       "      <td>20230307175359</td>\n",
       "      <td>2023-03-07</td>\n",
       "      <td>city scrape</td>\n",
       "      <td>方便易居驿站</td>\n",
       "      <td>NaN</td>\n",
       "      <td>NaN</td>\n",
       "      <td>https://a0.muscache.com/pictures/d5afff58-d576...</td>\n",
       "      <td>444692513</td>\n",
       "      <td>...</td>\n",
       "      <td>5.0</td>\n",
       "      <td>5.0</td>\n",
       "      <td>4.4</td>\n",
       "      <td>NaN</td>\n",
       "      <td>f</td>\n",
       "      <td>4</td>\n",
       "      <td>0</td>\n",
       "      <td>4</td>\n",
       "      <td>0</td>\n",
       "      <td>0.86</td>\n",
       "    </tr>\n",
       "  </tbody>\n",
       "</table>\n",
       "<p>2 rows × 75 columns</p>\n",
       "</div>"
      ],
      "text/plain": [
       "                   id                                      listing_url  \\\n",
       "0  777451666060243581  https://www.airbnb.com/rooms/777451666060243581   \n",
       "1  698097753730921190  https://www.airbnb.com/rooms/698097753730921190   \n",
       "\n",
       "        scrape_id last_scraped       source                  name  \\\n",
       "0  20230307175359   2023-03-07  city scrape  Family oriented home   \n",
       "1  20230307175359   2023-03-07  city scrape                方便易居驿站   \n",
       "\n",
       "                                         description neighborhood_overview  \\\n",
       "0  Relax with the whole family at this peaceful p...                   NaN   \n",
       "1                                                NaN                   NaN   \n",
       "\n",
       "                                         picture_url    host_id  ...  \\\n",
       "0  https://a0.muscache.com/pictures/miso/Hosting-...  490709958  ...   \n",
       "1  https://a0.muscache.com/pictures/d5afff58-d576...  444692513  ...   \n",
       "\n",
       "  review_scores_communication review_scores_location review_scores_value  \\\n",
       "0                         NaN                    NaN                 NaN   \n",
       "1                         5.0                    5.0                 4.4   \n",
       "\n",
       "  license instant_bookable calculated_host_listings_count  \\\n",
       "0     NaN                f                              1   \n",
       "1     NaN                f                              4   \n",
       "\n",
       "  calculated_host_listings_count_entire_homes  \\\n",
       "0                                           0   \n",
       "1                                           0   \n",
       "\n",
       "  calculated_host_listings_count_private_rooms  \\\n",
       "0                                            1   \n",
       "1                                            4   \n",
       "\n",
       "  calculated_host_listings_count_shared_rooms reviews_per_month  \n",
       "0                                           0               NaN  \n",
       "1                                           0              0.86  \n",
       "\n",
       "[2 rows x 75 columns]"
      ]
     },
     "execution_count": 8,
     "metadata": {},
     "output_type": "execute_result"
    }
   ],
   "source": [
    "df.head(2)\n",
    "\n",
    "#columns that are interesting:\n",
    "# latitude\n",
    "# longitude\n",
    "# room_type\n",
    "# property_type\n",
    "# accommodates\n",
    "# bathrooms_text\n",
    "# number_of_reviews\n",
    "# first_review\n",
    "# last_reviews\n",
    "# reviews_per_month\n"
   ]
  },
  {
   "cell_type": "code",
   "execution_count": 9,
   "id": "8391d852",
   "metadata": {},
   "outputs": [
    {
     "data": {
      "text/plain": [
       "0     399.0\n",
       "1      46.0\n",
       "2     408.0\n",
       "3      80.0\n",
       "4    2138.0\n",
       "5      55.0\n",
       "6      60.0\n",
       "7      55.0\n",
       "8     129.0\n",
       "9     107.0\n",
       "Name: price, dtype: float64"
      ]
     },
     "execution_count": 9,
     "metadata": {},
     "output_type": "execute_result"
    }
   ],
   "source": [
    "#column_names =[df.columns,df.dtypes]\n",
    "#list(column_names)\n",
    "\n",
    "df.price[0:10]"
   ]
  },
  {
   "cell_type": "code",
   "execution_count": 10,
   "id": "4e8e55dc",
   "metadata": {},
   "outputs": [
    {
     "data": {
      "text/plain": [
       "99999.0"
      ]
     },
     "execution_count": 10,
     "metadata": {},
     "output_type": "execute_result"
    }
   ],
   "source": [
    "df.price.max()"
   ]
  },
  {
   "cell_type": "code",
   "execution_count": 11,
   "id": "d8161b02",
   "metadata": {},
   "outputs": [],
   "source": [
    "df = df[df['price'] < 1999]"
   ]
  },
  {
   "cell_type": "code",
   "execution_count": 12,
   "id": "7137f86d",
   "metadata": {},
   "outputs": [
    {
     "data": {
      "text/plain": [
       "1995.0"
      ]
     },
     "execution_count": 12,
     "metadata": {},
     "output_type": "execute_result"
    }
   ],
   "source": [
    "df.price.max()"
   ]
  },
  {
   "cell_type": "code",
   "execution_count": 13,
   "id": "bff6dbc2",
   "metadata": {},
   "outputs": [],
   "source": [
    "df_priv = df[df['room_type']=='Private room'].copy()\n",
    "df_homeapt = df[df['room_type']=='Entire home/apt'].copy()\n",
    "df_share = df[df['room_type']=='Shared room'].copy()\n",
    "df_hotel = df[df['room_type']=='Hotel room'].copy()"
   ]
  },
  {
   "cell_type": "code",
   "execution_count": 14,
   "id": "a087cfd8",
   "metadata": {},
   "outputs": [
    {
     "data": {
      "text/plain": [
       "33.33956"
      ]
     },
     "execution_count": 14,
     "metadata": {},
     "output_type": "execute_result"
    }
   ],
   "source": [
    "df_priv['latitude'].min()"
   ]
  },
  {
   "cell_type": "code",
   "execution_count": 15,
   "id": "4c6d7549",
   "metadata": {},
   "outputs": [
    {
     "name": "stdout",
     "output_type": "stream",
     "text": [
      "Range of latitude: 33.33956 to 34.81113\n",
      "Range of longitude: -118.89972464431123 to -117.6534\n",
      "Num of bins for latitude: 102\n",
      "Num of bins for longitude: 68\n"
     ]
    }
   ],
   "source": [
    "print(f\"Range of latitude: {df_priv['latitude'].min()} to {df_priv['latitude'].max()}\")\n",
    "print(f\"Range of longitude: {df_priv['longitude'].min()} to {df_priv['longitude'].max()}\")\n",
    "\n",
    "#https://www.usgs.gov/faqs/how-much-distance-does-a-degree-minute-and-second-cover-your-maps\n",
    "#One degree of latitude equals approximately 364,000 feet (69 miles), one minute equals 6,068 feet (1.15 miles), and one-second equals 101 feet. \n",
    "ratio_miles_to_onelat = 69\n",
    "desired_lat_mile_per_bin = 1 #i want each bin to represent x miles\n",
    "diff_in_lats = df_priv['latitude'].max() - df_priv['latitude'].min()\n",
    "diff_in_lats_in_miles = diff_in_lats*ratio_miles_to_onelat\n",
    "bins_lats = int(np.round(diff_in_lats_in_miles/desired_lat_mile_per_bin))\n",
    "print(f\"Num of bins for latitude: {bins_lats}\")\n",
    "\n",
    "\n",
    "#One-degree of longitude equals 288,200 feet (54.6 miles), one minute equals 4,800 feet (0.91 mile), and one second equals 80 feet.\n",
    "ratio_miles_to_onelong = 54.6\n",
    "desired_long_mile_per_bin = 1 #i want each bin to represent x miles\n",
    "diff_in_long = np.abs(df_priv['longitude'].max() - df_priv['longitude'].min())\n",
    "diff_in_long_in_miles = diff_in_long*ratio_miles_to_onelong\n",
    "bins_long = int(np.round(diff_in_long_in_miles/desired_long_mile_per_bin))\n",
    "print(f\"Num of bins for longitude: {bins_long}\")\n",
    "\n"
   ]
  },
  {
   "cell_type": "code",
   "execution_count": 16,
   "id": "55b08821",
   "metadata": {},
   "outputs": [],
   "source": [
    "#you have to add 1 to the bins because the very 1st element in the list is exclusive \n",
    "lats_bins_represent = np.linspace(df_priv['latitude'].min(),df_priv['latitude'].max(),bins_lats+1)\n",
    "longs_bins_represent = np.linspace(df_priv['longitude'].min(),df_priv['longitude'].max(),bins_long+1)\n",
    "\n",
    "# print(lats_bins_represent)\n",
    "# print(longs_bins_represent)"
   ]
  },
  {
   "cell_type": "code",
   "execution_count": 17,
   "id": "aad6dacb",
   "metadata": {},
   "outputs": [
    {
     "name": "stdout",
     "output_type": "stream",
     "text": [
      "1781.0\n"
     ]
    }
   ],
   "source": [
    "H, xedges, yedges = np.histogram2d(df_priv['latitude'],df_priv['longitude'], bins=(bins_lats,bins_long) )\n",
    "\n",
    "H = H.T\n",
    "\n",
    "#if i do 0.1 mile per bin for both lats and longs, there is a bright yellow spot. It may so dense that it could be an outlier and over shadow it\n",
    "#if you want to see, run the lines below multiple times to remove the outliers and run the histogram plotting cell\n",
    "\n",
    "#I did a further analysis on exploring why their was an outlier\n",
    "#there is one airbnb host that has multiple accounts and they have over 1500 listings\n",
    "#they rent rooms in mansions I think. Seems absurd to have 1500 bedrooms available to rent all at one time\n",
    "#https://www.airbnb.com/users/401130632/listings\n",
    "#https://www.airbnb.com/users/144214204/listings\n",
    "#I think I will definitely ignore them for this as this is a huge outlier\n",
    "#http://insideairbnb.com/los-angeles\n",
    "#      If you go here and scroll, you will see jino & scott own the most listings for private rooms\n",
    "#\n",
    "max_long_bin_num_priv = np.where(H == np.max(H))[0][0]\n",
    "max_lat_bin_num_priv = np.where(H == np.max(H))[1][0]\n",
    "print(H[max_long_bin_num_priv,max_lat_bin_num_priv])\n",
    "H[max_long_bin_num_priv,max_lat_bin_num_priv] = 0 #when bins are represent 1 mile, do this to remove the outlier "
   ]
  },
  {
   "cell_type": "code",
   "execution_count": 18,
   "id": "ab118cc3",
   "metadata": {},
   "outputs": [
    {
     "data": {
      "image/png": "[encoded data removed]",
      "text/plain": [
       "<Figure size 500x500 with 2 Axes>"
      ]
     },
     "metadata": {},
     "output_type": "display_data"
    }
   ],
   "source": [
    "fig = plt.figure(figsize=(5, 5))\n",
    "ax = fig.add_subplot(title='Heatmap of # of listings in a given latitude and longitude',\n",
    "        aspect='equal')\n",
    "\n",
    "X, Y = np.meshgrid(xedges, yedges)\n",
    "\n",
    "hist2d = ax.pcolormesh(X, Y, H, cmap='plasma')\n",
    "ax.set_xlabel('latitude')\n",
    "ax.set_ylabel('longitude')\n",
    "plt.colorbar(hist2d,ax=ax)\n",
    "plt.show()"
   ]
  },
  {
   "cell_type": "code",
   "execution_count": 19,
   "id": "6a8aeeb6",
   "metadata": {},
   "outputs": [
    {
     "data": {
      "text/plain": [
       "(34.161907941176466, -118.45984535808374)"
      ]
     },
     "execution_count": 19,
     "metadata": {},
     "output_type": "execute_result"
    }
   ],
   "source": [
    "lats_bins_represent[max_lat_bin_num_priv],longs_bins_represent[max_long_bin_num_priv]"
   ]
  },
  {
   "cell_type": "code",
   "execution_count": 20,
   "id": "f7308dfd",
   "metadata": {},
   "outputs": [],
   "source": [
    "def get_listings_in_bin(df, lat_bin_num, long_bin_num):\n",
    "    cond_gt_lats = df['latitude'] > lats_bins_represent[lat_bin_num]\n",
    "    cond_lt_lats = df['latitude'] <= lats_bins_represent[lat_bin_num+1]\n",
    "    cond_gt_long = df['longitude'] > longs_bins_represent[long_bin_num]\n",
    "    cond_lt_long = df['longitude'] <= longs_bins_represent[long_bin_num+1]\n",
    "    cut_df = df[cond_lt_lats & cond_gt_lats & cond_lt_long & cond_gt_long].copy()\n",
    "    return cut_df"
   ]
  },
  {
   "cell_type": "code",
   "execution_count": 21,
   "id": "aa2f3f72",
   "metadata": {},
   "outputs": [
    {
     "data": {
      "text/plain": [
       "(1781, 75)"
      ]
     },
     "execution_count": 21,
     "metadata": {},
     "output_type": "execute_result"
    }
   ],
   "source": [
    "outlier_df_priv = get_listings_in_bin(df_priv,max_lat_bin_num_priv,max_long_bin_num_priv)\n",
    "outlier_df_priv.shape"
   ]
  },
  {
   "cell_type": "code",
   "execution_count": 22,
   "id": "8bf66d00",
   "metadata": {},
   "outputs": [],
   "source": [
    "min_max_scaled_H = H/np.max(H)"
   ]
  },
  {
   "cell_type": "code",
   "execution_count": 23,
   "id": "3794b589",
   "metadata": {},
   "outputs": [
    {
     "data": {
      "text/plain": [
       "102"
      ]
     },
     "execution_count": 23,
     "metadata": {},
     "output_type": "execute_result"
    }
   ],
   "source": [
    "H.shape[1]"
   ]
  },
  {
   "cell_type": "code",
   "execution_count": 24,
   "id": "2b5b4b9a",
   "metadata": {},
   "outputs": [],
   "source": [
    "num_of_reviews_in_bin = np.zeros(H.shape)\n",
    "for i in np.arange(0,H.shape[0],1):\n",
    "    for j in np.arange(0,H.shape[1],1):\n",
    "        dummy_df = get_listings_in_bin(df_priv,j,i)\n",
    "        num_of_reviews_in_bin[i,j] = dummy_df['number_of_reviews'].sum()"
   ]
  },
  {
   "cell_type": "code",
   "execution_count": 25,
   "id": "e8f5923f",
   "metadata": {},
   "outputs": [
    {
     "data": {
      "image/png": "[encoded data removed]",
      "text/plain": [
       "<Figure size 500x500 with 2 Axes>"
      ]
     },
     "metadata": {},
     "output_type": "display_data"
    }
   ],
   "source": [
    "fig = plt.figure(figsize=(5, 5))\n",
    "ax = fig.add_subplot(title='Heatmap of # of reviews in a given latitude and longitude',\n",
    "        aspect='equal')\n",
    "\n",
    "X, Y = np.meshgrid(xedges, yedges)\n",
    "\n",
    "hist2d = ax.pcolormesh(X, Y, num_of_reviews_in_bin, cmap='plasma')\n",
    "ax.set_xlabel('latitude')\n",
    "ax.set_ylabel('longitude')\n",
    "plt.colorbar(hist2d,ax=ax)\n",
    "plt.show()"
   ]
  },
  {
   "cell_type": "code",
   "execution_count": 26,
   "id": "f4009d00",
   "metadata": {},
   "outputs": [],
   "source": [
    "min_max_scaled_reviews = num_of_reviews_in_bin/np.max(num_of_reviews_in_bin)"
   ]
  },
  {
   "cell_type": "code",
   "execution_count": 27,
   "id": "5d37f4ff",
   "metadata": {},
   "outputs": [],
   "source": [
    "num_of_reviews_per_month_in_bin = np.zeros(H.shape)\n",
    "for i in np.arange(0,H.shape[0],1):\n",
    "    for j in np.arange(0,H.shape[1],1):\n",
    "        dummy_df = get_listings_in_bin(df_priv,j,i)\n",
    "        num_of_reviews_per_month_in_bin[i,j] = dummy_df['reviews_per_month'].sum()"
   ]
  },
  {
   "cell_type": "code",
   "execution_count": 28,
   "id": "73f65d63",
   "metadata": {},
   "outputs": [
    {
     "data": {
      "image/png": "[encoded data removed]",
      "text/plain": [
       "<Figure size 500x500 with 2 Axes>"
      ]
     },
     "metadata": {},
     "output_type": "display_data"
    }
   ],
   "source": [
    "fig = plt.figure(figsize=(5, 5))\n",
    "ax = fig.add_subplot(title='Heatmap of # of reviews in a given latitude and longitude',\n",
    "        aspect='equal')\n",
    "\n",
    "X, Y = np.meshgrid(xedges, yedges)\n",
    "\n",
    "hist2d = ax.pcolormesh(X, Y, num_of_reviews_per_month_in_bin, cmap='plasma')\n",
    "ax.set_xlabel('latitude')\n",
    "ax.set_ylabel('longitude')\n",
    "plt.colorbar(hist2d,ax=ax)\n",
    "plt.show()"
   ]
  },
  {
   "cell_type": "code",
   "execution_count": 29,
   "id": "ca14b575",
   "metadata": {},
   "outputs": [],
   "source": [
    "min_max_scaled_reviews_per_month = num_of_reviews_per_month_in_bin/np.max(num_of_reviews_per_month_in_bin)"
   ]
  },
  {
   "cell_type": "code",
   "execution_count": 30,
   "id": "038cc735",
   "metadata": {},
   "outputs": [
    {
     "data": {
      "text/plain": [
       "3"
      ]
     },
     "execution_count": 30,
     "metadata": {},
     "output_type": "execute_result"
    }
   ],
   "source": [
    "#this here is the amount of areas where the # of listings scale was larger than the # of reviews\n",
    "#so whatever number is outputed it is saying that there are x amount of bin regions where their are more listings in the region than there are reviews\n",
    "np.shape(np.where((min_max_scaled_H - min_max_scaled_reviews) > 0.3))[1]"
   ]
  },
  {
   "cell_type": "code",
   "execution_count": 31,
   "id": "388f47da",
   "metadata": {},
   "outputs": [
    {
     "data": {
      "text/plain": [
       "11"
      ]
     },
     "execution_count": 31,
     "metadata": {},
     "output_type": "execute_result"
    }
   ],
   "source": [
    "#this here is the amount of areas where the # of listings scale was smaller than the # of reviews\n",
    "#so whatever number is outputed it is saying that there are x amount of bin regions where their are more reviews in the region than there are listings.\n",
    "np.shape(np.where((min_max_scaled_H - min_max_scaled_reviews) < -0.3))[1]"
   ]
  },
  {
   "cell_type": "code",
   "execution_count": 32,
   "id": "0b3f6f35",
   "metadata": {},
   "outputs": [],
   "source": [
    "df_priv['hotspot_from_listings'] = 0\n",
    "df_priv['hotspot_from_reviews'] = 0\n",
    "df_priv['hotspot_from_reviews_per_month'] = 0\n"
   ]
  },
  {
   "cell_type": "code",
   "execution_count": 33,
   "id": "ee6f61b0",
   "metadata": {},
   "outputs": [],
   "source": [
    "for longs in np.arange(0,H.shape[0],1):\n",
    "    for lats in np.arange(0,H.shape[1],1):\n",
    "        cond_gt_lats = df_priv['latitude'] > lats_bins_represent[lats]\n",
    "        cond_lt_lats = df_priv['latitude'] <= lats_bins_represent[lats+1]\n",
    "        cond_gt_long = df_priv['longitude'] > longs_bins_represent[longs]\n",
    "        cond_lt_long = df_priv['longitude'] <= longs_bins_represent[longs+1]\n",
    "        df_priv.loc[cond_lt_lats & cond_gt_lats & cond_lt_long & cond_gt_long, 'hotspot_from_listings'] = min_max_scaled_H[longs,lats]\n",
    "        df_priv.loc[cond_lt_lats & cond_gt_lats & cond_lt_long & cond_gt_long, 'hotspot_from_reviews'] = min_max_scaled_reviews[longs,lats]\n",
    "        df_priv.loc[cond_lt_lats & cond_gt_lats & cond_lt_long & cond_gt_long, 'hotspot_from_reviews_per_month'] = min_max_scaled_reviews_per_month[longs,lats]\n"
   ]
  },
  {
   "cell_type": "code",
   "execution_count": 34,
   "id": "9b5db761",
   "metadata": {},
   "outputs": [],
   "source": [
    "df_priv['category_hotness_from_listings'] = round(df_priv['hotspot_from_listings'],1)*10\n",
    "df_priv['category_hotness_from_reviews'] = round(df_priv['hotspot_from_reviews'],1)*10\n",
    "df_priv['category_hotness_from_reviews_per_month'] = round(df_priv['hotspot_from_reviews_per_month'],1)*10"
   ]
  },
  {
   "cell_type": "code",
   "execution_count": 35,
   "id": "163f2bca",
   "metadata": {},
   "outputs": [
    {
     "data": {
      "text/html": [
       "<div>\n",
       "<style scoped>\n",
       "    .dataframe tbody tr th:only-of-type {\n",
       "        vertical-align: middle;\n",
       "    }\n",
       "\n",
       "    .dataframe tbody tr th {\n",
       "        vertical-align: top;\n",
       "    }\n",
       "\n",
       "    .dataframe thead th {\n",
       "        text-align: right;\n",
       "    }\n",
       "</style>\n",
       "<table border=\"1\" class=\"dataframe\">\n",
       "  <thead>\n",
       "    <tr style=\"text-align: right;\">\n",
       "      <th></th>\n",
       "      <th>id</th>\n",
       "      <th>listing_url</th>\n",
       "      <th>scrape_id</th>\n",
       "      <th>last_scraped</th>\n",
       "      <th>source</th>\n",
       "      <th>name</th>\n",
       "      <th>description</th>\n",
       "      <th>neighborhood_overview</th>\n",
       "      <th>picture_url</th>\n",
       "      <th>host_id</th>\n",
       "      <th>...</th>\n",
       "      <th>calculated_host_listings_count_entire_homes</th>\n",
       "      <th>calculated_host_listings_count_private_rooms</th>\n",
       "      <th>calculated_host_listings_count_shared_rooms</th>\n",
       "      <th>reviews_per_month</th>\n",
       "      <th>hotspot_from_listings</th>\n",
       "      <th>hotspot_from_reviews</th>\n",
       "      <th>hotspot_from_reviews_per_month</th>\n",
       "      <th>category_hotness_from_listings</th>\n",
       "      <th>category_hotness_from_reviews</th>\n",
       "      <th>category_hotness_from_reviews_per_month</th>\n",
       "    </tr>\n",
       "  </thead>\n",
       "  <tbody>\n",
       "    <tr>\n",
       "      <th>25478</th>\n",
       "      <td>11673505</td>\n",
       "      <td>https://www.airbnb.com/rooms/11673505</td>\n",
       "      <td>20230307175359</td>\n",
       "      <td>2023-03-08</td>\n",
       "      <td>previous scrape</td>\n",
       "      <td>Private Room &amp; Bath near Sunset</td>\n",
       "      <td>Spacious \"New\" building in the heart of Hollyw...</td>\n",
       "      <td>NaN</td>\n",
       "      <td>https://a0.muscache.com/pictures/709f95bb-e1a1...</td>\n",
       "      <td>29901714</td>\n",
       "      <td>...</td>\n",
       "      <td>0</td>\n",
       "      <td>1</td>\n",
       "      <td>0</td>\n",
       "      <td>0.01</td>\n",
       "      <td>1.0</td>\n",
       "      <td>0.45669</td>\n",
       "      <td>0.615255</td>\n",
       "      <td>10.0</td>\n",
       "      <td>5.0</td>\n",
       "      <td>6.0</td>\n",
       "    </tr>\n",
       "    <tr>\n",
       "      <th>11835</th>\n",
       "      <td>760172603230357402</td>\n",
       "      <td>https://www.airbnb.com/rooms/760172603230357402</td>\n",
       "      <td>20230307175359</td>\n",
       "      <td>2023-03-08</td>\n",
       "      <td>city scrape</td>\n",
       "      <td>Amazing private room/private bath in 2 bed 2 bath</td>\n",
       "      <td>This special place is close to everything, mak...</td>\n",
       "      <td>NaN</td>\n",
       "      <td>https://a0.muscache.com/pictures/miso/Hosting-...</td>\n",
       "      <td>62778880</td>\n",
       "      <td>...</td>\n",
       "      <td>1</td>\n",
       "      <td>1</td>\n",
       "      <td>0</td>\n",
       "      <td>NaN</td>\n",
       "      <td>1.0</td>\n",
       "      <td>0.45669</td>\n",
       "      <td>0.615255</td>\n",
       "      <td>10.0</td>\n",
       "      <td>5.0</td>\n",
       "      <td>6.0</td>\n",
       "    </tr>\n",
       "  </tbody>\n",
       "</table>\n",
       "<p>2 rows × 81 columns</p>\n",
       "</div>"
      ],
      "text/plain": [
       "                       id                                      listing_url  \\\n",
       "25478            11673505            https://www.airbnb.com/rooms/11673505   \n",
       "11835  760172603230357402  https://www.airbnb.com/rooms/760172603230357402   \n",
       "\n",
       "            scrape_id last_scraped           source  \\\n",
       "25478  20230307175359   2023-03-08  previous scrape   \n",
       "11835  20230307175359   2023-03-08      city scrape   \n",
       "\n",
       "                                                    name  \\\n",
       "25478                    Private Room & Bath near Sunset   \n",
       "11835  Amazing private room/private bath in 2 bed 2 bath   \n",
       "\n",
       "                                             description  \\\n",
       "25478  Spacious \"New\" building in the heart of Hollyw...   \n",
       "11835  This special place is close to everything, mak...   \n",
       "\n",
       "      neighborhood_overview  \\\n",
       "25478                   NaN   \n",
       "11835                   NaN   \n",
       "\n",
       "                                             picture_url   host_id  ...  \\\n",
       "25478  https://a0.muscache.com/pictures/709f95bb-e1a1...  29901714  ...   \n",
       "11835  https://a0.muscache.com/pictures/miso/Hosting-...  62778880  ...   \n",
       "\n",
       "      calculated_host_listings_count_entire_homes  \\\n",
       "25478                                           0   \n",
       "11835                                           1   \n",
       "\n",
       "      calculated_host_listings_count_private_rooms  \\\n",
       "25478                                            1   \n",
       "11835                                            1   \n",
       "\n",
       "      calculated_host_listings_count_shared_rooms reviews_per_month  \\\n",
       "25478                                           0              0.01   \n",
       "11835                                           0               NaN   \n",
       "\n",
       "      hotspot_from_listings hotspot_from_reviews  \\\n",
       "25478                   1.0              0.45669   \n",
       "11835                   1.0              0.45669   \n",
       "\n",
       "      hotspot_from_reviews_per_month category_hotness_from_listings  \\\n",
       "25478                       0.615255                           10.0   \n",
       "11835                       0.615255                           10.0   \n",
       "\n",
       "      category_hotness_from_reviews category_hotness_from_reviews_per_month  \n",
       "25478                           5.0                                     6.0  \n",
       "11835                           5.0                                     6.0  \n",
       "\n",
       "[2 rows x 81 columns]"
      ]
     },
     "execution_count": 35,
     "metadata": {},
     "output_type": "execute_result"
    }
   ],
   "source": [
    "df_priv[df_priv['hotspot_from_listings'] > 0.9].sample(2)"
   ]
  },
  {
   "cell_type": "code",
   "execution_count": 36,
   "id": "32eac720",
   "metadata": {},
   "outputs": [
    {
     "data": {
      "image/png": "[encoded data removed]",
      "text/plain": [
       "<Figure size 640x480 with 2 Axes>"
      ]
     },
     "metadata": {},
     "output_type": "display_data"
    }
   ],
   "source": [
    "cut_priv = df_priv[(df_priv['hotspot_from_listings'] > 0.6) & (df_priv['accommodates'] < 6)].copy()\n",
    "hotspot_corr = cut_priv[['hotspot_from_listings','hotspot_from_reviews','hotspot_from_reviews_per_month','price']].corr()\n",
    "sns.heatmap(hotspot_corr, annot=True)\n",
    "plt.show()"
   ]
  },
  {
   "cell_type": "code",
   "execution_count": 37,
   "id": "6f09bc08",
   "metadata": {},
   "outputs": [
    {
     "data": {
      "text/plain": [
       "Text(0, 0.5, 'price per night')"
      ]
     },
     "execution_count": 37,
     "metadata": {},
     "output_type": "execute_result"
    },
    {
     "data": {
      "image/png": "[encoded data removed]",
      "text/plain": [
       "<Figure size 640x480 with 1 Axes>"
      ]
     },
     "metadata": {},
     "output_type": "display_data"
    }
   ],
   "source": [
    "plt.scatter(df_priv['hotspot_from_listings'],df_priv['price'])\n",
    "plt.xlabel('hotspot based on listings')\n",
    "plt.ylabel('price per night')"
   ]
  },
  {
   "cell_type": "code",
   "execution_count": 38,
   "id": "31e796bf",
   "metadata": {},
   "outputs": [
    {
     "data": {
      "text/html": [
       "<div>\n",
       "<style scoped>\n",
       "    .dataframe tbody tr th:only-of-type {\n",
       "        vertical-align: middle;\n",
       "    }\n",
       "\n",
       "    .dataframe tbody tr th {\n",
       "        vertical-align: top;\n",
       "    }\n",
       "\n",
       "    .dataframe thead th {\n",
       "        text-align: right;\n",
       "    }\n",
       "</style>\n",
       "<table border=\"1\" class=\"dataframe\">\n",
       "  <thead>\n",
       "    <tr style=\"text-align: right;\">\n",
       "      <th></th>\n",
       "      <th>id</th>\n",
       "      <th>listing_url</th>\n",
       "      <th>scrape_id</th>\n",
       "      <th>last_scraped</th>\n",
       "      <th>source</th>\n",
       "      <th>name</th>\n",
       "      <th>description</th>\n",
       "      <th>neighborhood_overview</th>\n",
       "      <th>picture_url</th>\n",
       "      <th>host_id</th>\n",
       "      <th>...</th>\n",
       "      <th>calculated_host_listings_count_entire_homes</th>\n",
       "      <th>calculated_host_listings_count_private_rooms</th>\n",
       "      <th>calculated_host_listings_count_shared_rooms</th>\n",
       "      <th>reviews_per_month</th>\n",
       "      <th>hotspot_from_listings</th>\n",
       "      <th>hotspot_from_reviews</th>\n",
       "      <th>hotspot_from_reviews_per_month</th>\n",
       "      <th>category_hotness_from_listings</th>\n",
       "      <th>category_hotness_from_reviews</th>\n",
       "      <th>category_hotness_from_reviews_per_month</th>\n",
       "    </tr>\n",
       "  </thead>\n",
       "  <tbody>\n",
       "    <tr>\n",
       "      <th>15624</th>\n",
       "      <td>31574513</td>\n",
       "      <td>https://www.airbnb.com/rooms/31574513</td>\n",
       "      <td>20230307175359</td>\n",
       "      <td>2023-03-08</td>\n",
       "      <td>city scrape</td>\n",
       "      <td>Private Room by UNIVERSAL,WARNERBROS,DISNEY st...</td>\n",
       "      <td>We have a beautiful pool house, located in the...</td>\n",
       "      <td>Burbank is the heart of the entertainment indu...</td>\n",
       "      <td>https://a0.muscache.com/pictures/9beedbfe-5884...</td>\n",
       "      <td>31374204</td>\n",
       "      <td>...</td>\n",
       "      <td>6</td>\n",
       "      <td>12</td>\n",
       "      <td>0</td>\n",
       "      <td>0.04</td>\n",
       "      <td>0.058824</td>\n",
       "      <td>0.03944</td>\n",
       "      <td>0.06574</td>\n",
       "      <td>1.0</td>\n",
       "      <td>0.0</td>\n",
       "      <td>1.0</td>\n",
       "    </tr>\n",
       "  </tbody>\n",
       "</table>\n",
       "<p>1 rows × 81 columns</p>\n",
       "</div>"
      ],
      "text/plain": [
       "             id                            listing_url       scrape_id  \\\n",
       "15624  31574513  https://www.airbnb.com/rooms/31574513  20230307175359   \n",
       "\n",
       "      last_scraped       source  \\\n",
       "15624   2023-03-08  city scrape   \n",
       "\n",
       "                                                    name  \\\n",
       "15624  Private Room by UNIVERSAL,WARNERBROS,DISNEY st...   \n",
       "\n",
       "                                             description  \\\n",
       "15624  We have a beautiful pool house, located in the...   \n",
       "\n",
       "                                   neighborhood_overview  \\\n",
       "15624  Burbank is the heart of the entertainment indu...   \n",
       "\n",
       "                                             picture_url   host_id  ...  \\\n",
       "15624  https://a0.muscache.com/pictures/9beedbfe-5884...  31374204  ...   \n",
       "\n",
       "      calculated_host_listings_count_entire_homes  \\\n",
       "15624                                           6   \n",
       "\n",
       "      calculated_host_listings_count_private_rooms  \\\n",
       "15624                                           12   \n",
       "\n",
       "      calculated_host_listings_count_shared_rooms reviews_per_month  \\\n",
       "15624                                           0              0.04   \n",
       "\n",
       "      hotspot_from_listings hotspot_from_reviews  \\\n",
       "15624              0.058824              0.03944   \n",
       "\n",
       "      hotspot_from_reviews_per_month category_hotness_from_listings  \\\n",
       "15624                        0.06574                            1.0   \n",
       "\n",
       "      category_hotness_from_reviews category_hotness_from_reviews_per_month  \n",
       "15624                           0.0                                     1.0  \n",
       "\n",
       "[1 rows x 81 columns]"
      ]
     },
     "execution_count": 38,
     "metadata": {},
     "output_type": "execute_result"
    }
   ],
   "source": [
    "df_priv[df_priv['price'] == df_priv['price'].max()]"
   ]
  },
  {
   "cell_type": "code",
   "execution_count": 39,
   "id": "566025db",
   "metadata": {},
   "outputs": [
    {
     "data": {
      "text/plain": [
       "1890.0"
      ]
     },
     "execution_count": 39,
     "metadata": {},
     "output_type": "execute_result"
    }
   ],
   "source": [
    "df_priv.price.max()"
   ]
  },
  {
   "cell_type": "code",
   "execution_count": 40,
   "id": "0ddd43dd",
   "metadata": {},
   "outputs": [
    {
     "data": {
      "text/html": [
       "<div>\n",
       "<style scoped>\n",
       "    .dataframe tbody tr th:only-of-type {\n",
       "        vertical-align: middle;\n",
       "    }\n",
       "\n",
       "    .dataframe tbody tr th {\n",
       "        vertical-align: top;\n",
       "    }\n",
       "\n",
       "    .dataframe thead th {\n",
       "        text-align: right;\n",
       "    }\n",
       "</style>\n",
       "<table border=\"1\" class=\"dataframe\">\n",
       "  <thead>\n",
       "    <tr style=\"text-align: right;\">\n",
       "      <th></th>\n",
       "      <th>id</th>\n",
       "      <th>listing_url</th>\n",
       "      <th>scrape_id</th>\n",
       "      <th>last_scraped</th>\n",
       "      <th>source</th>\n",
       "      <th>name</th>\n",
       "      <th>description</th>\n",
       "      <th>neighborhood_overview</th>\n",
       "      <th>picture_url</th>\n",
       "      <th>host_id</th>\n",
       "      <th>...</th>\n",
       "      <th>calculated_host_listings_count_entire_homes</th>\n",
       "      <th>calculated_host_listings_count_private_rooms</th>\n",
       "      <th>calculated_host_listings_count_shared_rooms</th>\n",
       "      <th>reviews_per_month</th>\n",
       "      <th>hotspot_from_listings</th>\n",
       "      <th>hotspot_from_reviews</th>\n",
       "      <th>hotspot_from_reviews_per_month</th>\n",
       "      <th>category_hotness_from_listings</th>\n",
       "      <th>category_hotness_from_reviews</th>\n",
       "      <th>category_hotness_from_reviews_per_month</th>\n",
       "    </tr>\n",
       "  </thead>\n",
       "  <tbody>\n",
       "    <tr>\n",
       "      <th>3951</th>\n",
       "      <td>831627029021409949</td>\n",
       "      <td>https://www.airbnb.com/rooms/831627029021409949</td>\n",
       "      <td>20230307175359</td>\n",
       "      <td>2023-03-08</td>\n",
       "      <td>city scrape</td>\n",
       "      <td>505 - Private Space w/Female</td>\n",
       "      <td>You'll have a great time at this comfortable p...</td>\n",
       "      <td>NaN</td>\n",
       "      <td>https://a0.muscache.com/pictures/214463aa-6ae9...</td>\n",
       "      <td>179580368</td>\n",
       "      <td>...</td>\n",
       "      <td>10</td>\n",
       "      <td>1</td>\n",
       "      <td>0</td>\n",
       "      <td>NaN</td>\n",
       "      <td>0.339869</td>\n",
       "      <td>0.095835</td>\n",
       "      <td>0.059321</td>\n",
       "      <td>3.0</td>\n",
       "      <td>1.0</td>\n",
       "      <td>1.0</td>\n",
       "    </tr>\n",
       "    <tr>\n",
       "      <th>545</th>\n",
       "      <td>649939430496963824</td>\n",
       "      <td>https://www.airbnb.com/rooms/649939430496963824</td>\n",
       "      <td>20230307175359</td>\n",
       "      <td>2023-03-07</td>\n",
       "      <td>city scrape</td>\n",
       "      <td>Prime Location! 4 Great Units, Pool, Restaurant</td>\n",
       "      <td>Feel refreshed and restored when you stay at t...</td>\n",
       "      <td>- Hermosa Beach Pier - 5.9 miles; &lt;br /&gt;- Manh...</td>\n",
       "      <td>https://a0.muscache.com/pictures/prohost-api/H...</td>\n",
       "      <td>25138314</td>\n",
       "      <td>...</td>\n",
       "      <td>0</td>\n",
       "      <td>10</td>\n",
       "      <td>0</td>\n",
       "      <td>0.34</td>\n",
       "      <td>0.137255</td>\n",
       "      <td>0.181165</td>\n",
       "      <td>0.096950</td>\n",
       "      <td>1.0</td>\n",
       "      <td>2.0</td>\n",
       "      <td>1.0</td>\n",
       "    </tr>\n",
       "  </tbody>\n",
       "</table>\n",
       "<p>2 rows × 81 columns</p>\n",
       "</div>"
      ],
      "text/plain": [
       "                      id                                      listing_url  \\\n",
       "3951  831627029021409949  https://www.airbnb.com/rooms/831627029021409949   \n",
       "545   649939430496963824  https://www.airbnb.com/rooms/649939430496963824   \n",
       "\n",
       "           scrape_id last_scraped       source  \\\n",
       "3951  20230307175359   2023-03-08  city scrape   \n",
       "545   20230307175359   2023-03-07  city scrape   \n",
       "\n",
       "                                                 name  \\\n",
       "3951                     505 - Private Space w/Female   \n",
       "545   Prime Location! 4 Great Units, Pool, Restaurant   \n",
       "\n",
       "                                            description  \\\n",
       "3951  You'll have a great time at this comfortable p...   \n",
       "545   Feel refreshed and restored when you stay at t...   \n",
       "\n",
       "                                  neighborhood_overview  \\\n",
       "3951                                                NaN   \n",
       "545   - Hermosa Beach Pier - 5.9 miles; <br />- Manh...   \n",
       "\n",
       "                                            picture_url    host_id  ...  \\\n",
       "3951  https://a0.muscache.com/pictures/214463aa-6ae9...  179580368  ...   \n",
       "545   https://a0.muscache.com/pictures/prohost-api/H...   25138314  ...   \n",
       "\n",
       "     calculated_host_listings_count_entire_homes  \\\n",
       "3951                                          10   \n",
       "545                                            0   \n",
       "\n",
       "     calculated_host_listings_count_private_rooms  \\\n",
       "3951                                            1   \n",
       "545                                            10   \n",
       "\n",
       "     calculated_host_listings_count_shared_rooms reviews_per_month  \\\n",
       "3951                                           0               NaN   \n",
       "545                                            0              0.34   \n",
       "\n",
       "     hotspot_from_listings hotspot_from_reviews  \\\n",
       "3951              0.339869             0.095835   \n",
       "545               0.137255             0.181165   \n",
       "\n",
       "     hotspot_from_reviews_per_month category_hotness_from_listings  \\\n",
       "3951                       0.059321                            3.0   \n",
       "545                        0.096950                            1.0   \n",
       "\n",
       "     category_hotness_from_reviews category_hotness_from_reviews_per_month  \n",
       "3951                           1.0                                     1.0  \n",
       "545                            2.0                                     1.0  \n",
       "\n",
       "[2 rows x 81 columns]"
      ]
     },
     "execution_count": 40,
     "metadata": {},
     "output_type": "execute_result"
    }
   ],
   "source": [
    "df_priv[df_priv['accommodates'] == df_priv.accommodates.max()].sample(2)"
   ]
  },
  {
   "cell_type": "code",
   "execution_count": 41,
   "id": "84c7deae",
   "metadata": {},
   "outputs": [
    {
     "data": {
      "text/plain": [
       "16"
      ]
     },
     "execution_count": 41,
     "metadata": {},
     "output_type": "execute_result"
    }
   ],
   "source": [
    "df_priv.accommodates.max()"
   ]
  },
  {
   "cell_type": "code",
   "execution_count": 42,
   "id": "51857350",
   "metadata": {},
   "outputs": [
    {
     "data": {
      "image/png": "[encoded data removed]",
      "text/plain": [
       "<Figure size 640x480 with 2 Axes>"
      ]
     },
     "metadata": {},
     "output_type": "display_data"
    }
   ],
   "source": [
    "hotspot_corr = cut_priv[['hotspot_from_listings','hotspot_from_reviews','hotspot_from_reviews_per_month']].corr()\n",
    "sns.heatmap(hotspot_corr, annot=True)\n",
    "plt.show()"
   ]
  },
  {
   "cell_type": "code",
   "execution_count": 43,
   "id": "d3101b5b",
   "metadata": {},
   "outputs": [],
   "source": [
    "import keras\n",
    "from keras import models\n",
    "from keras import layers\n",
    "from keras import optimizers\n",
    "from keras import losses\n",
    "from keras import metrics\n",
    "from keras.utils.np_utils import to_categorical"
   ]
  },
  {
   "cell_type": "code",
   "execution_count": 44,
   "id": "c52a0f98",
   "metadata": {},
   "outputs": [],
   "source": [
    "## we first make an empty model\n",
    "## Sequential means we'll make a group\n",
    "## of a linear stack of layers\n",
    "model = models.Sequential()"
   ]
  },
  {
   "cell_type": "code",
   "execution_count": 45,
   "id": "f2d44f7d",
   "metadata": {},
   "outputs": [],
   "source": [
    "###### ONLY RUN THIS ONCE! ##########\n",
    "\n",
    "## you add a layer with .add()\n",
    "## A Dense layer means a fully connected feedforward layer\n",
    "## the 16 means the layer is 16 nodes tall\n",
    "## activation='relu' means the layer uses a relu activation function\n",
    "## the first layer needs to be told the shape of the input data\n",
    "model.add(layers.Dense(16, activation = 'relu', input_shape=(2,)))\n",
    "\n",
    "# we then add a second layer that is 16 nodes tall\n",
    "# and uses the relu activation function\n",
    "# note we don't need the input shape here, \n",
    "# it is inferred from the first layer's output\n",
    "model.add(layers.Dense(16, activation = 'relu'))\n",
    "\n",
    "\n",
    "# finally we add the output layer\n",
    "# this will have a single node, representing a probability\n",
    "# that the observation has positive sentiment\n",
    "# this is why the activation is a softmax\n",
    "# for more information on the softmax see the Practice Problems\n",
    "model.add(layers.Dense(11, activation = 'softmax'))"
   ]
  },
  {
   "cell_type": "code",
   "execution_count": 46,
   "id": "b7a5f8f1",
   "metadata": {},
   "outputs": [
    {
     "name": "stdout",
     "output_type": "stream",
     "text": [
      "Model: \"sequential\"\n",
      "_________________________________________________________________\n",
      " Layer (type)                Output Shape              Param #   \n",
      "=================================================================\n",
      " dense (Dense)               (None, 16)                48        \n",
      "                                                                 \n",
      " dense_1 (Dense)             (None, 16)                272       \n",
      "                                                                 \n",
      " dense_2 (Dense)             (None, 11)                187       \n",
      "                                                                 \n",
      "=================================================================\n",
      "Total params: 507\n",
      "Trainable params: 507\n",
      "Non-trainable params: 0\n",
      "_________________________________________________________________\n"
     ]
    }
   ],
   "source": [
    "model.summary()"
   ]
  },
  {
   "cell_type": "code",
   "execution_count": 47,
   "id": "a986aeb4",
   "metadata": {},
   "outputs": [],
   "source": [
    "## we compile the network like so\n",
    "## call .compile\n",
    "## set our optimizer, optimizer='rmsprop'\n",
    "## set our loss, loss='categorical_crossentropy'\n",
    "## set our desired metrics, metrics=['accuracy']\n",
    "model.compile(optimizer='rmsprop', \n",
    "                 loss='categorical_crossentropy',\n",
    "                 metrics=['accuracy'])"
   ]
  },
  {
   "cell_type": "code",
   "execution_count": 48,
   "id": "48017146",
   "metadata": {},
   "outputs": [],
   "source": [
    "X = df_priv[['latitude','longitude']]\n",
    "y = df_priv['category_hotness_from_listings']\n",
    "\n",
    "X_train, X_test, y_train, y_test = train_test_split(X,y,\n",
    "                                                       test_size=.2,\n",
    "                                                       shuffle=True,\n",
    "                                                       random_state=124,\n",
    "                                                       stratify=y)"
   ]
  },
  {
   "cell_type": "code",
   "execution_count": 49,
   "id": "93d71282",
   "metadata": {},
   "outputs": [
    {
     "data": {
      "text/plain": [
       "(11999, 2)"
      ]
     },
     "execution_count": 49,
     "metadata": {},
     "output_type": "execute_result"
    }
   ],
   "source": [
    "X.shape"
   ]
  },
  {
   "cell_type": "code",
   "execution_count": 50,
   "id": "ebbcf2dc",
   "metadata": {},
   "outputs": [],
   "source": [
    "X_train_train, X_val, y_train_train, y_val = train_test_split(X_train, y_train,\n",
    "                                                                 test_size=.2,\n",
    "                                                                   shuffle=True,\n",
    "                                                                   random_state=41,\n",
    "                                                                   stratify=y_train)"
   ]
  },
  {
   "cell_type": "code",
   "execution_count": 51,
   "id": "1a1dd277",
   "metadata": {},
   "outputs": [
    {
     "name": "stdout",
     "output_type": "stream",
     "text": [
      "27808    2.0\n",
      "9239     2.0\n",
      "17647    2.0\n",
      "12522    1.0\n",
      "10425    2.0\n",
      "        ... \n",
      "36106    2.0\n",
      "28644    2.0\n",
      "31593    1.0\n",
      "15688    1.0\n",
      "28248    0.0\n",
      "Name: category_hotness_from_listings, Length: 7679, dtype: float64\n",
      "\n",
      "\n",
      "\n",
      "\n",
      "[[0. 0. 1. ... 0. 0. 0.]\n",
      " [0. 0. 1. ... 0. 0. 0.]\n",
      " [0. 0. 1. ... 0. 0. 0.]\n",
      " ...\n",
      " [0. 1. 0. ... 0. 0. 0.]\n",
      " [0. 1. 0. ... 0. 0. 0.]\n",
      " [1. 0. 0. ... 0. 0. 0.]]\n",
      "(7679, 11)\n",
      "(1920, 2)\n"
     ]
    }
   ],
   "source": [
    "print(y_train_train)\n",
    "print(\"\\n\\n\\n\")\n",
    "print(to_categorical(y_train_train))\n",
    "print(to_categorical(y_train_train).shape)\n",
    "print(X_val.shape)"
   ]
  },
  {
   "cell_type": "code",
   "execution_count": 52,
   "id": "ba9c5f9a",
   "metadata": {},
   "outputs": [
    {
     "name": "stdout",
     "output_type": "stream",
     "text": [
      "(7679, 11)\n",
      "(1920, 11)\n",
      "(7679, 2)\n",
      "(1920, 2)\n"
     ]
    }
   ],
   "source": [
    "print(to_categorical(y_train_train).shape)\n",
    "print(to_categorical(y_val).shape)\n",
    "print(X_train_train.shape)\n",
    "print(X_val.shape)"
   ]
  },
  {
   "cell_type": "code",
   "execution_count": 53,
   "id": "14d92ab0",
   "metadata": {},
   "outputs": [
    {
     "name": "stdout",
     "output_type": "stream",
     "text": [
      "Epoch 1/100\n",
      "15/15 [==============================] - 1s 15ms/step - loss: 6.4375 - accuracy: 0.0918 - val_loss: 3.9264 - val_accuracy: 0.1677\n",
      "Epoch 2/100\n",
      "15/15 [==============================] - 0s 3ms/step - loss: 2.9009 - accuracy: 0.1567 - val_loss: 2.1682 - val_accuracy: 0.0672\n",
      "Epoch 3/100\n",
      "15/15 [==============================] - 0s 3ms/step - loss: 1.9490 - accuracy: 0.1419 - val_loss: 1.7669 - val_accuracy: 0.1677\n",
      "Epoch 4/100\n",
      "15/15 [==============================] - 0s 3ms/step - loss: 1.7065 - accuracy: 0.3123 - val_loss: 1.6630 - val_accuracy: 0.3370\n",
      "Epoch 5/100\n",
      "15/15 [==============================] - 0s 3ms/step - loss: 1.6609 - accuracy: 0.3258 - val_loss: 1.6501 - val_accuracy: 0.3370\n",
      "Epoch 6/100\n",
      "15/15 [==============================] - 0s 3ms/step - loss: 1.6564 - accuracy: 0.3316 - val_loss: 1.6570 - val_accuracy: 0.3370\n",
      "Epoch 7/100\n",
      "15/15 [==============================] - 0s 3ms/step - loss: 1.6569 - accuracy: 0.3231 - val_loss: 1.6467 - val_accuracy: 0.3370\n",
      "Epoch 8/100\n",
      "15/15 [==============================] - 0s 3ms/step - loss: 1.6557 - accuracy: 0.3228 - val_loss: 1.6927 - val_accuracy: 0.3370\n",
      "Epoch 9/100\n",
      "15/15 [==============================] - 0s 3ms/step - loss: 1.6518 - accuracy: 0.3267 - val_loss: 1.6490 - val_accuracy: 0.3370\n",
      "Epoch 10/100\n",
      "15/15 [==============================] - 0s 3ms/step - loss: 1.6579 - accuracy: 0.3263 - val_loss: 1.6449 - val_accuracy: 0.3370\n",
      "Epoch 11/100\n",
      "15/15 [==============================] - 0s 3ms/step - loss: 1.6554 - accuracy: 0.3176 - val_loss: 1.6723 - val_accuracy: 0.2719\n",
      "Epoch 12/100\n",
      "15/15 [==============================] - 0s 3ms/step - loss: 1.6513 - accuracy: 0.3222 - val_loss: 1.6643 - val_accuracy: 0.3370\n",
      "Epoch 13/100\n",
      "15/15 [==============================] - 0s 3ms/step - loss: 1.6539 - accuracy: 0.3292 - val_loss: 1.6547 - val_accuracy: 0.3370\n",
      "Epoch 14/100\n",
      "15/15 [==============================] - 0s 3ms/step - loss: 1.6540 - accuracy: 0.3159 - val_loss: 1.6657 - val_accuracy: 0.2719\n",
      "Epoch 15/100\n",
      "15/15 [==============================] - 0s 3ms/step - loss: 1.6582 - accuracy: 0.3166 - val_loss: 1.6553 - val_accuracy: 0.2719\n",
      "Epoch 16/100\n",
      "15/15 [==============================] - 0s 3ms/step - loss: 1.6539 - accuracy: 0.3116 - val_loss: 1.6503 - val_accuracy: 0.3370\n",
      "Epoch 17/100\n",
      "15/15 [==============================] - 0s 3ms/step - loss: 1.6557 - accuracy: 0.3263 - val_loss: 1.6475 - val_accuracy: 0.3370\n",
      "Epoch 18/100\n",
      "15/15 [==============================] - 0s 3ms/step - loss: 1.6520 - accuracy: 0.3201 - val_loss: 1.6452 - val_accuracy: 0.3370\n",
      "Epoch 19/100\n",
      "15/15 [==============================] - 0s 3ms/step - loss: 1.6523 - accuracy: 0.3240 - val_loss: 1.6559 - val_accuracy: 0.2719\n",
      "Epoch 20/100\n",
      "15/15 [==============================] - 0s 3ms/step - loss: 1.6516 - accuracy: 0.3254 - val_loss: 1.6513 - val_accuracy: 0.2719\n",
      "Epoch 21/100\n",
      "15/15 [==============================] - 0s 3ms/step - loss: 1.6558 - accuracy: 0.3115 - val_loss: 1.6563 - val_accuracy: 0.2719\n",
      "Epoch 22/100\n",
      "15/15 [==============================] - 0s 3ms/step - loss: 1.6531 - accuracy: 0.3192 - val_loss: 1.6509 - val_accuracy: 0.3370\n",
      "Epoch 23/100\n",
      "15/15 [==============================] - 0s 2ms/step - loss: 1.6528 - accuracy: 0.3174 - val_loss: 1.6444 - val_accuracy: 0.3370\n",
      "Epoch 24/100\n",
      "15/15 [==============================] - 0s 3ms/step - loss: 1.6497 - accuracy: 0.3200 - val_loss: 1.6484 - val_accuracy: 0.3370\n",
      "Epoch 25/100\n",
      "15/15 [==============================] - 0s 3ms/step - loss: 1.6552 - accuracy: 0.3068 - val_loss: 1.6447 - val_accuracy: 0.3370\n",
      "Epoch 26/100\n",
      "15/15 [==============================] - 0s 3ms/step - loss: 1.6514 - accuracy: 0.3176 - val_loss: 1.6481 - val_accuracy: 0.3370\n",
      "Epoch 27/100\n",
      "15/15 [==============================] - 0s 2ms/step - loss: 1.6516 - accuracy: 0.3273 - val_loss: 1.6635 - val_accuracy: 0.2719\n",
      "Epoch 28/100\n",
      "15/15 [==============================] - 0s 3ms/step - loss: 1.6593 - accuracy: 0.2987 - val_loss: 1.6639 - val_accuracy: 0.3370\n",
      "Epoch 29/100\n",
      "15/15 [==============================] - 0s 2ms/step - loss: 1.6505 - accuracy: 0.3236 - val_loss: 1.6619 - val_accuracy: 0.2719\n",
      "Epoch 30/100\n",
      "15/15 [==============================] - 0s 3ms/step - loss: 1.6530 - accuracy: 0.3063 - val_loss: 1.6474 - val_accuracy: 0.3370\n",
      "Epoch 31/100\n",
      "15/15 [==============================] - 0s 3ms/step - loss: 1.6578 - accuracy: 0.3161 - val_loss: 1.6452 - val_accuracy: 0.3370\n",
      "Epoch 32/100\n",
      "15/15 [==============================] - 0s 3ms/step - loss: 1.6512 - accuracy: 0.3279 - val_loss: 1.6447 - val_accuracy: 0.3370\n",
      "Epoch 33/100\n",
      "15/15 [==============================] - 0s 3ms/step - loss: 1.6532 - accuracy: 0.3202 - val_loss: 1.6441 - val_accuracy: 0.3370\n",
      "Epoch 34/100\n",
      "15/15 [==============================] - 0s 3ms/step - loss: 1.6489 - accuracy: 0.3287 - val_loss: 1.6577 - val_accuracy: 0.2719\n",
      "Epoch 35/100\n",
      "15/15 [==============================] - 0s 2ms/step - loss: 1.6499 - accuracy: 0.3184 - val_loss: 1.6562 - val_accuracy: 0.2719\n",
      "Epoch 36/100\n",
      "15/15 [==============================] - 0s 2ms/step - loss: 1.6519 - accuracy: 0.3150 - val_loss: 1.6517 - val_accuracy: 0.2719\n",
      "Epoch 37/100\n",
      "15/15 [==============================] - 0s 2ms/step - loss: 1.6566 - accuracy: 0.3141 - val_loss: 1.6444 - val_accuracy: 0.3370\n",
      "Epoch 38/100\n",
      "15/15 [==============================] - 0s 2ms/step - loss: 1.6501 - accuracy: 0.3292 - val_loss: 1.6806 - val_accuracy: 0.2719\n",
      "Epoch 39/100\n",
      "15/15 [==============================] - 0s 3ms/step - loss: 1.6528 - accuracy: 0.3218 - val_loss: 1.6516 - val_accuracy: 0.3370\n",
      "Epoch 40/100\n",
      "15/15 [==============================] - 0s 3ms/step - loss: 1.6523 - accuracy: 0.3257 - val_loss: 1.6473 - val_accuracy: 0.3370\n",
      "Epoch 41/100\n",
      "15/15 [==============================] - 0s 2ms/step - loss: 1.6477 - accuracy: 0.3325 - val_loss: 1.6534 - val_accuracy: 0.3370\n",
      "Epoch 42/100\n",
      "15/15 [==============================] - 0s 3ms/step - loss: 1.6572 - accuracy: 0.3097 - val_loss: 1.6487 - val_accuracy: 0.3370\n",
      "Epoch 43/100\n",
      "15/15 [==============================] - 0s 2ms/step - loss: 1.6512 - accuracy: 0.3207 - val_loss: 1.6447 - val_accuracy: 0.3370\n",
      "Epoch 44/100\n",
      "15/15 [==============================] - 0s 3ms/step - loss: 1.6503 - accuracy: 0.3247 - val_loss: 1.6488 - val_accuracy: 0.3370\n",
      "Epoch 45/100\n",
      "15/15 [==============================] - 0s 3ms/step - loss: 1.6484 - accuracy: 0.3335 - val_loss: 1.6450 - val_accuracy: 0.3370\n",
      "Epoch 46/100\n",
      "15/15 [==============================] - 0s 3ms/step - loss: 1.6533 - accuracy: 0.3144 - val_loss: 1.6459 - val_accuracy: 0.3370\n",
      "Epoch 47/100\n",
      "15/15 [==============================] - 0s 3ms/step - loss: 1.6538 - accuracy: 0.3197 - val_loss: 1.6457 - val_accuracy: 0.3370\n",
      "Epoch 48/100\n",
      "15/15 [==============================] - 0s 3ms/step - loss: 1.6537 - accuracy: 0.3269 - val_loss: 1.6435 - val_accuracy: 0.3370\n",
      "Epoch 49/100\n",
      "15/15 [==============================] - 0s 2ms/step - loss: 1.6533 - accuracy: 0.3252 - val_loss: 1.6436 - val_accuracy: 0.3370\n",
      "Epoch 50/100\n",
      "15/15 [==============================] - 0s 3ms/step - loss: 1.6479 - accuracy: 0.3278 - val_loss: 1.6451 - val_accuracy: 0.3370\n",
      "Epoch 51/100\n",
      "15/15 [==============================] - 0s 2ms/step - loss: 1.6550 - accuracy: 0.3175 - val_loss: 1.6456 - val_accuracy: 0.3370\n",
      "Epoch 52/100\n",
      "15/15 [==============================] - 0s 2ms/step - loss: 1.6549 - accuracy: 0.3052 - val_loss: 1.6442 - val_accuracy: 0.3370\n",
      "Epoch 53/100\n",
      "15/15 [==============================] - 0s 3ms/step - loss: 1.6488 - accuracy: 0.3368 - val_loss: 1.6489 - val_accuracy: 0.3370\n",
      "Epoch 54/100\n",
      "15/15 [==============================] - 0s 2ms/step - loss: 1.6576 - accuracy: 0.3187 - val_loss: 1.6446 - val_accuracy: 0.3370\n",
      "Epoch 55/100\n",
      "15/15 [==============================] - 0s 2ms/step - loss: 1.6474 - accuracy: 0.3299 - val_loss: 1.6488 - val_accuracy: 0.3370\n",
      "Epoch 56/100\n",
      "15/15 [==============================] - 0s 2ms/step - loss: 1.6516 - accuracy: 0.3266 - val_loss: 1.6462 - val_accuracy: 0.3370\n",
      "Epoch 57/100\n",
      "15/15 [==============================] - 0s 3ms/step - loss: 1.6490 - accuracy: 0.3335 - val_loss: 1.6568 - val_accuracy: 0.3370\n",
      "Epoch 58/100\n",
      "15/15 [==============================] - 0s 2ms/step - loss: 1.6540 - accuracy: 0.3204 - val_loss: 1.6441 - val_accuracy: 0.3370\n",
      "Epoch 59/100\n",
      "15/15 [==============================] - 0s 2ms/step - loss: 1.6515 - accuracy: 0.3174 - val_loss: 1.6681 - val_accuracy: 0.3370\n",
      "Epoch 60/100\n",
      "15/15 [==============================] - 0s 2ms/step - loss: 1.6516 - accuracy: 0.3231 - val_loss: 1.6486 - val_accuracy: 0.3370\n",
      "Epoch 61/100\n",
      "15/15 [==============================] - 0s 3ms/step - loss: 1.6523 - accuracy: 0.3204 - val_loss: 1.6443 - val_accuracy: 0.3370\n",
      "Epoch 62/100\n",
      "15/15 [==============================] - 0s 2ms/step - loss: 1.6561 - accuracy: 0.3198 - val_loss: 1.6505 - val_accuracy: 0.3370\n",
      "Epoch 63/100\n",
      "15/15 [==============================] - 0s 3ms/step - loss: 1.6469 - accuracy: 0.3286 - val_loss: 1.6564 - val_accuracy: 0.2719\n",
      "Epoch 64/100\n",
      "15/15 [==============================] - 0s 2ms/step - loss: 1.6554 - accuracy: 0.3140 - val_loss: 1.6451 - val_accuracy: 0.3370\n",
      "Epoch 65/100\n",
      "15/15 [==============================] - 0s 2ms/step - loss: 1.6488 - accuracy: 0.3269 - val_loss: 1.6649 - val_accuracy: 0.3370\n",
      "Epoch 66/100\n",
      "15/15 [==============================] - 0s 2ms/step - loss: 1.6516 - accuracy: 0.3256 - val_loss: 1.6504 - val_accuracy: 0.2719\n",
      "Epoch 67/100\n",
      "15/15 [==============================] - 0s 3ms/step - loss: 1.6516 - accuracy: 0.3150 - val_loss: 1.6481 - val_accuracy: 0.2703\n",
      "Epoch 68/100\n",
      "15/15 [==============================] - 0s 3ms/step - loss: 1.6519 - accuracy: 0.3205 - val_loss: 1.6712 - val_accuracy: 0.3370\n",
      "Epoch 69/100\n",
      "15/15 [==============================] - 0s 2ms/step - loss: 1.6501 - accuracy: 0.3336 - val_loss: 1.6441 - val_accuracy: 0.3370\n",
      "Epoch 70/100\n",
      "15/15 [==============================] - 0s 2ms/step - loss: 1.6545 - accuracy: 0.3184 - val_loss: 1.6608 - val_accuracy: 0.2719\n",
      "Epoch 71/100\n",
      "15/15 [==============================] - 0s 2ms/step - loss: 1.6493 - accuracy: 0.3266 - val_loss: 1.6515 - val_accuracy: 0.3370\n",
      "Epoch 72/100\n",
      "15/15 [==============================] - 0s 2ms/step - loss: 1.6495 - accuracy: 0.3301 - val_loss: 1.6438 - val_accuracy: 0.3370\n",
      "Epoch 73/100\n",
      "15/15 [==============================] - 0s 2ms/step - loss: 1.6524 - accuracy: 0.3167 - val_loss: 1.6623 - val_accuracy: 0.2719\n",
      "Epoch 74/100\n",
      "15/15 [==============================] - 0s 2ms/step - loss: 1.6517 - accuracy: 0.3269 - val_loss: 1.6475 - val_accuracy: 0.3370\n",
      "Epoch 75/100\n",
      "15/15 [==============================] - 0s 2ms/step - loss: 1.6481 - accuracy: 0.3283 - val_loss: 1.6492 - val_accuracy: 0.3370\n",
      "Epoch 76/100\n",
      "15/15 [==============================] - 0s 2ms/step - loss: 1.6532 - accuracy: 0.3149 - val_loss: 1.6648 - val_accuracy: 0.3370\n",
      "Epoch 77/100\n",
      "15/15 [==============================] - 0s 2ms/step - loss: 1.6508 - accuracy: 0.3184 - val_loss: 1.6543 - val_accuracy: 0.2719\n",
      "Epoch 78/100\n",
      "15/15 [==============================] - 0s 2ms/step - loss: 1.6535 - accuracy: 0.3067 - val_loss: 1.6444 - val_accuracy: 0.3370\n",
      "Epoch 79/100\n",
      "15/15 [==============================] - 0s 2ms/step - loss: 1.6500 - accuracy: 0.3278 - val_loss: 1.6701 - val_accuracy: 0.3370\n",
      "Epoch 80/100\n",
      "15/15 [==============================] - 0s 2ms/step - loss: 1.6525 - accuracy: 0.3111 - val_loss: 1.6577 - val_accuracy: 0.3370\n",
      "Epoch 81/100\n",
      "15/15 [==============================] - 0s 2ms/step - loss: 1.6503 - accuracy: 0.3204 - val_loss: 1.6442 - val_accuracy: 0.3370\n",
      "Epoch 82/100\n",
      "15/15 [==============================] - 0s 2ms/step - loss: 1.6498 - accuracy: 0.3339 - val_loss: 1.6488 - val_accuracy: 0.3370\n",
      "Epoch 83/100\n",
      "15/15 [==============================] - 0s 3ms/step - loss: 1.6562 - accuracy: 0.3107 - val_loss: 1.6451 - val_accuracy: 0.3370\n",
      "Epoch 84/100\n",
      "15/15 [==============================] - 0s 2ms/step - loss: 1.6495 - accuracy: 0.3360 - val_loss: 1.6591 - val_accuracy: 0.2719\n",
      "Epoch 85/100\n",
      "15/15 [==============================] - 0s 2ms/step - loss: 1.6499 - accuracy: 0.3204 - val_loss: 1.6487 - val_accuracy: 0.2719\n",
      "Epoch 86/100\n",
      "15/15 [==============================] - 0s 3ms/step - loss: 1.6509 - accuracy: 0.3249 - val_loss: 1.6468 - val_accuracy: 0.3370\n",
      "Epoch 87/100\n",
      "15/15 [==============================] - 0s 2ms/step - loss: 1.6496 - accuracy: 0.3283 - val_loss: 1.6488 - val_accuracy: 0.2719\n",
      "Epoch 88/100\n",
      "15/15 [==============================] - 0s 2ms/step - loss: 1.6484 - accuracy: 0.3286 - val_loss: 1.6566 - val_accuracy: 0.3370\n",
      "Epoch 89/100\n",
      "15/15 [==============================] - 0s 3ms/step - loss: 1.6534 - accuracy: 0.3161 - val_loss: 1.6591 - val_accuracy: 0.3370\n",
      "Epoch 90/100\n",
      "15/15 [==============================] - 0s 3ms/step - loss: 1.6485 - accuracy: 0.3300 - val_loss: 1.6484 - val_accuracy: 0.3370\n",
      "Epoch 91/100\n",
      "15/15 [==============================] - 0s 3ms/step - loss: 1.6478 - accuracy: 0.3289 - val_loss: 1.6461 - val_accuracy: 0.3370\n",
      "Epoch 92/100\n",
      "15/15 [==============================] - 0s 3ms/step - loss: 1.6526 - accuracy: 0.3232 - val_loss: 1.6520 - val_accuracy: 0.3370\n",
      "Epoch 93/100\n",
      "15/15 [==============================] - 0s 3ms/step - loss: 1.6499 - accuracy: 0.3273 - val_loss: 1.6428 - val_accuracy: 0.3370\n",
      "Epoch 94/100\n",
      "15/15 [==============================] - 0s 2ms/step - loss: 1.6521 - accuracy: 0.3322 - val_loss: 1.6450 - val_accuracy: 0.3370\n",
      "Epoch 95/100\n",
      "15/15 [==============================] - 0s 3ms/step - loss: 1.6536 - accuracy: 0.3193 - val_loss: 1.6453 - val_accuracy: 0.3370\n",
      "Epoch 96/100\n",
      "15/15 [==============================] - 0s 3ms/step - loss: 1.6483 - accuracy: 0.3306 - val_loss: 1.6661 - val_accuracy: 0.3370\n",
      "Epoch 97/100\n",
      "15/15 [==============================] - 0s 3ms/step - loss: 1.6498 - accuracy: 0.3321 - val_loss: 1.6634 - val_accuracy: 0.2719\n",
      "Epoch 98/100\n",
      "15/15 [==============================] - 0s 3ms/step - loss: 1.6510 - accuracy: 0.3233 - val_loss: 1.6486 - val_accuracy: 0.3370\n",
      "Epoch 99/100\n",
      "15/15 [==============================] - 0s 3ms/step - loss: 1.6522 - accuracy: 0.3157 - val_loss: 1.6715 - val_accuracy: 0.3370\n",
      "Epoch 100/100\n",
      "15/15 [==============================] - 0s 3ms/step - loss: 1.6522 - accuracy: 0.3273 - val_loss: 1.6486 - val_accuracy: 0.2719\n"
     ]
    }
   ],
   "source": [
    "## I now fit the model, and store the training history\n",
    "## I use 100 epochs and a batch_size of 512\n",
    "n_epochs = 100\n",
    "batch_size = 512\n",
    "\n",
    "history = model.fit(X_train_train, to_categorical(y_train_train),\n",
    "                       epochs = n_epochs,\n",
    "                       batch_size = batch_size,\n",
    "                       validation_data = (X_val, to_categorical(y_val)))"
   ]
  },
  {
   "cell_type": "code",
   "execution_count": 54,
   "id": "8878dac4",
   "metadata": {},
   "outputs": [
    {
     "name": "stdout",
     "output_type": "stream",
     "text": [
      "dict_keys(['loss', 'accuracy', 'val_loss', 'val_accuracy'])\n"
     ]
    }
   ],
   "source": [
    "history_dict = history.history\n",
    "print(history_dict.keys())"
   ]
  },
  {
   "cell_type": "code",
   "execution_count": 55,
   "metadata": {},
   "outputs": [
    {
     "data": {
      "image/png": "[encoded data removed]",
      "text/plain": [
       "<Figure size 800x600 with 1 Axes>"
      ]
     },
     "metadata": {},
     "output_type": "display_data"
    },
    {
     "data": {
      "image/png": "[encoded data removed]",
      "text/plain": [
       "<Figure size 800x600 with 1 Axes>"
      ]
     },
     "metadata": {},
     "output_type": "display_data"
    }
   ],
   "source": [
    "plt.figure(figsize = (8,6))\n",
    "\n",
    "plt.scatter(range(1,n_epochs+1), history_dict['accuracy'], label = \"Training Accuracy\")\n",
    "plt.scatter(range(1,n_epochs+1), history_dict['val_accuracy'], marker='v', label = \"Validation Set Accuracy\")\n",
    "\n",
    "plt.xlabel(\"Epoch\", fontsize=12)\n",
    "plt.ylabel(\"Accuracy\", fontsize=12)\n",
    "\n",
    "plt.xticks(fontsize=10)\n",
    "plt.yticks(fontsize=10)\n",
    "\n",
    "plt.legend(fontsize=12)\n",
    "\n",
    "plt.show()\n",
    "\n",
    "\n",
    "plt.figure(figsize = (8,6))\n",
    "\n",
    "plt.scatter(range(1,n_epochs+1), history_dict['loss'], label = \"Training Loss\")\n",
    "plt.scatter(range(1,n_epochs+1), history_dict['val_loss'], marker='v', label = \"Validation Set Loss\")\n",
    "\n",
    "plt.xlabel(\"Epoch\", fontsize=12)\n",
    "plt.ylabel(\"Loss Function Value\", fontsize=12)\n",
    "\n",
    "plt.xticks(fontsize=10)\n",
    "plt.yticks(fontsize=10)\n",
    "\n",
    "plt.legend(fontsize=12)\n",
    "\n",
    "plt.show()"
   ]
  },
  {
   "cell_type": "code",
   "execution_count": 56,
   "id": "c6727de0",
   "metadata": {},
   "outputs": [],
   "source": [
    "## import the model\n",
    "from sklearn.neural_network import MLPClassifier\n",
    "from sklearn.metrics import confusion_matrix\n",
    "from sklearn.metrics import accuracy_score"
   ]
  },
  {
   "cell_type": "code",
   "execution_count": 57,
   "id": "97a0d2e3",
   "metadata": {},
   "outputs": [],
   "source": [
    "## this makes an mlp classifier with 1 hidden layer\n",
    "## this layer has 500 nodes, controlled by hidden_layer_sizes\n",
    "## we increase the maximum iterations for the gradient descent\n",
    "mlp1 = MLPClassifier(hidden_layer_sizes=(500,), max_iter=5000)\n",
    "\n",
    "## Here's a second classifier with 2 hidden layers of 200 nodes each,\n",
    "## controlled by hidden_layer_sizes\n",
    "## we increase the maximum iterations for the gradient descent\n",
    "mlp2 = MLPClassifier(hidden_layer_sizes=(200, 200,), max_iter=5000)"
   ]
  },
  {
   "cell_type": "code",
   "execution_count": 58,
   "id": "f2b1b89d",
   "metadata": {},
   "outputs": [
    {
     "data": {
      "text/html": [
       "<style>#sk-container-id-1 {color: black;background-color: white;}#sk-container-id-1 pre{padding: 0;}#sk-container-id-1 div.sk-toggleable {background-color: white;}#sk-container-id-1 label.sk-toggleable__label {cursor: pointer;display: block;width: 100%;margin-bottom: 0;padding: 0.3em;box-sizing: border-box;text-align: center;}#sk-container-id-1 label.sk-toggleable__label-arrow:before {content: \"▸\";float: left;margin-right: 0.25em;color: #696969;}#sk-container-id-1 label.sk-toggleable__label-arrow:hover:before {color: black;}#sk-container-id-1 div.sk-estimator:hover label.sk-toggleable__label-arrow:before {color: black;}#sk-container-id-1 div.sk-toggleable__content {max-height: 0;max-width: 0;overflow: hidden;text-align: left;background-color: #f0f8ff;}#sk-container-id-1 div.sk-toggleable__content pre {margin: 0.2em;color: black;border-radius: 0.25em;background-color: #f0f8ff;}#sk-container-id-1 input.sk-toggleable__control:checked~div.sk-toggleable__content {max-height: 200px;max-width: 100%;overflow: auto;}#sk-container-id-1 input.sk-toggleable__control:checked~label.sk-toggleable__label-arrow:before {content: \"▾\";}#sk-container-id-1 div.sk-estimator input.sk-toggleable__control:checked~label.sk-toggleable__label {background-color: #d4ebff;}#sk-container-id-1 div.sk-label input.sk-toggleable__control:checked~label.sk-toggleable__label {background-color: #d4ebff;}#sk-container-id-1 input.sk-hidden--visually {border: 0;clip: rect(1px 1px 1px 1px);clip: rect(1px, 1px, 1px, 1px);height: 1px;margin: -1px;overflow: hidden;padding: 0;position: absolute;width: 1px;}#sk-container-id-1 div.sk-estimator {font-family: monospace;background-color: #f0f8ff;border: 1px dotted black;border-radius: 0.25em;box-sizing: border-box;margin-bottom: 0.5em;}#sk-container-id-1 div.sk-estimator:hover {background-color: #d4ebff;}#sk-container-id-1 div.sk-parallel-item::after {content: \"\";width: 100%;border-bottom: 1px solid gray;flex-grow: 1;}#sk-container-id-1 div.sk-label:hover label.sk-toggleable__label {background-color: #d4ebff;}#sk-container-id-1 div.sk-serial::before {content: \"\";position: absolute;border-left: 1px solid gray;box-sizing: border-box;top: 0;bottom: 0;left: 50%;z-index: 0;}#sk-container-id-1 div.sk-serial {display: flex;flex-direction: column;align-items: center;background-color: white;padding-right: 0.2em;padding-left: 0.2em;position: relative;}#sk-container-id-1 div.sk-item {position: relative;z-index: 1;}#sk-container-id-1 div.sk-parallel {display: flex;align-items: stretch;justify-content: center;background-color: white;position: relative;}#sk-container-id-1 div.sk-item::before, #sk-container-id-1 div.sk-parallel-item::before {content: \"\";position: absolute;border-left: 1px solid gray;box-sizing: border-box;top: 0;bottom: 0;left: 50%;z-index: -1;}#sk-container-id-1 div.sk-parallel-item {display: flex;flex-direction: column;z-index: 1;position: relative;background-color: white;}#sk-container-id-1 div.sk-parallel-item:first-child::after {align-self: flex-end;width: 50%;}#sk-container-id-1 div.sk-parallel-item:last-child::after {align-self: flex-start;width: 50%;}#sk-container-id-1 div.sk-parallel-item:only-child::after {width: 0;}#sk-container-id-1 div.sk-dashed-wrapped {border: 1px dashed gray;margin: 0 0.4em 0.5em 0.4em;box-sizing: border-box;padding-bottom: 0.4em;background-color: white;}#sk-container-id-1 div.sk-label label {font-family: monospace;font-weight: bold;display: inline-block;line-height: 1.2em;}#sk-container-id-1 div.sk-label-container {text-align: center;}#sk-container-id-1 div.sk-container {/* jupyter's `normalize.less` sets `[hidden] { display: none; }` but bootstrap.min.css set `[hidden] { display: none !important; }` so we also need the `!important` here to be able to override the default hidden behavior on the sphinx rendered scikit-learn.org. See: https://github.com/scikit-learn/scikit-learn/issues/21755 */display: inline-block !important;position: relative;}#sk-container-id-1 div.sk-text-repr-fallback {display: none;}</style><div id=\"sk-container-id-1\" class=\"sk-top-container\"><div class=\"sk-text-repr-fallback\"><pre>MLPClassifier(hidden_layer_sizes=(200, 200), max_iter=5000)</pre><b>In a Jupyter environment, please rerun this cell to show the HTML representation or trust the notebook. <br />On GitHub, the HTML representation is unable to render, please try loading this page with nbviewer.org.</b></div><div class=\"sk-container\" hidden><div class=\"sk-item\"><div class=\"sk-estimator sk-toggleable\"><input class=\"sk-toggleable__control sk-hidden--visually\" id=\"sk-estimator-id-1\" type=\"checkbox\" checked><label for=\"sk-estimator-id-1\" class=\"sk-toggleable__label sk-toggleable__label-arrow\">MLPClassifier</label><div class=\"sk-toggleable__content\"><pre>MLPClassifier(hidden_layer_sizes=(200, 200), max_iter=5000)</pre></div></div></div></div></div>"
      ],
      "text/plain": [
       "MLPClassifier(hidden_layer_sizes=(200, 200), max_iter=5000)"
      ]
     },
     "execution_count": 58,
     "metadata": {},
     "output_type": "execute_result"
    }
   ],
   "source": [
    "mlp1.fit(X_train_train, y_train_train)\n",
    "mlp2.fit(X_train_train, y_train_train)"
   ]
  },
  {
   "cell_type": "code",
   "execution_count": 59,
   "id": "7fcf6ec4",
   "metadata": {},
   "outputs": [
    {
     "name": "stdout",
     "output_type": "stream",
     "text": [
      "The single hidden layer with 500 nodes has a training accuracy of 33.68\n",
      "The single hidden layer with 500 nodes has a validation accuracy of 33.7\n",
      "The two hidden layers with 200 nodes each has a training accuracy of 33.68\n",
      "The two hidden layers with 200 nodes each has a validation accuracy of 33.7\n"
     ]
    }
   ],
   "source": [
    "print(\"The single hidden layer with 500 nodes has a training accuracy of\",\n",
    "         np.round(100*accuracy_score(y_train_train, mlp1.predict(X_train_train)),2))\n",
    "\n",
    "print(\"The single hidden layer with 500 nodes has a validation accuracy of\",\n",
    "         np.round(100*accuracy_score(y_val, mlp1.predict(X_val)),2))\n",
    "\n",
    "print(\"The two hidden layers with 200 nodes each has a training accuracy of\",\n",
    "         np.round(100*accuracy_score(y_train_train, mlp2.predict(X_train_train)),2))\n",
    "\n",
    "print(\"The two hidden layers with 200 nodes each has a validation accuracy of\",\n",
    "         np.round(100*accuracy_score(y_val, mlp2.predict(X_val)),2))"
   ]
  },
  {
   "cell_type": "code",
   "execution_count": 60,
   "id": "e984e722",
   "metadata": {},
   "outputs": [
    {
     "name": "stdout",
     "output_type": "stream",
     "text": [
      "Single hidden layer with 500 nodes\n",
      " +++++++++++++++++++++++++++++++++++++++++++++++++++++\n"
     ]
    },
    {
     "data": {
      "text/html": [
       "<div>\n",
       "<style scoped>\n",
       "    .dataframe tbody tr th:only-of-type {\n",
       "        vertical-align: middle;\n",
       "    }\n",
       "\n",
       "    .dataframe tbody tr th {\n",
       "        vertical-align: top;\n",
       "    }\n",
       "\n",
       "    .dataframe thead th {\n",
       "        text-align: right;\n",
       "    }\n",
       "</style>\n",
       "<table border=\"1\" class=\"dataframe\">\n",
       "  <thead>\n",
       "    <tr style=\"text-align: right;\">\n",
       "      <th></th>\n",
       "      <th>predicted 0</th>\n",
       "      <th>predicted 1</th>\n",
       "      <th>predicted 2</th>\n",
       "      <th>predicted 3</th>\n",
       "      <th>predicted 4</th>\n",
       "      <th>predicted 5</th>\n",
       "      <th>predicted 6</th>\n",
       "      <th>predicted 7</th>\n",
       "    </tr>\n",
       "  </thead>\n",
       "  <tbody>\n",
       "    <tr>\n",
       "      <th>actual 0</th>\n",
       "      <td>647</td>\n",
       "      <td>0</td>\n",
       "      <td>0</td>\n",
       "      <td>0</td>\n",
       "      <td>0</td>\n",
       "      <td>0</td>\n",
       "      <td>0</td>\n",
       "      <td>0</td>\n",
       "    </tr>\n",
       "    <tr>\n",
       "      <th>actual 1</th>\n",
       "      <td>522</td>\n",
       "      <td>0</td>\n",
       "      <td>0</td>\n",
       "      <td>0</td>\n",
       "      <td>0</td>\n",
       "      <td>0</td>\n",
       "      <td>0</td>\n",
       "      <td>0</td>\n",
       "    </tr>\n",
       "    <tr>\n",
       "      <th>actual 2</th>\n",
       "      <td>322</td>\n",
       "      <td>0</td>\n",
       "      <td>0</td>\n",
       "      <td>0</td>\n",
       "      <td>0</td>\n",
       "      <td>0</td>\n",
       "      <td>0</td>\n",
       "      <td>0</td>\n",
       "    </tr>\n",
       "    <tr>\n",
       "      <th>actual 3</th>\n",
       "      <td>205</td>\n",
       "      <td>0</td>\n",
       "      <td>0</td>\n",
       "      <td>0</td>\n",
       "      <td>0</td>\n",
       "      <td>0</td>\n",
       "      <td>0</td>\n",
       "      <td>0</td>\n",
       "    </tr>\n",
       "    <tr>\n",
       "      <th>actual 4</th>\n",
       "      <td>129</td>\n",
       "      <td>0</td>\n",
       "      <td>0</td>\n",
       "      <td>0</td>\n",
       "      <td>0</td>\n",
       "      <td>0</td>\n",
       "      <td>0</td>\n",
       "      <td>0</td>\n",
       "    </tr>\n",
       "    <tr>\n",
       "      <th>actual 5</th>\n",
       "      <td>37</td>\n",
       "      <td>0</td>\n",
       "      <td>0</td>\n",
       "      <td>0</td>\n",
       "      <td>0</td>\n",
       "      <td>0</td>\n",
       "      <td>0</td>\n",
       "      <td>0</td>\n",
       "    </tr>\n",
       "    <tr>\n",
       "      <th>actual 6</th>\n",
       "      <td>34</td>\n",
       "      <td>0</td>\n",
       "      <td>0</td>\n",
       "      <td>0</td>\n",
       "      <td>0</td>\n",
       "      <td>0</td>\n",
       "      <td>0</td>\n",
       "      <td>0</td>\n",
       "    </tr>\n",
       "    <tr>\n",
       "      <th>actual 7</th>\n",
       "      <td>24</td>\n",
       "      <td>0</td>\n",
       "      <td>0</td>\n",
       "      <td>0</td>\n",
       "      <td>0</td>\n",
       "      <td>0</td>\n",
       "      <td>0</td>\n",
       "      <td>0</td>\n",
       "    </tr>\n",
       "  </tbody>\n",
       "</table>\n",
       "</div>"
      ],
      "text/plain": [
       "          predicted 0  predicted 1  predicted 2  predicted 3  predicted 4  \\\n",
       "actual 0          647            0            0            0            0   \n",
       "actual 1          522            0            0            0            0   \n",
       "actual 2          322            0            0            0            0   \n",
       "actual 3          205            0            0            0            0   \n",
       "actual 4          129            0            0            0            0   \n",
       "actual 5           37            0            0            0            0   \n",
       "actual 6           34            0            0            0            0   \n",
       "actual 7           24            0            0            0            0   \n",
       "\n",
       "          predicted 5  predicted 6  predicted 7  \n",
       "actual 0            0            0            0  \n",
       "actual 1            0            0            0  \n",
       "actual 2            0            0            0  \n",
       "actual 3            0            0            0  \n",
       "actual 4            0            0            0  \n",
       "actual 5            0            0            0  \n",
       "actual 6            0            0            0  \n",
       "actual 7            0            0            0  "
      ]
     },
     "execution_count": 60,
     "metadata": {},
     "output_type": "execute_result"
    }
   ],
   "source": [
    "print(\"Single hidden layer with 500 nodes\\n\",\n",
    "     \"+++++++++++++++++++++++++++++++++++++++++++++++++++++\")\n",
    "pd.DataFrame(confusion_matrix(y_val, mlp1.predict(X_val)), \n",
    "                columns=[\"predicted \"+str(i) for i in range(8)],\n",
    "                index=[\"actual \"+str(i) for i in range(8)])\n",
    "\n"
   ]
  },
  {
   "cell_type": "code",
   "execution_count": 61,
   "id": "46595f8b",
   "metadata": {},
   "outputs": [
    {
     "name": "stdout",
     "output_type": "stream",
     "text": [
      "Two hidden layers with 200 nodes each\n",
      " +++++++++++++++++++++++++++++++++++++++++++++++++++++\n"
     ]
    },
    {
     "data": {
      "text/html": [
       "<div>\n",
       "<style scoped>\n",
       "    .dataframe tbody tr th:only-of-type {\n",
       "        vertical-align: middle;\n",
       "    }\n",
       "\n",
       "    .dataframe tbody tr th {\n",
       "        vertical-align: top;\n",
       "    }\n",
       "\n",
       "    .dataframe thead th {\n",
       "        text-align: right;\n",
       "    }\n",
       "</style>\n",
       "<table border=\"1\" class=\"dataframe\">\n",
       "  <thead>\n",
       "    <tr style=\"text-align: right;\">\n",
       "      <th></th>\n",
       "      <th>predicted 0</th>\n",
       "      <th>predicted 1</th>\n",
       "      <th>predicted 2</th>\n",
       "      <th>predicted 3</th>\n",
       "      <th>predicted 4</th>\n",
       "      <th>predicted 5</th>\n",
       "      <th>predicted 6</th>\n",
       "      <th>predicted 7</th>\n",
       "    </tr>\n",
       "  </thead>\n",
       "  <tbody>\n",
       "    <tr>\n",
       "      <th>actual 0</th>\n",
       "      <td>647</td>\n",
       "      <td>0</td>\n",
       "      <td>0</td>\n",
       "      <td>0</td>\n",
       "      <td>0</td>\n",
       "      <td>0</td>\n",
       "      <td>0</td>\n",
       "      <td>0</td>\n",
       "    </tr>\n",
       "    <tr>\n",
       "      <th>actual 1</th>\n",
       "      <td>522</td>\n",
       "      <td>0</td>\n",
       "      <td>0</td>\n",
       "      <td>0</td>\n",
       "      <td>0</td>\n",
       "      <td>0</td>\n",
       "      <td>0</td>\n",
       "      <td>0</td>\n",
       "    </tr>\n",
       "    <tr>\n",
       "      <th>actual 2</th>\n",
       "      <td>322</td>\n",
       "      <td>0</td>\n",
       "      <td>0</td>\n",
       "      <td>0</td>\n",
       "      <td>0</td>\n",
       "      <td>0</td>\n",
       "      <td>0</td>\n",
       "      <td>0</td>\n",
       "    </tr>\n",
       "    <tr>\n",
       "      <th>actual 3</th>\n",
       "      <td>205</td>\n",
       "      <td>0</td>\n",
       "      <td>0</td>\n",
       "      <td>0</td>\n",
       "      <td>0</td>\n",
       "      <td>0</td>\n",
       "      <td>0</td>\n",
       "      <td>0</td>\n",
       "    </tr>\n",
       "    <tr>\n",
       "      <th>actual 4</th>\n",
       "      <td>129</td>\n",
       "      <td>0</td>\n",
       "      <td>0</td>\n",
       "      <td>0</td>\n",
       "      <td>0</td>\n",
       "      <td>0</td>\n",
       "      <td>0</td>\n",
       "      <td>0</td>\n",
       "    </tr>\n",
       "    <tr>\n",
       "      <th>actual 5</th>\n",
       "      <td>37</td>\n",
       "      <td>0</td>\n",
       "      <td>0</td>\n",
       "      <td>0</td>\n",
       "      <td>0</td>\n",
       "      <td>0</td>\n",
       "      <td>0</td>\n",
       "      <td>0</td>\n",
       "    </tr>\n",
       "    <tr>\n",
       "      <th>actual 6</th>\n",
       "      <td>34</td>\n",
       "      <td>0</td>\n",
       "      <td>0</td>\n",
       "      <td>0</td>\n",
       "      <td>0</td>\n",
       "      <td>0</td>\n",
       "      <td>0</td>\n",
       "      <td>0</td>\n",
       "    </tr>\n",
       "    <tr>\n",
       "      <th>actual 7</th>\n",
       "      <td>24</td>\n",
       "      <td>0</td>\n",
       "      <td>0</td>\n",
       "      <td>0</td>\n",
       "      <td>0</td>\n",
       "      <td>0</td>\n",
       "      <td>0</td>\n",
       "      <td>0</td>\n",
       "    </tr>\n",
       "  </tbody>\n",
       "</table>\n",
       "</div>"
      ],
      "text/plain": [
       "          predicted 0  predicted 1  predicted 2  predicted 3  predicted 4  \\\n",
       "actual 0          647            0            0            0            0   \n",
       "actual 1          522            0            0            0            0   \n",
       "actual 2          322            0            0            0            0   \n",
       "actual 3          205            0            0            0            0   \n",
       "actual 4          129            0            0            0            0   \n",
       "actual 5           37            0            0            0            0   \n",
       "actual 6           34            0            0            0            0   \n",
       "actual 7           24            0            0            0            0   \n",
       "\n",
       "          predicted 5  predicted 6  predicted 7  \n",
       "actual 0            0            0            0  \n",
       "actual 1            0            0            0  \n",
       "actual 2            0            0            0  \n",
       "actual 3            0            0            0  \n",
       "actual 4            0            0            0  \n",
       "actual 5            0            0            0  \n",
       "actual 6            0            0            0  \n",
       "actual 7            0            0            0  "
      ]
     },
     "execution_count": 61,
     "metadata": {},
     "output_type": "execute_result"
    }
   ],
   "source": [
    "print(\"Two hidden layers with 200 nodes each\\n\",\n",
    "     \"+++++++++++++++++++++++++++++++++++++++++++++++++++++\")\n",
    "pd.DataFrame(confusion_matrix(y_val, mlp2.predict(X_val)), \n",
    "                columns=[\"predicted \"+str(i) for i in range(8)],\n",
    "                index=[\"actual \"+str(i) for i in range(8)])"
   ]
  },
  {
   "cell_type": "code",
   "execution_count": 62,
   "id": "3c7cc39e",
   "metadata": {},
   "outputs": [],
   "source": [
    "#creates a map that has the shape of the united states\n",
    "\n",
    "# fig = go.Figure(data=go.Scattergeo(\n",
    "#         lon = df_priv['longitude'],\n",
    "#         lat = df_priv['latitude'],\n",
    "#         #text = 'Median house value: ' + housing['median_house_value'].astype(str),\n",
    "#         #marker_size = (housing['bedrooms_per_household'])\n",
    "#         ))\n",
    "# fig.update_geos(fitbounds=\"locations\")\n",
    "# # fig.update_layout(\n",
    "# #         title = 'Median house values of houses in California with marker size based on bedrooms per household',\n",
    "# # )\n",
    "# fig.show()\n",
    "\n"
   ]
  }
 ],
 "metadata": {
  "kernelspec": {
   "display_name": "base",
   "language": "python",
   "name": "python3"
  },
  "language_info": {
   "codemirror_mode": {
    "name": "ipython",
    "version": 3
   },
   "file_extension": ".py",
   "mimetype": "text/x-python",
   "name": "python",
   "nbconvert_exporter": "python",
   "pygments_lexer": "ipython3",
   "version": "3.9.16"
  },
  "vscode": {
   "interpreter": {
    "hash": "df5a47594a4c7fa77718041c239adbe925734d95d528854ea959dd8eef4ca91e"
   }
  }
 },
 "nbformat": 4,
 "nbformat_minor": 5
}
