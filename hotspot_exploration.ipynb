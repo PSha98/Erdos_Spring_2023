{
 "cells": [
  {
   "attachments": {},
   "cell_type": "markdown",
   "id": "514bf611",
   "metadata": {},
   "source": [
    "Work in Progress. Will be updated by Friday. Zheyu Ni\n",
    "\n",
    "This file cleans the Airbnb data. \n",
    "1. deleted $ sign and comma in price.\n",
    "2. visualize price distribution base on different features\n",
    "3. Price range (0, 800) covers 95\\% of the listings\n",
    "4. create a dummy for the listing without review data\n",
    "5. check how many listings have hotel/motel in name and agree with their room_type\n",
    "\n",
    "The remaing data file contains \\% of the raw data"
   ]
  },
  {
   "cell_type": "code",
   "execution_count": 1,
   "id": "4674846e",
   "metadata": {},
   "outputs": [],
   "source": [
    "import pandas as pd\n",
    "import numpy as np\n",
    "import re\n",
    "import matplotlib.pyplot as plt\n",
    "from sklearn.linear_model import LinearRegression\n",
    "import statsmodels.api as sm\n",
    "import seaborn as sns\n",
    "import matplotlib.dates as mdates\n",
    "from datetime import date\n",
    "from sklearn.model_selection import train_test_split\n",
    "import plotly.graph_objects as go"
   ]
  },
  {
   "cell_type": "code",
   "execution_count": 2,
   "id": "4289dd53",
   "metadata": {},
   "outputs": [],
   "source": [
    "df = pd.read_csv('../listings_mar7_2023.csv')\n",
    "df = df[df['host_name'] != \"Jino & Scott\"]\n",
    "df = df[df['host_name'] != \"Scott And Jino\"]\n",
    "df['hotspot_from_listings'] = 0\n",
    "df['hotspot_from_reviews'] = 0\n",
    "df['hotspot_from_reviews_per_month'] = 0\n"
   ]
  },
  {
   "cell_type": "code",
   "execution_count": 3,
   "id": "b99231a4",
   "metadata": {},
   "outputs": [
    {
     "data": {
      "text/plain": [
       "0         399.0\n",
       "1          46.0\n",
       "2         408.0\n",
       "3          80.0\n",
       "4        2138.0\n",
       "          ...  \n",
       "42446      40.0\n",
       "42447      48.0\n",
       "42448      46.0\n",
       "42449      68.0\n",
       "42450      48.0\n",
       "Name: price, Length: 40785, dtype: float64"
      ]
     },
     "execution_count": 3,
     "metadata": {},
     "output_type": "execute_result"
    }
   ],
   "source": [
    "#data cleaning. Price data has $ sign. The following code extracts the number\n",
    "df['price'] = df['price'].replace({r'\\$':''},regex = True).replace({r',':''},regex = True).astype('float')\n",
    "df.price"
   ]
  },
  {
   "cell_type": "code",
   "execution_count": 4,
   "id": "41081024",
   "metadata": {},
   "outputs": [
    {
     "name": "stdout",
     "output_type": "stream",
     "text": [
      "Entire home/apt    29489\n",
      "Private room       10516\n",
      "Shared room          697\n",
      "Hotel room            83\n",
      "Name: room_type, dtype: int64\n"
     ]
    }
   ],
   "source": [
    "print(df['room_type'].value_counts())"
   ]
  },
  {
   "cell_type": "code",
   "execution_count": 5,
   "id": "77ff5897",
   "metadata": {},
   "outputs": [],
   "source": [
    "df_practice = df.copy()\n",
    "df_practice['name'] = df_practice['name'].str.lower()\n",
    "df_practice.loc[df_practice['name'].str.contains('motel',regex=False) == True, 'room_type'] = 'Hotel room'\n",
    "df_practice.loc[df_practice['name'].str.contains('hotel',regex=False) == True, 'room_type'] = 'Hotel room'\n",
    "df['room_type'] = df_practice['room_type']\n",
    "#df_practice.dropna()"
   ]
  },
  {
   "cell_type": "code",
   "execution_count": 6,
   "id": "18cca2aa",
   "metadata": {},
   "outputs": [
    {
     "name": "stdout",
     "output_type": "stream",
     "text": [
      "Entire home/apt    29291\n",
      "Private room       10387\n",
      "Shared room          696\n",
      "Hotel room           411\n",
      "Name: room_type, dtype: int64\n"
     ]
    }
   ],
   "source": [
    "print(df['room_type'].value_counts())"
   ]
  },
  {
   "cell_type": "code",
   "execution_count": 7,
   "id": "4f833453",
   "metadata": {},
   "outputs": [
    {
     "data": {
      "text/html": [
       "<div>\n",
       "<style scoped>\n",
       "    .dataframe tbody tr th:only-of-type {\n",
       "        vertical-align: middle;\n",
       "    }\n",
       "\n",
       "    .dataframe tbody tr th {\n",
       "        vertical-align: top;\n",
       "    }\n",
       "\n",
       "    .dataframe thead th {\n",
       "        text-align: right;\n",
       "    }\n",
       "</style>\n",
       "<table border=\"1\" class=\"dataframe\">\n",
       "  <thead>\n",
       "    <tr style=\"text-align: right;\">\n",
       "      <th></th>\n",
       "      <th>id</th>\n",
       "      <th>listing_url</th>\n",
       "      <th>scrape_id</th>\n",
       "      <th>last_scraped</th>\n",
       "      <th>source</th>\n",
       "      <th>name</th>\n",
       "      <th>description</th>\n",
       "      <th>neighborhood_overview</th>\n",
       "      <th>picture_url</th>\n",
       "      <th>host_id</th>\n",
       "      <th>...</th>\n",
       "      <th>license</th>\n",
       "      <th>instant_bookable</th>\n",
       "      <th>calculated_host_listings_count</th>\n",
       "      <th>calculated_host_listings_count_entire_homes</th>\n",
       "      <th>calculated_host_listings_count_private_rooms</th>\n",
       "      <th>calculated_host_listings_count_shared_rooms</th>\n",
       "      <th>reviews_per_month</th>\n",
       "      <th>hotspot_from_listings</th>\n",
       "      <th>hotspot_from_reviews</th>\n",
       "      <th>hotspot_from_reviews_per_month</th>\n",
       "    </tr>\n",
       "  </thead>\n",
       "  <tbody>\n",
       "    <tr>\n",
       "      <th>37163</th>\n",
       "      <td>39729344</td>\n",
       "      <td>https://www.airbnb.com/rooms/39729344</td>\n",
       "      <td>20230307175359</td>\n",
       "      <td>2023-03-08</td>\n",
       "      <td>previous scrape</td>\n",
       "      <td>lax hostel hotel #110</td>\n",
       "      <td>Welcome to Hotel 2TwentyOne! Our hotel is a un...</td>\n",
       "      <td>NaN</td>\n",
       "      <td>https://a0.muscache.com/pictures/39f32901-8e3a...</td>\n",
       "      <td>66109042</td>\n",
       "      <td>...</td>\n",
       "      <td>NaN</td>\n",
       "      <td>f</td>\n",
       "      <td>4</td>\n",
       "      <td>0</td>\n",
       "      <td>4</td>\n",
       "      <td>0</td>\n",
       "      <td>0.12</td>\n",
       "      <td>0</td>\n",
       "      <td>0</td>\n",
       "      <td>0</td>\n",
       "    </tr>\n",
       "    <tr>\n",
       "      <th>25657</th>\n",
       "      <td>25033174</td>\n",
       "      <td>https://www.airbnb.com/rooms/25033174</td>\n",
       "      <td>20230307175359</td>\n",
       "      <td>2023-03-08</td>\n",
       "      <td>previous scrape</td>\n",
       "      <td>hotel chain alternative! dtla 2 bd 2 ba free park</td>\n",
       "      <td>DTLA alternative to pricey hotel chains. Luxur...</td>\n",
       "      <td>Downtown LA, secure building, mixed crowd of a...</td>\n",
       "      <td>https://a0.muscache.com/pictures/d17ba161-cfa3...</td>\n",
       "      <td>189240657</td>\n",
       "      <td>...</td>\n",
       "      <td>NaN</td>\n",
       "      <td>f</td>\n",
       "      <td>1</td>\n",
       "      <td>1</td>\n",
       "      <td>0</td>\n",
       "      <td>0</td>\n",
       "      <td>0.31</td>\n",
       "      <td>0</td>\n",
       "      <td>0</td>\n",
       "      <td>0</td>\n",
       "    </tr>\n",
       "  </tbody>\n",
       "</table>\n",
       "<p>2 rows × 78 columns</p>\n",
       "</div>"
      ],
      "text/plain": [
       "             id                            listing_url       scrape_id  \\\n",
       "37163  39729344  https://www.airbnb.com/rooms/39729344  20230307175359   \n",
       "25657  25033174  https://www.airbnb.com/rooms/25033174  20230307175359   \n",
       "\n",
       "      last_scraped           source  \\\n",
       "37163   2023-03-08  previous scrape   \n",
       "25657   2023-03-08  previous scrape   \n",
       "\n",
       "                                                    name  \\\n",
       "37163                              lax hostel hotel #110   \n",
       "25657  hotel chain alternative! dtla 2 bd 2 ba free park   \n",
       "\n",
       "                                             description  \\\n",
       "37163  Welcome to Hotel 2TwentyOne! Our hotel is a un...   \n",
       "25657  DTLA alternative to pricey hotel chains. Luxur...   \n",
       "\n",
       "                                   neighborhood_overview  \\\n",
       "37163                                                NaN   \n",
       "25657  Downtown LA, secure building, mixed crowd of a...   \n",
       "\n",
       "                                             picture_url    host_id  ...  \\\n",
       "37163  https://a0.muscache.com/pictures/39f32901-8e3a...   66109042  ...   \n",
       "25657  https://a0.muscache.com/pictures/d17ba161-cfa3...  189240657  ...   \n",
       "\n",
       "      license instant_bookable calculated_host_listings_count  \\\n",
       "37163     NaN                f                              4   \n",
       "25657     NaN                f                              1   \n",
       "\n",
       "      calculated_host_listings_count_entire_homes  \\\n",
       "37163                                           0   \n",
       "25657                                           1   \n",
       "\n",
       "      calculated_host_listings_count_private_rooms  \\\n",
       "37163                                            4   \n",
       "25657                                            0   \n",
       "\n",
       "      calculated_host_listings_count_shared_rooms reviews_per_month  \\\n",
       "37163                                           0              0.12   \n",
       "25657                                           0              0.31   \n",
       "\n",
       "      hotspot_from_listings hotspot_from_reviews  \\\n",
       "37163                     0                    0   \n",
       "25657                     0                    0   \n",
       "\n",
       "      hotspot_from_reviews_per_month  \n",
       "37163                              0  \n",
       "25657                              0  \n",
       "\n",
       "[2 rows x 78 columns]"
      ]
     },
     "execution_count": 7,
     "metadata": {},
     "output_type": "execute_result"
    }
   ],
   "source": [
    "df_practice.loc[df_practice['name'].str.contains('hotel',regex=False) == True].sample(2)"
   ]
  },
  {
   "cell_type": "code",
   "execution_count": 8,
   "id": "6f1c974f",
   "metadata": {},
   "outputs": [
    {
     "data": {
      "text/html": [
       "<div>\n",
       "<style scoped>\n",
       "    .dataframe tbody tr th:only-of-type {\n",
       "        vertical-align: middle;\n",
       "    }\n",
       "\n",
       "    .dataframe tbody tr th {\n",
       "        vertical-align: top;\n",
       "    }\n",
       "\n",
       "    .dataframe thead th {\n",
       "        text-align: right;\n",
       "    }\n",
       "</style>\n",
       "<table border=\"1\" class=\"dataframe\">\n",
       "  <thead>\n",
       "    <tr style=\"text-align: right;\">\n",
       "      <th></th>\n",
       "      <th>id</th>\n",
       "      <th>listing_url</th>\n",
       "      <th>scrape_id</th>\n",
       "      <th>last_scraped</th>\n",
       "      <th>source</th>\n",
       "      <th>name</th>\n",
       "      <th>description</th>\n",
       "      <th>neighborhood_overview</th>\n",
       "      <th>picture_url</th>\n",
       "      <th>host_id</th>\n",
       "      <th>...</th>\n",
       "      <th>license</th>\n",
       "      <th>instant_bookable</th>\n",
       "      <th>calculated_host_listings_count</th>\n",
       "      <th>calculated_host_listings_count_entire_homes</th>\n",
       "      <th>calculated_host_listings_count_private_rooms</th>\n",
       "      <th>calculated_host_listings_count_shared_rooms</th>\n",
       "      <th>reviews_per_month</th>\n",
       "      <th>hotspot_from_listings</th>\n",
       "      <th>hotspot_from_reviews</th>\n",
       "      <th>hotspot_from_reviews_per_month</th>\n",
       "    </tr>\n",
       "  </thead>\n",
       "  <tbody>\n",
       "    <tr>\n",
       "      <th>0</th>\n",
       "      <td>777451666060243581</td>\n",
       "      <td>https://www.airbnb.com/rooms/777451666060243581</td>\n",
       "      <td>20230307175359</td>\n",
       "      <td>2023-03-07</td>\n",
       "      <td>city scrape</td>\n",
       "      <td>Family oriented home</td>\n",
       "      <td>Relax with the whole family at this peaceful p...</td>\n",
       "      <td>NaN</td>\n",
       "      <td>https://a0.muscache.com/pictures/miso/Hosting-...</td>\n",
       "      <td>490709958</td>\n",
       "      <td>...</td>\n",
       "      <td>NaN</td>\n",
       "      <td>f</td>\n",
       "      <td>1</td>\n",
       "      <td>0</td>\n",
       "      <td>1</td>\n",
       "      <td>0</td>\n",
       "      <td>NaN</td>\n",
       "      <td>0</td>\n",
       "      <td>0</td>\n",
       "      <td>0</td>\n",
       "    </tr>\n",
       "    <tr>\n",
       "      <th>1</th>\n",
       "      <td>698097753730921190</td>\n",
       "      <td>https://www.airbnb.com/rooms/698097753730921190</td>\n",
       "      <td>20230307175359</td>\n",
       "      <td>2023-03-07</td>\n",
       "      <td>city scrape</td>\n",
       "      <td>方便易居驿站</td>\n",
       "      <td>NaN</td>\n",
       "      <td>NaN</td>\n",
       "      <td>https://a0.muscache.com/pictures/d5afff58-d576...</td>\n",
       "      <td>444692513</td>\n",
       "      <td>...</td>\n",
       "      <td>NaN</td>\n",
       "      <td>f</td>\n",
       "      <td>4</td>\n",
       "      <td>0</td>\n",
       "      <td>4</td>\n",
       "      <td>0</td>\n",
       "      <td>0.86</td>\n",
       "      <td>0</td>\n",
       "      <td>0</td>\n",
       "      <td>0</td>\n",
       "    </tr>\n",
       "  </tbody>\n",
       "</table>\n",
       "<p>2 rows × 78 columns</p>\n",
       "</div>"
      ],
      "text/plain": [
       "                   id                                      listing_url  \\\n",
       "0  777451666060243581  https://www.airbnb.com/rooms/777451666060243581   \n",
       "1  698097753730921190  https://www.airbnb.com/rooms/698097753730921190   \n",
       "\n",
       "        scrape_id last_scraped       source                  name  \\\n",
       "0  20230307175359   2023-03-07  city scrape  Family oriented home   \n",
       "1  20230307175359   2023-03-07  city scrape                方便易居驿站   \n",
       "\n",
       "                                         description neighborhood_overview  \\\n",
       "0  Relax with the whole family at this peaceful p...                   NaN   \n",
       "1                                                NaN                   NaN   \n",
       "\n",
       "                                         picture_url    host_id  ... license  \\\n",
       "0  https://a0.muscache.com/pictures/miso/Hosting-...  490709958  ...     NaN   \n",
       "1  https://a0.muscache.com/pictures/d5afff58-d576...  444692513  ...     NaN   \n",
       "\n",
       "  instant_bookable calculated_host_listings_count  \\\n",
       "0                f                              1   \n",
       "1                f                              4   \n",
       "\n",
       "  calculated_host_listings_count_entire_homes  \\\n",
       "0                                           0   \n",
       "1                                           0   \n",
       "\n",
       "  calculated_host_listings_count_private_rooms  \\\n",
       "0                                            1   \n",
       "1                                            4   \n",
       "\n",
       "  calculated_host_listings_count_shared_rooms reviews_per_month  \\\n",
       "0                                           0               NaN   \n",
       "1                                           0              0.86   \n",
       "\n",
       "  hotspot_from_listings hotspot_from_reviews hotspot_from_reviews_per_month  \n",
       "0                     0                    0                              0  \n",
       "1                     0                    0                              0  \n",
       "\n",
       "[2 rows x 78 columns]"
      ]
     },
     "execution_count": 8,
     "metadata": {},
     "output_type": "execute_result"
    }
   ],
   "source": [
    "df.head(2)\n",
    "\n",
    "#columns that are interesting:\n",
    "# latitude\n",
    "# longitude\n",
    "# room_type\n",
    "# property_type\n",
    "# accommodates\n",
    "# bathrooms_text\n",
    "# number_of_reviews\n",
    "# first_review\n",
    "# last_reviews\n",
    "# reviews_per_month\n"
   ]
  },
  {
   "cell_type": "code",
   "execution_count": 9,
   "id": "8391d852",
   "metadata": {},
   "outputs": [
    {
     "data": {
      "text/plain": [
       "0     399.0\n",
       "1      46.0\n",
       "2     408.0\n",
       "3      80.0\n",
       "4    2138.0\n",
       "5      55.0\n",
       "6      60.0\n",
       "7      55.0\n",
       "8     129.0\n",
       "9     107.0\n",
       "Name: price, dtype: float64"
      ]
     },
     "execution_count": 9,
     "metadata": {},
     "output_type": "execute_result"
    }
   ],
   "source": [
    "#column_names =[df.columns,df.dtypes]\n",
    "#list(column_names)\n",
    "\n",
    "df.price[0:10]"
   ]
  },
  {
   "cell_type": "code",
   "execution_count": 10,
   "id": "4e8e55dc",
   "metadata": {},
   "outputs": [
    {
     "data": {
      "text/plain": [
       "99999.0"
      ]
     },
     "execution_count": 10,
     "metadata": {},
     "output_type": "execute_result"
    }
   ],
   "source": [
    "df.price.max()"
   ]
  },
  {
   "cell_type": "code",
   "execution_count": 11,
   "id": "d8161b02",
   "metadata": {},
   "outputs": [],
   "source": [
    "df = df[df['price'] < 1999]"
   ]
  },
  {
   "cell_type": "code",
   "execution_count": 12,
   "id": "7137f86d",
   "metadata": {},
   "outputs": [
    {
     "data": {
      "text/plain": [
       "1995.0"
      ]
     },
     "execution_count": 12,
     "metadata": {},
     "output_type": "execute_result"
    }
   ],
   "source": [
    "df.price.max()"
   ]
  },
  {
   "cell_type": "code",
   "execution_count": 13,
   "id": "71a83e85",
   "metadata": {},
   "outputs": [],
   "source": [
    "def get_listings_in_bin(df, lat_bin_num, long_bin_num, lats_bins_represent, longs_bins_represent):\n",
    "    cond_gt_lats = df['latitude'] > lats_bins_represent[lat_bin_num]\n",
    "    cond_lt_lats = df['latitude'] <= lats_bins_represent[lat_bin_num+1]\n",
    "    cond_gt_long = df['longitude'] > longs_bins_represent[long_bin_num]\n",
    "    cond_lt_long = df['longitude'] <= longs_bins_represent[long_bin_num+1]\n",
    "    cut_df = df[cond_lt_lats & cond_gt_lats & cond_lt_long & cond_gt_long].copy()\n",
    "    return cut_df"
   ]
  },
  {
   "cell_type": "code",
   "execution_count": 14,
   "id": "080e31a6",
   "metadata": {},
   "outputs": [],
   "source": [
    "def calc_hotspot_by_roomtype(df,mile_per_bin):\n",
    "    df_priv = df[df['room_type']=='Private room'].copy()\n",
    "    df_homeapt = df[df['room_type']=='Entire home/apt'].copy()\n",
    "    df_share = df[df['room_type']=='Shared room'].copy()\n",
    "    df_hotel = df[df['room_type']=='Hotel room'].copy()\n",
    "\n",
    "    #https://www.usgs.gov/faqs/how-much-distance-does-a-degree-minute-and-second-cover-your-maps\n",
    "    #One degree of latitude equals approximately 364,000 feet (69 miles), one minute equals 6,068 feet (1.15 miles), and one-second equals 101 feet. \n",
    "    ratio_miles_to_onelat = 69\n",
    "    desired_lat_mile_per_bin = mile_per_bin #i want each bin to represent x miles\n",
    "    \n",
    "     #One-degree of longitude equals 288,200 feet (54.6 miles), one minute equals 4,800 feet (0.91 mile), and one second equals 80 feet.\n",
    "    ratio_miles_to_onelong = 54.6\n",
    "    desired_long_mile_per_bin = mile_per_bin #i want each bin to represent x miles\n",
    "    \n",
    "    for df_roomtype in df_priv,df_homeapt,df_share,df_hotel:\n",
    "        print(f\"Range of latitude: {df_roomtype['latitude'].min()} to {df_roomtype['latitude'].max()}\")\n",
    "        print(f\"Range of longitude: {df_roomtype['longitude'].min()} to {df_roomtype['longitude'].max()}\")\n",
    "\n",
    "\n",
    "        diff_in_lats = df_roomtype['latitude'].max() - df_roomtype['latitude'].min()\n",
    "        diff_in_lats_in_miles = diff_in_lats*ratio_miles_to_onelat\n",
    "        bins_lats = int(np.round(diff_in_lats_in_miles/desired_lat_mile_per_bin))\n",
    "        print(f\"Num of bins for latitude: {bins_lats}\")\n",
    "\n",
    "        diff_in_long = np.abs(df_roomtype['longitude'].max() - df_roomtype['longitude'].min())\n",
    "        diff_in_long_in_miles = diff_in_long*ratio_miles_to_onelong\n",
    "        bins_long = int(np.round(diff_in_long_in_miles/desired_long_mile_per_bin))\n",
    "        print(f\"Num of bins for longitude: {bins_long}\")\n",
    "\n",
    "        lats_bins_represent = np.linspace(df_roomtype['latitude'].min(),df_roomtype['latitude'].max(),bins_lats+1)\n",
    "        longs_bins_represent = np.linspace(df_roomtype['longitude'].min(),df_roomtype['longitude'].max(),bins_long+1)\n",
    "\n",
    "        H, xedges, yedges = np.histogram2d(df_roomtype['latitude'],df_roomtype['longitude'], bins=(bins_lats,bins_long) )\n",
    "        H = H.T\n",
    "\n",
    "        X, Y = np.meshgrid(xedges, yedges)\n",
    "\n",
    "        min_max_scaled_H = H/np.max(H)\n",
    "\n",
    "        num_of_reviews_in_bin = np.zeros(H.shape)\n",
    "        num_of_reviews_per_month_in_bin = np.zeros(H.shape)\n",
    "        \n",
    "        for i in np.arange(0,H.shape[0],1):\n",
    "            for j in np.arange(0,H.shape[1],1):\n",
    "                dummy_df = get_listings_in_bin(df_hotel,j,i,lats_bins_represent,longs_bins_represent)\n",
    "                num_of_reviews_in_bin[i,j] = dummy_df['number_of_reviews'].sum()\n",
    "                num_of_reviews_per_month_in_bin[i,j] = dummy_df['reviews_per_month'].sum()\n",
    "\n",
    "        min_max_scaled_reviews = num_of_reviews_in_bin/np.max(num_of_reviews_in_bin)\n",
    "        min_max_scaled_reviews_per_month = num_of_reviews_per_month_in_bin/np.max(num_of_reviews_per_month_in_bin)               \n",
    "        \n",
    "        for longs in np.arange(0,H.shape[0],1):\n",
    "            for lats in np.arange(0,H.shape[1],1):\n",
    "                cond_gt_lats = df_roomtype['latitude'] > lats_bins_represent[lats]\n",
    "                cond_lt_lats = df_roomtype['latitude'] <= lats_bins_represent[lats+1]\n",
    "                cond_gt_long = df_roomtype['longitude'] > longs_bins_represent[longs]\n",
    "                cond_lt_long = df_roomtype['longitude'] <= longs_bins_represent[longs+1]\n",
    "                df_roomtype.loc[cond_lt_lats & cond_gt_lats & cond_lt_long & cond_gt_long, 'hotspot_from_listings'] = min_max_scaled_H[longs,lats]\n",
    "                df_roomtype.loc[cond_lt_lats & cond_gt_lats & cond_lt_long & cond_gt_long, 'hotspot_from_reviews'] = min_max_scaled_reviews[longs,lats]\n",
    "                df_roomtype.loc[cond_lt_lats & cond_gt_lats & cond_lt_long & cond_gt_long, 'hotspot_from_reviews_per_month'] = min_max_scaled_reviews_per_month[longs,lats]\n",
    "        \n",
    "    final_df = pd.concat([df_priv, df_homeapt, df_share, df_hotel], ignore_index=True,axis=0)\n",
    "    return final_df\n",
    "    \n",
    "\n"
   ]
  },
  {
   "cell_type": "code",
   "execution_count": 15,
   "id": "2ed170a9",
   "metadata": {},
   "outputs": [
    {
     "name": "stdout",
     "output_type": "stream",
     "text": [
      "Range of latitude: 33.33956 to 34.81113\n",
      "Range of longitude: -118.89972464431123 to -117.6534\n",
      "Num of bins for latitude: 338\n",
      "Num of bins for longitude: 227\n",
      "Range of latitude: 33.33848 to 34.79591\n",
      "Range of longitude: -118.93483 to -117.66118\n",
      "Num of bins for latitude: 335\n",
      "Num of bins for longitude: 232\n",
      "Range of latitude: 33.71559 to 34.64815\n",
      "Range of longitude: -118.7056463 to -117.7491\n",
      "Num of bins for latitude: 214\n",
      "Num of bins for longitude: 174\n",
      "Range of latitude: 33.76642 to 34.69972\n",
      "Range of longitude: -118.64871978759766 to -117.85597\n",
      "Num of bins for latitude: 215\n",
      "Num of bins for longitude: 144\n"
     ]
    }
   ],
   "source": [
    "df_hot = calc_hotspot_by_roomtype(df,0.3)\n"
   ]
  },
  {
   "cell_type": "code",
   "execution_count": 24,
   "id": "a07eab32",
   "metadata": {},
   "outputs": [],
   "source": [
    "df_hot.to_csv('../listings_mar2023_w_hotspot_0.3milebins.csv')"
   ]
  },
  {
   "cell_type": "code",
   "execution_count": 259,
   "id": "bff6dbc2",
   "metadata": {},
   "outputs": [],
   "source": [
    "df_priv = df[df['room_type']=='Private room'].copy()\n",
    "df_homeapt = df[df['room_type']=='Entire home/apt'].copy()\n",
    "df_share = df[df['room_type']=='Shared room'].copy()\n",
    "df_hotel = df[df['room_type']=='Hotel room'].copy()"
   ]
  },
  {
   "cell_type": "code",
   "execution_count": 260,
   "id": "a087cfd8",
   "metadata": {},
   "outputs": [
    {
     "data": {
      "text/plain": [
       "33.76642"
      ]
     },
     "execution_count": 260,
     "metadata": {},
     "output_type": "execute_result"
    }
   ],
   "source": [
    "df_hotel['latitude'].min()"
   ]
  },
  {
   "cell_type": "code",
   "execution_count": 261,
   "id": "4c6d7549",
   "metadata": {},
   "outputs": [
    {
     "name": "stdout",
     "output_type": "stream",
     "text": [
      "Range of latitude: 33.76642 to 34.69972\n",
      "Range of longitude: -118.64871978759766 to -117.85597\n",
      "Num of bins for latitude: 215\n",
      "Num of bins for longitude: 144\n"
     ]
    }
   ],
   "source": [
    "print(f\"Range of latitude: {df_hotel['latitude'].min()} to {df_hotel['latitude'].max()}\")\n",
    "print(f\"Range of longitude: {df_hotel['longitude'].min()} to {df_hotel['longitude'].max()}\")\n",
    "\n",
    "#https://www.usgs.gov/faqs/how-much-distance-does-a-degree-minute-and-second-cover-your-maps\n",
    "#One degree of latitude equals approximately 364,000 feet (69 miles), one minute equals 6,068 feet (1.15 miles), and one-second equals 101 feet. \n",
    "ratio_miles_to_onelat = 69\n",
    "desired_lat_mile_per_bin = 0.3 #i want each bin to represent x miles\n",
    "diff_in_lats = df_hotel['latitude'].max() - df_hotel['latitude'].min()\n",
    "diff_in_lats_in_miles = diff_in_lats*ratio_miles_to_onelat\n",
    "bins_lats = int(np.round(diff_in_lats_in_miles/desired_lat_mile_per_bin))\n",
    "print(f\"Num of bins for latitude: {bins_lats}\")\n",
    "\n",
    "\n",
    "#One-degree of longitude equals 288,200 feet (54.6 miles), one minute equals 4,800 feet (0.91 mile), and one second equals 80 feet.\n",
    "ratio_miles_to_onelong = 54.6\n",
    "desired_long_mile_per_bin = 0.3 #i want each bin to represent x miles\n",
    "diff_in_long = np.abs(df_hotel['longitude'].max() - df_hotel['longitude'].min())\n",
    "diff_in_long_in_miles = diff_in_long*ratio_miles_to_onelong\n",
    "bins_long = int(np.round(diff_in_long_in_miles/desired_long_mile_per_bin))\n",
    "print(f\"Num of bins for longitude: {bins_long}\")\n",
    "\n"
   ]
  },
  {
   "cell_type": "code",
   "execution_count": 262,
   "id": "55b08821",
   "metadata": {},
   "outputs": [],
   "source": [
    "#you have to add 1 to the bins because the very 1st element in the list is exclusive \n",
    "lats_bins_represent = np.linspace(df_hotel['latitude'].min(),df_hotel['latitude'].max(),bins_lats+1)\n",
    "longs_bins_represent = np.linspace(df_hotel['longitude'].min(),df_hotel['longitude'].max(),bins_long+1)\n",
    "\n",
    "# print(lats_bins_represent)\n",
    "# print(longs_bins_represent)"
   ]
  },
  {
   "cell_type": "code",
   "execution_count": 263,
   "id": "aad6dacb",
   "metadata": {},
   "outputs": [
    {
     "name": "stdout",
     "output_type": "stream",
     "text": [
      "72.0\n"
     ]
    }
   ],
   "source": [
    "H, xedges, yedges = np.histogram2d(df_hotel['latitude'],df_hotel['longitude'], bins=(bins_lats,bins_long) )\n",
    "\n",
    "H = H.T\n",
    "\n",
    "#if i do 0.1 mile per bin for both lats and longs, there is a bright yellow spot. It may so dense that it could be an outlier and over shadow it\n",
    "#if you want to see, run the lines below multiple times to remove the outliers and run the histogram plotting cell\n",
    "\n",
    "#I did a further analysis on exploring why their was an outlier\n",
    "#there is one airbnb host that has multiple accounts and they have over 1500 listings\n",
    "#they rent rooms in mansions I think. Seems absurd to have 1500 bedrooms available to rent all at one time\n",
    "#https://www.airbnb.com/users/401130632/listings\n",
    "#https://www.airbnb.com/users/144214204/listings\n",
    "#I think I will definitely ignore them for this as this is a huge outlier\n",
    "#http://insideairbnb.com/los-angeles\n",
    "#      If you go here and scroll, you will see jino & scott own the most listings for private rooms\n",
    "# \n",
    "max_long_bin_num_priv = np.where(H == np.max(H))[0][0]\n",
    "max_lat_bin_num_priv = np.where(H == np.max(H))[1][0]\n",
    "print(H[max_long_bin_num_priv,max_lat_bin_num_priv])\n",
    "H[max_long_bin_num_priv,max_lat_bin_num_priv] = 0 #when bins are represent 1 mile, do this to remove the outlier "
   ]
  },
  {
   "cell_type": "code",
   "execution_count": 264,
   "id": "ab118cc3",
   "metadata": {},
   "outputs": [
    {
     "data": {
      "image/png": "[encoded data removed]",
      "text/plain": [
       "<Figure size 500x500 with 2 Axes>"
      ]
     },
     "metadata": {},
     "output_type": "display_data"
    }
   ],
   "source": [
    "fig = plt.figure(figsize=(5, 5))\n",
    "ax = fig.add_subplot(title='Heatmap of # of listings in a given latitude and longitude',\n",
    "        aspect='equal')\n",
    "\n",
    "X, Y = np.meshgrid(xedges, yedges)\n",
    "\n",
    "hist2d = ax.pcolormesh(X, Y, H, cmap='plasma')\n",
    "ax.set_xlabel('latitude')\n",
    "ax.set_ylabel('longitude')\n",
    "plt.colorbar(hist2d,ax=ax)\n",
    "plt.show()"
   ]
  },
  {
   "cell_type": "code",
   "execution_count": 265,
   "id": "6a8aeeb6",
   "metadata": {},
   "outputs": [
    {
     "data": {
      "text/plain": [
       "(34.05726232558139, -118.38997506525675)"
      ]
     },
     "execution_count": 265,
     "metadata": {},
     "output_type": "execute_result"
    }
   ],
   "source": [
    "lats_bins_represent[max_lat_bin_num_priv],longs_bins_represent[max_long_bin_num_priv]"
   ]
  },
  {
   "cell_type": "code",
   "execution_count": 266,
   "id": "f7308dfd",
   "metadata": {},
   "outputs": [],
   "source": [
    "def get_listings_in_bin(df, lat_bin_num, long_bin_num):\n",
    "    cond_gt_lats = df['latitude'] > lats_bins_represent[lat_bin_num]\n",
    "    cond_lt_lats = df['latitude'] <= lats_bins_represent[lat_bin_num+1]\n",
    "    cond_gt_long = df['longitude'] > longs_bins_represent[long_bin_num]\n",
    "    cond_lt_long = df['longitude'] <= longs_bins_represent[long_bin_num+1]\n",
    "    cut_df = df[cond_lt_lats & cond_gt_lats & cond_lt_long & cond_gt_long].copy()\n",
    "    return cut_df"
   ]
  },
  {
   "cell_type": "code",
   "execution_count": 267,
   "id": "aa2f3f72",
   "metadata": {},
   "outputs": [
    {
     "data": {
      "text/plain": [
       "(72, 78)"
      ]
     },
     "execution_count": 267,
     "metadata": {},
     "output_type": "execute_result"
    }
   ],
   "source": [
    "outlier_df_hotel = get_listings_in_bin(df_hotel,max_lat_bin_num_priv,max_long_bin_num_priv)\n",
    "outlier_df_hotel.shape"
   ]
  },
  {
   "cell_type": "code",
   "execution_count": 268,
   "id": "fabcc413",
   "metadata": {},
   "outputs": [
    {
     "data": {
      "text/plain": [
       "Michelle    14\n",
       "April       12\n",
       "Gabriela    10\n",
       "Billy        9\n",
       "Bobby        7\n",
       "Scott        7\n",
       "Fernanda     6\n",
       "Dovid        6\n",
       "Andre        1\n",
       "Name: host_name, dtype: int64"
      ]
     },
     "execution_count": 268,
     "metadata": {},
     "output_type": "execute_result"
    }
   ],
   "source": [
    "outlier_df_hotel.host_name.value_counts()"
   ]
  },
  {
   "cell_type": "code",
   "execution_count": 269,
   "id": "24cb50d9",
   "metadata": {},
   "outputs": [
    {
     "data": {
      "text/plain": [
       "Blueground    717\n",
       "David         291\n",
       "Alex          276\n",
       "Michael       255\n",
       "Nicole        234\n",
       "             ... \n",
       "Joy Karen       1\n",
       "Harmony         1\n",
       "Hitmaker        1\n",
       "Nav             1\n",
       "Alyse           1\n",
       "Name: host_name, Length: 7849, dtype: int64"
      ]
     },
     "execution_count": 269,
     "metadata": {},
     "output_type": "execute_result"
    }
   ],
   "source": [
    "df.host_name.value_counts()"
   ]
  },
  {
   "cell_type": "code",
   "execution_count": 270,
   "id": "8bf66d00",
   "metadata": {},
   "outputs": [],
   "source": [
    "min_max_scaled_H = H/np.max(H)"
   ]
  },
  {
   "cell_type": "code",
   "execution_count": 271,
   "id": "3794b589",
   "metadata": {},
   "outputs": [
    {
     "data": {
      "text/plain": [
       "215"
      ]
     },
     "execution_count": 271,
     "metadata": {},
     "output_type": "execute_result"
    }
   ],
   "source": [
    "H.shape[1]"
   ]
  },
  {
   "cell_type": "code",
   "execution_count": 272,
   "id": "2b5b4b9a",
   "metadata": {},
   "outputs": [],
   "source": [
    "num_of_reviews_in_bin = np.zeros(H.shape)\n",
    "for i in np.arange(0,H.shape[0],1):\n",
    "    for j in np.arange(0,H.shape[1],1):\n",
    "        dummy_df = get_listings_in_bin(df_hotel,j,i)\n",
    "        num_of_reviews_in_bin[i,j] = dummy_df['number_of_reviews'].sum()"
   ]
  },
  {
   "cell_type": "code",
   "execution_count": 273,
   "id": "e8f5923f",
   "metadata": {},
   "outputs": [
    {
     "data": {
      "image/png": "[encoded data removed]",
      "text/plain": [
       "<Figure size 500x500 with 2 Axes>"
      ]
     },
     "metadata": {},
     "output_type": "display_data"
    }
   ],
   "source": [
    "fig = plt.figure(figsize=(5, 5))\n",
    "ax = fig.add_subplot(title='Heatmap of # of reviews in a given latitude and longitude',\n",
    "        aspect='equal')\n",
    "\n",
    "X, Y = np.meshgrid(xedges, yedges)\n",
    "\n",
    "hist2d = ax.pcolormesh(X, Y, num_of_reviews_in_bin, cmap='plasma')\n",
    "ax.set_xlabel('latitude')\n",
    "ax.set_ylabel('longitude')\n",
    "plt.colorbar(hist2d,ax=ax)\n",
    "plt.show()"
   ]
  },
  {
   "cell_type": "code",
   "execution_count": 274,
   "id": "f4009d00",
   "metadata": {},
   "outputs": [],
   "source": [
    "min_max_scaled_reviews = num_of_reviews_in_bin/np.max(num_of_reviews_in_bin)"
   ]
  },
  {
   "cell_type": "code",
   "execution_count": 275,
   "id": "5d37f4ff",
   "metadata": {},
   "outputs": [
    {
     "ename": "KeyboardInterrupt",
     "evalue": "",
     "output_type": "error",
     "traceback": [
      "\u001b[1;31m---------------------------------------------------------------------------\u001b[0m",
      "\u001b[1;31mKeyboardInterrupt\u001b[0m                         Traceback (most recent call last)",
      "Cell \u001b[1;32mIn[275], line 5\u001b[0m\n\u001b[0;32m      3\u001b[0m \u001b[39mfor\u001b[39;00m i \u001b[39min\u001b[39;00m np\u001b[39m.\u001b[39marange(\u001b[39m0\u001b[39m,H\u001b[39m.\u001b[39mshape[\u001b[39m0\u001b[39m],\u001b[39m1\u001b[39m):\n\u001b[0;32m      4\u001b[0m     \u001b[39mfor\u001b[39;00m j \u001b[39min\u001b[39;00m np\u001b[39m.\u001b[39marange(\u001b[39m0\u001b[39m,H\u001b[39m.\u001b[39mshape[\u001b[39m1\u001b[39m],\u001b[39m1\u001b[39m):\n\u001b[1;32m----> 5\u001b[0m         dummy_df \u001b[39m=\u001b[39m get_listings_in_bin(df_hotel,j,i)\n\u001b[0;32m      6\u001b[0m         num_of_reviews_per_month_in_bin[i,j] \u001b[39m=\u001b[39m dummy_df[\u001b[39m'\u001b[39m\u001b[39mreviews_per_month\u001b[39m\u001b[39m'\u001b[39m]\u001b[39m.\u001b[39msum()\n",
      "Cell \u001b[1;32mIn[266], line 6\u001b[0m, in \u001b[0;36mget_listings_in_bin\u001b[1;34m(df, lat_bin_num, long_bin_num)\u001b[0m\n\u001b[0;32m      4\u001b[0m cond_gt_long \u001b[39m=\u001b[39m df[\u001b[39m'\u001b[39m\u001b[39mlongitude\u001b[39m\u001b[39m'\u001b[39m] \u001b[39m>\u001b[39m longs_bins_represent[long_bin_num]\n\u001b[0;32m      5\u001b[0m cond_lt_long \u001b[39m=\u001b[39m df[\u001b[39m'\u001b[39m\u001b[39mlongitude\u001b[39m\u001b[39m'\u001b[39m] \u001b[39m<\u001b[39m\u001b[39m=\u001b[39m longs_bins_represent[long_bin_num\u001b[39m+\u001b[39m\u001b[39m1\u001b[39m]\n\u001b[1;32m----> 6\u001b[0m cut_df \u001b[39m=\u001b[39m df[cond_lt_lats \u001b[39m&\u001b[39;49m cond_gt_lats \u001b[39m&\u001b[39;49m cond_lt_long \u001b[39m&\u001b[39m cond_gt_long]\u001b[39m.\u001b[39mcopy()\n\u001b[0;32m      7\u001b[0m \u001b[39mreturn\u001b[39;00m cut_df\n",
      "File \u001b[1;32mc:\\Users\\Ricky\\anaconda3\\lib\\site-packages\\pandas\\core\\ops\\common.py:72\u001b[0m, in \u001b[0;36m_unpack_zerodim_and_defer.<locals>.new_method\u001b[1;34m(self, other)\u001b[0m\n\u001b[0;32m     68\u001b[0m             \u001b[39mreturn\u001b[39;00m \u001b[39mNotImplemented\u001b[39m\n\u001b[0;32m     70\u001b[0m other \u001b[39m=\u001b[39m item_from_zerodim(other)\n\u001b[1;32m---> 72\u001b[0m \u001b[39mreturn\u001b[39;00m method(\u001b[39mself\u001b[39;49m, other)\n",
      "File \u001b[1;32mc:\\Users\\Ricky\\anaconda3\\lib\\site-packages\\pandas\\core\\arraylike.py:72\u001b[0m, in \u001b[0;36mOpsMixin.__and__\u001b[1;34m(self, other)\u001b[0m\n\u001b[0;32m     70\u001b[0m \u001b[39m@unpack_zerodim_and_defer\u001b[39m(\u001b[39m\"\u001b[39m\u001b[39m__and__\u001b[39m\u001b[39m\"\u001b[39m)\n\u001b[0;32m     71\u001b[0m \u001b[39mdef\u001b[39;00m \u001b[39m__and__\u001b[39m(\u001b[39mself\u001b[39m, other):\n\u001b[1;32m---> 72\u001b[0m     \u001b[39mreturn\u001b[39;00m \u001b[39mself\u001b[39;49m\u001b[39m.\u001b[39;49m_logical_method(other, operator\u001b[39m.\u001b[39;49mand_)\n",
      "File \u001b[1;32mc:\\Users\\Ricky\\anaconda3\\lib\\site-packages\\pandas\\core\\series.py:6254\u001b[0m, in \u001b[0;36mSeries._logical_method\u001b[1;34m(self, other, op)\u001b[0m\n\u001b[0;32m   6251\u001b[0m lvalues \u001b[39m=\u001b[39m \u001b[39mself\u001b[39m\u001b[39m.\u001b[39m_values\n\u001b[0;32m   6252\u001b[0m rvalues \u001b[39m=\u001b[39m extract_array(other, extract_numpy\u001b[39m=\u001b[39m\u001b[39mTrue\u001b[39;00m, extract_range\u001b[39m=\u001b[39m\u001b[39mTrue\u001b[39;00m)\n\u001b[1;32m-> 6254\u001b[0m res_values \u001b[39m=\u001b[39m ops\u001b[39m.\u001b[39;49mlogical_op(lvalues, rvalues, op)\n\u001b[0;32m   6255\u001b[0m \u001b[39mreturn\u001b[39;00m \u001b[39mself\u001b[39m\u001b[39m.\u001b[39m_construct_result(res_values, name\u001b[39m=\u001b[39mres_name)\n",
      "File \u001b[1;32mc:\\Users\\Ricky\\anaconda3\\lib\\site-packages\\pandas\\core\\ops\\array_ops.py:397\u001b[0m, in \u001b[0;36mlogical_op\u001b[1;34m(left, right, op)\u001b[0m\n\u001b[0;32m    395\u001b[0m     res_values \u001b[39m=\u001b[39m na_logical_op(lvalues, rvalues, op)\n\u001b[0;32m    396\u001b[0m     \u001b[39m# error: Cannot call function of unknown type\u001b[39;00m\n\u001b[1;32m--> 397\u001b[0m     res_values \u001b[39m=\u001b[39m filler(res_values)  \u001b[39m# type: ignore[operator]\u001b[39;00m\n\u001b[0;32m    399\u001b[0m \u001b[39mreturn\u001b[39;00m res_values\n",
      "File \u001b[1;32mc:\\Users\\Ricky\\anaconda3\\lib\\site-packages\\pandas\\core\\ops\\array_ops.py:364\u001b[0m, in \u001b[0;36mlogical_op.<locals>.fill_bool\u001b[1;34m(x, left)\u001b[0m\n\u001b[0;32m    361\u001b[0m         x[mask] \u001b[39m=\u001b[39m \u001b[39mFalse\u001b[39;00m\n\u001b[0;32m    363\u001b[0m \u001b[39mif\u001b[39;00m left \u001b[39mis\u001b[39;00m \u001b[39mNone\u001b[39;00m \u001b[39mor\u001b[39;00m is_bool_dtype(left\u001b[39m.\u001b[39mdtype):\n\u001b[1;32m--> 364\u001b[0m     x \u001b[39m=\u001b[39m x\u001b[39m.\u001b[39;49mastype(\u001b[39mbool\u001b[39;49m)\n\u001b[0;32m    365\u001b[0m \u001b[39mreturn\u001b[39;00m x\n",
      "\u001b[1;31mKeyboardInterrupt\u001b[0m: "
     ]
    }
   ],
   "source": [
    "min_max_scaled_reviews = num_of_reviews_in_bin/np.max(num_of_reviews_in_bin)\n",
    "num_of_reviews_per_month_in_bin = np.zeros(H.shape)\n",
    "for i in np.arange(0,H.shape[0],1):\n",
    "    for j in np.arange(0,H.shape[1],1):\n",
    "        dummy_df = get_listings_in_bin(df_hotel,j,i)\n",
    "        num_of_reviews_per_month_in_bin[i,j] = dummy_df['reviews_per_month'].sum()"
   ]
  },
  {
   "cell_type": "code",
   "execution_count": null,
   "id": "73f65d63",
   "metadata": {},
   "outputs": [
    {
     "data": {
      "image/png": "[encoded data removed]",
      "text/plain": [
       "<Figure size 500x500 with 2 Axes>"
      ]
     },
     "metadata": {},
     "output_type": "display_data"
    }
   ],
   "source": [
    "fig = plt.figure(figsize=(5, 5))\n",
    "ax = fig.add_subplot(title='Heatmap of # of reviews per month in a given latitude and longitude',\n",
    "        aspect='equal')\n",
    "\n",
    "X, Y = np.meshgrid(xedges, yedges)\n",
    "\n",
    "hist2d = ax.pcolormesh(X, Y, num_of_reviews_per_month_in_bin, cmap='plasma')\n",
    "ax.set_xlabel('latitude')\n",
    "ax.set_ylabel('longitude')\n",
    "plt.colorbar(hist2d,ax=ax)\n",
    "plt.show()"
   ]
  },
  {
   "cell_type": "code",
   "execution_count": null,
   "id": "ca14b575",
   "metadata": {},
   "outputs": [],
   "source": [
    "min_max_scaled_reviews_per_month = num_of_reviews_per_month_in_bin/np.max(num_of_reviews_per_month_in_bin)"
   ]
  },
  {
   "cell_type": "code",
   "execution_count": null,
   "id": "038cc735",
   "metadata": {},
   "outputs": [
    {
     "data": {
      "text/plain": [
       "3"
      ]
     },
     "execution_count": 284,
     "metadata": {},
     "output_type": "execute_result"
    }
   ],
   "source": [
    "#this here is the amount of areas where the # of listings scale was larger than the # of reviews\n",
    "#so whatever number is outputed it is saying that there are x amount of bin regions where their are more listings in the region than there are reviews\n",
    "np.shape(np.where((min_max_scaled_H - min_max_scaled_reviews) > 0.3))[1]"
   ]
  },
  {
   "cell_type": "code",
   "execution_count": null,
   "id": "388f47da",
   "metadata": {},
   "outputs": [
    {
     "data": {
      "text/plain": [
       "7"
      ]
     },
     "execution_count": 285,
     "metadata": {},
     "output_type": "execute_result"
    }
   ],
   "source": [
    "#this here is the amount of areas where the # of listings scale was smaller than the # of reviews\n",
    "#so whatever number is outputed it is saying that there are x amount of bin regions where their are more reviews in the region than there are listings.\n",
    "np.shape(np.where((min_max_scaled_H - min_max_scaled_reviews) < -0.3))[1]"
   ]
  },
  {
   "cell_type": "code",
   "execution_count": null,
   "id": "0b3f6f35",
   "metadata": {},
   "outputs": [],
   "source": [
    "df_hotel['hotspot_from_listings'] = 0\n",
    "df_hotel['hotspot_from_reviews'] = 0\n",
    "df_hotel['hotspot_from_reviews_per_month'] = 0\n"
   ]
  },
  {
   "cell_type": "code",
   "execution_count": null,
   "id": "ee6f61b0",
   "metadata": {},
   "outputs": [],
   "source": [
    "for longs in np.arange(0,H.shape[0],1):\n",
    "    for lats in np.arange(0,H.shape[1],1):\n",
    "        cond_gt_lats = df_hotel['latitude'] > lats_bins_represent[lats]\n",
    "        cond_lt_lats = df_hotel['latitude'] <= lats_bins_represent[lats+1]\n",
    "        cond_gt_long = df_hotel['longitude'] > longs_bins_represent[longs]\n",
    "        cond_lt_long = df_hotel['longitude'] <= longs_bins_represent[longs+1]\n",
    "        df_hotel.loc[cond_lt_lats & cond_gt_lats & cond_lt_long & cond_gt_long, 'hotspot_from_listings'] = min_max_scaled_H[longs,lats]\n",
    "        df_hotel.loc[cond_lt_lats & cond_gt_lats & cond_lt_long & cond_gt_long, 'hotspot_from_reviews'] = min_max_scaled_reviews[longs,lats]\n",
    "        df_hotel.loc[cond_lt_lats & cond_gt_lats & cond_lt_long & cond_gt_long, 'hotspot_from_reviews_per_month'] = min_max_scaled_reviews_per_month[longs,lats]\n"
   ]
  },
  {
   "cell_type": "code",
   "execution_count": null,
   "id": "9b5db761",
   "metadata": {},
   "outputs": [],
   "source": [
    "df_hotel['category_hotness_from_listings'] = round(df_hotel['hotspot_from_listings'],1)*10\n",
    "df_hotel['category_hotness_from_reviews'] = round(df_hotel['hotspot_from_reviews'],1)*10\n",
    "df_hotel['category_hotness_from_reviews_per_month'] = round(df_hotel['hotspot_from_reviews_per_month'],1)*10"
   ]
  },
  {
   "cell_type": "code",
   "execution_count": null,
   "id": "163f2bca",
   "metadata": {},
   "outputs": [
    {
     "data": {
      "text/html": [
       "<div>\n",
       "<style scoped>\n",
       "    .dataframe tbody tr th:only-of-type {\n",
       "        vertical-align: middle;\n",
       "    }\n",
       "\n",
       "    .dataframe tbody tr th {\n",
       "        vertical-align: top;\n",
       "    }\n",
       "\n",
       "    .dataframe thead th {\n",
       "        text-align: right;\n",
       "    }\n",
       "</style>\n",
       "<table border=\"1\" class=\"dataframe\">\n",
       "  <thead>\n",
       "    <tr style=\"text-align: right;\">\n",
       "      <th></th>\n",
       "      <th>id</th>\n",
       "      <th>listing_url</th>\n",
       "      <th>scrape_id</th>\n",
       "      <th>last_scraped</th>\n",
       "      <th>source</th>\n",
       "      <th>name</th>\n",
       "      <th>description</th>\n",
       "      <th>neighborhood_overview</th>\n",
       "      <th>picture_url</th>\n",
       "      <th>host_id</th>\n",
       "      <th>...</th>\n",
       "      <th>calculated_host_listings_count_entire_homes</th>\n",
       "      <th>calculated_host_listings_count_private_rooms</th>\n",
       "      <th>calculated_host_listings_count_shared_rooms</th>\n",
       "      <th>reviews_per_month</th>\n",
       "      <th>hotspot_from_listings</th>\n",
       "      <th>hotspot_from_reviews</th>\n",
       "      <th>hotspot_from_reviews_per_month</th>\n",
       "      <th>category_hotness_from_listings</th>\n",
       "      <th>category_hotness_from_reviews</th>\n",
       "      <th>category_hotness_from_reviews_per_month</th>\n",
       "    </tr>\n",
       "  </thead>\n",
       "  <tbody>\n",
       "    <tr>\n",
       "      <th>42146</th>\n",
       "      <td>770704185226367905</td>\n",
       "      <td>https://www.airbnb.com/rooms/770704185226367905</td>\n",
       "      <td>20230307175359</td>\n",
       "      <td>2023-03-08</td>\n",
       "      <td>city scrape</td>\n",
       "      <td>JOYFuL SEA+ OCEAN View 4br House+walk 2 Beach</td>\n",
       "      <td>Panoramic ocean view !!!&lt;br /&gt;Dolphins jumping...</td>\n",
       "      <td>NaN</td>\n",
       "      <td>https://a0.muscache.com/pictures/miso/Hosting-...</td>\n",
       "      <td>34593209</td>\n",
       "      <td>...</td>\n",
       "      <td>50</td>\n",
       "      <td>0</td>\n",
       "      <td>0</td>\n",
       "      <td>0.92</td>\n",
       "      <td>0.94403</td>\n",
       "      <td>1.000000</td>\n",
       "      <td>0.721450</td>\n",
       "      <td>9.0</td>\n",
       "      <td>10.0</td>\n",
       "      <td>7.0</td>\n",
       "    </tr>\n",
       "    <tr>\n",
       "      <th>20106</th>\n",
       "      <td>38461184</td>\n",
       "      <td>https://www.airbnb.com/rooms/38461184</td>\n",
       "      <td>20230307175359</td>\n",
       "      <td>2023-03-08</td>\n",
       "      <td>previous scrape</td>\n",
       "      <td>Contemporary studio in the Heart of Hollywood!</td>\n",
       "      <td>Perfect studio with a contemporary interior in...</td>\n",
       "      <td>NaN</td>\n",
       "      <td>https://a0.muscache.com/pictures/66d8a532-c433...</td>\n",
       "      <td>1773274</td>\n",
       "      <td>...</td>\n",
       "      <td>1</td>\n",
       "      <td>0</td>\n",
       "      <td>0</td>\n",
       "      <td>NaN</td>\n",
       "      <td>1.00000</td>\n",
       "      <td>0.376746</td>\n",
       "      <td>0.177648</td>\n",
       "      <td>10.0</td>\n",
       "      <td>4.0</td>\n",
       "      <td>2.0</td>\n",
       "    </tr>\n",
       "  </tbody>\n",
       "</table>\n",
       "<p>2 rows × 81 columns</p>\n",
       "</div>"
      ],
      "text/plain": [
       "                       id                                      listing_url  \\\n",
       "42146  770704185226367905  https://www.airbnb.com/rooms/770704185226367905   \n",
       "20106            38461184            https://www.airbnb.com/rooms/38461184   \n",
       "\n",
       "            scrape_id last_scraped           source  \\\n",
       "42146  20230307175359   2023-03-08      city scrape   \n",
       "20106  20230307175359   2023-03-08  previous scrape   \n",
       "\n",
       "                                                 name  \\\n",
       "42146   JOYFuL SEA+ OCEAN View 4br House+walk 2 Beach   \n",
       "20106  Contemporary studio in the Heart of Hollywood!   \n",
       "\n",
       "                                             description  \\\n",
       "42146  Panoramic ocean view !!!<br />Dolphins jumping...   \n",
       "20106  Perfect studio with a contemporary interior in...   \n",
       "\n",
       "      neighborhood_overview  \\\n",
       "42146                   NaN   \n",
       "20106                   NaN   \n",
       "\n",
       "                                             picture_url   host_id  ...  \\\n",
       "42146  https://a0.muscache.com/pictures/miso/Hosting-...  34593209  ...   \n",
       "20106  https://a0.muscache.com/pictures/66d8a532-c433...   1773274  ...   \n",
       "\n",
       "      calculated_host_listings_count_entire_homes  \\\n",
       "42146                                          50   \n",
       "20106                                           1   \n",
       "\n",
       "      calculated_host_listings_count_private_rooms  \\\n",
       "42146                                            0   \n",
       "20106                                            0   \n",
       "\n",
       "      calculated_host_listings_count_shared_rooms reviews_per_month  \\\n",
       "42146                                           0              0.92   \n",
       "20106                                           0               NaN   \n",
       "\n",
       "      hotspot_from_listings hotspot_from_reviews  \\\n",
       "42146               0.94403             1.000000   \n",
       "20106               1.00000             0.376746   \n",
       "\n",
       "      hotspot_from_reviews_per_month category_hotness_from_listings  \\\n",
       "42146                       0.721450                            9.0   \n",
       "20106                       0.177648                           10.0   \n",
       "\n",
       "      category_hotness_from_reviews category_hotness_from_reviews_per_month  \n",
       "42146                          10.0                                     7.0  \n",
       "20106                           4.0                                     2.0  \n",
       "\n",
       "[2 rows x 81 columns]"
      ]
     },
     "execution_count": 289,
     "metadata": {},
     "output_type": "execute_result"
    }
   ],
   "source": [
    "df_hotel[df_hotel['hotspot_from_listings'] > 0.9].sample(2)"
   ]
  },
  {
   "cell_type": "code",
   "execution_count": null,
   "id": "32eac720",
   "metadata": {},
   "outputs": [
    {
     "data": {
      "image/png": "[encoded data removed]",
      "text/plain": [
       "<Figure size 640x480 with 2 Axes>"
      ]
     },
     "metadata": {},
     "output_type": "display_data"
    }
   ],
   "source": [
    "cut_priv = df_hotel[(df_hotel['hotspot_from_listings'] > 0.6) & (df_hotel['accommodates'] < 6)].copy()\n",
    "hotspot_corr = cut_priv[['hotspot_from_listings','hotspot_from_reviews','hotspot_from_reviews_per_month','price']].corr()\n",
    "sns.heatmap(hotspot_corr, annot=True)\n",
    "plt.show()"
   ]
  },
  {
   "cell_type": "code",
   "execution_count": null,
   "id": "6f09bc08",
   "metadata": {},
   "outputs": [
    {
     "data": {
      "text/plain": [
       "Text(0, 0.5, 'price per night')"
      ]
     },
     "execution_count": 291,
     "metadata": {},
     "output_type": "execute_result"
    },
    {
     "data": {
      "image/png": "[encoded data removed]",
      "text/plain": [
       "<Figure size 640x480 with 1 Axes>"
      ]
     },
     "metadata": {},
     "output_type": "display_data"
    }
   ],
   "source": [
    "plt.scatter(df_hotel['hotspot_from_listings'],df_hotel['price'])\n",
    "plt.xlabel('hotspot based on listings')\n",
    "plt.ylabel('price per night')"
   ]
  },
  {
   "cell_type": "code",
   "execution_count": null,
   "id": "31e796bf",
   "metadata": {},
   "outputs": [
    {
     "data": {
      "text/html": [
       "<div>\n",
       "<style scoped>\n",
       "    .dataframe tbody tr th:only-of-type {\n",
       "        vertical-align: middle;\n",
       "    }\n",
       "\n",
       "    .dataframe tbody tr th {\n",
       "        vertical-align: top;\n",
       "    }\n",
       "\n",
       "    .dataframe thead th {\n",
       "        text-align: right;\n",
       "    }\n",
       "</style>\n",
       "<table border=\"1\" class=\"dataframe\">\n",
       "  <thead>\n",
       "    <tr style=\"text-align: right;\">\n",
       "      <th></th>\n",
       "      <th>id</th>\n",
       "      <th>listing_url</th>\n",
       "      <th>scrape_id</th>\n",
       "      <th>last_scraped</th>\n",
       "      <th>source</th>\n",
       "      <th>name</th>\n",
       "      <th>description</th>\n",
       "      <th>neighborhood_overview</th>\n",
       "      <th>picture_url</th>\n",
       "      <th>host_id</th>\n",
       "      <th>...</th>\n",
       "      <th>calculated_host_listings_count_entire_homes</th>\n",
       "      <th>calculated_host_listings_count_private_rooms</th>\n",
       "      <th>calculated_host_listings_count_shared_rooms</th>\n",
       "      <th>reviews_per_month</th>\n",
       "      <th>hotspot_from_listings</th>\n",
       "      <th>hotspot_from_reviews</th>\n",
       "      <th>hotspot_from_reviews_per_month</th>\n",
       "      <th>category_hotness_from_listings</th>\n",
       "      <th>category_hotness_from_reviews</th>\n",
       "      <th>category_hotness_from_reviews_per_month</th>\n",
       "    </tr>\n",
       "  </thead>\n",
       "  <tbody>\n",
       "    <tr>\n",
       "      <th>3412</th>\n",
       "      <td>7417528</td>\n",
       "      <td>https://www.airbnb.com/rooms/7417528</td>\n",
       "      <td>20230307175359</td>\n",
       "      <td>2023-03-08</td>\n",
       "      <td>previous scrape</td>\n",
       "      <td>GORGEOUS MANSION TRENDY WEST HOLLYW</td>\n",
       "      <td>Sited in a quiet street in the heart of West H...</td>\n",
       "      <td>NaN</td>\n",
       "      <td>https://a0.muscache.com/pictures/96990843/005e...</td>\n",
       "      <td>38857249</td>\n",
       "      <td>...</td>\n",
       "      <td>1</td>\n",
       "      <td>0</td>\n",
       "      <td>0</td>\n",
       "      <td>NaN</td>\n",
       "      <td>0.108209</td>\n",
       "      <td>0.024157</td>\n",
       "      <td>0.038103</td>\n",
       "      <td>1.0</td>\n",
       "      <td>0.0</td>\n",
       "      <td>0.0</td>\n",
       "    </tr>\n",
       "    <tr>\n",
       "      <th>6913</th>\n",
       "      <td>46331454</td>\n",
       "      <td>https://www.airbnb.com/rooms/46331454</td>\n",
       "      <td>20230307175359</td>\n",
       "      <td>2023-03-08</td>\n",
       "      <td>city scrape</td>\n",
       "      <td>Castle at the Grove</td>\n",
       "      <td>Step into this ultra-modern new home with the ...</td>\n",
       "      <td>NaN</td>\n",
       "      <td>https://a0.muscache.com/pictures/53ae7369-4a64...</td>\n",
       "      <td>40712381</td>\n",
       "      <td>...</td>\n",
       "      <td>4</td>\n",
       "      <td>0</td>\n",
       "      <td>0</td>\n",
       "      <td>NaN</td>\n",
       "      <td>0.059701</td>\n",
       "      <td>0.019851</td>\n",
       "      <td>0.016761</td>\n",
       "      <td>1.0</td>\n",
       "      <td>0.0</td>\n",
       "      <td>0.0</td>\n",
       "    </tr>\n",
       "    <tr>\n",
       "      <th>9175</th>\n",
       "      <td>30511072</td>\n",
       "      <td>https://www.airbnb.com/rooms/30511072</td>\n",
       "      <td>20230307175359</td>\n",
       "      <td>2023-03-07</td>\n",
       "      <td>city scrape</td>\n",
       "      <td>⛱️Malibu Rd Ocean Front House Direct Beach Access</td>\n",
       "      <td>Come enjoy the best of Malibu at our stunning ...</td>\n",
       "      <td>NaN</td>\n",
       "      <td>https://a0.muscache.com/pictures/miso/Hosting-...</td>\n",
       "      <td>8398671</td>\n",
       "      <td>...</td>\n",
       "      <td>54</td>\n",
       "      <td>0</td>\n",
       "      <td>0</td>\n",
       "      <td>0.32</td>\n",
       "      <td>0.007463</td>\n",
       "      <td>0.002836</td>\n",
       "      <td>0.002514</td>\n",
       "      <td>0.0</td>\n",
       "      <td>0.0</td>\n",
       "      <td>0.0</td>\n",
       "    </tr>\n",
       "    <tr>\n",
       "      <th>34486</th>\n",
       "      <td>51962681</td>\n",
       "      <td>https://www.airbnb.com/rooms/51962681</td>\n",
       "      <td>20230307175359</td>\n",
       "      <td>2023-03-08</td>\n",
       "      <td>city scrape</td>\n",
       "      <td>Exquisite Woodland Hills Modern Smart-Home</td>\n",
       "      <td>Enjoy this modern &amp; upscale property in centra...</td>\n",
       "      <td>NaN</td>\n",
       "      <td>https://a0.muscache.com/pictures/31f2839e-4ab9...</td>\n",
       "      <td>25551648</td>\n",
       "      <td>...</td>\n",
       "      <td>81</td>\n",
       "      <td>0</td>\n",
       "      <td>0</td>\n",
       "      <td>NaN</td>\n",
       "      <td>0.037313</td>\n",
       "      <td>0.019851</td>\n",
       "      <td>0.016109</td>\n",
       "      <td>0.0</td>\n",
       "      <td>0.0</td>\n",
       "      <td>0.0</td>\n",
       "    </tr>\n",
       "    <tr>\n",
       "      <th>38567</th>\n",
       "      <td>613871815557748699</td>\n",
       "      <td>https://www.airbnb.com/rooms/613871815557748699</td>\n",
       "      <td>20230307175359</td>\n",
       "      <td>2023-03-08</td>\n",
       "      <td>city scrape</td>\n",
       "      <td>Santa Monica Adj. Architectural Gem Has It All</td>\n",
       "      <td>XMAS /NEW YEAR RENTAL 10 NIGHT MINIMUM. $1995 ...</td>\n",
       "      <td>Pacific Palisades Riviera. Close to beaches, S...</td>\n",
       "      <td>https://a0.muscache.com/pictures/miso/Hosting-...</td>\n",
       "      <td>263319009</td>\n",
       "      <td>...</td>\n",
       "      <td>7</td>\n",
       "      <td>0</td>\n",
       "      <td>0</td>\n",
       "      <td>NaN</td>\n",
       "      <td>0.007463</td>\n",
       "      <td>0.000000</td>\n",
       "      <td>0.000000</td>\n",
       "      <td>0.0</td>\n",
       "      <td>0.0</td>\n",
       "      <td>0.0</td>\n",
       "    </tr>\n",
       "  </tbody>\n",
       "</table>\n",
       "<p>5 rows × 81 columns</p>\n",
       "</div>"
      ],
      "text/plain": [
       "                       id                                      listing_url  \\\n",
       "3412              7417528             https://www.airbnb.com/rooms/7417528   \n",
       "6913             46331454            https://www.airbnb.com/rooms/46331454   \n",
       "9175             30511072            https://www.airbnb.com/rooms/30511072   \n",
       "34486            51962681            https://www.airbnb.com/rooms/51962681   \n",
       "38567  613871815557748699  https://www.airbnb.com/rooms/613871815557748699   \n",
       "\n",
       "            scrape_id last_scraped           source  \\\n",
       "3412   20230307175359   2023-03-08  previous scrape   \n",
       "6913   20230307175359   2023-03-08      city scrape   \n",
       "9175   20230307175359   2023-03-07      city scrape   \n",
       "34486  20230307175359   2023-03-08      city scrape   \n",
       "38567  20230307175359   2023-03-08      city scrape   \n",
       "\n",
       "                                                    name  \\\n",
       "3412                 GORGEOUS MANSION TRENDY WEST HOLLYW   \n",
       "6913                                 Castle at the Grove   \n",
       "9175   ⛱️Malibu Rd Ocean Front House Direct Beach Access   \n",
       "34486         Exquisite Woodland Hills Modern Smart-Home   \n",
       "38567     Santa Monica Adj. Architectural Gem Has It All   \n",
       "\n",
       "                                             description  \\\n",
       "3412   Sited in a quiet street in the heart of West H...   \n",
       "6913   Step into this ultra-modern new home with the ...   \n",
       "9175   Come enjoy the best of Malibu at our stunning ...   \n",
       "34486  Enjoy this modern & upscale property in centra...   \n",
       "38567  XMAS /NEW YEAR RENTAL 10 NIGHT MINIMUM. $1995 ...   \n",
       "\n",
       "                                   neighborhood_overview  \\\n",
       "3412                                                 NaN   \n",
       "6913                                                 NaN   \n",
       "9175                                                 NaN   \n",
       "34486                                                NaN   \n",
       "38567  Pacific Palisades Riviera. Close to beaches, S...   \n",
       "\n",
       "                                             picture_url    host_id  ...  \\\n",
       "3412   https://a0.muscache.com/pictures/96990843/005e...   38857249  ...   \n",
       "6913   https://a0.muscache.com/pictures/53ae7369-4a64...   40712381  ...   \n",
       "9175   https://a0.muscache.com/pictures/miso/Hosting-...    8398671  ...   \n",
       "34486  https://a0.muscache.com/pictures/31f2839e-4ab9...   25551648  ...   \n",
       "38567  https://a0.muscache.com/pictures/miso/Hosting-...  263319009  ...   \n",
       "\n",
       "      calculated_host_listings_count_entire_homes  \\\n",
       "3412                                            1   \n",
       "6913                                            4   \n",
       "9175                                           54   \n",
       "34486                                          81   \n",
       "38567                                           7   \n",
       "\n",
       "      calculated_host_listings_count_private_rooms  \\\n",
       "3412                                             0   \n",
       "6913                                             0   \n",
       "9175                                             0   \n",
       "34486                                            0   \n",
       "38567                                            0   \n",
       "\n",
       "      calculated_host_listings_count_shared_rooms reviews_per_month  \\\n",
       "3412                                            0               NaN   \n",
       "6913                                            0               NaN   \n",
       "9175                                            0              0.32   \n",
       "34486                                           0               NaN   \n",
       "38567                                           0               NaN   \n",
       "\n",
       "      hotspot_from_listings hotspot_from_reviews  \\\n",
       "3412               0.108209             0.024157   \n",
       "6913               0.059701             0.019851   \n",
       "9175               0.007463             0.002836   \n",
       "34486              0.037313             0.019851   \n",
       "38567              0.007463             0.000000   \n",
       "\n",
       "      hotspot_from_reviews_per_month category_hotness_from_listings  \\\n",
       "3412                        0.038103                            1.0   \n",
       "6913                        0.016761                            1.0   \n",
       "9175                        0.002514                            0.0   \n",
       "34486                       0.016109                            0.0   \n",
       "38567                       0.000000                            0.0   \n",
       "\n",
       "      category_hotness_from_reviews category_hotness_from_reviews_per_month  \n",
       "3412                            0.0                                     0.0  \n",
       "6913                            0.0                                     0.0  \n",
       "9175                            0.0                                     0.0  \n",
       "34486                           0.0                                     0.0  \n",
       "38567                           0.0                                     0.0  \n",
       "\n",
       "[5 rows x 81 columns]"
      ]
     },
     "execution_count": 292,
     "metadata": {},
     "output_type": "execute_result"
    }
   ],
   "source": [
    "df_hotel[df_hotel['price'] == df_hotel['price'].max()]"
   ]
  },
  {
   "cell_type": "code",
   "execution_count": null,
   "id": "566025db",
   "metadata": {},
   "outputs": [
    {
     "data": {
      "text/plain": [
       "1995.0"
      ]
     },
     "execution_count": 293,
     "metadata": {},
     "output_type": "execute_result"
    }
   ],
   "source": [
    "df_hotel.price.max()"
   ]
  },
  {
   "cell_type": "code",
   "execution_count": null,
   "id": "0ddd43dd",
   "metadata": {},
   "outputs": [
    {
     "data": {
      "text/html": [
       "<div>\n",
       "<style scoped>\n",
       "    .dataframe tbody tr th:only-of-type {\n",
       "        vertical-align: middle;\n",
       "    }\n",
       "\n",
       "    .dataframe tbody tr th {\n",
       "        vertical-align: top;\n",
       "    }\n",
       "\n",
       "    .dataframe thead th {\n",
       "        text-align: right;\n",
       "    }\n",
       "</style>\n",
       "<table border=\"1\" class=\"dataframe\">\n",
       "  <thead>\n",
       "    <tr style=\"text-align: right;\">\n",
       "      <th></th>\n",
       "      <th>id</th>\n",
       "      <th>listing_url</th>\n",
       "      <th>scrape_id</th>\n",
       "      <th>last_scraped</th>\n",
       "      <th>source</th>\n",
       "      <th>name</th>\n",
       "      <th>description</th>\n",
       "      <th>neighborhood_overview</th>\n",
       "      <th>picture_url</th>\n",
       "      <th>host_id</th>\n",
       "      <th>...</th>\n",
       "      <th>calculated_host_listings_count_entire_homes</th>\n",
       "      <th>calculated_host_listings_count_private_rooms</th>\n",
       "      <th>calculated_host_listings_count_shared_rooms</th>\n",
       "      <th>reviews_per_month</th>\n",
       "      <th>hotspot_from_listings</th>\n",
       "      <th>hotspot_from_reviews</th>\n",
       "      <th>hotspot_from_reviews_per_month</th>\n",
       "      <th>category_hotness_from_listings</th>\n",
       "      <th>category_hotness_from_reviews</th>\n",
       "      <th>category_hotness_from_reviews_per_month</th>\n",
       "    </tr>\n",
       "  </thead>\n",
       "  <tbody>\n",
       "    <tr>\n",
       "      <th>17173</th>\n",
       "      <td>49081267</td>\n",
       "      <td>https://www.airbnb.com/rooms/49081267</td>\n",
       "      <td>20230307175359</td>\n",
       "      <td>2023-03-08</td>\n",
       "      <td>previous scrape</td>\n",
       "      <td>Do you want to see the constellations?</td>\n",
       "      <td>This place is the ideal location to shoot dese...</td>\n",
       "      <td>NaN</td>\n",
       "      <td>https://a0.muscache.com/pictures/896f2669-e0b3...</td>\n",
       "      <td>215949026</td>\n",
       "      <td>...</td>\n",
       "      <td>1</td>\n",
       "      <td>0</td>\n",
       "      <td>1</td>\n",
       "      <td>NaN</td>\n",
       "      <td>0.003731</td>\n",
       "      <td>0.000000</td>\n",
       "      <td>0.00000</td>\n",
       "      <td>0.0</td>\n",
       "      <td>0.0</td>\n",
       "      <td>0.0</td>\n",
       "    </tr>\n",
       "    <tr>\n",
       "      <th>18367</th>\n",
       "      <td>684438168530111128</td>\n",
       "      <td>https://www.airbnb.com/rooms/684438168530111128</td>\n",
       "      <td>20230307175359</td>\n",
       "      <td>2023-03-07</td>\n",
       "      <td>city scrape</td>\n",
       "      <td>LUXURIOUS VILLA FOR BEST VACATIONS AND MEMORIES</td>\n",
       "      <td>Forget your worries in this spacious and seren...</td>\n",
       "      <td>NaN</td>\n",
       "      <td>https://a0.muscache.com/pictures/miso/Hosting-...</td>\n",
       "      <td>350763150</td>\n",
       "      <td>...</td>\n",
       "      <td>1</td>\n",
       "      <td>0</td>\n",
       "      <td>0</td>\n",
       "      <td>0.58</td>\n",
       "      <td>0.003731</td>\n",
       "      <td>0.000105</td>\n",
       "      <td>0.00108</td>\n",
       "      <td>0.0</td>\n",
       "      <td>0.0</td>\n",
       "      <td>0.0</td>\n",
       "    </tr>\n",
       "  </tbody>\n",
       "</table>\n",
       "<p>2 rows × 81 columns</p>\n",
       "</div>"
      ],
      "text/plain": [
       "                       id                                      listing_url  \\\n",
       "17173            49081267            https://www.airbnb.com/rooms/49081267   \n",
       "18367  684438168530111128  https://www.airbnb.com/rooms/684438168530111128   \n",
       "\n",
       "            scrape_id last_scraped           source  \\\n",
       "17173  20230307175359   2023-03-08  previous scrape   \n",
       "18367  20230307175359   2023-03-07      city scrape   \n",
       "\n",
       "                                                  name  \\\n",
       "17173           Do you want to see the constellations?   \n",
       "18367  LUXURIOUS VILLA FOR BEST VACATIONS AND MEMORIES   \n",
       "\n",
       "                                             description  \\\n",
       "17173  This place is the ideal location to shoot dese...   \n",
       "18367  Forget your worries in this spacious and seren...   \n",
       "\n",
       "      neighborhood_overview  \\\n",
       "17173                   NaN   \n",
       "18367                   NaN   \n",
       "\n",
       "                                             picture_url    host_id  ...  \\\n",
       "17173  https://a0.muscache.com/pictures/896f2669-e0b3...  215949026  ...   \n",
       "18367  https://a0.muscache.com/pictures/miso/Hosting-...  350763150  ...   \n",
       "\n",
       "      calculated_host_listings_count_entire_homes  \\\n",
       "17173                                           1   \n",
       "18367                                           1   \n",
       "\n",
       "      calculated_host_listings_count_private_rooms  \\\n",
       "17173                                            0   \n",
       "18367                                            0   \n",
       "\n",
       "      calculated_host_listings_count_shared_rooms reviews_per_month  \\\n",
       "17173                                           1               NaN   \n",
       "18367                                           0              0.58   \n",
       "\n",
       "      hotspot_from_listings hotspot_from_reviews  \\\n",
       "17173              0.003731             0.000000   \n",
       "18367              0.003731             0.000105   \n",
       "\n",
       "      hotspot_from_reviews_per_month category_hotness_from_listings  \\\n",
       "17173                        0.00000                            0.0   \n",
       "18367                        0.00108                            0.0   \n",
       "\n",
       "      category_hotness_from_reviews category_hotness_from_reviews_per_month  \n",
       "17173                           0.0                                     0.0  \n",
       "18367                           0.0                                     0.0  \n",
       "\n",
       "[2 rows x 81 columns]"
      ]
     },
     "execution_count": 294,
     "metadata": {},
     "output_type": "execute_result"
    }
   ],
   "source": [
    "df_hotel[df_hotel['accommodates'] == df_hotel.accommodates.max()].sample(2)"
   ]
  },
  {
   "cell_type": "code",
   "execution_count": null,
   "id": "84c7deae",
   "metadata": {},
   "outputs": [
    {
     "data": {
      "text/plain": [
       "16"
      ]
     },
     "execution_count": 295,
     "metadata": {},
     "output_type": "execute_result"
    }
   ],
   "source": [
    "df_hotel.accommodates.max()"
   ]
  },
  {
   "cell_type": "code",
   "execution_count": null,
   "id": "51857350",
   "metadata": {},
   "outputs": [
    {
     "data": {
      "image/png": "[encoded data removed]",
      "text/plain": [
       "<Figure size 640x480 with 2 Axes>"
      ]
     },
     "metadata": {},
     "output_type": "display_data"
    }
   ],
   "source": [
    "hotspot_corr = cut_priv[['hotspot_from_listings','hotspot_from_reviews','hotspot_from_reviews_per_month']].corr()\n",
    "sns.heatmap(hotspot_corr, annot=True)\n",
    "plt.show()"
   ]
  },
  {
   "cell_type": "code",
   "execution_count": null,
   "id": "be58fe91",
   "metadata": {},
   "outputs": [],
   "source": [
    "# df['category_hotness_from_listings'] = round(df['hotspot_from_listings'],1)*10\n",
    "# df['category_hotness_from_reviews'] = round(df['hotspot_from_reviews'],1)*10\n",
    "# df['category_hotness_from_reviews_per_month'] = round(df['hotspot_from_reviews_per_month'],1)*10"
   ]
  },
  {
   "cell_type": "code",
   "execution_count": null,
   "id": "cda213d0",
   "metadata": {},
   "outputs": [],
   "source": []
  },
  {
   "cell_type": "code",
   "execution_count": null,
   "id": "67dada4d",
   "metadata": {},
   "outputs": [],
   "source": []
  },
  {
   "cell_type": "code",
   "execution_count": null,
   "id": "4367bd0b",
   "metadata": {},
   "outputs": [],
   "source": []
  },
  {
   "cell_type": "code",
   "execution_count": null,
   "id": "f2e1e433",
   "metadata": {},
   "outputs": [],
   "source": []
  },
  {
   "cell_type": "code",
   "execution_count": null,
   "id": "d3101b5b",
   "metadata": {},
   "outputs": [],
   "source": [
    "import keras\n",
    "from keras import models\n",
    "from keras import layers\n",
    "from keras import optimizers\n",
    "from keras import losses\n",
    "from keras import metrics\n",
    "from keras.utils.np_utils import to_categorical"
   ]
  },
  {
   "cell_type": "code",
   "execution_count": null,
   "id": "c52a0f98",
   "metadata": {},
   "outputs": [],
   "source": [
    "## we first make an empty model\n",
    "## Sequential means we'll make a group\n",
    "## of a linear stack of layers\n",
    "model = models.Sequential()"
   ]
  },
  {
   "cell_type": "code",
   "execution_count": null,
   "id": "f2d44f7d",
   "metadata": {},
   "outputs": [],
   "source": [
    "###### ONLY RUN THIS ONCE! ##########\n",
    "\n",
    "## you add a layer with .add()\n",
    "## A Dense layer means a fully connected feedforward layer\n",
    "## the 16 means the layer is 16 nodes tall\n",
    "## activation='relu' means the layer uses a relu activation function\n",
    "## the first layer needs to be told the shape of the input data\n",
    "model.add(layers.Dense(16, activation = 'relu', input_shape=(2,)))\n",
    "\n",
    "# we then add a second layer that is 16 nodes tall\n",
    "# and uses the relu activation function\n",
    "# note we don't need the input shape here, \n",
    "# it is inferred from the first layer's output\n",
    "model.add(layers.Dense(16, activation = 'relu'))\n",
    "\n",
    "\n",
    "# finally we add the output layer\n",
    "# this will have a single node, representing a probability\n",
    "# that the observation has positive sentiment\n",
    "# this is why the activation is a softmax\n",
    "# for more information on the softmax see the Practice Problems\n",
    "model.add(layers.Dense(11, activation = 'softmax'))"
   ]
  },
  {
   "cell_type": "code",
   "execution_count": null,
   "id": "b7a5f8f1",
   "metadata": {},
   "outputs": [
    {
     "name": "stdout",
     "output_type": "stream",
     "text": [
      "Model: \"sequential_4\"\n",
      "_________________________________________________________________\n",
      " Layer (type)                Output Shape              Param #   \n",
      "=================================================================\n",
      " dense_12 (Dense)            (None, 16)                48        \n",
      "                                                                 \n",
      " dense_13 (Dense)            (None, 16)                272       \n",
      "                                                                 \n",
      " dense_14 (Dense)            (None, 11)                187       \n",
      "                                                                 \n",
      "=================================================================\n",
      "Total params: 507\n",
      "Trainable params: 507\n",
      "Non-trainable params: 0\n",
      "_________________________________________________________________\n"
     ]
    }
   ],
   "source": [
    "model.summary()"
   ]
  },
  {
   "cell_type": "code",
   "execution_count": null,
   "id": "a986aeb4",
   "metadata": {},
   "outputs": [],
   "source": [
    "## we compile the network like so\n",
    "## call .compile\n",
    "## set our optimizer, optimizer='rmsprop'\n",
    "## set our loss, loss='categorical_crossentropy'\n",
    "## set our desired metrics, metrics=['accuracy']\n",
    "model.compile(optimizer='rmsprop', \n",
    "                 loss='categorical_crossentropy',\n",
    "                 metrics=['accuracy'])"
   ]
  },
  {
   "cell_type": "code",
   "execution_count": null,
   "id": "48017146",
   "metadata": {},
   "outputs": [],
   "source": [
    "X = df_hotel[['latitude','longitude']]\n",
    "y = df_hotel['category_hotness_from_listings']\n",
    "\n",
    "X_train, X_test, y_train, y_test = train_test_split(X,y,\n",
    "                                                       test_size=.2,\n",
    "                                                       shuffle=True,\n",
    "                                                       random_state=124,\n",
    "                                                       stratify=y)"
   ]
  },
  {
   "cell_type": "code",
   "execution_count": null,
   "id": "93d71282",
   "metadata": {},
   "outputs": [
    {
     "data": {
      "text/plain": [
       "(28714, 2)"
      ]
     },
     "execution_count": 304,
     "metadata": {},
     "output_type": "execute_result"
    }
   ],
   "source": [
    "X.shape"
   ]
  },
  {
   "cell_type": "code",
   "execution_count": null,
   "id": "ebbcf2dc",
   "metadata": {},
   "outputs": [],
   "source": [
    "X_train_train, X_val, y_train_train, y_val = train_test_split(X_train, y_train,\n",
    "                                                                 test_size=.2,\n",
    "                                                                   shuffle=True,\n",
    "                                                                   random_state=41,\n",
    "                                                                   stratify=y_train)"
   ]
  },
  {
   "cell_type": "code",
   "execution_count": null,
   "id": "1a1dd277",
   "metadata": {},
   "outputs": [
    {
     "name": "stdout",
     "output_type": "stream",
     "text": [
      "27647    0.0\n",
      "12875    0.0\n",
      "29618    1.0\n",
      "23908    1.0\n",
      "10350    0.0\n",
      "        ... \n",
      "35516    0.0\n",
      "22709    3.0\n",
      "15538    0.0\n",
      "10226    6.0\n",
      "39198    5.0\n",
      "Name: category_hotness_from_listings, Length: 18376, dtype: float64\n",
      "\n",
      "\n",
      "\n",
      "\n",
      "[[1. 0. 0. ... 0. 0. 0.]\n",
      " [1. 0. 0. ... 0. 0. 0.]\n",
      " [0. 1. 0. ... 0. 0. 0.]\n",
      " ...\n",
      " [1. 0. 0. ... 0. 0. 0.]\n",
      " [0. 0. 0. ... 0. 0. 0.]\n",
      " [0. 0. 0. ... 0. 0. 0.]]\n",
      "(18376, 11)\n",
      "(4595, 2)\n"
     ]
    }
   ],
   "source": [
    "print(y_train_train)\n",
    "print(\"\\n\\n\\n\")\n",
    "print(to_categorical(y_train_train))\n",
    "print(to_categorical(y_train_train).shape)\n",
    "print(X_val.shape)"
   ]
  },
  {
   "cell_type": "code",
   "execution_count": null,
   "id": "ba9c5f9a",
   "metadata": {},
   "outputs": [
    {
     "name": "stdout",
     "output_type": "stream",
     "text": [
      "(18376, 11)\n",
      "(4595, 11)\n",
      "(18376, 2)\n",
      "(4595, 2)\n"
     ]
    }
   ],
   "source": [
    "print(to_categorical(y_train_train).shape)\n",
    "print(to_categorical(y_val).shape)\n",
    "print(X_train_train.shape)\n",
    "print(X_val.shape)"
   ]
  },
  {
   "cell_type": "code",
   "execution_count": null,
   "id": "14d92ab0",
   "metadata": {},
   "outputs": [
    {
     "name": "stdout",
     "output_type": "stream",
     "text": [
      "Epoch 1/100\n",
      "36/36 [==============================] - 1s 6ms/step - loss: 3.7142 - accuracy: 0.2839 - val_loss: 1.6445 - val_accuracy: 0.4755\n",
      "Epoch 2/100\n",
      "36/36 [==============================] - 0s 2ms/step - loss: 1.5639 - accuracy: 0.4756 - val_loss: 1.5154 - val_accuracy: 0.4755\n",
      "Epoch 3/100\n",
      "36/36 [==============================] - 0s 2ms/step - loss: 1.5141 - accuracy: 0.4685 - val_loss: 1.5058 - val_accuracy: 0.4755\n",
      "Epoch 4/100\n",
      "36/36 [==============================] - 0s 2ms/step - loss: 1.5125 - accuracy: 0.4746 - val_loss: 1.5246 - val_accuracy: 0.4755\n",
      "Epoch 5/100\n",
      "36/36 [==============================] - 0s 2ms/step - loss: 1.5118 - accuracy: 0.4744 - val_loss: 1.5102 - val_accuracy: 0.4755\n",
      "Epoch 6/100\n",
      "36/36 [==============================] - 0s 2ms/step - loss: 1.5113 - accuracy: 0.4756 - val_loss: 1.5150 - val_accuracy: 0.4755\n",
      "Epoch 7/100\n",
      "36/36 [==============================] - 0s 2ms/step - loss: 1.5108 - accuracy: 0.4756 - val_loss: 1.4988 - val_accuracy: 0.4755\n",
      "Epoch 8/100\n",
      "36/36 [==============================] - 0s 2ms/step - loss: 1.5114 - accuracy: 0.4694 - val_loss: 1.5083 - val_accuracy: 0.4755\n",
      "Epoch 9/100\n",
      "36/36 [==============================] - 0s 2ms/step - loss: 1.5119 - accuracy: 0.4756 - val_loss: 1.5371 - val_accuracy: 0.4703\n",
      "Epoch 10/100\n",
      "36/36 [==============================] - 0s 3ms/step - loss: 1.5090 - accuracy: 0.4753 - val_loss: 1.5098 - val_accuracy: 0.4755\n",
      "Epoch 11/100\n",
      "36/36 [==============================] - 0s 2ms/step - loss: 1.5110 - accuracy: 0.4747 - val_loss: 1.5597 - val_accuracy: 0.4755\n",
      "Epoch 12/100\n",
      "36/36 [==============================] - 0s 2ms/step - loss: 1.5113 - accuracy: 0.4756 - val_loss: 1.5531 - val_accuracy: 0.4755\n",
      "Epoch 13/100\n",
      "36/36 [==============================] - 0s 2ms/step - loss: 1.5132 - accuracy: 0.4756 - val_loss: 1.5314 - val_accuracy: 0.4755\n",
      "Epoch 14/100\n",
      "36/36 [==============================] - 0s 2ms/step - loss: 1.5097 - accuracy: 0.4756 - val_loss: 1.5240 - val_accuracy: 0.4755\n",
      "Epoch 15/100\n",
      "36/36 [==============================] - 0s 2ms/step - loss: 1.5088 - accuracy: 0.4756 - val_loss: 1.5201 - val_accuracy: 0.4755\n",
      "Epoch 16/100\n",
      "36/36 [==============================] - 0s 2ms/step - loss: 1.5119 - accuracy: 0.4756 - val_loss: 1.5024 - val_accuracy: 0.4755\n",
      "Epoch 17/100\n",
      "36/36 [==============================] - 0s 2ms/step - loss: 1.5090 - accuracy: 0.4739 - val_loss: 1.5034 - val_accuracy: 0.4755\n",
      "Epoch 18/100\n",
      "36/36 [==============================] - 0s 2ms/step - loss: 1.5090 - accuracy: 0.4756 - val_loss: 1.5220 - val_accuracy: 0.4755\n",
      "Epoch 19/100\n",
      "36/36 [==============================] - 0s 2ms/step - loss: 1.5106 - accuracy: 0.4756 - val_loss: 1.5090 - val_accuracy: 0.4755\n",
      "Epoch 20/100\n",
      "36/36 [==============================] - 0s 2ms/step - loss: 1.5113 - accuracy: 0.4755 - val_loss: 1.5409 - val_accuracy: 0.4755\n",
      "Epoch 21/100\n",
      "36/36 [==============================] - 0s 2ms/step - loss: 1.5098 - accuracy: 0.4756 - val_loss: 1.5009 - val_accuracy: 0.4755\n",
      "Epoch 22/100\n",
      "36/36 [==============================] - 0s 2ms/step - loss: 1.5107 - accuracy: 0.4694 - val_loss: 1.5043 - val_accuracy: 0.4755\n",
      "Epoch 23/100\n",
      "36/36 [==============================] - 0s 2ms/step - loss: 1.5103 - accuracy: 0.4756 - val_loss: 1.5029 - val_accuracy: 0.4755\n",
      "Epoch 24/100\n",
      "36/36 [==============================] - 0s 2ms/step - loss: 1.5077 - accuracy: 0.4756 - val_loss: 1.5071 - val_accuracy: 0.4755\n",
      "Epoch 25/100\n",
      "36/36 [==============================] - 0s 2ms/step - loss: 1.5090 - accuracy: 0.4756 - val_loss: 1.5240 - val_accuracy: 0.4755\n",
      "Epoch 26/100\n",
      "36/36 [==============================] - 0s 2ms/step - loss: 1.5058 - accuracy: 0.4748 - val_loss: 1.5182 - val_accuracy: 0.4755\n",
      "Epoch 27/100\n",
      "36/36 [==============================] - 0s 2ms/step - loss: 1.5113 - accuracy: 0.4756 - val_loss: 1.5007 - val_accuracy: 0.4755\n",
      "Epoch 28/100\n",
      "36/36 [==============================] - 0s 2ms/step - loss: 1.5090 - accuracy: 0.4756 - val_loss: 1.5448 - val_accuracy: 0.4749\n",
      "Epoch 29/100\n",
      "36/36 [==============================] - 0s 2ms/step - loss: 1.5096 - accuracy: 0.4756 - val_loss: 1.5320 - val_accuracy: 0.4755\n",
      "Epoch 30/100\n",
      "36/36 [==============================] - 0s 2ms/step - loss: 1.5083 - accuracy: 0.4756 - val_loss: 1.5153 - val_accuracy: 0.4755\n",
      "Epoch 31/100\n",
      "36/36 [==============================] - 0s 2ms/step - loss: 1.5089 - accuracy: 0.4756 - val_loss: 1.5049 - val_accuracy: 0.4755\n",
      "Epoch 32/100\n",
      "36/36 [==============================] - 0s 2ms/step - loss: 1.5090 - accuracy: 0.4756 - val_loss: 1.5163 - val_accuracy: 0.4755\n",
      "Epoch 33/100\n",
      "36/36 [==============================] - 0s 2ms/step - loss: 1.5081 - accuracy: 0.4756 - val_loss: 1.5055 - val_accuracy: 0.4755\n",
      "Epoch 34/100\n",
      "36/36 [==============================] - 0s 2ms/step - loss: 1.5087 - accuracy: 0.4756 - val_loss: 1.5104 - val_accuracy: 0.4755\n",
      "Epoch 35/100\n",
      "36/36 [==============================] - 0s 2ms/step - loss: 1.5060 - accuracy: 0.4756 - val_loss: 1.5133 - val_accuracy: 0.4755\n",
      "Epoch 36/100\n",
      "36/36 [==============================] - 0s 2ms/step - loss: 1.5060 - accuracy: 0.4756 - val_loss: 1.5209 - val_accuracy: 0.4755\n",
      "Epoch 37/100\n",
      "36/36 [==============================] - 0s 2ms/step - loss: 1.5101 - accuracy: 0.4756 - val_loss: 1.5048 - val_accuracy: 0.4755\n",
      "Epoch 38/100\n",
      "36/36 [==============================] - 0s 2ms/step - loss: 1.5109 - accuracy: 0.4756 - val_loss: 1.5019 - val_accuracy: 0.4755\n",
      "Epoch 39/100\n",
      "36/36 [==============================] - 0s 2ms/step - loss: 1.5080 - accuracy: 0.4756 - val_loss: 1.4980 - val_accuracy: 0.4755\n",
      "Epoch 40/100\n",
      "36/36 [==============================] - 0s 2ms/step - loss: 1.5070 - accuracy: 0.4756 - val_loss: 1.4989 - val_accuracy: 0.4755\n",
      "Epoch 41/100\n",
      "36/36 [==============================] - 0s 2ms/step - loss: 1.5097 - accuracy: 0.4756 - val_loss: 1.4994 - val_accuracy: 0.4755\n",
      "Epoch 42/100\n",
      "36/36 [==============================] - 0s 2ms/step - loss: 1.5062 - accuracy: 0.4756 - val_loss: 1.5018 - val_accuracy: 0.4755\n",
      "Epoch 43/100\n",
      "36/36 [==============================] - 0s 2ms/step - loss: 1.5065 - accuracy: 0.4756 - val_loss: 1.5348 - val_accuracy: 0.4755\n",
      "Epoch 44/100\n",
      "36/36 [==============================] - 0s 2ms/step - loss: 1.5105 - accuracy: 0.4756 - val_loss: 1.5036 - val_accuracy: 0.4755\n",
      "Epoch 45/100\n",
      "36/36 [==============================] - 0s 2ms/step - loss: 1.5048 - accuracy: 0.4706 - val_loss: 1.5082 - val_accuracy: 0.4755\n",
      "Epoch 46/100\n",
      "36/36 [==============================] - 0s 2ms/step - loss: 1.5065 - accuracy: 0.4756 - val_loss: 1.5109 - val_accuracy: 0.4755\n",
      "Epoch 47/100\n",
      "36/36 [==============================] - 0s 2ms/step - loss: 1.5082 - accuracy: 0.4756 - val_loss: 1.5064 - val_accuracy: 0.4755\n",
      "Epoch 48/100\n",
      "36/36 [==============================] - 0s 2ms/step - loss: 1.5063 - accuracy: 0.4756 - val_loss: 1.5136 - val_accuracy: 0.4755\n",
      "Epoch 49/100\n",
      "36/36 [==============================] - 0s 2ms/step - loss: 1.5071 - accuracy: 0.4756 - val_loss: 1.5101 - val_accuracy: 0.4755\n",
      "Epoch 50/100\n",
      "36/36 [==============================] - 0s 2ms/step - loss: 1.5047 - accuracy: 0.4756 - val_loss: 1.5070 - val_accuracy: 0.4755\n",
      "Epoch 51/100\n",
      "36/36 [==============================] - 0s 2ms/step - loss: 1.5053 - accuracy: 0.4756 - val_loss: 1.5059 - val_accuracy: 0.4755\n",
      "Epoch 52/100\n",
      "36/36 [==============================] - 0s 2ms/step - loss: 1.5071 - accuracy: 0.4756 - val_loss: 1.5225 - val_accuracy: 0.4755\n",
      "Epoch 53/100\n",
      "36/36 [==============================] - 0s 2ms/step - loss: 1.5054 - accuracy: 0.4756 - val_loss: 1.5100 - val_accuracy: 0.4755\n",
      "Epoch 54/100\n",
      "36/36 [==============================] - 0s 2ms/step - loss: 1.5069 - accuracy: 0.4756 - val_loss: 1.4972 - val_accuracy: 0.4755\n",
      "Epoch 55/100\n",
      "36/36 [==============================] - 0s 2ms/step - loss: 1.5072 - accuracy: 0.4756 - val_loss: 1.5057 - val_accuracy: 0.4755\n",
      "Epoch 56/100\n",
      "36/36 [==============================] - 0s 2ms/step - loss: 1.5058 - accuracy: 0.4756 - val_loss: 1.5189 - val_accuracy: 0.4755\n",
      "Epoch 57/100\n",
      "36/36 [==============================] - 0s 2ms/step - loss: 1.5044 - accuracy: 0.4756 - val_loss: 1.5016 - val_accuracy: 0.4755\n",
      "Epoch 58/100\n",
      "36/36 [==============================] - 0s 2ms/step - loss: 1.5055 - accuracy: 0.4739 - val_loss: 1.5045 - val_accuracy: 0.4755\n",
      "Epoch 59/100\n",
      "36/36 [==============================] - 0s 2ms/step - loss: 1.5076 - accuracy: 0.4756 - val_loss: 1.5035 - val_accuracy: 0.4755\n",
      "Epoch 60/100\n",
      "36/36 [==============================] - 0s 2ms/step - loss: 1.5064 - accuracy: 0.4756 - val_loss: 1.4967 - val_accuracy: 0.4755\n",
      "Epoch 61/100\n",
      "36/36 [==============================] - 0s 2ms/step - loss: 1.5062 - accuracy: 0.4756 - val_loss: 1.4966 - val_accuracy: 0.4755\n",
      "Epoch 62/100\n",
      "36/36 [==============================] - 0s 2ms/step - loss: 1.5043 - accuracy: 0.4756 - val_loss: 1.5042 - val_accuracy: 0.4755\n",
      "Epoch 63/100\n",
      "36/36 [==============================] - 0s 2ms/step - loss: 1.5032 - accuracy: 0.4756 - val_loss: 1.5030 - val_accuracy: 0.4755\n",
      "Epoch 64/100\n",
      "36/36 [==============================] - 0s 2ms/step - loss: 1.5092 - accuracy: 0.4756 - val_loss: 1.4980 - val_accuracy: 0.4755\n",
      "Epoch 65/100\n",
      "36/36 [==============================] - 0s 2ms/step - loss: 1.5070 - accuracy: 0.4756 - val_loss: 1.4988 - val_accuracy: 0.4755\n",
      "Epoch 66/100\n",
      "36/36 [==============================] - 0s 2ms/step - loss: 1.5036 - accuracy: 0.4756 - val_loss: 1.5079 - val_accuracy: 0.4755\n",
      "Epoch 67/100\n",
      "36/36 [==============================] - 0s 2ms/step - loss: 1.5040 - accuracy: 0.4756 - val_loss: 1.5008 - val_accuracy: 0.4755\n",
      "Epoch 68/100\n",
      "36/36 [==============================] - 0s 2ms/step - loss: 1.5052 - accuracy: 0.4756 - val_loss: 1.5051 - val_accuracy: 0.4755\n",
      "Epoch 69/100\n",
      "36/36 [==============================] - 0s 2ms/step - loss: 1.5048 - accuracy: 0.4756 - val_loss: 1.5044 - val_accuracy: 0.4755\n",
      "Epoch 70/100\n",
      "36/36 [==============================] - 0s 2ms/step - loss: 1.5051 - accuracy: 0.4756 - val_loss: 1.5097 - val_accuracy: 0.4755\n",
      "Epoch 71/100\n",
      "36/36 [==============================] - 0s 2ms/step - loss: 1.5063 - accuracy: 0.4756 - val_loss: 1.5043 - val_accuracy: 0.4755\n",
      "Epoch 72/100\n",
      "36/36 [==============================] - 0s 2ms/step - loss: 1.5046 - accuracy: 0.4756 - val_loss: 1.4978 - val_accuracy: 0.4755\n",
      "Epoch 73/100\n",
      "36/36 [==============================] - 0s 2ms/step - loss: 1.5036 - accuracy: 0.4756 - val_loss: 1.5204 - val_accuracy: 0.4755\n",
      "Epoch 74/100\n",
      "36/36 [==============================] - 0s 2ms/step - loss: 1.5062 - accuracy: 0.4756 - val_loss: 1.5189 - val_accuracy: 0.4755\n",
      "Epoch 75/100\n",
      "36/36 [==============================] - 0s 2ms/step - loss: 1.5051 - accuracy: 0.4756 - val_loss: 1.4984 - val_accuracy: 0.4755\n",
      "Epoch 76/100\n",
      "36/36 [==============================] - 0s 2ms/step - loss: 1.5049 - accuracy: 0.4756 - val_loss: 1.5019 - val_accuracy: 0.4755\n",
      "Epoch 77/100\n",
      "36/36 [==============================] - 0s 2ms/step - loss: 1.5048 - accuracy: 0.4756 - val_loss: 1.5023 - val_accuracy: 0.4755\n",
      "Epoch 78/100\n",
      "36/36 [==============================] - 0s 2ms/step - loss: 1.5039 - accuracy: 0.4756 - val_loss: 1.5152 - val_accuracy: 0.4755\n",
      "Epoch 79/100\n",
      "36/36 [==============================] - 0s 2ms/step - loss: 1.5028 - accuracy: 0.4756 - val_loss: 1.5054 - val_accuracy: 0.4755\n",
      "Epoch 80/100\n",
      "36/36 [==============================] - 0s 2ms/step - loss: 1.5053 - accuracy: 0.4756 - val_loss: 1.5183 - val_accuracy: 0.4755\n",
      "Epoch 81/100\n",
      "36/36 [==============================] - 0s 2ms/step - loss: 1.5026 - accuracy: 0.4756 - val_loss: 1.5168 - val_accuracy: 0.4755\n",
      "Epoch 82/100\n",
      "36/36 [==============================] - 0s 2ms/step - loss: 1.5056 - accuracy: 0.4756 - val_loss: 1.4972 - val_accuracy: 0.4755\n",
      "Epoch 83/100\n",
      "36/36 [==============================] - 0s 2ms/step - loss: 1.5026 - accuracy: 0.4756 - val_loss: 1.5108 - val_accuracy: 0.4755\n",
      "Epoch 84/100\n",
      "36/36 [==============================] - 0s 2ms/step - loss: 1.5027 - accuracy: 0.4756 - val_loss: 1.4988 - val_accuracy: 0.4755\n",
      "Epoch 85/100\n",
      "36/36 [==============================] - 0s 2ms/step - loss: 1.5016 - accuracy: 0.4756 - val_loss: 1.4970 - val_accuracy: 0.4755\n",
      "Epoch 86/100\n",
      "36/36 [==============================] - 0s 2ms/step - loss: 1.5043 - accuracy: 0.4756 - val_loss: 1.5022 - val_accuracy: 0.4755\n",
      "Epoch 87/100\n",
      "36/36 [==============================] - 0s 2ms/step - loss: 1.5037 - accuracy: 0.4756 - val_loss: 1.5009 - val_accuracy: 0.4755\n",
      "Epoch 88/100\n",
      "36/36 [==============================] - 0s 2ms/step - loss: 1.5022 - accuracy: 0.4756 - val_loss: 1.4960 - val_accuracy: 0.4755\n",
      "Epoch 89/100\n",
      "36/36 [==============================] - 0s 2ms/step - loss: 1.5041 - accuracy: 0.4756 - val_loss: 1.5102 - val_accuracy: 0.4755\n",
      "Epoch 90/100\n",
      "36/36 [==============================] - 0s 2ms/step - loss: 1.5029 - accuracy: 0.4756 - val_loss: 1.4975 - val_accuracy: 0.4755\n",
      "Epoch 91/100\n",
      "36/36 [==============================] - 0s 2ms/step - loss: 1.5040 - accuracy: 0.4756 - val_loss: 1.4999 - val_accuracy: 0.4755\n",
      "Epoch 92/100\n",
      "36/36 [==============================] - 0s 2ms/step - loss: 1.5048 - accuracy: 0.4756 - val_loss: 1.4978 - val_accuracy: 0.4755\n",
      "Epoch 93/100\n",
      "36/36 [==============================] - 0s 2ms/step - loss: 1.5015 - accuracy: 0.4756 - val_loss: 1.5076 - val_accuracy: 0.4755\n",
      "Epoch 94/100\n",
      "36/36 [==============================] - 0s 2ms/step - loss: 1.5030 - accuracy: 0.4756 - val_loss: 1.5091 - val_accuracy: 0.4755\n",
      "Epoch 95/100\n",
      "36/36 [==============================] - 0s 2ms/step - loss: 1.5025 - accuracy: 0.4756 - val_loss: 1.5000 - val_accuracy: 0.4755\n",
      "Epoch 96/100\n",
      "36/36 [==============================] - 0s 2ms/step - loss: 1.5017 - accuracy: 0.4756 - val_loss: 1.4975 - val_accuracy: 0.4755\n",
      "Epoch 97/100\n",
      "36/36 [==============================] - 0s 2ms/step - loss: 1.5027 - accuracy: 0.4756 - val_loss: 1.5099 - val_accuracy: 0.4755\n",
      "Epoch 98/100\n",
      "36/36 [==============================] - 0s 2ms/step - loss: 1.5021 - accuracy: 0.4756 - val_loss: 1.5157 - val_accuracy: 0.4755\n",
      "Epoch 99/100\n",
      "36/36 [==============================] - 0s 2ms/step - loss: 1.5024 - accuracy: 0.4756 - val_loss: 1.4993 - val_accuracy: 0.4755\n",
      "Epoch 100/100\n",
      "36/36 [==============================] - 0s 2ms/step - loss: 1.5033 - accuracy: 0.4756 - val_loss: 1.5020 - val_accuracy: 0.4755\n"
     ]
    }
   ],
   "source": [
    "## I now fit the model, and store the training history\n",
    "## I use 100 epochs and a batch_size of 512\n",
    "n_epochs = 100\n",
    "batch_size = 512\n",
    "\n",
    "history = model.fit(X_train_train, to_categorical(y_train_train),\n",
    "                       epochs = n_epochs,\n",
    "                       batch_size = batch_size,\n",
    "                       validation_data = (X_val, to_categorical(y_val)))"
   ]
  },
  {
   "cell_type": "code",
   "execution_count": null,
   "id": "8878dac4",
   "metadata": {},
   "outputs": [
    {
     "name": "stdout",
     "output_type": "stream",
     "text": [
      "dict_keys(['loss', 'accuracy', 'val_loss', 'val_accuracy'])\n"
     ]
    }
   ],
   "source": [
    "history_dict = history.history\n",
    "print(history_dict.keys())"
   ]
  },
  {
   "cell_type": "code",
   "execution_count": null,
   "metadata": {},
   "outputs": [
    {
     "data": {
      "image/png": "[encoded data removed]",
      "text/plain": [
       "<Figure size 800x600 with 1 Axes>"
      ]
     },
     "metadata": {},
     "output_type": "display_data"
    },
    {
     "data": {
      "image/png": "[encoded data removed]",
      "text/plain": [
       "<Figure size 800x600 with 1 Axes>"
      ]
     },
     "metadata": {},
     "output_type": "display_data"
    }
   ],
   "source": [
    "plt.figure(figsize = (8,6))\n",
    "\n",
    "plt.scatter(range(1,n_epochs+1), history_dict['accuracy'], label = \"Training Accuracy\")\n",
    "plt.scatter(range(1,n_epochs+1), history_dict['val_accuracy'], marker='v', label = \"Validation Set Accuracy\")\n",
    "\n",
    "plt.xlabel(\"Epoch\", fontsize=12)\n",
    "plt.ylabel(\"Accuracy\", fontsize=12)\n",
    "\n",
    "plt.xticks(fontsize=10)\n",
    "plt.yticks(fontsize=10)\n",
    "\n",
    "plt.legend(fontsize=12)\n",
    "\n",
    "plt.show()\n",
    "\n",
    "\n",
    "plt.figure(figsize = (8,6))\n",
    "\n",
    "plt.scatter(range(1,n_epochs+1), history_dict['loss'], label = \"Training Loss\")\n",
    "plt.scatter(range(1,n_epochs+1), history_dict['val_loss'], marker='v', label = \"Validation Set Loss\")\n",
    "\n",
    "plt.xlabel(\"Epoch\", fontsize=12)\n",
    "plt.ylabel(\"Loss Function Value\", fontsize=12)\n",
    "\n",
    "plt.xticks(fontsize=10)\n",
    "plt.yticks(fontsize=10)\n",
    "\n",
    "plt.legend(fontsize=12)\n",
    "\n",
    "plt.show()"
   ]
  },
  {
   "cell_type": "code",
   "execution_count": null,
   "id": "c6727de0",
   "metadata": {},
   "outputs": [],
   "source": [
    "## import the model\n",
    "from sklearn.neural_network import MLPClassifier\n",
    "from sklearn.metrics import confusion_matrix\n",
    "from sklearn.metrics import accuracy_score"
   ]
  },
  {
   "cell_type": "code",
   "execution_count": null,
   "id": "97a0d2e3",
   "metadata": {},
   "outputs": [],
   "source": [
    "## this makes an mlp classifier with 1 hidden layer\n",
    "## this layer has 500 nodes, controlled by hidden_layer_sizes\n",
    "## we increase the maximum iterations for the gradient descent\n",
    "mlp1 = MLPClassifier(hidden_layer_sizes=(500,), max_iter=5000)\n",
    "\n",
    "## Here's a second classifier with 2 hidden layers of 200 nodes each,\n",
    "## controlled by hidden_layer_sizes\n",
    "## we increase the maximum iterations for the gradient descent\n",
    "mlp2 = MLPClassifier(hidden_layer_sizes=(200, 200,), max_iter=5000)"
   ]
  },
  {
   "cell_type": "code",
   "execution_count": null,
   "id": "f2b1b89d",
   "metadata": {},
   "outputs": [
    {
     "name": "stderr",
     "output_type": "stream",
     "text": [
      "c:\\Users\\Ricky\\anaconda3\\lib\\site-packages\\sklearn\\neural_network\\_multilayer_perceptron.py:693: UserWarning: Training interrupted by user.\n",
      "  warnings.warn(\"Training interrupted by user.\")\n"
     ]
    },
    {
     "data": {
      "text/html": [
       "<style>#sk-container-id-5 {color: black;background-color: white;}#sk-container-id-5 pre{padding: 0;}#sk-container-id-5 div.sk-toggleable {background-color: white;}#sk-container-id-5 label.sk-toggleable__label {cursor: pointer;display: block;width: 100%;margin-bottom: 0;padding: 0.3em;box-sizing: border-box;text-align: center;}#sk-container-id-5 label.sk-toggleable__label-arrow:before {content: \"▸\";float: left;margin-right: 0.25em;color: #696969;}#sk-container-id-5 label.sk-toggleable__label-arrow:hover:before {color: black;}#sk-container-id-5 div.sk-estimator:hover label.sk-toggleable__label-arrow:before {color: black;}#sk-container-id-5 div.sk-toggleable__content {max-height: 0;max-width: 0;overflow: hidden;text-align: left;background-color: #f0f8ff;}#sk-container-id-5 div.sk-toggleable__content pre {margin: 0.2em;color: black;border-radius: 0.25em;background-color: #f0f8ff;}#sk-container-id-5 input.sk-toggleable__control:checked~div.sk-toggleable__content {max-height: 200px;max-width: 100%;overflow: auto;}#sk-container-id-5 input.sk-toggleable__control:checked~label.sk-toggleable__label-arrow:before {content: \"▾\";}#sk-container-id-5 div.sk-estimator input.sk-toggleable__control:checked~label.sk-toggleable__label {background-color: #d4ebff;}#sk-container-id-5 div.sk-label input.sk-toggleable__control:checked~label.sk-toggleable__label {background-color: #d4ebff;}#sk-container-id-5 input.sk-hidden--visually {border: 0;clip: rect(1px 1px 1px 1px);clip: rect(1px, 1px, 1px, 1px);height: 1px;margin: -1px;overflow: hidden;padding: 0;position: absolute;width: 1px;}#sk-container-id-5 div.sk-estimator {font-family: monospace;background-color: #f0f8ff;border: 1px dotted black;border-radius: 0.25em;box-sizing: border-box;margin-bottom: 0.5em;}#sk-container-id-5 div.sk-estimator:hover {background-color: #d4ebff;}#sk-container-id-5 div.sk-parallel-item::after {content: \"\";width: 100%;border-bottom: 1px solid gray;flex-grow: 1;}#sk-container-id-5 div.sk-label:hover label.sk-toggleable__label {background-color: #d4ebff;}#sk-container-id-5 div.sk-serial::before {content: \"\";position: absolute;border-left: 1px solid gray;box-sizing: border-box;top: 0;bottom: 0;left: 50%;z-index: 0;}#sk-container-id-5 div.sk-serial {display: flex;flex-direction: column;align-items: center;background-color: white;padding-right: 0.2em;padding-left: 0.2em;position: relative;}#sk-container-id-5 div.sk-item {position: relative;z-index: 1;}#sk-container-id-5 div.sk-parallel {display: flex;align-items: stretch;justify-content: center;background-color: white;position: relative;}#sk-container-id-5 div.sk-item::before, #sk-container-id-5 div.sk-parallel-item::before {content: \"\";position: absolute;border-left: 1px solid gray;box-sizing: border-box;top: 0;bottom: 0;left: 50%;z-index: -1;}#sk-container-id-5 div.sk-parallel-item {display: flex;flex-direction: column;z-index: 1;position: relative;background-color: white;}#sk-container-id-5 div.sk-parallel-item:first-child::after {align-self: flex-end;width: 50%;}#sk-container-id-5 div.sk-parallel-item:last-child::after {align-self: flex-start;width: 50%;}#sk-container-id-5 div.sk-parallel-item:only-child::after {width: 0;}#sk-container-id-5 div.sk-dashed-wrapped {border: 1px dashed gray;margin: 0 0.4em 0.5em 0.4em;box-sizing: border-box;padding-bottom: 0.4em;background-color: white;}#sk-container-id-5 div.sk-label label {font-family: monospace;font-weight: bold;display: inline-block;line-height: 1.2em;}#sk-container-id-5 div.sk-label-container {text-align: center;}#sk-container-id-5 div.sk-container {/* jupyter's `normalize.less` sets `[hidden] { display: none; }` but bootstrap.min.css set `[hidden] { display: none !important; }` so we also need the `!important` here to be able to override the default hidden behavior on the sphinx rendered scikit-learn.org. See: https://github.com/scikit-learn/scikit-learn/issues/21755 */display: inline-block !important;position: relative;}#sk-container-id-5 div.sk-text-repr-fallback {display: none;}</style><div id=\"sk-container-id-5\" class=\"sk-top-container\"><div class=\"sk-text-repr-fallback\"><pre>MLPClassifier(hidden_layer_sizes=(200, 200), max_iter=5000)</pre><b>In a Jupyter environment, please rerun this cell to show the HTML representation or trust the notebook. <br />On GitHub, the HTML representation is unable to render, please try loading this page with nbviewer.org.</b></div><div class=\"sk-container\" hidden><div class=\"sk-item\"><div class=\"sk-estimator sk-toggleable\"><input class=\"sk-toggleable__control sk-hidden--visually\" id=\"sk-estimator-id-5\" type=\"checkbox\" checked><label for=\"sk-estimator-id-5\" class=\"sk-toggleable__label sk-toggleable__label-arrow\">MLPClassifier</label><div class=\"sk-toggleable__content\"><pre>MLPClassifier(hidden_layer_sizes=(200, 200), max_iter=5000)</pre></div></div></div></div></div>"
      ],
      "text/plain": [
       "MLPClassifier(hidden_layer_sizes=(200, 200), max_iter=5000)"
      ]
     },
     "execution_count": 313,
     "metadata": {},
     "output_type": "execute_result"
    }
   ],
   "source": [
    "mlp1.fit(X_train_train, y_train_train)\n",
    "mlp2.fit(X_train_train, y_train_train)"
   ]
  },
  {
   "cell_type": "code",
   "execution_count": null,
   "id": "7fcf6ec4",
   "metadata": {},
   "outputs": [
    {
     "name": "stdout",
     "output_type": "stream",
     "text": [
      "The single hidden layer with 500 nodes has a training accuracy of 58.16\n",
      "The single hidden layer with 500 nodes has a validation accuracy of 58.17\n",
      "The two hidden layers with 200 nodes each has a training accuracy of 58.16\n",
      "The two hidden layers with 200 nodes each has a validation accuracy of 58.17\n"
     ]
    }
   ],
   "source": [
    "print(\"The single hidden layer with 500 nodes has a training accuracy of\",\n",
    "         np.round(100*accuracy_score(y_train_train, mlp1.predict(X_train_train)),2))\n",
    "\n",
    "print(\"The single hidden layer with 500 nodes has a validation accuracy of\",\n",
    "         np.round(100*accuracy_score(y_val, mlp1.predict(X_val)),2))\n",
    "\n",
    "print(\"The two hidden layers with 200 nodes each has a training accuracy of\",\n",
    "         np.round(100*accuracy_score(y_train_train, mlp2.predict(X_train_train)),2))\n",
    "\n",
    "print(\"The two hidden layers with 200 nodes each has a validation accuracy of\",\n",
    "         np.round(100*accuracy_score(y_val, mlp2.predict(X_val)),2))"
   ]
  },
  {
   "cell_type": "code",
   "execution_count": null,
   "id": "e984e722",
   "metadata": {},
   "outputs": [
    {
     "name": "stdout",
     "output_type": "stream",
     "text": [
      "Single hidden layer with 500 nodes\n",
      " +++++++++++++++++++++++++++++++++++++++++++++++++++++\n"
     ]
    },
    {
     "data": {
      "text/html": [
       "<div>\n",
       "<style scoped>\n",
       "    .dataframe tbody tr th:only-of-type {\n",
       "        vertical-align: middle;\n",
       "    }\n",
       "\n",
       "    .dataframe tbody tr th {\n",
       "        vertical-align: top;\n",
       "    }\n",
       "\n",
       "    .dataframe thead th {\n",
       "        text-align: right;\n",
       "    }\n",
       "</style>\n",
       "<table border=\"1\" class=\"dataframe\">\n",
       "  <thead>\n",
       "    <tr style=\"text-align: right;\">\n",
       "      <th></th>\n",
       "      <th>predicted 0</th>\n",
       "      <th>predicted 1</th>\n",
       "      <th>predicted 2</th>\n",
       "      <th>predicted 3</th>\n",
       "      <th>predicted 4</th>\n",
       "      <th>predicted 5</th>\n",
       "      <th>predicted 6</th>\n",
       "      <th>predicted 7</th>\n",
       "    </tr>\n",
       "  </thead>\n",
       "  <tbody>\n",
       "    <tr>\n",
       "      <th>actual 0</th>\n",
       "      <td>2673</td>\n",
       "      <td>0</td>\n",
       "      <td>0</td>\n",
       "      <td>0</td>\n",
       "      <td>0</td>\n",
       "      <td>0</td>\n",
       "      <td>0</td>\n",
       "      <td>0</td>\n",
       "    </tr>\n",
       "    <tr>\n",
       "      <th>actual 1</th>\n",
       "      <td>1168</td>\n",
       "      <td>0</td>\n",
       "      <td>0</td>\n",
       "      <td>0</td>\n",
       "      <td>0</td>\n",
       "      <td>0</td>\n",
       "      <td>0</td>\n",
       "      <td>0</td>\n",
       "    </tr>\n",
       "    <tr>\n",
       "      <th>actual 2</th>\n",
       "      <td>336</td>\n",
       "      <td>0</td>\n",
       "      <td>0</td>\n",
       "      <td>0</td>\n",
       "      <td>0</td>\n",
       "      <td>0</td>\n",
       "      <td>0</td>\n",
       "      <td>0</td>\n",
       "    </tr>\n",
       "    <tr>\n",
       "      <th>actual 3</th>\n",
       "      <td>83</td>\n",
       "      <td>0</td>\n",
       "      <td>0</td>\n",
       "      <td>0</td>\n",
       "      <td>0</td>\n",
       "      <td>0</td>\n",
       "      <td>0</td>\n",
       "      <td>0</td>\n",
       "    </tr>\n",
       "    <tr>\n",
       "      <th>actual 4</th>\n",
       "      <td>112</td>\n",
       "      <td>0</td>\n",
       "      <td>0</td>\n",
       "      <td>0</td>\n",
       "      <td>0</td>\n",
       "      <td>0</td>\n",
       "      <td>0</td>\n",
       "      <td>0</td>\n",
       "    </tr>\n",
       "    <tr>\n",
       "      <th>actual 5</th>\n",
       "      <td>34</td>\n",
       "      <td>0</td>\n",
       "      <td>0</td>\n",
       "      <td>0</td>\n",
       "      <td>0</td>\n",
       "      <td>0</td>\n",
       "      <td>0</td>\n",
       "      <td>0</td>\n",
       "    </tr>\n",
       "    <tr>\n",
       "      <th>actual 6</th>\n",
       "      <td>121</td>\n",
       "      <td>0</td>\n",
       "      <td>0</td>\n",
       "      <td>0</td>\n",
       "      <td>0</td>\n",
       "      <td>0</td>\n",
       "      <td>0</td>\n",
       "      <td>0</td>\n",
       "    </tr>\n",
       "    <tr>\n",
       "      <th>actual 7</th>\n",
       "      <td>68</td>\n",
       "      <td>0</td>\n",
       "      <td>0</td>\n",
       "      <td>0</td>\n",
       "      <td>0</td>\n",
       "      <td>0</td>\n",
       "      <td>0</td>\n",
       "      <td>0</td>\n",
       "    </tr>\n",
       "  </tbody>\n",
       "</table>\n",
       "</div>"
      ],
      "text/plain": [
       "          predicted 0  predicted 1  predicted 2  predicted 3  predicted 4  \\\n",
       "actual 0         2673            0            0            0            0   \n",
       "actual 1         1168            0            0            0            0   \n",
       "actual 2          336            0            0            0            0   \n",
       "actual 3           83            0            0            0            0   \n",
       "actual 4          112            0            0            0            0   \n",
       "actual 5           34            0            0            0            0   \n",
       "actual 6          121            0            0            0            0   \n",
       "actual 7           68            0            0            0            0   \n",
       "\n",
       "          predicted 5  predicted 6  predicted 7  \n",
       "actual 0            0            0            0  \n",
       "actual 1            0            0            0  \n",
       "actual 2            0            0            0  \n",
       "actual 3            0            0            0  \n",
       "actual 4            0            0            0  \n",
       "actual 5            0            0            0  \n",
       "actual 6            0            0            0  \n",
       "actual 7            0            0            0  "
      ]
     },
     "execution_count": 250,
     "metadata": {},
     "output_type": "execute_result"
    }
   ],
   "source": [
    "print(\"Single hidden layer with 500 nodes\\n\",\n",
    "     \"+++++++++++++++++++++++++++++++++++++++++++++++++++++\")\n",
    "pd.DataFrame(confusion_matrix(y_val, mlp1.predict(X_val)), \n",
    "                columns=[\"predicted \"+str(i) for i in range(8)],\n",
    "                index=[\"actual \"+str(i) for i in range(8)])\n",
    "\n"
   ]
  },
  {
   "cell_type": "code",
   "execution_count": null,
   "id": "46595f8b",
   "metadata": {},
   "outputs": [
    {
     "name": "stdout",
     "output_type": "stream",
     "text": [
      "Two hidden layers with 200 nodes each\n",
      " +++++++++++++++++++++++++++++++++++++++++++++++++++++\n"
     ]
    },
    {
     "data": {
      "text/html": [
       "<div>\n",
       "<style scoped>\n",
       "    .dataframe tbody tr th:only-of-type {\n",
       "        vertical-align: middle;\n",
       "    }\n",
       "\n",
       "    .dataframe tbody tr th {\n",
       "        vertical-align: top;\n",
       "    }\n",
       "\n",
       "    .dataframe thead th {\n",
       "        text-align: right;\n",
       "    }\n",
       "</style>\n",
       "<table border=\"1\" class=\"dataframe\">\n",
       "  <thead>\n",
       "    <tr style=\"text-align: right;\">\n",
       "      <th></th>\n",
       "      <th>predicted 0</th>\n",
       "      <th>predicted 1</th>\n",
       "      <th>predicted 2</th>\n",
       "      <th>predicted 3</th>\n",
       "      <th>predicted 4</th>\n",
       "      <th>predicted 5</th>\n",
       "      <th>predicted 6</th>\n",
       "      <th>predicted 7</th>\n",
       "    </tr>\n",
       "  </thead>\n",
       "  <tbody>\n",
       "    <tr>\n",
       "      <th>actual 0</th>\n",
       "      <td>2673</td>\n",
       "      <td>0</td>\n",
       "      <td>0</td>\n",
       "      <td>0</td>\n",
       "      <td>0</td>\n",
       "      <td>0</td>\n",
       "      <td>0</td>\n",
       "      <td>0</td>\n",
       "    </tr>\n",
       "    <tr>\n",
       "      <th>actual 1</th>\n",
       "      <td>1168</td>\n",
       "      <td>0</td>\n",
       "      <td>0</td>\n",
       "      <td>0</td>\n",
       "      <td>0</td>\n",
       "      <td>0</td>\n",
       "      <td>0</td>\n",
       "      <td>0</td>\n",
       "    </tr>\n",
       "    <tr>\n",
       "      <th>actual 2</th>\n",
       "      <td>336</td>\n",
       "      <td>0</td>\n",
       "      <td>0</td>\n",
       "      <td>0</td>\n",
       "      <td>0</td>\n",
       "      <td>0</td>\n",
       "      <td>0</td>\n",
       "      <td>0</td>\n",
       "    </tr>\n",
       "    <tr>\n",
       "      <th>actual 3</th>\n",
       "      <td>83</td>\n",
       "      <td>0</td>\n",
       "      <td>0</td>\n",
       "      <td>0</td>\n",
       "      <td>0</td>\n",
       "      <td>0</td>\n",
       "      <td>0</td>\n",
       "      <td>0</td>\n",
       "    </tr>\n",
       "    <tr>\n",
       "      <th>actual 4</th>\n",
       "      <td>112</td>\n",
       "      <td>0</td>\n",
       "      <td>0</td>\n",
       "      <td>0</td>\n",
       "      <td>0</td>\n",
       "      <td>0</td>\n",
       "      <td>0</td>\n",
       "      <td>0</td>\n",
       "    </tr>\n",
       "    <tr>\n",
       "      <th>actual 5</th>\n",
       "      <td>34</td>\n",
       "      <td>0</td>\n",
       "      <td>0</td>\n",
       "      <td>0</td>\n",
       "      <td>0</td>\n",
       "      <td>0</td>\n",
       "      <td>0</td>\n",
       "      <td>0</td>\n",
       "    </tr>\n",
       "    <tr>\n",
       "      <th>actual 6</th>\n",
       "      <td>121</td>\n",
       "      <td>0</td>\n",
       "      <td>0</td>\n",
       "      <td>0</td>\n",
       "      <td>0</td>\n",
       "      <td>0</td>\n",
       "      <td>0</td>\n",
       "      <td>0</td>\n",
       "    </tr>\n",
       "    <tr>\n",
       "      <th>actual 7</th>\n",
       "      <td>68</td>\n",
       "      <td>0</td>\n",
       "      <td>0</td>\n",
       "      <td>0</td>\n",
       "      <td>0</td>\n",
       "      <td>0</td>\n",
       "      <td>0</td>\n",
       "      <td>0</td>\n",
       "    </tr>\n",
       "  </tbody>\n",
       "</table>\n",
       "</div>"
      ],
      "text/plain": [
       "          predicted 0  predicted 1  predicted 2  predicted 3  predicted 4  \\\n",
       "actual 0         2673            0            0            0            0   \n",
       "actual 1         1168            0            0            0            0   \n",
       "actual 2          336            0            0            0            0   \n",
       "actual 3           83            0            0            0            0   \n",
       "actual 4          112            0            0            0            0   \n",
       "actual 5           34            0            0            0            0   \n",
       "actual 6          121            0            0            0            0   \n",
       "actual 7           68            0            0            0            0   \n",
       "\n",
       "          predicted 5  predicted 6  predicted 7  \n",
       "actual 0            0            0            0  \n",
       "actual 1            0            0            0  \n",
       "actual 2            0            0            0  \n",
       "actual 3            0            0            0  \n",
       "actual 4            0            0            0  \n",
       "actual 5            0            0            0  \n",
       "actual 6            0            0            0  \n",
       "actual 7            0            0            0  "
      ]
     },
     "execution_count": 251,
     "metadata": {},
     "output_type": "execute_result"
    }
   ],
   "source": [
    "print(\"Two hidden layers with 200 nodes each\\n\",\n",
    "     \"+++++++++++++++++++++++++++++++++++++++++++++++++++++\")\n",
    "pd.DataFrame(confusion_matrix(y_val, mlp2.predict(X_val)), \n",
    "                columns=[\"predicted \"+str(i) for i in range(8)],\n",
    "                index=[\"actual \"+str(i) for i in range(8)])"
   ]
  },
  {
   "cell_type": "code",
   "execution_count": null,
   "id": "3c7cc39e",
   "metadata": {},
   "outputs": [],
   "source": [
    "#creates a map that has the shape of the united states\n",
    "\n",
    "# fig = go.Figure(data=go.Scattergeo(\n",
    "#         lon = df_hotel['longitude'],\n",
    "#         lat = df_hotel['latitude'],\n",
    "#         #text = 'Median house value: ' + housing['median_house_value'].astype(str),\n",
    "#         #marker_size = (housing['bedrooms_per_household'])\n",
    "#         ))\n",
    "# fig.update_geos(fitbounds=\"locations\")\n",
    "# # fig.update_layout(\n",
    "# #         title = 'Median house values of houses in California with marker size based on bedrooms per household',\n",
    "# # )\n",
    "# fig.show()\n",
    "\n"
   ]
  }
 ],
 "metadata": {
  "kernelspec": {
   "display_name": "base",
   "language": "python",
   "name": "python3"
  },
  "language_info": {
   "codemirror_mode": {
    "name": "ipython",
    "version": 3
   },
   "file_extension": ".py",
   "mimetype": "text/x-python",
   "name": "python",
   "nbconvert_exporter": "python",
   "pygments_lexer": "ipython3",
   "version": "3.9.16"
  },
  "vscode": {
   "interpreter": {
    "hash": "df5a47594a4c7fa77718041c239adbe925734d95d528854ea959dd8eef4ca91e"
   }
  }
 },
 "nbformat": 4,
 "nbformat_minor": 5
}
