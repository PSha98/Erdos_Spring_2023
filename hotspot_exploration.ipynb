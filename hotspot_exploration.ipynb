{
 "cells": [
  {
   "attachments": {},
   "cell_type": "markdown",
   "id": "7dbb6f1c",
   "metadata": {},
   "source": [
    "This model should not be utilized. It is kept her for the excercise. The kmeans clustering notebook is what should be utilized\n",
    "- by Ricky Oropeza"
   ]
  },
  {
   "cell_type": "code",
   "execution_count": 1,
   "id": "4674846e",
   "metadata": {},
   "outputs": [],
   "source": [
    "import pandas as pd\n",
    "import numpy as np\n",
    "import re\n",
    "import matplotlib.pyplot as plt\n",
    "from sklearn.linear_model import LinearRegression\n",
    "import statsmodels.api as sm\n",
    "import seaborn as sns\n",
    "import matplotlib.dates as mdates\n",
    "from datetime import date\n",
    "from sklearn.model_selection import train_test_split\n",
    "import plotly.graph_objects as go"
   ]
  },
  {
   "cell_type": "code",
   "execution_count": 2,
   "id": "4289dd53",
   "metadata": {},
   "outputs": [],
   "source": [
    "df = pd.read_csv('../listings_mar7_2023.csv')\n",
    "df = df[df['host_name'] != \"Jino & Scott\"]\n",
    "df = df[df['host_name'] != \"Scott And Jino\"]\n",
    "df['hotspot_from_listings'] = 0\n",
    "df['hotspot_from_reviews'] = 0\n",
    "df['hotspot_from_reviews_per_month'] = 0\n"
   ]
  },
  {
   "cell_type": "code",
   "execution_count": 3,
   "id": "b99231a4",
   "metadata": {},
   "outputs": [
    {
     "data": {
      "text/plain": [
       "0         399.0\n",
       "1          46.0\n",
       "2         408.0\n",
       "3          80.0\n",
       "4        2138.0\n",
       "          ...  \n",
       "42446      40.0\n",
       "42447      48.0\n",
       "42448      46.0\n",
       "42449      68.0\n",
       "42450      48.0\n",
       "Name: price, Length: 40785, dtype: float64"
      ]
     },
     "execution_count": 3,
     "metadata": {},
     "output_type": "execute_result"
    }
   ],
   "source": [
    "#data cleaning. Price data has $ sign. The following code extracts the number\n",
    "df['price'] = df['price'].replace({r'\\$':''},regex = True).replace({r',':''},regex = True).astype('float')\n",
    "df.price"
   ]
  },
  {
   "cell_type": "code",
   "execution_count": 4,
   "id": "41081024",
   "metadata": {},
   "outputs": [
    {
     "name": "stdout",
     "output_type": "stream",
     "text": [
      "Entire home/apt    29489\n",
      "Private room       10516\n",
      "Shared room          697\n",
      "Hotel room            83\n",
      "Name: room_type, dtype: int64\n"
     ]
    }
   ],
   "source": [
    "print(df['room_type'].value_counts())"
   ]
  },
  {
   "cell_type": "code",
   "execution_count": 5,
   "id": "77ff5897",
   "metadata": {},
   "outputs": [],
   "source": [
    "df_practice = df.copy()\n",
    "df_practice['name'] = df_practice['name'].str.lower()\n",
    "df_practice.loc[df_practice['name'].str.contains('motel',regex=False) == True, 'room_type'] = 'Hotel room'\n",
    "df_practice.loc[df_practice['name'].str.contains('hotel',regex=False) == True, 'room_type'] = 'Hotel room'\n",
    "df['room_type'] = df_practice['room_type']\n",
    "#df_practice.dropna()"
   ]
  },
  {
   "cell_type": "code",
   "execution_count": 6,
   "id": "18cca2aa",
   "metadata": {},
   "outputs": [
    {
     "name": "stdout",
     "output_type": "stream",
     "text": [
      "Entire home/apt    29291\n",
      "Private room       10387\n",
      "Shared room          696\n",
      "Hotel room           411\n",
      "Name: room_type, dtype: int64\n"
     ]
    }
   ],
   "source": [
    "print(df['room_type'].value_counts())"
   ]
  },
  {
   "cell_type": "code",
   "execution_count": 7,
   "id": "4e8e55dc",
   "metadata": {},
   "outputs": [
    {
     "data": {
      "text/plain": [
       "99999.0"
      ]
     },
     "execution_count": 7,
     "metadata": {},
     "output_type": "execute_result"
    }
   ],
   "source": [
    "df.price.max()"
   ]
  },
  {
   "cell_type": "code",
   "execution_count": 8,
   "id": "d8161b02",
   "metadata": {},
   "outputs": [],
   "source": [
    "df = df[df['price'] < 1999]"
   ]
  },
  {
   "cell_type": "code",
   "execution_count": 9,
   "id": "7137f86d",
   "metadata": {},
   "outputs": [
    {
     "data": {
      "text/plain": [
       "1995.0"
      ]
     },
     "execution_count": 9,
     "metadata": {},
     "output_type": "execute_result"
    }
   ],
   "source": [
    "df.price.max()"
   ]
  },
  {
   "cell_type": "code",
   "execution_count": 10,
   "id": "71a83e85",
   "metadata": {},
   "outputs": [],
   "source": [
    "def get_listings_in_bin(df, lat_bin_num, long_bin_num, lats_bins_represent, longs_bins_represent):\n",
    "    cond_gt_lats = df['latitude'] > lats_bins_represent[lat_bin_num]\n",
    "    cond_lt_lats = df['latitude'] <= lats_bins_represent[lat_bin_num+1]\n",
    "    cond_gt_long = df['longitude'] > longs_bins_represent[long_bin_num]\n",
    "    cond_lt_long = df['longitude'] <= longs_bins_represent[long_bin_num+1]\n",
    "    cut_df = df[cond_lt_lats & cond_gt_lats & cond_lt_long & cond_gt_long].copy()\n",
    "    return cut_df"
   ]
  },
  {
   "cell_type": "code",
   "execution_count": 11,
   "id": "080e31a6",
   "metadata": {},
   "outputs": [],
   "source": [
    "def calc_hotspot_by_roomtype(df,mile_per_bin):\n",
    "    df_priv = df[df['room_type']=='Private room'].copy()\n",
    "    df_homeapt = df[df['room_type']=='Entire home/apt'].copy()\n",
    "    df_share = df[df['room_type']=='Shared room'].copy()\n",
    "    df_hotel = df[df['room_type']=='Hotel room'].copy()\n",
    "\n",
    "    #https://www.usgs.gov/faqs/how-much-distance-does-a-degree-minute-and-second-cover-your-maps\n",
    "    #One degree of latitude equals approximately 364,000 feet (69 miles), one minute equals 6,068 feet (1.15 miles), and one-second equals 101 feet. \n",
    "    ratio_miles_to_onelat = 69\n",
    "    desired_lat_mile_per_bin = mile_per_bin #i want each bin to represent x miles\n",
    "    \n",
    "     #One-degree of longitude equals 288,200 feet (54.6 miles), one minute equals 4,800 feet (0.91 mile), and one second equals 80 feet.\n",
    "    ratio_miles_to_onelong = 54.6\n",
    "    desired_long_mile_per_bin = mile_per_bin #i want each bin to represent x miles\n",
    "    \n",
    "    for df_roomtype in df_priv,df_homeapt,df_share,df_hotel:\n",
    "        print(f\"Range of latitude: {df_roomtype['latitude'].min()} to {df_roomtype['latitude'].max()}\")\n",
    "        print(f\"Range of longitude: {df_roomtype['longitude'].min()} to {df_roomtype['longitude'].max()}\")\n",
    "\n",
    "\n",
    "        diff_in_lats = df_roomtype['latitude'].max() - df_roomtype['latitude'].min()\n",
    "        diff_in_lats_in_miles = diff_in_lats*ratio_miles_to_onelat\n",
    "        bins_lats = int(np.round(diff_in_lats_in_miles/desired_lat_mile_per_bin))\n",
    "        print(f\"Num of bins for latitude: {bins_lats}\")\n",
    "\n",
    "        diff_in_long = np.abs(df_roomtype['longitude'].max() - df_roomtype['longitude'].min())\n",
    "        diff_in_long_in_miles = diff_in_long*ratio_miles_to_onelong\n",
    "        bins_long = int(np.round(diff_in_long_in_miles/desired_long_mile_per_bin))\n",
    "        print(f\"Num of bins for longitude: {bins_long}\")\n",
    "\n",
    "        lats_bins_represent = np.linspace(df_roomtype['latitude'].min(),df_roomtype['latitude'].max(),bins_lats+1)\n",
    "        longs_bins_represent = np.linspace(df_roomtype['longitude'].min(),df_roomtype['longitude'].max(),bins_long+1)\n",
    "\n",
    "        H, xedges, yedges = np.histogram2d(df_roomtype['latitude'],df_roomtype['longitude'], bins=(bins_lats,bins_long) )\n",
    "        H = H.T\n",
    "\n",
    "        X, Y = np.meshgrid(xedges, yedges)\n",
    "\n",
    "        min_max_scaled_H = H/np.max(H)\n",
    "\n",
    "        num_of_reviews_in_bin = np.zeros(H.shape)\n",
    "        num_of_reviews_per_month_in_bin = np.zeros(H.shape)\n",
    "        \n",
    "        for i in np.arange(0,H.shape[0],1):\n",
    "            for j in np.arange(0,H.shape[1],1):\n",
    "                dummy_df = get_listings_in_bin(df_hotel,j,i,lats_bins_represent,longs_bins_represent)\n",
    "                num_of_reviews_in_bin[i,j] = dummy_df['number_of_reviews'].sum()\n",
    "                num_of_reviews_per_month_in_bin[i,j] = dummy_df['reviews_per_month'].sum()\n",
    "\n",
    "        min_max_scaled_reviews = num_of_reviews_in_bin/np.max(num_of_reviews_in_bin)\n",
    "        min_max_scaled_reviews_per_month = num_of_reviews_per_month_in_bin/np.max(num_of_reviews_per_month_in_bin)               \n",
    "        \n",
    "        for longs in np.arange(0,H.shape[0],1):\n",
    "            for lats in np.arange(0,H.shape[1],1):\n",
    "                cond_gt_lats = df_roomtype['latitude'] > lats_bins_represent[lats]\n",
    "                cond_lt_lats = df_roomtype['latitude'] <= lats_bins_represent[lats+1]\n",
    "                cond_gt_long = df_roomtype['longitude'] > longs_bins_represent[longs]\n",
    "                cond_lt_long = df_roomtype['longitude'] <= longs_bins_represent[longs+1]\n",
    "                df_roomtype.loc[cond_lt_lats & cond_gt_lats & cond_lt_long & cond_gt_long, 'hotspot_from_listings'] = min_max_scaled_H[longs,lats]\n",
    "                df_roomtype.loc[cond_lt_lats & cond_gt_lats & cond_lt_long & cond_gt_long, 'hotspot_from_reviews'] = min_max_scaled_reviews[longs,lats]\n",
    "                df_roomtype.loc[cond_lt_lats & cond_gt_lats & cond_lt_long & cond_gt_long, 'hotspot_from_reviews_per_month'] = min_max_scaled_reviews_per_month[longs,lats]\n",
    "        \n",
    "    final_df = pd.concat([df_priv, df_homeapt, df_share, df_hotel], ignore_index=True,axis=0)\n",
    "    return final_df\n",
    "    \n",
    "\n"
   ]
  },
  {
   "cell_type": "code",
   "execution_count": 15,
   "id": "2ed170a9",
   "metadata": {},
   "outputs": [
    {
     "name": "stdout",
     "output_type": "stream",
     "text": [
      "Range of latitude: 33.33956 to 34.81113\n",
      "Range of longitude: -118.89972464431123 to -117.6534\n",
      "Num of bins for latitude: 338\n",
      "Num of bins for longitude: 227\n",
      "Range of latitude: 33.33848 to 34.79591\n",
      "Range of longitude: -118.93483 to -117.66118\n",
      "Num of bins for latitude: 335\n",
      "Num of bins for longitude: 232\n",
      "Range of latitude: 33.71559 to 34.64815\n",
      "Range of longitude: -118.7056463 to -117.7491\n",
      "Num of bins for latitude: 214\n",
      "Num of bins for longitude: 174\n",
      "Range of latitude: 33.76642 to 34.69972\n",
      "Range of longitude: -118.64871978759766 to -117.85597\n",
      "Num of bins for latitude: 215\n",
      "Num of bins for longitude: 144\n"
     ]
    }
   ],
   "source": [
    "df_hot = calc_hotspot_by_roomtype(df,0.3)\n"
   ]
  },
  {
   "cell_type": "code",
   "execution_count": 24,
   "id": "a07eab32",
   "metadata": {},
   "outputs": [],
   "source": [
    "df_hot.to_csv('../listings_mar2023_w_hotspot_0.3milebins.csv')"
   ]
  },
  {
   "cell_type": "code",
   "execution_count": 12,
   "id": "bff6dbc2",
   "metadata": {},
   "outputs": [],
   "source": [
    "df_priv = df[df['room_type']=='Private room'].copy()\n",
    "df_homeapt = df[df['room_type']=='Entire home/apt'].copy()\n",
    "df_share = df[df['room_type']=='Shared room'].copy()\n",
    "df_hotel = df[df['room_type']=='Hotel room'].copy()"
   ]
  },
  {
   "cell_type": "code",
   "execution_count": 260,
   "id": "a087cfd8",
   "metadata": {},
   "outputs": [
    {
     "data": {
      "text/plain": [
       "33.76642"
      ]
     },
     "execution_count": 260,
     "metadata": {},
     "output_type": "execute_result"
    }
   ],
   "source": [
    "df_hotel['latitude'].min()"
   ]
  },
  {
   "cell_type": "code",
   "execution_count": 21,
   "id": "4c6d7549",
   "metadata": {},
   "outputs": [
    {
     "name": "stdout",
     "output_type": "stream",
     "text": [
      "Range of latitude: 33.33956 to 34.81113\n",
      "Range of longitude: -118.89972464431123 to -117.6534\n",
      "Num of bins for latitude: 102\n",
      "Num of bins for longitude: 68\n"
     ]
    }
   ],
   "source": [
    "print(f\"Range of latitude: {df_priv['latitude'].min()} to {df_priv['latitude'].max()}\")\n",
    "print(f\"Range of longitude: {df_priv['longitude'].min()} to {df_priv['longitude'].max()}\")\n",
    "\n",
    "#https://www.usgs.gov/faqs/how-much-distance-does-a-degee-minute-and-second-cover-your-maps\n",
    "#One degree of latitude equals approximately 364,000 feet (69 miles), one minute equals 6,068 feet (1.15 miles), and one-second equals 101 feet. \n",
    "ratio_miles_to_onelat = 69\n",
    "desired_lat_mile_per_bin = 1 #i want each bin to represent x miles\n",
    "diff_in_lats = df_priv['latitude'].max() - df_priv['latitude'].min()\n",
    "diff_in_lats_in_miles = diff_in_lats*ratio_miles_to_onelat\n",
    "bins_lats = int(np.round(diff_in_lats_in_miles/desired_lat_mile_per_bin))\n",
    "print(f\"Num of bins for latitude: {bins_lats}\")\n",
    "\n",
    "\n",
    "#One-degree of longitude equals 288,200 feet (54.6 miles), one minute equals 4,800 feet (0.91 mile), and one second equals 80 feet.\n",
    "ratio_miles_to_onelong = 54.6\n",
    "desired_long_mile_per_bin = 1 #i want each bin to represent x miles\n",
    "diff_in_long = np.abs(df_priv['longitude'].max() - df_priv['longitude'].min())\n",
    "diff_in_long_in_miles = diff_in_long*ratio_miles_to_onelong\n",
    "bins_long = int(np.round(diff_in_long_in_miles/desired_long_mile_per_bin))\n",
    "print(f\"Num of bins for longitude: {bins_long}\")\n",
    "\n"
   ]
  },
  {
   "cell_type": "code",
   "execution_count": 22,
   "id": "55b08821",
   "metadata": {},
   "outputs": [],
   "source": [
    "#you have to add 1 to the bins because the very 1st element in the list is exclusive \n",
    "lats_bins_represent = np.linspace(df_priv['latitude'].min(),df_priv['latitude'].max(),bins_lats+1)\n",
    "longs_bins_represent = np.linspace(df_priv['longitude'].min(),df_priv['longitude'].max(),bins_long+1)\n",
    "\n",
    "# print(lats_bins_represent)\n",
    "# print(longs_bins_represent)"
   ]
  },
  {
   "cell_type": "code",
   "execution_count": 23,
   "id": "aad6dacb",
   "metadata": {},
   "outputs": [
    {
     "name": "stdout",
     "output_type": "stream",
     "text": [
      "153.0\n"
     ]
    }
   ],
   "source": [
    "H, xedges, yedges = np.histogram2d(df_priv['latitude'],df_priv['longitude'], bins=(bins_lats,bins_long) )\n",
    "\n",
    "H = H.T\n",
    "\n",
    "#if i do 0.1 mile per bin for both lats and longs, there is a bright yellow spot. It may so dense that it could be an outlier and over shadow it\n",
    "#if you want to see, run the lines below multiple times to remove the outliers and run the histogram plotting cell\n",
    "\n",
    "#I did a further analysis on exploring why their was an outlier\n",
    "#there is one airbnb host that has multiple accounts and they have over 1500 listings\n",
    "#they rent rooms in mansions I think. Seems absurd to have 1500 bedrooms available to rent all at one time\n",
    "#https://www.airbnb.com/users/401130632/listings\n",
    "#https://www.airbnb.com/users/144214204/listings\n",
    "#I think I will definitely ignore them for this as this is a huge outlier\n",
    "#http://insideairbnb.com/los-angeles\n",
    "#      If you go here and scroll, you will see jino & scott own the most listings for private rooms\n",
    "# \n",
    "max_long_bin_num_priv = np.where(H == np.max(H))[0][0]\n",
    "max_lat_bin_num_priv = np.where(H == np.max(H))[1][0]\n",
    "print(H[max_long_bin_num_priv,max_lat_bin_num_priv])\n",
    "H[max_long_bin_num_priv,max_lat_bin_num_priv] = 0 #when bins are represent 1 mile, do this to remove the outlier "
   ]
  },
  {
   "cell_type": "code",
   "execution_count": 24,
   "id": "ab118cc3",
   "metadata": {},
   "outputs": [
    {
     "data": {
      "image/png": "[encoded data removed]",
      "text/plain": [
       "<Figure size 500x500 with 2 Axes>"
      ]
     },
     "metadata": {},
     "output_type": "display_data"
    }
   ],
   "source": [
    "fig = plt.figure(figsize=(5, 5))\n",
    "ax = fig.add_subplot(title='Heatmap of # of listings in a given latitude and longitude',\n",
    "        aspect='equal')\n",
    "\n",
    "X, Y = np.meshgrid(xedges, yedges)\n",
    "\n",
    "hist2d = ax.pcolormesh(X, Y, H, cmap='plasma')\n",
    "ax.set_xlabel('latitude')\n",
    "ax.set_ylabel('longitude')\n",
    "plt.colorbar(hist2d,ax=ax)\n",
    "plt.show()"
   ]
  },
  {
   "cell_type": "code",
   "execution_count": 265,
   "id": "6a8aeeb6",
   "metadata": {},
   "outputs": [
    {
     "data": {
      "text/plain": [
       "(34.05726232558139, -118.38997506525675)"
      ]
     },
     "execution_count": 265,
     "metadata": {},
     "output_type": "execute_result"
    }
   ],
   "source": [
    "lats_bins_represent[max_lat_bin_num_priv],longs_bins_represent[max_long_bin_num_priv]"
   ]
  },
  {
   "cell_type": "code",
   "execution_count": 266,
   "id": "f7308dfd",
   "metadata": {},
   "outputs": [],
   "source": [
    "def get_listings_in_bin(df, lat_bin_num, long_bin_num):\n",
    "    cond_gt_lats = df['latitude'] > lats_bins_represent[lat_bin_num]\n",
    "    cond_lt_lats = df['latitude'] <= lats_bins_represent[lat_bin_num+1]\n",
    "    cond_gt_long = df['longitude'] > longs_bins_represent[long_bin_num]\n",
    "    cond_lt_long = df['longitude'] <= longs_bins_represent[long_bin_num+1]\n",
    "    cut_df = df[cond_lt_lats & cond_gt_lats & cond_lt_long & cond_gt_long].copy()\n",
    "    return cut_df"
   ]
  },
  {
   "cell_type": "code",
   "execution_count": 267,
   "id": "aa2f3f72",
   "metadata": {},
   "outputs": [
    {
     "data": {
      "text/plain": [
       "(72, 78)"
      ]
     },
     "execution_count": 267,
     "metadata": {},
     "output_type": "execute_result"
    }
   ],
   "source": [
    "potential_outlier_df_hotel = get_listings_in_bin(df_hotel,max_lat_bin_num_priv,max_long_bin_num_priv)\n",
    "potential_outlier_df_hotel.shape"
   ]
  },
  {
   "cell_type": "code",
   "execution_count": 268,
   "id": "fabcc413",
   "metadata": {},
   "outputs": [
    {
     "data": {
      "text/plain": [
       "Michelle    14\n",
       "April       12\n",
       "Gabriela    10\n",
       "Billy        9\n",
       "Bobby        7\n",
       "Scott        7\n",
       "Fernanda     6\n",
       "Dovid        6\n",
       "Andre        1\n",
       "Name: host_name, dtype: int64"
      ]
     },
     "execution_count": 268,
     "metadata": {},
     "output_type": "execute_result"
    }
   ],
   "source": [
    "potential_outlier_df_hotel.host_name.value_counts()"
   ]
  },
  {
   "cell_type": "code",
   "execution_count": 269,
   "id": "24cb50d9",
   "metadata": {},
   "outputs": [
    {
     "data": {
      "text/plain": [
       "Blueground    717\n",
       "David         291\n",
       "Alex          276\n",
       "Michael       255\n",
       "Nicole        234\n",
       "             ... \n",
       "Joy Karen       1\n",
       "Harmony         1\n",
       "Hitmaker        1\n",
       "Nav             1\n",
       "Alyse           1\n",
       "Name: host_name, Length: 7849, dtype: int64"
      ]
     },
     "execution_count": 269,
     "metadata": {},
     "output_type": "execute_result"
    }
   ],
   "source": [
    "df.host_name.value_counts()"
   ]
  },
  {
   "cell_type": "code",
   "execution_count": 35,
   "id": "8bf66d00",
   "metadata": {},
   "outputs": [],
   "source": [
    "min_max_scaled_H = H/np.max(H)"
   ]
  },
  {
   "cell_type": "code",
   "execution_count": 271,
   "id": "3794b589",
   "metadata": {},
   "outputs": [
    {
     "data": {
      "text/plain": [
       "215"
      ]
     },
     "execution_count": 271,
     "metadata": {},
     "output_type": "execute_result"
    }
   ],
   "source": [
    "H.shape[1]"
   ]
  },
  {
   "cell_type": "code",
   "execution_count": 26,
   "id": "2b5b4b9a",
   "metadata": {},
   "outputs": [],
   "source": [
    "num_of_reviews_in_bin = np.zeros(H.shape)\n",
    "for i in np.arange(0,H.shape[0],1):\n",
    "    for j in np.arange(0,H.shape[1],1):\n",
    "        dummy_df = get_listings_in_bin(df_hotel,j,i, lats_bins_represent,longs_bins_represent)\n",
    "        num_of_reviews_in_bin[i,j] = dummy_df['number_of_reviews'].sum()"
   ]
  },
  {
   "cell_type": "code",
   "execution_count": 27,
   "id": "e8f5923f",
   "metadata": {},
   "outputs": [
    {
     "data": {
      "image/png": "[encoded data removed]",
      "text/plain": [
       "<Figure size 500x500 with 2 Axes>"
      ]
     },
     "metadata": {},
     "output_type": "display_data"
    }
   ],
   "source": [
    "fig = plt.figure(figsize=(5, 5))\n",
    "ax = fig.add_subplot(title='Heatmap of # of reviews in a given latitude and longitude',\n",
    "        aspect='equal')\n",
    "\n",
    "X, Y = np.meshgrid(xedges, yedges)\n",
    "\n",
    "hist2d = ax.pcolormesh(X, Y, num_of_reviews_in_bin, cmap='plasma')\n",
    "ax.set_xlabel('latitude')\n",
    "ax.set_ylabel('longitude')\n",
    "plt.colorbar(hist2d,ax=ax)\n",
    "plt.show()"
   ]
  },
  {
   "cell_type": "code",
   "execution_count": 28,
   "id": "f4009d00",
   "metadata": {},
   "outputs": [],
   "source": [
    "min_max_scaled_reviews = num_of_reviews_in_bin/np.max(num_of_reviews_in_bin)"
   ]
  },
  {
   "cell_type": "code",
   "execution_count": 30,
   "id": "5d37f4ff",
   "metadata": {},
   "outputs": [],
   "source": [
    "min_max_scaled_reviews = num_of_reviews_in_bin/np.max(num_of_reviews_in_bin)\n",
    "num_of_reviews_per_month_in_bin = np.zeros(H.shape)\n",
    "for i in np.arange(0,H.shape[0],1):\n",
    "    for j in np.arange(0,H.shape[1],1):\n",
    "        dummy_df = get_listings_in_bin(df_hotel,j,i,lats_bins_represent,longs_bins_represent)\n",
    "        num_of_reviews_per_month_in_bin[i,j] = dummy_df['reviews_per_month'].sum()"
   ]
  },
  {
   "cell_type": "code",
   "execution_count": 31,
   "id": "73f65d63",
   "metadata": {},
   "outputs": [
    {
     "data": {
      "image/png": "[encoded data removed]",
      "text/plain": [
       "<Figure size 500x500 with 2 Axes>"
      ]
     },
     "metadata": {},
     "output_type": "display_data"
    }
   ],
   "source": [
    "fig = plt.figure(figsize=(5, 5))\n",
    "ax = fig.add_subplot(title='Heatmap of # of reviews per month in a given latitude and longitude',\n",
    "        aspect='equal')\n",
    "\n",
    "X, Y = np.meshgrid(xedges, yedges)\n",
    "\n",
    "hist2d = ax.pcolormesh(X, Y, num_of_reviews_per_month_in_bin, cmap='plasma')\n",
    "ax.set_xlabel('latitude')\n",
    "ax.set_ylabel('longitude')\n",
    "plt.colorbar(hist2d,ax=ax)\n",
    "plt.show()"
   ]
  },
  {
   "cell_type": "code",
   "execution_count": 34,
   "id": "ca14b575",
   "metadata": {},
   "outputs": [],
   "source": [
    "min_max_scaled_reviews_per_month = num_of_reviews_per_month_in_bin/np.max(num_of_reviews_per_month_in_bin)"
   ]
  },
  {
   "cell_type": "code",
   "execution_count": 32,
   "id": "0b3f6f35",
   "metadata": {},
   "outputs": [],
   "source": [
    "df_hotel['hotspot_from_listings'] = 0\n",
    "df_hotel['hotspot_from_reviews'] = 0\n",
    "df_hotel['hotspot_from_reviews_per_month'] = 0\n"
   ]
  },
  {
   "cell_type": "code",
   "execution_count": 36,
   "id": "ee6f61b0",
   "metadata": {},
   "outputs": [],
   "source": [
    "for longs in np.arange(0,H.shape[0],1):\n",
    "    for lats in np.arange(0,H.shape[1],1):\n",
    "        cond_gt_lats = df_hotel['latitude'] > lats_bins_represent[lats]\n",
    "        cond_lt_lats = df_hotel['latitude'] <= lats_bins_represent[lats+1]\n",
    "        cond_gt_long = df_hotel['longitude'] > longs_bins_represent[longs]\n",
    "        cond_lt_long = df_hotel['longitude'] <= longs_bins_represent[longs+1]\n",
    "        df_hotel.loc[cond_lt_lats & cond_gt_lats & cond_lt_long & cond_gt_long, 'hotspot_from_listings'] = min_max_scaled_H[longs,lats]\n",
    "        df_hotel.loc[cond_lt_lats & cond_gt_lats & cond_lt_long & cond_gt_long, 'hotspot_from_reviews'] = min_max_scaled_reviews[longs,lats]\n",
    "        df_hotel.loc[cond_lt_lats & cond_gt_lats & cond_lt_long & cond_gt_long, 'hotspot_from_reviews_per_month'] = min_max_scaled_reviews_per_month[longs,lats]\n"
   ]
  },
  {
   "cell_type": "code",
   "execution_count": 37,
   "id": "9b5db761",
   "metadata": {},
   "outputs": [],
   "source": [
    "df_hotel['category_hotness_from_listings'] = round(df_hotel['hotspot_from_listings'],1)*10\n",
    "df_hotel['category_hotness_from_reviews'] = round(df_hotel['hotspot_from_reviews'],1)*10\n",
    "df_hotel['category_hotness_from_reviews_per_month'] = round(df_hotel['hotspot_from_reviews_per_month'],1)*10"
   ]
  },
  {
   "attachments": {},
   "cell_type": "markdown",
   "id": "912c505d",
   "metadata": {},
   "source": [
    "Neural network below was just an excercise and isn't conclusive to anything."
   ]
  },
  {
   "cell_type": "code",
   "execution_count": 39,
   "id": "d3101b5b",
   "metadata": {},
   "outputs": [],
   "source": [
    "import keras\n",
    "from keras import models\n",
    "from keras import layers\n",
    "from keras import optimizers\n",
    "from keras import losses\n",
    "from keras import metrics\n",
    "from keras.utils.np_utils import to_categorical"
   ]
  },
  {
   "cell_type": "code",
   "execution_count": 40,
   "id": "c52a0f98",
   "metadata": {},
   "outputs": [],
   "source": [
    "## we first make an empty model\n",
    "## Sequential means we'll make a group\n",
    "## of a linear stack of layers\n",
    "model = models.Sequential()"
   ]
  },
  {
   "cell_type": "code",
   "execution_count": null,
   "id": "f2d44f7d",
   "metadata": {},
   "outputs": [],
   "source": [
    "###### ONLY RUN THIS ONCE! ##########\n",
    "\n",
    "## you add a layer with .add()\n",
    "## A Dense layer means a fully connected feedforward layer\n",
    "## the 16 means the layer is 16 nodes tall\n",
    "## activation='relu' means the layer uses a relu activation function\n",
    "## the first layer needs to be told the shape of the input data\n",
    "model.add(layers.Dense(16, activation = 'relu', input_shape=(2,)))\n",
    "\n",
    "# we then add a second layer that is 16 nodes tall\n",
    "# and uses the relu activation function\n",
    "# note we don't need the input shape here, \n",
    "# it is inferred from the first layer's output\n",
    "model.add(layers.Dense(16, activation = 'relu'))\n",
    "\n",
    "\n",
    "# finally we add the output layer\n",
    "# this will have a single node, representing a probability\n",
    "# that the observation has positive sentiment\n",
    "# this is why the activation is a softmax\n",
    "# for more information on the softmax see the Practice Problems\n",
    "model.add(layers.Dense(11, activation = 'softmax'))"
   ]
  },
  {
   "cell_type": "code",
   "execution_count": null,
   "id": "b7a5f8f1",
   "metadata": {},
   "outputs": [
    {
     "name": "stdout",
     "output_type": "stream",
     "text": [
      "Model: \"sequential_4\"\n",
      "_________________________________________________________________\n",
      " Layer (type)                Output Shape              Param #   \n",
      "=================================================================\n",
      " dense_12 (Dense)            (None, 16)                48        \n",
      "                                                                 \n",
      " dense_13 (Dense)            (None, 16)                272       \n",
      "                                                                 \n",
      " dense_14 (Dense)            (None, 11)                187       \n",
      "                                                                 \n",
      "=================================================================\n",
      "Total params: 507\n",
      "Trainable params: 507\n",
      "Non-trainable params: 0\n",
      "_________________________________________________________________\n"
     ]
    }
   ],
   "source": [
    "model.summary()"
   ]
  },
  {
   "cell_type": "code",
   "execution_count": null,
   "id": "a986aeb4",
   "metadata": {},
   "outputs": [],
   "source": [
    "## we compile the network like so\n",
    "## call .compile\n",
    "## set our optimizer, optimizer='rmsprop'\n",
    "## set our loss, loss='categorical_crossentropy'\n",
    "## set our desired metrics, metrics=['accuracy']\n",
    "model.compile(optimizer='rmsprop', \n",
    "                 loss='categorical_crossentropy',\n",
    "                 metrics=['accuracy'])"
   ]
  },
  {
   "cell_type": "code",
   "execution_count": null,
   "id": "48017146",
   "metadata": {},
   "outputs": [],
   "source": [
    "X = df_hotel[['latitude','longitude']]\n",
    "y = df_hotel['category_hotness_from_listings']\n",
    "\n",
    "X_train, X_test, y_train, y_test = train_test_split(X,y,\n",
    "                                                       test_size=.2,\n",
    "                                                       shuffle=True,\n",
    "                                                       random_state=124,\n",
    "                                                       stratify=y)"
   ]
  },
  {
   "cell_type": "code",
   "execution_count": null,
   "id": "93d71282",
   "metadata": {},
   "outputs": [
    {
     "data": {
      "text/plain": [
       "(28714, 2)"
      ]
     },
     "execution_count": 304,
     "metadata": {},
     "output_type": "execute_result"
    }
   ],
   "source": [
    "X.shape"
   ]
  },
  {
   "cell_type": "code",
   "execution_count": null,
   "id": "ebbcf2dc",
   "metadata": {},
   "outputs": [],
   "source": [
    "X_train_train, X_val, y_train_train, y_val = train_test_split(X_train, y_train,\n",
    "                                                                 test_size=.2,\n",
    "                                                                   shuffle=True,\n",
    "                                                                   random_state=41,\n",
    "                                                                   stratify=y_train)"
   ]
  },
  {
   "cell_type": "code",
   "execution_count": null,
   "id": "1a1dd277",
   "metadata": {},
   "outputs": [
    {
     "name": "stdout",
     "output_type": "stream",
     "text": [
      "27647    0.0\n",
      "12875    0.0\n",
      "29618    1.0\n",
      "23908    1.0\n",
      "10350    0.0\n",
      "        ... \n",
      "35516    0.0\n",
      "22709    3.0\n",
      "15538    0.0\n",
      "10226    6.0\n",
      "39198    5.0\n",
      "Name: category_hotness_from_listings, Length: 18376, dtype: float64\n",
      "\n",
      "\n",
      "\n",
      "\n",
      "[[1. 0. 0. ... 0. 0. 0.]\n",
      " [1. 0. 0. ... 0. 0. 0.]\n",
      " [0. 1. 0. ... 0. 0. 0.]\n",
      " ...\n",
      " [1. 0. 0. ... 0. 0. 0.]\n",
      " [0. 0. 0. ... 0. 0. 0.]\n",
      " [0. 0. 0. ... 0. 0. 0.]]\n",
      "(18376, 11)\n",
      "(4595, 2)\n"
     ]
    }
   ],
   "source": [
    "print(y_train_train)\n",
    "print(\"\\n\\n\\n\")\n",
    "print(to_categorical(y_train_train))\n",
    "print(to_categorical(y_train_train).shape)\n",
    "print(X_val.shape)"
   ]
  },
  {
   "cell_type": "code",
   "execution_count": null,
   "id": "ba9c5f9a",
   "metadata": {},
   "outputs": [
    {
     "name": "stdout",
     "output_type": "stream",
     "text": [
      "(18376, 11)\n",
      "(4595, 11)\n",
      "(18376, 2)\n",
      "(4595, 2)\n"
     ]
    }
   ],
   "source": [
    "print(to_categorical(y_train_train).shape)\n",
    "print(to_categorical(y_val).shape)\n",
    "print(X_train_train.shape)\n",
    "print(X_val.shape)"
   ]
  },
  {
   "cell_type": "code",
   "execution_count": null,
   "id": "14d92ab0",
   "metadata": {},
   "outputs": [
    {
     "name": "stdout",
     "output_type": "stream",
     "text": [
      "Epoch 1/100\n",
      "36/36 [==============================] - 1s 6ms/step - loss: 3.7142 - accuracy: 0.2839 - val_loss: 1.6445 - val_accuracy: 0.4755\n",
      "Epoch 2/100\n",
      "36/36 [==============================] - 0s 2ms/step - loss: 1.5639 - accuracy: 0.4756 - val_loss: 1.5154 - val_accuracy: 0.4755\n",
      "Epoch 3/100\n",
      "36/36 [==============================] - 0s 2ms/step - loss: 1.5141 - accuracy: 0.4685 - val_loss: 1.5058 - val_accuracy: 0.4755\n",
      "Epoch 4/100\n",
      "36/36 [==============================] - 0s 2ms/step - loss: 1.5125 - accuracy: 0.4746 - val_loss: 1.5246 - val_accuracy: 0.4755\n",
      "Epoch 5/100\n",
      "36/36 [==============================] - 0s 2ms/step - loss: 1.5118 - accuracy: 0.4744 - val_loss: 1.5102 - val_accuracy: 0.4755\n",
      "Epoch 6/100\n",
      "36/36 [==============================] - 0s 2ms/step - loss: 1.5113 - accuracy: 0.4756 - val_loss: 1.5150 - val_accuracy: 0.4755\n",
      "Epoch 7/100\n",
      "36/36 [==============================] - 0s 2ms/step - loss: 1.5108 - accuracy: 0.4756 - val_loss: 1.4988 - val_accuracy: 0.4755\n",
      "Epoch 8/100\n",
      "36/36 [==============================] - 0s 2ms/step - loss: 1.5114 - accuracy: 0.4694 - val_loss: 1.5083 - val_accuracy: 0.4755\n",
      "Epoch 9/100\n",
      "36/36 [==============================] - 0s 2ms/step - loss: 1.5119 - accuracy: 0.4756 - val_loss: 1.5371 - val_accuracy: 0.4703\n",
      "Epoch 10/100\n",
      "36/36 [==============================] - 0s 3ms/step - loss: 1.5090 - accuracy: 0.4753 - val_loss: 1.5098 - val_accuracy: 0.4755\n",
      "Epoch 11/100\n",
      "36/36 [==============================] - 0s 2ms/step - loss: 1.5110 - accuracy: 0.4747 - val_loss: 1.5597 - val_accuracy: 0.4755\n",
      "Epoch 12/100\n",
      "36/36 [==============================] - 0s 2ms/step - loss: 1.5113 - accuracy: 0.4756 - val_loss: 1.5531 - val_accuracy: 0.4755\n",
      "Epoch 13/100\n",
      "36/36 [==============================] - 0s 2ms/step - loss: 1.5132 - accuracy: 0.4756 - val_loss: 1.5314 - val_accuracy: 0.4755\n",
      "Epoch 14/100\n",
      "36/36 [==============================] - 0s 2ms/step - loss: 1.5097 - accuracy: 0.4756 - val_loss: 1.5240 - val_accuracy: 0.4755\n",
      "Epoch 15/100\n",
      "36/36 [==============================] - 0s 2ms/step - loss: 1.5088 - accuracy: 0.4756 - val_loss: 1.5201 - val_accuracy: 0.4755\n",
      "Epoch 16/100\n",
      "36/36 [==============================] - 0s 2ms/step - loss: 1.5119 - accuracy: 0.4756 - val_loss: 1.5024 - val_accuracy: 0.4755\n",
      "Epoch 17/100\n",
      "36/36 [==============================] - 0s 2ms/step - loss: 1.5090 - accuracy: 0.4739 - val_loss: 1.5034 - val_accuracy: 0.4755\n",
      "Epoch 18/100\n",
      "36/36 [==============================] - 0s 2ms/step - loss: 1.5090 - accuracy: 0.4756 - val_loss: 1.5220 - val_accuracy: 0.4755\n",
      "Epoch 19/100\n",
      "36/36 [==============================] - 0s 2ms/step - loss: 1.5106 - accuracy: 0.4756 - val_loss: 1.5090 - val_accuracy: 0.4755\n",
      "Epoch 20/100\n",
      "36/36 [==============================] - 0s 2ms/step - loss: 1.5113 - accuracy: 0.4755 - val_loss: 1.5409 - val_accuracy: 0.4755\n",
      "Epoch 21/100\n",
      "36/36 [==============================] - 0s 2ms/step - loss: 1.5098 - accuracy: 0.4756 - val_loss: 1.5009 - val_accuracy: 0.4755\n",
      "Epoch 22/100\n",
      "36/36 [==============================] - 0s 2ms/step - loss: 1.5107 - accuracy: 0.4694 - val_loss: 1.5043 - val_accuracy: 0.4755\n",
      "Epoch 23/100\n",
      "36/36 [==============================] - 0s 2ms/step - loss: 1.5103 - accuracy: 0.4756 - val_loss: 1.5029 - val_accuracy: 0.4755\n",
      "Epoch 24/100\n",
      "36/36 [==============================] - 0s 2ms/step - loss: 1.5077 - accuracy: 0.4756 - val_loss: 1.5071 - val_accuracy: 0.4755\n",
      "Epoch 25/100\n",
      "36/36 [==============================] - 0s 2ms/step - loss: 1.5090 - accuracy: 0.4756 - val_loss: 1.5240 - val_accuracy: 0.4755\n",
      "Epoch 26/100\n",
      "36/36 [==============================] - 0s 2ms/step - loss: 1.5058 - accuracy: 0.4748 - val_loss: 1.5182 - val_accuracy: 0.4755\n",
      "Epoch 27/100\n",
      "36/36 [==============================] - 0s 2ms/step - loss: 1.5113 - accuracy: 0.4756 - val_loss: 1.5007 - val_accuracy: 0.4755\n",
      "Epoch 28/100\n",
      "36/36 [==============================] - 0s 2ms/step - loss: 1.5090 - accuracy: 0.4756 - val_loss: 1.5448 - val_accuracy: 0.4749\n",
      "Epoch 29/100\n",
      "36/36 [==============================] - 0s 2ms/step - loss: 1.5096 - accuracy: 0.4756 - val_loss: 1.5320 - val_accuracy: 0.4755\n",
      "Epoch 30/100\n",
      "36/36 [==============================] - 0s 2ms/step - loss: 1.5083 - accuracy: 0.4756 - val_loss: 1.5153 - val_accuracy: 0.4755\n",
      "Epoch 31/100\n",
      "36/36 [==============================] - 0s 2ms/step - loss: 1.5089 - accuracy: 0.4756 - val_loss: 1.5049 - val_accuracy: 0.4755\n",
      "Epoch 32/100\n",
      "36/36 [==============================] - 0s 2ms/step - loss: 1.5090 - accuracy: 0.4756 - val_loss: 1.5163 - val_accuracy: 0.4755\n",
      "Epoch 33/100\n",
      "36/36 [==============================] - 0s 2ms/step - loss: 1.5081 - accuracy: 0.4756 - val_loss: 1.5055 - val_accuracy: 0.4755\n",
      "Epoch 34/100\n",
      "36/36 [==============================] - 0s 2ms/step - loss: 1.5087 - accuracy: 0.4756 - val_loss: 1.5104 - val_accuracy: 0.4755\n",
      "Epoch 35/100\n",
      "36/36 [==============================] - 0s 2ms/step - loss: 1.5060 - accuracy: 0.4756 - val_loss: 1.5133 - val_accuracy: 0.4755\n",
      "Epoch 36/100\n",
      "36/36 [==============================] - 0s 2ms/step - loss: 1.5060 - accuracy: 0.4756 - val_loss: 1.5209 - val_accuracy: 0.4755\n",
      "Epoch 37/100\n",
      "36/36 [==============================] - 0s 2ms/step - loss: 1.5101 - accuracy: 0.4756 - val_loss: 1.5048 - val_accuracy: 0.4755\n",
      "Epoch 38/100\n",
      "36/36 [==============================] - 0s 2ms/step - loss: 1.5109 - accuracy: 0.4756 - val_loss: 1.5019 - val_accuracy: 0.4755\n",
      "Epoch 39/100\n",
      "36/36 [==============================] - 0s 2ms/step - loss: 1.5080 - accuracy: 0.4756 - val_loss: 1.4980 - val_accuracy: 0.4755\n",
      "Epoch 40/100\n",
      "36/36 [==============================] - 0s 2ms/step - loss: 1.5070 - accuracy: 0.4756 - val_loss: 1.4989 - val_accuracy: 0.4755\n",
      "Epoch 41/100\n",
      "36/36 [==============================] - 0s 2ms/step - loss: 1.5097 - accuracy: 0.4756 - val_loss: 1.4994 - val_accuracy: 0.4755\n",
      "Epoch 42/100\n",
      "36/36 [==============================] - 0s 2ms/step - loss: 1.5062 - accuracy: 0.4756 - val_loss: 1.5018 - val_accuracy: 0.4755\n",
      "Epoch 43/100\n",
      "36/36 [==============================] - 0s 2ms/step - loss: 1.5065 - accuracy: 0.4756 - val_loss: 1.5348 - val_accuracy: 0.4755\n",
      "Epoch 44/100\n",
      "36/36 [==============================] - 0s 2ms/step - loss: 1.5105 - accuracy: 0.4756 - val_loss: 1.5036 - val_accuracy: 0.4755\n",
      "Epoch 45/100\n",
      "36/36 [==============================] - 0s 2ms/step - loss: 1.5048 - accuracy: 0.4706 - val_loss: 1.5082 - val_accuracy: 0.4755\n",
      "Epoch 46/100\n",
      "36/36 [==============================] - 0s 2ms/step - loss: 1.5065 - accuracy: 0.4756 - val_loss: 1.5109 - val_accuracy: 0.4755\n",
      "Epoch 47/100\n",
      "36/36 [==============================] - 0s 2ms/step - loss: 1.5082 - accuracy: 0.4756 - val_loss: 1.5064 - val_accuracy: 0.4755\n",
      "Epoch 48/100\n",
      "36/36 [==============================] - 0s 2ms/step - loss: 1.5063 - accuracy: 0.4756 - val_loss: 1.5136 - val_accuracy: 0.4755\n",
      "Epoch 49/100\n",
      "36/36 [==============================] - 0s 2ms/step - loss: 1.5071 - accuracy: 0.4756 - val_loss: 1.5101 - val_accuracy: 0.4755\n",
      "Epoch 50/100\n",
      "36/36 [==============================] - 0s 2ms/step - loss: 1.5047 - accuracy: 0.4756 - val_loss: 1.5070 - val_accuracy: 0.4755\n",
      "Epoch 51/100\n",
      "36/36 [==============================] - 0s 2ms/step - loss: 1.5053 - accuracy: 0.4756 - val_loss: 1.5059 - val_accuracy: 0.4755\n",
      "Epoch 52/100\n",
      "36/36 [==============================] - 0s 2ms/step - loss: 1.5071 - accuracy: 0.4756 - val_loss: 1.5225 - val_accuracy: 0.4755\n",
      "Epoch 53/100\n",
      "36/36 [==============================] - 0s 2ms/step - loss: 1.5054 - accuracy: 0.4756 - val_loss: 1.5100 - val_accuracy: 0.4755\n",
      "Epoch 54/100\n",
      "36/36 [==============================] - 0s 2ms/step - loss: 1.5069 - accuracy: 0.4756 - val_loss: 1.4972 - val_accuracy: 0.4755\n",
      "Epoch 55/100\n",
      "36/36 [==============================] - 0s 2ms/step - loss: 1.5072 - accuracy: 0.4756 - val_loss: 1.5057 - val_accuracy: 0.4755\n",
      "Epoch 56/100\n",
      "36/36 [==============================] - 0s 2ms/step - loss: 1.5058 - accuracy: 0.4756 - val_loss: 1.5189 - val_accuracy: 0.4755\n",
      "Epoch 57/100\n",
      "36/36 [==============================] - 0s 2ms/step - loss: 1.5044 - accuracy: 0.4756 - val_loss: 1.5016 - val_accuracy: 0.4755\n",
      "Epoch 58/100\n",
      "36/36 [==============================] - 0s 2ms/step - loss: 1.5055 - accuracy: 0.4739 - val_loss: 1.5045 - val_accuracy: 0.4755\n",
      "Epoch 59/100\n",
      "36/36 [==============================] - 0s 2ms/step - loss: 1.5076 - accuracy: 0.4756 - val_loss: 1.5035 - val_accuracy: 0.4755\n",
      "Epoch 60/100\n",
      "36/36 [==============================] - 0s 2ms/step - loss: 1.5064 - accuracy: 0.4756 - val_loss: 1.4967 - val_accuracy: 0.4755\n",
      "Epoch 61/100\n",
      "36/36 [==============================] - 0s 2ms/step - loss: 1.5062 - accuracy: 0.4756 - val_loss: 1.4966 - val_accuracy: 0.4755\n",
      "Epoch 62/100\n",
      "36/36 [==============================] - 0s 2ms/step - loss: 1.5043 - accuracy: 0.4756 - val_loss: 1.5042 - val_accuracy: 0.4755\n",
      "Epoch 63/100\n",
      "36/36 [==============================] - 0s 2ms/step - loss: 1.5032 - accuracy: 0.4756 - val_loss: 1.5030 - val_accuracy: 0.4755\n",
      "Epoch 64/100\n",
      "36/36 [==============================] - 0s 2ms/step - loss: 1.5092 - accuracy: 0.4756 - val_loss: 1.4980 - val_accuracy: 0.4755\n",
      "Epoch 65/100\n",
      "36/36 [==============================] - 0s 2ms/step - loss: 1.5070 - accuracy: 0.4756 - val_loss: 1.4988 - val_accuracy: 0.4755\n",
      "Epoch 66/100\n",
      "36/36 [==============================] - 0s 2ms/step - loss: 1.5036 - accuracy: 0.4756 - val_loss: 1.5079 - val_accuracy: 0.4755\n",
      "Epoch 67/100\n",
      "36/36 [==============================] - 0s 2ms/step - loss: 1.5040 - accuracy: 0.4756 - val_loss: 1.5008 - val_accuracy: 0.4755\n",
      "Epoch 68/100\n",
      "36/36 [==============================] - 0s 2ms/step - loss: 1.5052 - accuracy: 0.4756 - val_loss: 1.5051 - val_accuracy: 0.4755\n",
      "Epoch 69/100\n",
      "36/36 [==============================] - 0s 2ms/step - loss: 1.5048 - accuracy: 0.4756 - val_loss: 1.5044 - val_accuracy: 0.4755\n",
      "Epoch 70/100\n",
      "36/36 [==============================] - 0s 2ms/step - loss: 1.5051 - accuracy: 0.4756 - val_loss: 1.5097 - val_accuracy: 0.4755\n",
      "Epoch 71/100\n",
      "36/36 [==============================] - 0s 2ms/step - loss: 1.5063 - accuracy: 0.4756 - val_loss: 1.5043 - val_accuracy: 0.4755\n",
      "Epoch 72/100\n",
      "36/36 [==============================] - 0s 2ms/step - loss: 1.5046 - accuracy: 0.4756 - val_loss: 1.4978 - val_accuracy: 0.4755\n",
      "Epoch 73/100\n",
      "36/36 [==============================] - 0s 2ms/step - loss: 1.5036 - accuracy: 0.4756 - val_loss: 1.5204 - val_accuracy: 0.4755\n",
      "Epoch 74/100\n",
      "36/36 [==============================] - 0s 2ms/step - loss: 1.5062 - accuracy: 0.4756 - val_loss: 1.5189 - val_accuracy: 0.4755\n",
      "Epoch 75/100\n",
      "36/36 [==============================] - 0s 2ms/step - loss: 1.5051 - accuracy: 0.4756 - val_loss: 1.4984 - val_accuracy: 0.4755\n",
      "Epoch 76/100\n",
      "36/36 [==============================] - 0s 2ms/step - loss: 1.5049 - accuracy: 0.4756 - val_loss: 1.5019 - val_accuracy: 0.4755\n",
      "Epoch 77/100\n",
      "36/36 [==============================] - 0s 2ms/step - loss: 1.5048 - accuracy: 0.4756 - val_loss: 1.5023 - val_accuracy: 0.4755\n",
      "Epoch 78/100\n",
      "36/36 [==============================] - 0s 2ms/step - loss: 1.5039 - accuracy: 0.4756 - val_loss: 1.5152 - val_accuracy: 0.4755\n",
      "Epoch 79/100\n",
      "36/36 [==============================] - 0s 2ms/step - loss: 1.5028 - accuracy: 0.4756 - val_loss: 1.5054 - val_accuracy: 0.4755\n",
      "Epoch 80/100\n",
      "36/36 [==============================] - 0s 2ms/step - loss: 1.5053 - accuracy: 0.4756 - val_loss: 1.5183 - val_accuracy: 0.4755\n",
      "Epoch 81/100\n",
      "36/36 [==============================] - 0s 2ms/step - loss: 1.5026 - accuracy: 0.4756 - val_loss: 1.5168 - val_accuracy: 0.4755\n",
      "Epoch 82/100\n",
      "36/36 [==============================] - 0s 2ms/step - loss: 1.5056 - accuracy: 0.4756 - val_loss: 1.4972 - val_accuracy: 0.4755\n",
      "Epoch 83/100\n",
      "36/36 [==============================] - 0s 2ms/step - loss: 1.5026 - accuracy: 0.4756 - val_loss: 1.5108 - val_accuracy: 0.4755\n",
      "Epoch 84/100\n",
      "36/36 [==============================] - 0s 2ms/step - loss: 1.5027 - accuracy: 0.4756 - val_loss: 1.4988 - val_accuracy: 0.4755\n",
      "Epoch 85/100\n",
      "36/36 [==============================] - 0s 2ms/step - loss: 1.5016 - accuracy: 0.4756 - val_loss: 1.4970 - val_accuracy: 0.4755\n",
      "Epoch 86/100\n",
      "36/36 [==============================] - 0s 2ms/step - loss: 1.5043 - accuracy: 0.4756 - val_loss: 1.5022 - val_accuracy: 0.4755\n",
      "Epoch 87/100\n",
      "36/36 [==============================] - 0s 2ms/step - loss: 1.5037 - accuracy: 0.4756 - val_loss: 1.5009 - val_accuracy: 0.4755\n",
      "Epoch 88/100\n",
      "36/36 [==============================] - 0s 2ms/step - loss: 1.5022 - accuracy: 0.4756 - val_loss: 1.4960 - val_accuracy: 0.4755\n",
      "Epoch 89/100\n",
      "36/36 [==============================] - 0s 2ms/step - loss: 1.5041 - accuracy: 0.4756 - val_loss: 1.5102 - val_accuracy: 0.4755\n",
      "Epoch 90/100\n",
      "36/36 [==============================] - 0s 2ms/step - loss: 1.5029 - accuracy: 0.4756 - val_loss: 1.4975 - val_accuracy: 0.4755\n",
      "Epoch 91/100\n",
      "36/36 [==============================] - 0s 2ms/step - loss: 1.5040 - accuracy: 0.4756 - val_loss: 1.4999 - val_accuracy: 0.4755\n",
      "Epoch 92/100\n",
      "36/36 [==============================] - 0s 2ms/step - loss: 1.5048 - accuracy: 0.4756 - val_loss: 1.4978 - val_accuracy: 0.4755\n",
      "Epoch 93/100\n",
      "36/36 [==============================] - 0s 2ms/step - loss: 1.5015 - accuracy: 0.4756 - val_loss: 1.5076 - val_accuracy: 0.4755\n",
      "Epoch 94/100\n",
      "36/36 [==============================] - 0s 2ms/step - loss: 1.5030 - accuracy: 0.4756 - val_loss: 1.5091 - val_accuracy: 0.4755\n",
      "Epoch 95/100\n",
      "36/36 [==============================] - 0s 2ms/step - loss: 1.5025 - accuracy: 0.4756 - val_loss: 1.5000 - val_accuracy: 0.4755\n",
      "Epoch 96/100\n",
      "36/36 [==============================] - 0s 2ms/step - loss: 1.5017 - accuracy: 0.4756 - val_loss: 1.4975 - val_accuracy: 0.4755\n",
      "Epoch 97/100\n",
      "36/36 [==============================] - 0s 2ms/step - loss: 1.5027 - accuracy: 0.4756 - val_loss: 1.5099 - val_accuracy: 0.4755\n",
      "Epoch 98/100\n",
      "36/36 [==============================] - 0s 2ms/step - loss: 1.5021 - accuracy: 0.4756 - val_loss: 1.5157 - val_accuracy: 0.4755\n",
      "Epoch 99/100\n",
      "36/36 [==============================] - 0s 2ms/step - loss: 1.5024 - accuracy: 0.4756 - val_loss: 1.4993 - val_accuracy: 0.4755\n",
      "Epoch 100/100\n",
      "36/36 [==============================] - 0s 2ms/step - loss: 1.5033 - accuracy: 0.4756 - val_loss: 1.5020 - val_accuracy: 0.4755\n"
     ]
    }
   ],
   "source": [
    "## I now fit the model, and store the training history\n",
    "## I use 100 epochs and a batch_size of 512\n",
    "n_epochs = 100\n",
    "batch_size = 512\n",
    "\n",
    "history = model.fit(X_train_train, to_categorical(y_train_train),\n",
    "                       epochs = n_epochs,\n",
    "                       batch_size = batch_size,\n",
    "                       validation_data = (X_val, to_categorical(y_val)))"
   ]
  },
  {
   "cell_type": "code",
   "execution_count": null,
   "id": "8878dac4",
   "metadata": {},
   "outputs": [
    {
     "name": "stdout",
     "output_type": "stream",
     "text": [
      "dict_keys(['loss', 'accuracy', 'val_loss', 'val_accuracy'])\n"
     ]
    }
   ],
   "source": [
    "history_dict = history.history\n",
    "print(history_dict.keys())"
   ]
  },
  {
   "cell_type": "code",
   "execution_count": null,
   "id": "ed30dfef",
   "metadata": {},
   "outputs": [
    {
     "data": {
      "image/png": "[encoded data removed]",
      "text/plain": [
       "<Figure size 800x600 with 1 Axes>"
      ]
     },
     "metadata": {},
     "output_type": "display_data"
    },
    {
     "data": {
      "image/png": "[encoded data removed]",
      "text/plain": [
       "<Figure size 800x600 with 1 Axes>"
      ]
     },
     "metadata": {},
     "output_type": "display_data"
    }
   ],
   "source": [
    "plt.figure(figsize = (8,6))\n",
    "\n",
    "plt.scatter(range(1,n_epochs+1), history_dict['accuracy'], label = \"Training Accuracy\")\n",
    "plt.scatter(range(1,n_epochs+1), history_dict['val_accuracy'], marker='v', label = \"Validation Set Accuracy\")\n",
    "\n",
    "plt.xlabel(\"Epoch\", fontsize=12)\n",
    "plt.ylabel(\"Accuracy\", fontsize=12)\n",
    "\n",
    "plt.xticks(fontsize=10)\n",
    "plt.yticks(fontsize=10)\n",
    "\n",
    "plt.legend(fontsize=12)\n",
    "\n",
    "plt.show()\n",
    "\n",
    "\n",
    "plt.figure(figsize = (8,6))\n",
    "\n",
    "plt.scatter(range(1,n_epochs+1), history_dict['loss'], label = \"Training Loss\")\n",
    "plt.scatter(range(1,n_epochs+1), history_dict['val_loss'], marker='v', label = \"Validation Set Loss\")\n",
    "\n",
    "plt.xlabel(\"Epoch\", fontsize=12)\n",
    "plt.ylabel(\"Loss Function Value\", fontsize=12)\n",
    "\n",
    "plt.xticks(fontsize=10)\n",
    "plt.yticks(fontsize=10)\n",
    "\n",
    "plt.legend(fontsize=12)\n",
    "\n",
    "plt.show()"
   ]
  },
  {
   "cell_type": "code",
   "execution_count": null,
   "id": "3c7cc39e",
   "metadata": {},
   "outputs": [],
   "source": [
    "#creates a map that has the shape of the united states\n",
    "\n",
    "# fig = go.Figure(data=go.Scattergeo(\n",
    "#         lon = df_hotel['longitude'],\n",
    "#         lat = df_hotel['latitude'],\n",
    "#         #text = 'Median house value: ' + housing['median_house_value'].astype(str),\n",
    "#         #marker_size = (housing['bedrooms_per_household'])\n",
    "#         ))\n",
    "# fig.update_geos(fitbounds=\"locations\")\n",
    "# # fig.update_layout(\n",
    "# #         title = 'Median house values of houses in California with marker size based on bedrooms per household',\n",
    "# # )\n",
    "# fig.show()\n",
    "\n"
   ]
  }
 ],
 "metadata": {
  "kernelspec": {
   "display_name": "base",
   "language": "python",
   "name": "python3"
  },
  "language_info": {
   "codemirror_mode": {
    "name": "ipython",
    "version": 3
   },
   "file_extension": ".py",
   "mimetype": "text/x-python",
   "name": "python",
   "nbconvert_exporter": "python",
   "pygments_lexer": "ipython3",
   "version": "3.9.16"
  },
  "vscode": {
   "interpreter": {
    "hash": "df5a47594a4c7fa77718041c239adbe925734d95d528854ea959dd8eef4ca91e"
   }
  }
 },
 "nbformat": 4,
 "nbformat_minor": 5
}
