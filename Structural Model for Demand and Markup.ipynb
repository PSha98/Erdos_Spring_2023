{
 "cells": [
  {
   "cell_type": "markdown",
   "id": "5d2fd22a",
   "metadata": {},
   "source": [
    "This file compute demand parameter using IV regression rather than OLS. Because OLS is biased. \n",
    "\n",
    "\n",
    "Takeaway from demand parameters: \n",
    "\n",
    "Consumers are willing to pay 71 dollars more to upgrate to Entire home from private room.\n",
    "\n",
    "Consumers are willing to pay 2 dollars more to book a propertity mangaged by super hosts.\n",
    "\n",
    "The average profit margin for the host is 8% (rate of return) \n"
   ]
  },
  {
   "cell_type": "code",
   "execution_count": 2,
   "id": "ed79d16a",
   "metadata": {},
   "outputs": [],
   "source": [
    "# estimate market demand, price elasticites, markup\n",
    "\n",
    "import pandas as pd\n",
    "import numpy as np\n",
    "import re\n",
    "import matplotlib.pyplot as plt\n",
    "from sklearn.linear_model import LinearRegression\n",
    "import statsmodels.api as sm\n",
    "import seaborn as sns\n",
    "import matplotlib.dates as mdates\n",
    "from datetime import date\n",
    "from sklearn.model_selection import train_test_split\n",
    "import math\n",
    "\n",
    "\n"
   ]
  },
  {
   "cell_type": "code",
   "execution_count": 3,
   "id": "51532e6a",
   "metadata": {},
   "outputs": [],
   "source": [
    "df = pd.read_csv('LA\\March\\listings.csv')"
   ]
  },
  {
   "cell_type": "code",
   "execution_count": 5,
   "id": "229dd79e",
   "metadata": {},
   "outputs": [
    {
     "data": {
      "text/plain": [
       "0.720346127144699"
      ]
     },
     "execution_count": 5,
     "metadata": {},
     "output_type": "execute_result"
    }
   ],
   "source": [
    "#data cleaning. Price data has $ sign. The following code extracts the number\n",
    "df['price'] = df['price'].replace({r'\\$':''},regex = True).replace({r',':''},regex = True).astype('float')\n",
    "df.price\n",
    "# delete the listings which are more expensive than $800\n",
    "df1=df[df.price<800]\n",
    "df1.reviews_per_month.isna().sum()/len(df1)\n",
    "\n",
    "#get the subset of the data without missing \n",
    "\n",
    "df2= df1[~df1.beds.isna()&~df1.reviews_per_month.isna()&~df1.review_scores_accuracy.isna()&~df1.review_scores_checkin.isna()\n",
    "         &~df1.review_scores_communication.isna()&~df1.review_scores_location.isna()&~df1.review_scores_value.isna()]\n",
    "len(df2)/len(df1)"
   ]
  },
  {
   "cell_type": "code",
   "execution_count": 9,
   "id": "62578b52",
   "metadata": {},
   "outputs": [],
   "source": [
    "# for top 30 neighbourhood market # this can be replaced by hotspot\n",
    "\n",
    "listtop30 = df2.neighbourhood_cleansed.value_counts().head(30).index.tolist()\n",
    "df3=df2[df2[\"neighbourhood_cleansed\"].isin(listtop30)]\n",
    "\n"
   ]
  },
  {
   "cell_type": "code",
   "execution_count": 10,
   "id": "1153280b",
   "metadata": {},
   "outputs": [
    {
     "name": "stderr",
     "output_type": "stream",
     "text": [
      "C:\\Users\\nzy12\\AppData\\Local\\Temp\\ipykernel_28752\\1042458790.py:2: SettingWithCopyWarning: \n",
      "A value is trying to be set on a copy of a slice from a DataFrame.\n",
      "Try using .loc[row_indexer,col_indexer] = value instead\n",
      "\n",
      "See the caveats in the documentation: https://pandas.pydata.org/pandas-docs/stable/user_guide/indexing.html#returning-a-view-versus-a-copy\n",
      "  df3['share'] =df3['reviews_per_month']/(df3.groupby('neighbourhood_cleansed')['reviews_per_month'].transform('sum')*3)\n",
      "C:\\Users\\nzy12\\AppData\\Local\\Temp\\ipykernel_28752\\1042458790.py:5: SettingWithCopyWarning: \n",
      "A value is trying to be set on a copy of a slice from a DataFrame.\n",
      "Try using .loc[row_indexer,col_indexer] = value instead\n",
      "\n",
      "See the caveats in the documentation: https://pandas.pydata.org/pandas-docs/stable/user_guide/indexing.html#returning-a-view-versus-a-copy\n",
      "  df3['mean_value'] =np.log(df3.share/(2/3))\n"
     ]
    }
   ],
   "source": [
    "# create market share from reviews\n",
    "df3['share'] =df3['reviews_per_month']/(df3.groupby('neighbourhood_cleansed')['reviews_per_month'].transform('sum')*3)\n",
    "\n",
    "# 2/3 is arbitrary, won't affect result much, create mean valuation of the listing\n",
    "df3['mean_value'] =np.log(df3.share/(2/3))"
   ]
  },
  {
   "cell_type": "markdown",
   "id": "4c7d54c4",
   "metadata": {},
   "source": [
    "The following block run simple OLS.  "
   ]
  },
  {
   "cell_type": "code",
   "execution_count": 11,
   "id": "62f6ad24",
   "metadata": {},
   "outputs": [
    {
     "name": "stderr",
     "output_type": "stream",
     "text": [
      "C:\\Users\\nzy12\\AppData\\Local\\Temp\\ipykernel_28752\\1853891493.py:8: SettingWithCopyWarning: \n",
      "A value is trying to be set on a copy of a slice from a DataFrame.\n",
      "Try using .loc[row_indexer,col_indexer] = value instead\n",
      "\n",
      "See the caveats in the documentation: https://pandas.pydata.org/pandas-docs/stable/user_guide/indexing.html#returning-a-view-versus-a-copy\n",
      "  df3[['host_response_time']] = df3[['host_response_time']].fillna('Missing_response')\n"
     ]
    },
    {
     "name": "stdout",
     "output_type": "stream",
     "text": [
      "                            OLS Regression Results                            \n",
      "==============================================================================\n",
      "Dep. Variable:             mean_value   R-squared:                       0.210\n",
      "Model:                            OLS   Adj. R-squared:                  0.209\n",
      "Method:                 Least Squares   F-statistic:                     190.7\n",
      "Date:                Sun, 28 May 2023   Prob (F-statistic):               0.00\n",
      "Time:                        00:35:24   Log-Likelihood:                -25831.\n",
      "No. Observations:               15052   AIC:                         5.171e+04\n",
      "Df Residuals:                   15030   BIC:                         5.187e+04\n",
      "Df Model:                          21                                         \n",
      "Covariance Type:            nonrobust                                         \n",
      "========================================================================================\n",
      "                           coef    std err          t      P>|t|      [0.025      0.975]\n",
      "----------------------------------------------------------------------------------------\n",
      "const                   -7.5179      0.126    -59.627      0.000      -7.765      -7.271\n",
      "price                   -0.0008      0.000     -6.861      0.000      -0.001      -0.001\n",
      "beds                     0.1096      0.010     10.866      0.000       0.090       0.129\n",
      "license                  0.2876      0.026     11.259      0.000       0.238       0.338\n",
      "Entire home/apt         -1.5472      0.058    -26.641      0.000      -1.661      -1.433\n",
      "Hotel room              -2.4891      0.154    -16.116      0.000      -2.792      -2.186\n",
      "Private room            -1.6539      0.059    -28.112      0.000      -1.769      -1.539\n",
      "Shared room             -1.8278      0.113    -16.222      0.000      -2.049      -1.607\n",
      "host_is_superhost        0.4162      0.025     16.826      0.000       0.368       0.465\n",
      "review_scores_rating    -0.0039      0.024     -0.159      0.874      -0.052       0.044\n",
      "amenities                0.0053      0.000     14.791      0.000       0.005       0.006\n",
      "amenities                0.5325      0.106      5.020      0.000       0.325       0.740\n",
      "amenities               -0.1546      0.046     -3.366      0.001      -0.245      -0.065\n",
      "amenities               -0.6828      0.041    -16.834      0.000      -0.762      -0.603\n",
      "amenities                0.1653      0.034      4.883      0.000       0.099       0.232\n",
      "amenities                0.0896      0.023      3.867      0.000       0.044       0.135\n",
      "amenities                0.2989      0.026     11.440      0.000       0.248       0.350\n",
      "amenities               -0.2906      0.039     -7.440      0.000      -0.367      -0.214\n",
      "amenities               -0.0269      0.036     -0.741      0.459      -0.098       0.044\n",
      "amenities                0.3452      0.034     10.158      0.000       0.279       0.412\n",
      "amenities                0.2842      0.032      8.873      0.000       0.221       0.347\n",
      "amenities               -0.1603      0.032     -4.937      0.000      -0.224      -0.097\n",
      "amenities                0.1527      0.031      4.862      0.000       0.091       0.214\n",
      "==============================================================================\n",
      "Omnibus:                      243.676   Durbin-Watson:                   1.857\n",
      "Prob(Omnibus):                  0.000   Jarque-Bera (JB):              250.097\n",
      "Skew:                          -0.304   Prob(JB):                     4.92e-55\n",
      "Kurtosis:                       2.830   Cond. No.                     7.71e+18\n",
      "==============================================================================\n",
      "\n",
      "Notes:\n",
      "[1] Standard Errors assume that the covariance matrix of the errors is correctly specified.\n",
      "[2] The smallest eigenvalue is 1.43e-29. This might indicate that there are\n",
      "strong multicollinearity problems or that the design matrix is singular.\n"
     ]
    }
   ],
   "source": [
    "# for indirect utility\n",
    "Y=df3.mean_value\n",
    "#with amenties\n",
    "\n",
    "\n",
    "license_dummy=1*(~df3.license.isna()) \n",
    "# Fill NAN by \"missing\" string\n",
    "df3[['host_response_time']] = df3[['host_response_time']].fillna('Missing_response')\n",
    "host_response_dummy=pd.get_dummies(df3.host_response_time)\n",
    "#room_type dummy\n",
    "room_type_dummy=pd.get_dummies(df3.room_type)\n",
    "super_host_dummy =1*(df3.host_is_superhost==\"t\")\n",
    "\n",
    "amentity_count=df3.amenities.str.split().str.len()\n",
    "wifi = 1*df3.amenities.str.lower().str.contains('wifi', regex=True) \n",
    "washer = 1*df3.amenities.str.lower().str.contains('washer', regex=True) \n",
    "dryer = 1*df3.amenities.str.lower().str.replace(\"hair dryer\", \" \").str.lower().str.contains('dryer', regex=True)\n",
    "hair_dryer = 1*df3.amenities.str.lower().str.contains('hair dryer', regex=True) \n",
    "free_parking = 1*df3.amenities.str.lower().str.contains('free parking', regex=True) \n",
    "AC = 1*df3.amenities.str.lower().str.contains('air conditioning', regex=True) \n",
    "TV= 1*df3.amenities.str.lower().str.contains('tv', regex=True) \n",
    "hottub = 1*df3.amenities.str.lower().str.contains('hot tub', regex=True) \n",
    "coffee = 1*df3.amenities.str.lower().str.contains('coffee', regex=True) \n",
    "microwave = 1*df3.amenities.str.lower().str.contains('microwave', regex=True) \n",
    "pool = 1*df3.amenities.str.lower().str.contains('pool', regex=True) \n",
    "shampoo = 1*df3.amenities.str.lower().str.contains('shampoo', regex=True) \n",
    "\n",
    "X=pd.concat([df3.price,df3.beds,license_dummy,\n",
    "             room_type_dummy,super_host_dummy,df3.review_scores_rating,amentity_count,wifi,\n",
    "             washer,dryer,hair_dryer,free_parking,AC,TV,hottub,coffee,microwave,pool,shampoo],axis=1)\n",
    "             \n",
    "             #df2.host_response_rate,df2.host_acceptance_rate,df2.host_is_superhost,df2.room_type],axis=1)\n",
    "X=sm.add_constant(X)\n",
    "mod = sm.OLS(Y,X)\n",
    "est = mod.fit()\n",
    "\n",
    "print(est.summary())"
   ]
  },
  {
   "cell_type": "code",
   "execution_count": 12,
   "id": "410d4d3c",
   "metadata": {},
   "outputs": [
    {
     "name": "stdout",
     "output_type": "stream",
     "text": [
      "-141.69389892182798\n",
      "-552.5969886000523\n"
     ]
    }
   ],
   "source": [
    "print((est.params['Entire home/apt']-est.params['Private room'])/est.params['price'])\n",
    "print(est.params['host_is_superhost']/est.params['price'])"
   ]
  },
  {
   "cell_type": "markdown",
   "id": "964a3d94",
   "metadata": {},
   "source": [
    "Consumers are willing to pay 142 dollars more to upgrate to Entire home from private room.\n",
    "\n",
    "Consumers are willing to pay 552 dolars more to book a propertity mangaged by super hosts.\n",
    "\n",
    "This doesn't really make sense.\n",
    "\n",
    "Because of price endogeneity here, I use instrument variable (IV) to get a correct price coeffcient. \n",
    "\n",
    "The following code computes IV results. \n"
   ]
  },
  {
   "cell_type": "code",
   "execution_count": 13,
   "id": "0399a717",
   "metadata": {},
   "outputs": [
    {
     "name": "stderr",
     "output_type": "stream",
     "text": [
      "C:\\Users\\nzy12\\AppData\\Local\\Temp\\ipykernel_28752\\49857168.py:3: SettingWithCopyWarning: \n",
      "A value is trying to be set on a copy of a slice from a DataFrame.\n",
      "Try using .loc[row_indexer,col_indexer] = value instead\n",
      "\n",
      "See the caveats in the documentation: https://pandas.pydata.org/pandas-docs/stable/user_guide/indexing.html#returning-a-view-versus-a-copy\n",
      "  df3['IV'] = df3.groupby(['neighbourhood_cleansed'])['id'].transform('count')\n"
     ]
    },
    {
     "data": {
      "text/html": [
       "<table class=\"simpletable\">\n",
       "<caption>IV2SLS Regression Results</caption>\n",
       "<tr>\n",
       "  <th>Dep. Variable:</th>       <td>mean_value</td>    <th>  R-squared:         </th> <td> -46.063</td>\n",
       "</tr>\n",
       "<tr>\n",
       "  <th>Model:</th>                 <td>IV2SLS</td>      <th>  Adj. R-squared:    </th> <td> -46.129</td>\n",
       "</tr>\n",
       "<tr>\n",
       "  <th>Method:</th>               <td>Two Stage</td>    <th>  F-statistic:       </th> <td>     nan</td>\n",
       "</tr>\n",
       "<tr>\n",
       "  <th></th>                    <td>Least Squares</td>  <th>  Prob (F-statistic):</th>  <td>   nan</td> \n",
       "</tr>\n",
       "<tr>\n",
       "  <th>Date:</th>             <td>Sun, 28 May 2023</td> <th>                     </th>     <td> </td>   \n",
       "</tr>\n",
       "<tr>\n",
       "  <th>Time:</th>                 <td>00:38:13</td>     <th>                     </th>     <td> </td>   \n",
       "</tr>\n",
       "<tr>\n",
       "  <th>No. Observations:</th>      <td> 15052</td>      <th>                     </th>     <td> </td>   \n",
       "</tr>\n",
       "<tr>\n",
       "  <th>Df Residuals:</th>          <td> 15030</td>      <th>                     </th>     <td> </td>   \n",
       "</tr>\n",
       "<tr>\n",
       "  <th>Df Model:</th>              <td>    21</td>      <th>                     </th>     <td> </td>   \n",
       "</tr>\n",
       "</table>\n",
       "<table class=\"simpletable\">\n",
       "<tr>\n",
       "            <td></td>              <th>coef</th>     <th>std err</th>      <th>t</th>      <th>P>|t|</th>  <th>[0.025</th>    <th>0.975]</th>  \n",
       "</tr>\n",
       "<tr>\n",
       "  <th>price</th>                <td>   -0.1038</td> <td>    0.016</td> <td>   -6.577</td> <td> 0.000</td> <td>   -0.135</td> <td>   -0.073</td>\n",
       "</tr>\n",
       "<tr>\n",
       "  <th>beds</th>                 <td>    4.2210</td> <td>    0.634</td> <td>    6.662</td> <td> 0.000</td> <td>    2.979</td> <td>    5.463</td>\n",
       "</tr>\n",
       "<tr>\n",
       "  <th>license</th>              <td>    4.5189</td> <td>    0.677</td> <td>    6.679</td> <td> 0.000</td> <td>    3.193</td> <td>    5.845</td>\n",
       "</tr>\n",
       "<tr>\n",
       "  <th>Entire home/apt</th>      <td>   -8.5537</td> <td>    1.171</td> <td>   -7.305</td> <td> 0.000</td> <td>  -10.849</td> <td>   -6.259</td>\n",
       "</tr>\n",
       "<tr>\n",
       "  <th>Hotel room</th>           <td>  -10.4800</td> <td>    1.825</td> <td>   -5.742</td> <td> 0.000</td> <td>  -14.057</td> <td>   -6.903</td>\n",
       "</tr>\n",
       "<tr>\n",
       "  <th>Private room</th>         <td>  -15.9352</td> <td>    1.561</td> <td>  -10.207</td> <td> 0.000</td> <td>  -18.995</td> <td>  -12.875</td>\n",
       "</tr>\n",
       "<tr>\n",
       "  <th>Shared room</th>          <td>  -20.2491</td> <td>    2.235</td> <td>   -9.061</td> <td> 0.000</td> <td>  -24.630</td> <td>  -15.869</td>\n",
       "</tr>\n",
       "<tr>\n",
       "  <th>host_is_superhost</th>    <td>    0.1972</td> <td>    0.194</td> <td>    1.017</td> <td> 0.309</td> <td>   -0.183</td> <td>    0.577</td>\n",
       "</tr>\n",
       "<tr>\n",
       "  <th>review_scores_rating</th> <td>    0.9700</td> <td>    0.240</td> <td>    4.040</td> <td> 0.000</td> <td>    0.499</td> <td>    1.441</td>\n",
       "</tr>\n",
       "<tr>\n",
       "  <th>amenities</th>            <td>    0.0538</td> <td>    0.008</td> <td>    6.795</td> <td> 0.000</td> <td>    0.038</td> <td>    0.069</td>\n",
       "</tr>\n",
       "<tr>\n",
       "  <th>amenities</th>            <td>    0.7586</td> <td>    0.820</td> <td>    0.926</td> <td> 0.355</td> <td>   -0.848</td> <td>    2.365</td>\n",
       "</tr>\n",
       "<tr>\n",
       "  <th>amenities</th>            <td>    1.5064</td> <td>    0.436</td> <td>    3.454</td> <td> 0.001</td> <td>    0.652</td> <td>    2.361</td>\n",
       "</tr>\n",
       "<tr>\n",
       "  <th>amenities</th>            <td>   -1.0006</td> <td>    0.317</td> <td>   -3.157</td> <td> 0.002</td> <td>   -1.622</td> <td>   -0.379</td>\n",
       "</tr>\n",
       "<tr>\n",
       "  <th>amenities</th>            <td>    0.0909</td> <td>    0.262</td> <td>    0.347</td> <td> 0.728</td> <td>   -0.422</td> <td>    0.604</td>\n",
       "</tr>\n",
       "<tr>\n",
       "  <th>amenities</th>            <td>    1.1493</td> <td>    0.241</td> <td>    4.761</td> <td> 0.000</td> <td>    0.676</td> <td>    1.622</td>\n",
       "</tr>\n",
       "<tr>\n",
       "  <th>amenities</th>            <td>    2.1472</td> <td>    0.347</td> <td>    6.183</td> <td> 0.000</td> <td>    1.467</td> <td>    2.828</td>\n",
       "</tr>\n",
       "<tr>\n",
       "  <th>amenities</th>            <td>    0.3073</td> <td>    0.315</td> <td>    0.975</td> <td> 0.330</td> <td>   -0.310</td> <td>    0.925</td>\n",
       "</tr>\n",
       "<tr>\n",
       "  <th>amenities</th>            <td>    2.1924</td> <td>    0.440</td> <td>    4.982</td> <td> 0.000</td> <td>    1.330</td> <td>    3.055</td>\n",
       "</tr>\n",
       "<tr>\n",
       "  <th>amenities</th>            <td>    0.7031</td> <td>    0.268</td> <td>    2.623</td> <td> 0.009</td> <td>    0.178</td> <td>    1.228</td>\n",
       "</tr>\n",
       "<tr>\n",
       "  <th>amenities</th>            <td>   -3.4875</td> <td>    0.628</td> <td>   -5.557</td> <td> 0.000</td> <td>   -4.718</td> <td>   -2.257</td>\n",
       "</tr>\n",
       "<tr>\n",
       "  <th>amenities</th>            <td>    0.3017</td> <td>    0.261</td> <td>    1.158</td> <td> 0.247</td> <td>   -0.209</td> <td>    0.812</td>\n",
       "</tr>\n",
       "<tr>\n",
       "  <th>amenities</th>            <td>    0.9005</td> <td>    0.268</td> <td>    3.359</td> <td> 0.001</td> <td>    0.375</td> <td>    1.426</td>\n",
       "</tr>\n",
       "</table>\n",
       "<table class=\"simpletable\">\n",
       "<tr>\n",
       "  <th>Omnibus:</th>       <td>5036.980</td> <th>  Durbin-Watson:     </th> <td>   1.938</td> \n",
       "</tr>\n",
       "<tr>\n",
       "  <th>Prob(Omnibus):</th>  <td> 0.000</td>  <th>  Jarque-Bera (JB):  </th> <td>22806.090</td>\n",
       "</tr>\n",
       "<tr>\n",
       "  <th>Skew:</th>           <td> 1.579</td>  <th>  Prob(JB):          </th> <td>    0.00</td> \n",
       "</tr>\n",
       "<tr>\n",
       "  <th>Kurtosis:</th>       <td> 8.137</td>  <th>  Cond. No.          </th> <td>7.03e+03</td> \n",
       "</tr>\n",
       "</table>"
      ],
      "text/plain": [
       "<class 'statsmodels.iolib.summary.Summary'>\n",
       "\"\"\"\n",
       "                          IV2SLS Regression Results                           \n",
       "==============================================================================\n",
       "Dep. Variable:             mean_value   R-squared:                     -46.063\n",
       "Model:                         IV2SLS   Adj. R-squared:                -46.129\n",
       "Method:                     Two Stage   F-statistic:                       nan\n",
       "                        Least Squares   Prob (F-statistic):                nan\n",
       "Date:                Sun, 28 May 2023                                         \n",
       "Time:                        00:38:13                                         \n",
       "No. Observations:               15052                                         \n",
       "Df Residuals:                   15030                                         \n",
       "Df Model:                          21                                         \n",
       "========================================================================================\n",
       "                           coef    std err          t      P>|t|      [0.025      0.975]\n",
       "----------------------------------------------------------------------------------------\n",
       "price                   -0.1038      0.016     -6.577      0.000      -0.135      -0.073\n",
       "beds                     4.2210      0.634      6.662      0.000       2.979       5.463\n",
       "license                  4.5189      0.677      6.679      0.000       3.193       5.845\n",
       "Entire home/apt         -8.5537      1.171     -7.305      0.000     -10.849      -6.259\n",
       "Hotel room             -10.4800      1.825     -5.742      0.000     -14.057      -6.903\n",
       "Private room           -15.9352      1.561    -10.207      0.000     -18.995     -12.875\n",
       "Shared room            -20.2491      2.235     -9.061      0.000     -24.630     -15.869\n",
       "host_is_superhost        0.1972      0.194      1.017      0.309      -0.183       0.577\n",
       "review_scores_rating     0.9700      0.240      4.040      0.000       0.499       1.441\n",
       "amenities                0.0538      0.008      6.795      0.000       0.038       0.069\n",
       "amenities                0.7586      0.820      0.926      0.355      -0.848       2.365\n",
       "amenities                1.5064      0.436      3.454      0.001       0.652       2.361\n",
       "amenities               -1.0006      0.317     -3.157      0.002      -1.622      -0.379\n",
       "amenities                0.0909      0.262      0.347      0.728      -0.422       0.604\n",
       "amenities                1.1493      0.241      4.761      0.000       0.676       1.622\n",
       "amenities                2.1472      0.347      6.183      0.000       1.467       2.828\n",
       "amenities                0.3073      0.315      0.975      0.330      -0.310       0.925\n",
       "amenities                2.1924      0.440      4.982      0.000       1.330       3.055\n",
       "amenities                0.7031      0.268      2.623      0.009       0.178       1.228\n",
       "amenities               -3.4875      0.628     -5.557      0.000      -4.718      -2.257\n",
       "amenities                0.3017      0.261      1.158      0.247      -0.209       0.812\n",
       "amenities                0.9005      0.268      3.359      0.001       0.375       1.426\n",
       "==============================================================================\n",
       "Omnibus:                     5036.980   Durbin-Watson:                   1.938\n",
       "Prob(Omnibus):                  0.000   Jarque-Bera (JB):            22806.090\n",
       "Skew:                           1.579   Prob(JB):                         0.00\n",
       "Kurtosis:                       8.137   Cond. No.                     7.03e+03\n",
       "==============================================================================\n",
       "\"\"\""
      ]
     },
     "execution_count": 13,
     "metadata": {},
     "output_type": "execute_result"
    }
   ],
   "source": [
    "from statsmodels.sandbox.regression.gmm import IV2SLS\n",
    "# instrument for price endogeneity\n",
    "df3['IV'] = df3.groupby(['neighbourhood_cleansed'])['id'].transform('count')\n",
    "\n",
    "Y=df3.mean_value\n",
    "X=pd.concat([df3.price,df3.beds,license_dummy,\n",
    "             room_type_dummy,super_host_dummy,df3.review_scores_rating,amentity_count,wifi,\n",
    "             washer,dryer,hair_dryer,free_parking,AC,TV,hottub,coffee,microwave,pool,shampoo],axis=1)\n",
    "exog_constant=X\n",
    "#sm.add_constant(X)\n",
    "endog = Y\n",
    "instr_constant = sm.add_constant(pd.concat([df3.IV,df3.beds,license_dummy,\n",
    "             room_type_dummy,super_host_dummy,df3.review_scores_rating,amentity_count,wifi,\n",
    "             washer,dryer,hair_dryer,free_parking,AC,TV,hottub,coffee,microwave,pool,shampoo],axis=1))\n",
    "endog_results = IV2SLS(endog, exog_constant, instrument = instr_constant).fit()\n",
    "endog_results.summary()"
   ]
  },
  {
   "cell_type": "code",
   "execution_count": 14,
   "id": "f72bb06e",
   "metadata": {},
   "outputs": [
    {
     "name": "stdout",
     "output_type": "stream",
     "text": [
      "-1.9002046952246943\n",
      "-71.11866549570298\n"
     ]
    }
   ],
   "source": [
    "print(endog_results.params['host_is_superhost']/endog_results.params['price'])\n",
    "print((endog_results.params['Entire home/apt']-endog_results.params['Private room'])/endog_results.params['price'])"
   ]
  },
  {
   "cell_type": "markdown",
   "id": "9e16dd3c",
   "metadata": {},
   "source": [
    "Consumers are willing to pay 2 dollars more to upgrate to Entire home from private room.\n",
    "\n",
    "Consumers are willing to pay 71 dolars more to book a propertity mangaged by super hosts.\n",
    "\n",
    "The following code computes markup based on IV regression results. "
   ]
  },
  {
   "cell_type": "code",
   "execution_count": 17,
   "id": "ab196d3c",
   "metadata": {},
   "outputs": [
    {
     "name": "stderr",
     "output_type": "stream",
     "text": [
      "C:\\Users\\nzy12\\AppData\\Local\\Temp\\ipykernel_28752\\268001175.py:22: SettingWithCopyWarning: \n",
      "A value is trying to be set on a copy of a slice from a DataFrame.\n",
      "Try using .loc[row_indexer,col_indexer] = value instead\n",
      "\n",
      "See the caveats in the documentation: https://pandas.pydata.org/pandas-docs/stable/user_guide/indexing.html#returning-a-view-versus-a-copy\n",
      "  df3.loc[df3['neighbourhood_cleansed'] == i, 'markup'] = markup[num]\n"
     ]
    }
   ],
   "source": [
    "#markup \n",
    "markup =[]\n",
    "# number of the markets (hotspots)\n",
    "M = df3['neighbourhood_cleansed'].nunique()\n",
    "Group_market = df3.groupby('neighbourhood_cleansed')\n",
    "#elaciticies\n",
    "ela = [] \n",
    "for num, i in enumerate(df3['neighbourhood_cleansed'].unique()):\n",
    "    submarket = Group_market.get_group(i)\n",
    "    share_m = np.array(submarket.share)\n",
    "    dsdp_m = dsdp_m = endog_results.params['price']*(np.diag(share_m)-np.outer(share_m,share_m)) #price derivatives\n",
    "    \n",
    "    #ela\n",
    "    ela_m =dsdp_m*np.array(np.array(submarket.price).reshape(-1, 1) )/np.array(submarket.share)# that's how i compute elasticities  \n",
    "    ela.append(ela_m)\n",
    "    \n",
    "    # markup\n",
    "    host_id = submarket.host_id.to_numpy()\n",
    "    T = host_id [:, np.newaxis] == host_id \n",
    "    markup.append(-np.dot(np.linalg.inv(T*dsdp_m),share_m))\n",
    "     # assign markup back to dataFrame df3\n",
    "    df3.loc[df3['neighbourhood_cleansed'] == i, 'markup'] = markup[num]"
   ]
  },
  {
   "cell_type": "code",
   "execution_count": null,
   "id": "2f653636",
   "metadata": {},
   "outputs": [],
   "source": [
    "# for a quick check \n",
    "#df3['neighbourhood_cleansed'].unique()\n",
    "#i =\"Rowland Heights\"\n",
    "#submarket = Group_market.get_group(i)\n",
    "#share_m = np.array(submarket.share)"
   ]
  },
  {
   "cell_type": "code",
   "execution_count": 27,
   "id": "2680aa21",
   "metadata": {},
   "outputs": [
    {
     "name": "stdout",
     "output_type": "stream",
     "text": [
      "69     0.122035\n",
      "77     0.169470\n",
      "90     0.025662\n",
      "100    0.067866\n",
      "105    0.018725\n",
      "dtype: float64\n",
      "9.660453396418408\n",
      "0.07994343152553876\n"
     ]
    }
   ],
   "source": [
    "df3.markup.head() #markup for the first 10 listing in the first market\n",
    "\n",
    "#profit margain in percentage\n",
    "\n",
    "df3.margin_perc = df3.markup/df3.price\n",
    "print(df3.margin_perc.head())\n",
    "print(df3.markup.mean())\n",
    "print(df3.margin_perc .mean())"
   ]
  },
  {
   "cell_type": "code",
   "execution_count": 19,
   "id": "8411e7b2",
   "metadata": {},
   "outputs": [
    {
     "data": {
      "text/plain": [
       "array([ -8.19791875,  -7.16008367, -10.3776508 , -27.39616888,\n",
       "        -4.35733179, -51.03508172,  -3.94372897, -22.82234194,\n",
       "       -25.40446637,  -3.93723237,  -7.78300252,  -7.26482672,\n",
       "       -13.28505869, -28.74174236, -64.0051879 ,  -6.01765809,\n",
       "        -5.80633312,  -8.30147448,  -6.43344798,  -3.00975297,\n",
       "       -47.55618083,  -4.04656631,  -4.66913516, -51.88982455,\n",
       "       -22.81000207,  -7.46767623,  -4.14617822, -14.90323828,\n",
       "        -6.1100532 ,  -3.11237985,  -6.22726357,  -4.15109622,\n",
       "        -3.73645506, -18.88226108,  -8.30158218, -14.42131702,\n",
       "       -12.34005981,  -6.12143729,  -2.69831754,  -4.86583313,\n",
       "        -4.15156289, -26.88148594,  -2.69743087,  -6.74366467,\n",
       "        -4.67008421, -19.48315708,  -6.01921965,  -6.12141082,\n",
       "        -3.62679087,  -3.62745049,  -2.59113703,  -4.77382258,\n",
       "        -5.7077573 ,  -3.83171168, -80.72625365,  -4.35780294,\n",
       "        -6.74497718,  -4.7735336 , -40.95503088,  -3.00990912,\n",
       "       -11.93125384,  -4.14887056,  -3.94379718,  -6.12061658,\n",
       "       -14.80410695,  -5.80630799, -19.90837553,  -4.6701044 ,\n",
       "       -12.13187634, -16.39683007, -12.24160381, -16.0838286 ,\n",
       "       -11.41363894, -48.35713439, -29.23131569,  -4.98084161,\n",
       "        -4.98150931,  -8.59456747,  -5.70368514, -40.77764279,\n",
       "       -43.69123227,  -3.11274331,  -4.67042748,  -4.97765389,\n",
       "        -3.93460645,  -5.70758454, -25.52581979,  -8.80872165,\n",
       "        -3.11325486, -13.9052704 ,  -6.22535201,  -3.31756002,\n",
       "        -3.21609802, -12.24012123, -81.27529528,  -3.00981803,\n",
       "        -5.39511841, -20.64866764,  -6.63480414,  -6.4349503 ,\n",
       "        -5.18788308,  -5.70743647,  -5.18940874, -33.4985063 ,\n",
       "        -4.97218306,  -5.70316687, -14.71816806,  -3.93568069,\n",
       "        -6.11847214,  -5.80525259,  -6.74404384, -51.14677549,\n",
       "        -5.70348771,  -8.5984036 , -29.9456335 ,  -4.67006402,\n",
       "        -6.64080625,  -5.18819719, -11.31119918, -13.28454176,\n",
       "        -4.56440916, -12.3298608 ,  -8.81703648,  -8.09530263,\n",
       "        -5.81007726, -13.28241661,  -5.49135548,  -5.08093725,\n",
       "        -3.62850274,  -2.49079773,  -5.18427087,  -6.11976939,\n",
       "       -71.34729855,  -5.28740705,  -3.11103368, -14.29781287,\n",
       "        -6.74418968,  -7.8810125 ,  -3.73643891, -16.07464774,\n",
       "       -16.60266178, -12.24329818,  -4.15131161,  -3.52753165,\n",
       "        -5.18934143,  -6.7364021 ,  -2.28329049,  -2.59449123,\n",
       "        -6.01942786,  -3.11337601,  -4.25537036, -10.1620504 ,\n",
       "       -34.06614659,  -5.08214656, -35.56671466,  -5.08372965,\n",
       "       -35.04339605,  -3.32104929,  -6.22691356,  -5.91096399,\n",
       "       -18.67969068, -11.31075898, -12.24118021, -11.61110827,\n",
       "       -11.51884374, -15.36084911,  -6.22699433,  -4.66966017,\n",
       "       -28.91796557,  -6.73879379, -69.41361048,  -4.56036168,\n",
       "        -8.30308988,  -7.78303618,  -5.18839912, -12.32954041,\n",
       "       -10.27325237,  -6.53729808,  -5.90827839,  -5.70479573,\n",
       "        -5.49946524,  -8.80677644,  -5.28539318,  -5.17893107,\n",
       "        -3.62686939,  -6.22446354,  -7.36653911,  -3.7357766 ,\n",
       "        -5.07715542,  -3.10879904,  -5.18382215,  -5.70627652,\n",
       "        -9.65250892,  -9.63556605,  -7.56271342, -24.5702535 ,\n",
       "       -16.47178333,  -2.59399763,  -5.08040955,  -3.94318333,\n",
       "        -3.84012926, -11.81241327,  -8.19816689,  -6.11947817,\n",
       "        -9.65250892,  -5.28926072, -14.42674342,  -8.29856676,\n",
       "       -12.96824936, -12.24393357,  -5.81201215,  -4.04693381,\n",
       "        -4.0463388 ,  -4.25540716,  -3.63087424, -12.4525348 ,\n",
       "       -12.34678796,  -8.40698755, -14.11470357, -11.4144287 ,\n",
       "        -3.94320038, -61.65330883,  -4.77417348, -12.24001533,\n",
       "        -5.81221318,  -4.980777  ,  -5.18891515, -14.94168483,\n",
       "        -2.8016386 ,  -2.48920387,  -9.96336324, -20.30545548,\n",
       "        -8.08963258, -12.23657363,  -4.77301757, -12.45215788,\n",
       "       -18.78184236,  -5.70684415, -12.24409242,  -3.62834569,\n",
       "        -8.3012232 ,  -6.21401728,  -7.05256122,  -4.77210935,\n",
       "        -5.18779334,  -4.14625002,  -4.66747938,  -3.73616429,\n",
       "        -5.18916194,  -3.00990912,  -4.35915988, -11.51396253,\n",
       "       -10.26432324, -12.03224513, -12.4518348 ,  -8.91567242,\n",
       "       -13.15733431, -20.54259546, -34.81764464,  -4.76213964,\n",
       "        -4.77343039,  -3.94371192, -11.72167484,  -3.9405574 ,\n",
       "        -6.22438277,  -6.01898541,  -4.76502941, -36.04676565,\n",
       "        -4.98073392, -12.55532861, -12.22312451, -20.90846945,\n",
       "        -3.73346657, -10.87825239, -18.46055703,  -9.12964755,\n",
       "       -14.62736277,  -7.57283525, -16.39293067,  -6.11325663,\n",
       "        -9.65184122,  -4.67028613, -27.26725853,  -6.11365375,\n",
       "        -4.46007444,  -9.41989699, -14.20225876,  -6.22260583,\n",
       "        -3.93648211, -16.49154642,  -5.28623992,  -4.55795294,\n",
       "        -4.14836799, -24.16058419,  -4.97496155, -16.2881212 ,\n",
       "        -4.35122557,  -4.77256346,  -4.77204743,  -6.01674719,\n",
       "        -4.67044767, -10.17062549,  -4.1498398 , -10.37845851,\n",
       "        -3.00967489,  -3.00957079,  -7.78158905, -22.81355595,\n",
       "       -24.37524721, -13.77362912,  -6.22715587,  -8.3011514 ,\n",
       "       -23.43604808, -12.44795784,  -7.77973807, -14.52318286,\n",
       "        -7.1429308 , -11.81896103,  -4.77270795,  -8.40360732,\n",
       "        -4.5661861 ,  -7.88128532,  -3.93997765, -33.90278376,\n",
       "        -7.7590744 , -15.34617229,  -5.3944184 ,  -4.35914104,\n",
       "       -58.655469  ,  -8.60570342,  -8.19543731,  -3.73372504,\n",
       "        -5.60213834,  -6.73765628,  -5.39000835,  -7.78266598,\n",
       "       -80.66166902,  -4.76921958,  -6.22195967,  -4.45978501,\n",
       "       -31.13308703,  -4.66126008,  -4.77392578,  -5.49872799,\n",
       "        -5.7002053 ,  -7.78320445, -16.27776513,  -5.18916194,\n",
       "        -5.18938631,  -5.70815218, -11.20912288,  -6.74404384,\n",
       "        -7.0573823 ,  -6.32407141, -56.61150288, -16.28445783,\n",
       "        -6.74558969,  -4.25538876,  -9.85927981, -11.29593902,\n",
       "       -13.17021354, -12.45269635, -21.77129916, -22.99933516,\n",
       "        -6.52087349, -14.82059795,  -4.98094931, -10.17049356,\n",
       "        -5.08175078, -10.36674685,  -5.18916194, -37.34855817,\n",
       "        -5.28980996, -11.51685141, -14.51790589,  -7.15698748,\n",
       "       -35.44828916,  -4.87570323,  -6.01979222,  -6.22731741,\n",
       "       -38.88085362,  -7.26529788, -25.92763646,  -6.74141881,\n",
       "       -13.49234606,  -5.07935416,  -4.0463738 ,  -6.1210137 ,\n",
       "        -4.0461813 ,  -4.66828708, -37.8274887 ,  -5.1874568 ,\n",
       "        -5.49882312,  -6.32916262,  -7.14977337,  -5.29116016,\n",
       "        -4.35876411,  -6.33102392, -27.15958352,  -6.12352879,\n",
       "        -8.50834903, -17.0094126 , -39.43166277, -14.91874613,\n",
       "        -3.63231913,  -3.73601891, -14.73326937,  -5.18741193,\n",
       "       -10.37783029,  -3.42499496,  -6.21921348,  -6.83855827,\n",
       "        -8.08662255,  -3.93854533, -40.74695824, -12.97172696,\n",
       "       -37.74916867,  -3.73401581,  -5.18864591,  -5.18680615,\n",
       "        -8.19036809, -26.87718583,  -5.29328846,  -6.22734434,\n",
       "       -18.47413537, -12.350953  ,  -4.76874483,  -4.97980776,\n",
       "       -23.93837455,  -5.18934143, -10.78846346,  -9.65188295,\n",
       "        -6.12339642,  -6.22696741, -35.54947653,  -4.25053179,\n",
       "        -5.70111845, -12.95731175, -15.04095706,  -5.81135881,\n",
       "        -6.12016651,  -8.30255142,  -6.11905458,  -4.15109622,\n",
       "        -7.36615679, -10.16288592,  -4.45673639,  -5.80686081,\n",
       "        -4.97985083,  -7.0541479 , -15.56829353,  -5.70780666,\n",
       "       -22.50460421,  -3.93382208,  -5.60194449,  -4.77229512,\n",
       "        -6.53469728,  -4.15122186,  -4.35885834,  -3.11328178,\n",
       "       -11.31237304,  -3.63261753,  -5.18889271,  -5.2926248 ,\n",
       "        -5.49841882,  -5.49982197,  -5.70773262, -20.73385267,\n",
       "       -10.89794682,  -7.05741281, -37.64285598, -45.84045793,\n",
       "       -38.56746984, -17.11690453, -19.48838739,  -8.19923036,\n",
       "       -10.37222126,  -5.18875809,  -6.32423565, -12.44951939,\n",
       "       -17.42178861,  -4.97550002, -35.75366593,  -4.67004382,\n",
       "        -4.66891304,  -7.97990735, -13.57303176,  -6.53497998,\n",
       "        -8.90162561])"
      ]
     },
     "execution_count": 19,
     "metadata": {},
     "output_type": "execute_result"
    }
   ],
   "source": [
    "np.diag(ela[0]) # own ric elaciticites in the first market "
   ]
  },
  {
   "cell_type": "markdown",
   "id": "aaa4a858",
   "metadata": {},
   "source": [
    "The following code tries lasso. No siginificant gain in accuracy. \n"
   ]
  },
  {
   "cell_type": "code",
   "execution_count": 20,
   "id": "62501b8d",
   "metadata": {},
   "outputs": [
    {
     "name": "stdout",
     "output_type": "stream",
     "text": [
      "Best Parameters: {'alpha': 0.001}\n",
      "Best Score: 0.20292170807155507\n"
     ]
    }
   ],
   "source": [
    "# Lasso \n",
    "\n",
    "from sklearn import datasets\n",
    "from sklearn.linear_model import LassoCV\n",
    "from sklearn.model_selection import train_test_split\n",
    "from sklearn.model_selection import GridSearchCV\n",
    "from sklearn.linear_model import Lasso\n",
    "\n",
    "# Define parameter grid\n",
    "X_train, X_test, Y_train, Y_test = train_test_split(X, Y, test_size=0.3, random_state=777)\n",
    "param_grid = {'alpha': [0.0001,0.001, 0.01, 0.1, 1, 10]}\n",
    " \n",
    "# Perform grid search with cross-validation\n",
    "lasso_cv = GridSearchCV(Lasso(), param_grid, cv=5)\n",
    "lasso_cv.fit(X_train, Y_train)\n",
    " \n",
    "# Print best parameter values and score\n",
    "print(\"Best Parameters:\", lasso_cv.best_params_)\n",
    "print(\"Best Score:\", lasso_cv.best_score_)\n",
    "\n",
    "\n"
   ]
  },
  {
   "cell_type": "code",
   "execution_count": 21,
   "id": "97e5c726",
   "metadata": {},
   "outputs": [
    {
     "data": {
      "text/plain": [
       "{'mean_fit_time': array([0.01189117, 0.01068273, 0.00935316, 0.0062696 , 0.00783801,\n",
       "        0.01254196]),\n",
       " 'std_fit_time': array([0.0060644 , 0.00640214, 0.00763692, 0.00767866, 0.00504703,\n",
       "        0.00592282]),\n",
       " 'mean_score_time': array([0.0031219 , 0.00190339, 0.0031249 , 0.00624113, 0.00558414,\n",
       "        0.00160294]),\n",
       " 'std_score_time': array([0.0062438 , 0.00380678, 0.00624981, 0.0076438 , 0.00233563,\n",
       "        0.0020585 ]),\n",
       " 'param_alpha': masked_array(data=[0.0001, 0.001, 0.01, 0.1, 1, 10],\n",
       "              mask=[False, False, False, False, False, False],\n",
       "        fill_value='?',\n",
       "             dtype=object),\n",
       " 'params': [{'alpha': 0.0001},\n",
       "  {'alpha': 0.001},\n",
       "  {'alpha': 0.01},\n",
       "  {'alpha': 0.1},\n",
       "  {'alpha': 1},\n",
       "  {'alpha': 10}],\n",
       " 'split0_test_score': array([0.22275146, 0.22260922, 0.21416753, 0.11606427, 0.09674889,\n",
       "        0.06320693]),\n",
       " 'split1_test_score': array([0.21070995, 0.21105985, 0.20521431, 0.09115998, 0.07329301,\n",
       "        0.05708773]),\n",
       " 'split2_test_score': array([0.18417126, 0.18422974, 0.18279918, 0.10420658, 0.08379628,\n",
       "        0.05974867]),\n",
       " 'split3_test_score': array([0.18264027, 0.18266771, 0.17809617, 0.09854426, 0.07861373,\n",
       "        0.05726002]),\n",
       " 'split4_test_score': array([0.2139131 , 0.21404202, 0.2110954 , 0.10293107, 0.08297254,\n",
       "        0.06012592]),\n",
       " 'mean_test_score': array([0.20283721, 0.20292171, 0.19827452, 0.10258123, 0.08308489,\n",
       "        0.05948585]),\n",
       " 'std_test_score': array([0.01635583, 0.016353  , 0.01491158, 0.00814001, 0.00778583,\n",
       "        0.00223743]),\n",
       " 'rank_test_score': array([2, 1, 3, 4, 5, 6])}"
      ]
     },
     "execution_count": 21,
     "metadata": {},
     "output_type": "execute_result"
    }
   ],
   "source": [
    " lasso_cv.cv_results_"
   ]
  },
  {
   "cell_type": "code",
   "execution_count": 23,
   "id": "8c36ef9d",
   "metadata": {},
   "outputs": [
    {
     "name": "stdout",
     "output_type": "stream",
     "text": [
      "1.8157141626183637\n"
     ]
    }
   ],
   "source": [
    "lasso = Lasso(alpha=0.0001)\n",
    "lasso.fit(X_train, Y_train)\n",
    "Y_pred = lasso.predict(X_test)\n",
    "MSE = ((Y_pred-Y_test)**2).mean()\n",
    "print(MSE)\n",
    "coefs = lasso.coef_"
   ]
  },
  {
   "cell_type": "code",
   "execution_count": 24,
   "id": "5653348a",
   "metadata": {},
   "outputs": [
    {
     "name": "stdout",
     "output_type": "stream",
     "text": [
      "1.8155887528108074\n"
     ]
    }
   ],
   "source": [
    "#OLS \n",
    "\n",
    "mod = sm.OLS(Y_train,X_train)\n",
    "est = mod.fit()\n",
    "Y_pred_OLS=est.predict(X_test)\n",
    "MSE_OLS = ((Y_pred_OLS-Y_test)**2).mean()\n",
    "print(MSE_OLS)"
   ]
  },
  {
   "cell_type": "code",
   "execution_count": null,
   "id": "fcc62e52",
   "metadata": {},
   "outputs": [],
   "source": []
  }
 ],
 "metadata": {
  "kernelspec": {
   "display_name": "Python 3 (ipykernel)",
   "language": "python",
   "name": "python3"
  },
  "language_info": {
   "codemirror_mode": {
    "name": "ipython",
    "version": 3
   },
   "file_extension": ".py",
   "mimetype": "text/x-python",
   "name": "python",
   "nbconvert_exporter": "python",
   "pygments_lexer": "ipython3",
   "version": "3.9.12"
  }
 },
 "nbformat": 4,
 "nbformat_minor": 5
}
